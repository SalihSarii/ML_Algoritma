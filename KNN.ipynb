{
 "cells": [
  {
   "cell_type": "code",
   "execution_count": 80,
   "id": "a07a1397-524d-4b5b-882b-193aee1582d7",
   "metadata": {},
   "outputs": [],
   "source": [
    "import numpy as np\n",
    "import pandas as pd\n",
    "\n",
    "#Veri Görselleştirme\n",
    "import matplotlib.pyplot as plt \n",
    "import seaborn as sns\n",
    "\n",
    "# Algoritmalar\n",
    "from sklearn.neighbors import KNeighborsClassifier, KNeighborsRegressor\n",
    "\n",
    "#Train ve Test Setlerinin ayrılması\n",
    "from sklearn.model_selection import train_test_split\n",
    "\n",
    "#Değerlendirme Metrikleri\n",
    "#Sınıflandırma metrikleri\n",
    "from sklearn.metrics import accuracy_score,classification_report\n",
    "#Regresyon Metrikleri\n",
    "from sklearn.metrics import mean_absolute_error, mean_squared_error, r2_score\n",
    "\n",
    "#Cross-validation ve en iyi parametrelerin seçimi\n",
    "from sklearn.model_selection import GridSearchCV\n",
    "\n",
    "# Gereksiz uyarıların görüntülenmemesi için kullanıyoruz\n",
    "import warnings\n",
    "warnings.filterwarnings('ignore')"
   ]
  },
  {
   "cell_type": "markdown",
   "id": "5b1858a1-22dc-49c7-ad94-1f1013aa4410",
   "metadata": {},
   "source": [
    "# KNN ile Sınıflandırma"
   ]
  },
  {
   "cell_type": "code",
   "execution_count": null,
   "id": "94145d9b-3ceb-4f2d-bbda-a8c76a2cc9af",
   "metadata": {},
   "outputs": [],
   "source": [
    "df = pd.read_csv('./Data/breast-cancer-wisconsin.csv')\n",
    "df"
   ]
  },
  {
   "cell_type": "code",
   "execution_count": null,
   "id": "49abe435-bd82-4d12-a77b-4fb1536c5d50",
   "metadata": {
    "scrolled": true
   },
   "outputs": [],
   "source": [
    "df.info()"
   ]
  },
  {
   "cell_type": "code",
   "execution_count": null,
   "id": "b71ec4ed-f632-4c0e-bf71-6e4f105f738c",
   "metadata": {
    "scrolled": true
   },
   "outputs": [],
   "source": [
    "df.isnull().sum()"
   ]
  },
  {
   "cell_type": "code",
   "execution_count": 18,
   "id": "4d0bfb9d-f4c8-4611-8c85-a8c9c83ccde9",
   "metadata": {},
   "outputs": [],
   "source": [
    "df.drop(columns=['Unnamed: 32'], inplace = True)"
   ]
  },
  {
   "cell_type": "code",
   "execution_count": null,
   "id": "c0fb6848-e400-4d0d-95fc-9388b182f302",
   "metadata": {
    "scrolled": true
   },
   "outputs": [],
   "source": [
    "df.describe().T"
   ]
  },
  {
   "cell_type": "code",
   "execution_count": null,
   "id": "7d637f81-ff40-405c-952c-d142237bd44d",
   "metadata": {
    "scrolled": true
   },
   "outputs": [],
   "source": [
    "df.nunique()"
   ]
  },
  {
   "cell_type": "code",
   "execution_count": 21,
   "id": "c4232273-e2fb-4c51-a9fb-8e8e45d7c207",
   "metadata": {},
   "outputs": [],
   "source": [
    "df.drop(columns=['id'],inplace=True)"
   ]
  },
  {
   "cell_type": "code",
   "execution_count": 22,
   "id": "28dbe274-b391-4fa1-ad41-4b7ace0ff247",
   "metadata": {},
   "outputs": [],
   "source": [
    "X = df.drop(columns=['diagnosis'])\n",
    "y = df['diagnosis']"
   ]
  },
  {
   "cell_type": "code",
   "execution_count": 23,
   "id": "92871f6a-2631-4d54-9f30-4668e5e8b144",
   "metadata": {},
   "outputs": [],
   "source": [
    "X_train,X_test,y_train,y_test = train_test_split(X,y,train_size=0.8,random_state=42)"
   ]
  },
  {
   "cell_type": "code",
   "execution_count": 24,
   "id": "305f4b9f-b3cd-44d2-8520-b61be93c762f",
   "metadata": {},
   "outputs": [],
   "source": [
    "# knn için sıklıkla kullanılan parametreler => n_neighbors, metric \n",
    "knn_clf = KNeighborsClassifier()\n",
    "knn_params = {\n",
    "    'n_neighbors': [i for i in range(1,15)],\n",
    "    'metric': ['euclidean','minkowski','manhattan','cosine']\n",
    "}"
   ]
  },
  {
   "cell_type": "code",
   "execution_count": null,
   "id": "458b1293-a638-484e-a75a-a76ad4ad72e1",
   "metadata": {
    "scrolled": true
   },
   "outputs": [],
   "source": [
    "knn_clf_cv = GridSearchCV(knn_clf,param_grid=knn_params,scoring='accuracy',verbose=3)\n",
    "knn_clf_cv.fit(X_train,y_train)"
   ]
  },
  {
   "cell_type": "code",
   "execution_count": 26,
   "id": "69fca775-d3ca-4069-a782-84a377728075",
   "metadata": {},
   "outputs": [
    {
     "data": {
      "text/plain": [
       "{'metric': 'manhattan', 'n_neighbors': 1}"
      ]
     },
     "execution_count": 26,
     "metadata": {},
     "output_type": "execute_result"
    }
   ],
   "source": [
    "knn_clf_cv.best_params_"
   ]
  },
  {
   "cell_type": "code",
   "execution_count": 28,
   "id": "f8dbb148-f8ff-4341-bdc8-c9f9e6105ea5",
   "metadata": {},
   "outputs": [
    {
     "name": "stdout",
     "output_type": "stream",
     "text": [
      "              precision    recall  f1-score   support\n",
      "\n",
      "           B       0.92      0.97      0.95        71\n",
      "           M       0.95      0.86      0.90        43\n",
      "\n",
      "    accuracy                           0.93       114\n",
      "   macro avg       0.93      0.92      0.92       114\n",
      "weighted avg       0.93      0.93      0.93       114\n",
      "\n"
     ]
    }
   ],
   "source": [
    "y_pred = knn_clf_cv.predict(X_test)\n",
    "print(classification_report(y_test,y_pred))"
   ]
  },
  {
   "cell_type": "code",
   "execution_count": 29,
   "id": "8e0f285f-c81c-497d-a309-2b126b0230b4",
   "metadata": {},
   "outputs": [
    {
     "name": "stdout",
     "output_type": "stream",
     "text": [
      "              precision    recall  f1-score   support\n",
      "\n",
      "           B       1.00      1.00      1.00       286\n",
      "           M       1.00      1.00      1.00       169\n",
      "\n",
      "    accuracy                           1.00       455\n",
      "   macro avg       1.00      1.00      1.00       455\n",
      "weighted avg       1.00      1.00      1.00       455\n",
      "\n"
     ]
    }
   ],
   "source": [
    "#Modelimiz veri setini ezberlemiş durumda\n",
    "y_pred_train = knn_clf_cv.predict(X_train)\n",
    "print(classification_report(y_train,y_pred_train))"
   ]
  },
  {
   "cell_type": "code",
   "execution_count": 30,
   "id": "77f8b1ff-d7a8-4574-9d0b-bbb5a231d633",
   "metadata": {},
   "outputs": [],
   "source": [
    "# knn için sıklıkla kullanılan parametreler => n_neighbors, metric \n",
    "knn_clf = KNeighborsClassifier()\n",
    "knn_params = {\n",
    "    'n_neighbors': [i for i in range(3,15)],\n",
    "    'metric': ['euclidean','minkowski','manhattan','cosine']\n",
    "}"
   ]
  },
  {
   "cell_type": "code",
   "execution_count": 31,
   "id": "376cfeaa-26b3-43b8-95b6-4f6e55d51de6",
   "metadata": {
    "scrolled": true
   },
   "outputs": [
    {
     "name": "stdout",
     "output_type": "stream",
     "text": [
      "Fitting 5 folds for each of 48 candidates, totalling 240 fits\n",
      "[CV 1/5] END ...metric=euclidean, n_neighbors=3;, score=0.945 total time=   0.0s\n",
      "[CV 2/5] END ...metric=euclidean, n_neighbors=3;, score=0.879 total time=   0.0s\n",
      "[CV 3/5] END ...metric=euclidean, n_neighbors=3;, score=0.978 total time=   0.0s\n",
      "[CV 4/5] END ...metric=euclidean, n_neighbors=3;, score=0.901 total time=   0.0s\n",
      "[CV 5/5] END ...metric=euclidean, n_neighbors=3;, score=0.901 total time=   0.0s\n",
      "[CV 1/5] END ...metric=euclidean, n_neighbors=4;, score=0.956 total time=   0.0s\n",
      "[CV 2/5] END ...metric=euclidean, n_neighbors=4;, score=0.890 total time=   0.0s\n",
      "[CV 3/5] END ...metric=euclidean, n_neighbors=4;, score=0.967 total time=   0.0s\n",
      "[CV 4/5] END ...metric=euclidean, n_neighbors=4;, score=0.890 total time=   0.0s\n",
      "[CV 5/5] END ...metric=euclidean, n_neighbors=4;, score=0.901 total time=   0.0s\n",
      "[CV 1/5] END ...metric=euclidean, n_neighbors=5;, score=0.934 total time=   0.0s\n",
      "[CV 2/5] END ...metric=euclidean, n_neighbors=5;, score=0.901 total time=   0.0s\n",
      "[CV 3/5] END ...metric=euclidean, n_neighbors=5;, score=0.956 total time=   0.0s\n",
      "[CV 4/5] END ...metric=euclidean, n_neighbors=5;, score=0.901 total time=   0.0s\n",
      "[CV 5/5] END ...metric=euclidean, n_neighbors=5;, score=0.923 total time=   0.0s\n",
      "[CV 1/5] END ...metric=euclidean, n_neighbors=6;, score=0.967 total time=   0.0s\n",
      "[CV 2/5] END ...metric=euclidean, n_neighbors=6;, score=0.879 total time=   0.0s\n",
      "[CV 3/5] END ...metric=euclidean, n_neighbors=6;, score=0.956 total time=   0.0s\n",
      "[CV 4/5] END ...metric=euclidean, n_neighbors=6;, score=0.868 total time=   0.0s\n",
      "[CV 5/5] END ...metric=euclidean, n_neighbors=6;, score=0.901 total time=   0.0s\n",
      "[CV 1/5] END ...metric=euclidean, n_neighbors=7;, score=0.989 total time=   0.0s\n",
      "[CV 2/5] END ...metric=euclidean, n_neighbors=7;, score=0.890 total time=   0.0s\n",
      "[CV 3/5] END ...metric=euclidean, n_neighbors=7;, score=0.945 total time=   0.0s\n",
      "[CV 4/5] END ...metric=euclidean, n_neighbors=7;, score=0.879 total time=   0.0s\n",
      "[CV 5/5] END ...metric=euclidean, n_neighbors=7;, score=0.923 total time=   0.0s\n",
      "[CV 1/5] END ...metric=euclidean, n_neighbors=8;, score=0.967 total time=   0.0s\n",
      "[CV 2/5] END ...metric=euclidean, n_neighbors=8;, score=0.879 total time=   0.0s\n",
      "[CV 3/5] END ...metric=euclidean, n_neighbors=8;, score=0.945 total time=   0.0s\n",
      "[CV 4/5] END ...metric=euclidean, n_neighbors=8;, score=0.890 total time=   0.0s\n",
      "[CV 5/5] END ...metric=euclidean, n_neighbors=8;, score=0.901 total time=   0.0s\n",
      "[CV 1/5] END ...metric=euclidean, n_neighbors=9;, score=0.989 total time=   0.0s\n",
      "[CV 2/5] END ...metric=euclidean, n_neighbors=9;, score=0.890 total time=   0.0s\n",
      "[CV 3/5] END ...metric=euclidean, n_neighbors=9;, score=0.945 total time=   0.0s\n",
      "[CV 4/5] END ...metric=euclidean, n_neighbors=9;, score=0.890 total time=   0.0s\n",
      "[CV 5/5] END ...metric=euclidean, n_neighbors=9;, score=0.923 total time=   0.0s\n",
      "[CV 1/5] END ..metric=euclidean, n_neighbors=10;, score=0.956 total time=   0.0s\n",
      "[CV 2/5] END ..metric=euclidean, n_neighbors=10;, score=0.879 total time=   0.0s\n",
      "[CV 3/5] END ..metric=euclidean, n_neighbors=10;, score=0.945 total time=   0.0s\n",
      "[CV 4/5] END ..metric=euclidean, n_neighbors=10;, score=0.901 total time=   0.0s\n",
      "[CV 5/5] END ..metric=euclidean, n_neighbors=10;, score=0.890 total time=   0.0s\n",
      "[CV 1/5] END ..metric=euclidean, n_neighbors=11;, score=0.978 total time=   0.0s\n",
      "[CV 2/5] END ..metric=euclidean, n_neighbors=11;, score=0.879 total time=   0.0s\n",
      "[CV 3/5] END ..metric=euclidean, n_neighbors=11;, score=0.945 total time=   0.0s\n",
      "[CV 4/5] END ..metric=euclidean, n_neighbors=11;, score=0.890 total time=   0.0s\n",
      "[CV 5/5] END ..metric=euclidean, n_neighbors=11;, score=0.879 total time=   0.0s\n",
      "[CV 1/5] END ..metric=euclidean, n_neighbors=12;, score=0.978 total time=   0.0s\n",
      "[CV 2/5] END ..metric=euclidean, n_neighbors=12;, score=0.879 total time=   0.0s\n",
      "[CV 3/5] END ..metric=euclidean, n_neighbors=12;, score=0.956 total time=   0.0s\n",
      "[CV 4/5] END ..metric=euclidean, n_neighbors=12;, score=0.901 total time=   0.0s\n",
      "[CV 5/5] END ..metric=euclidean, n_neighbors=12;, score=0.879 total time=   0.0s\n",
      "[CV 1/5] END ..metric=euclidean, n_neighbors=13;, score=0.978 total time=   0.0s\n",
      "[CV 2/5] END ..metric=euclidean, n_neighbors=13;, score=0.879 total time=   0.0s\n",
      "[CV 3/5] END ..metric=euclidean, n_neighbors=13;, score=0.945 total time=   0.0s\n",
      "[CV 4/5] END ..metric=euclidean, n_neighbors=13;, score=0.890 total time=   0.0s\n",
      "[CV 5/5] END ..metric=euclidean, n_neighbors=13;, score=0.879 total time=   0.0s\n",
      "[CV 1/5] END ..metric=euclidean, n_neighbors=14;, score=0.978 total time=   0.0s\n",
      "[CV 2/5] END ..metric=euclidean, n_neighbors=14;, score=0.879 total time=   0.0s\n",
      "[CV 3/5] END ..metric=euclidean, n_neighbors=14;, score=0.945 total time=   0.0s\n",
      "[CV 4/5] END ..metric=euclidean, n_neighbors=14;, score=0.890 total time=   0.0s\n",
      "[CV 5/5] END ..metric=euclidean, n_neighbors=14;, score=0.879 total time=   0.0s\n",
      "[CV 1/5] END ...metric=minkowski, n_neighbors=3;, score=0.945 total time=   0.0s\n",
      "[CV 2/5] END ...metric=minkowski, n_neighbors=3;, score=0.879 total time=   0.0s\n",
      "[CV 3/5] END ...metric=minkowski, n_neighbors=3;, score=0.978 total time=   0.0s\n",
      "[CV 4/5] END ...metric=minkowski, n_neighbors=3;, score=0.901 total time=   0.0s\n",
      "[CV 5/5] END ...metric=minkowski, n_neighbors=3;, score=0.901 total time=   0.0s\n",
      "[CV 1/5] END ...metric=minkowski, n_neighbors=4;, score=0.956 total time=   0.0s\n",
      "[CV 2/5] END ...metric=minkowski, n_neighbors=4;, score=0.890 total time=   0.0s\n",
      "[CV 3/5] END ...metric=minkowski, n_neighbors=4;, score=0.967 total time=   0.0s\n",
      "[CV 4/5] END ...metric=minkowski, n_neighbors=4;, score=0.890 total time=   0.0s\n",
      "[CV 5/5] END ...metric=minkowski, n_neighbors=4;, score=0.901 total time=   0.0s\n",
      "[CV 1/5] END ...metric=minkowski, n_neighbors=5;, score=0.934 total time=   0.0s\n",
      "[CV 2/5] END ...metric=minkowski, n_neighbors=5;, score=0.901 total time=   0.0s\n",
      "[CV 3/5] END ...metric=minkowski, n_neighbors=5;, score=0.956 total time=   0.0s\n",
      "[CV 4/5] END ...metric=minkowski, n_neighbors=5;, score=0.901 total time=   0.0s\n",
      "[CV 5/5] END ...metric=minkowski, n_neighbors=5;, score=0.923 total time=   0.0s\n",
      "[CV 1/5] END ...metric=minkowski, n_neighbors=6;, score=0.967 total time=   0.0s\n",
      "[CV 2/5] END ...metric=minkowski, n_neighbors=6;, score=0.879 total time=   0.0s\n",
      "[CV 3/5] END ...metric=minkowski, n_neighbors=6;, score=0.956 total time=   0.0s\n",
      "[CV 4/5] END ...metric=minkowski, n_neighbors=6;, score=0.868 total time=   0.0s\n",
      "[CV 5/5] END ...metric=minkowski, n_neighbors=6;, score=0.901 total time=   0.0s\n",
      "[CV 1/5] END ...metric=minkowski, n_neighbors=7;, score=0.989 total time=   0.0s\n",
      "[CV 2/5] END ...metric=minkowski, n_neighbors=7;, score=0.890 total time=   0.0s\n",
      "[CV 3/5] END ...metric=minkowski, n_neighbors=7;, score=0.945 total time=   0.0s\n",
      "[CV 4/5] END ...metric=minkowski, n_neighbors=7;, score=0.879 total time=   0.0s\n",
      "[CV 5/5] END ...metric=minkowski, n_neighbors=7;, score=0.923 total time=   0.0s\n",
      "[CV 1/5] END ...metric=minkowski, n_neighbors=8;, score=0.967 total time=   0.0s\n",
      "[CV 2/5] END ...metric=minkowski, n_neighbors=8;, score=0.879 total time=   0.0s\n",
      "[CV 3/5] END ...metric=minkowski, n_neighbors=8;, score=0.945 total time=   0.0s\n",
      "[CV 4/5] END ...metric=minkowski, n_neighbors=8;, score=0.890 total time=   0.0s\n",
      "[CV 5/5] END ...metric=minkowski, n_neighbors=8;, score=0.901 total time=   0.0s\n",
      "[CV 1/5] END ...metric=minkowski, n_neighbors=9;, score=0.989 total time=   0.0s\n",
      "[CV 2/5] END ...metric=minkowski, n_neighbors=9;, score=0.890 total time=   0.0s\n",
      "[CV 3/5] END ...metric=minkowski, n_neighbors=9;, score=0.945 total time=   0.0s\n",
      "[CV 4/5] END ...metric=minkowski, n_neighbors=9;, score=0.890 total time=   0.0s\n",
      "[CV 5/5] END ...metric=minkowski, n_neighbors=9;, score=0.923 total time=   0.0s\n",
      "[CV 1/5] END ..metric=minkowski, n_neighbors=10;, score=0.956 total time=   0.0s\n",
      "[CV 2/5] END ..metric=minkowski, n_neighbors=10;, score=0.879 total time=   0.0s\n",
      "[CV 3/5] END ..metric=minkowski, n_neighbors=10;, score=0.945 total time=   0.0s\n",
      "[CV 4/5] END ..metric=minkowski, n_neighbors=10;, score=0.901 total time=   0.0s\n",
      "[CV 5/5] END ..metric=minkowski, n_neighbors=10;, score=0.890 total time=   0.0s\n",
      "[CV 1/5] END ..metric=minkowski, n_neighbors=11;, score=0.978 total time=   0.0s\n",
      "[CV 2/5] END ..metric=minkowski, n_neighbors=11;, score=0.879 total time=   0.0s\n",
      "[CV 3/5] END ..metric=minkowski, n_neighbors=11;, score=0.945 total time=   0.0s\n",
      "[CV 4/5] END ..metric=minkowski, n_neighbors=11;, score=0.890 total time=   0.0s\n",
      "[CV 5/5] END ..metric=minkowski, n_neighbors=11;, score=0.879 total time=   0.0s\n",
      "[CV 1/5] END ..metric=minkowski, n_neighbors=12;, score=0.978 total time=   0.0s\n",
      "[CV 2/5] END ..metric=minkowski, n_neighbors=12;, score=0.879 total time=   0.0s\n",
      "[CV 3/5] END ..metric=minkowski, n_neighbors=12;, score=0.956 total time=   0.0s\n",
      "[CV 4/5] END ..metric=minkowski, n_neighbors=12;, score=0.901 total time=   0.0s\n",
      "[CV 5/5] END ..metric=minkowski, n_neighbors=12;, score=0.879 total time=   0.0s\n",
      "[CV 1/5] END ..metric=minkowski, n_neighbors=13;, score=0.978 total time=   0.0s\n",
      "[CV 2/5] END ..metric=minkowski, n_neighbors=13;, score=0.879 total time=   0.0s\n",
      "[CV 3/5] END ..metric=minkowski, n_neighbors=13;, score=0.945 total time=   0.0s\n",
      "[CV 4/5] END ..metric=minkowski, n_neighbors=13;, score=0.890 total time=   0.0s\n",
      "[CV 5/5] END ..metric=minkowski, n_neighbors=13;, score=0.879 total time=   0.0s\n",
      "[CV 1/5] END ..metric=minkowski, n_neighbors=14;, score=0.978 total time=   0.0s\n",
      "[CV 2/5] END ..metric=minkowski, n_neighbors=14;, score=0.879 total time=   0.0s\n",
      "[CV 3/5] END ..metric=minkowski, n_neighbors=14;, score=0.945 total time=   0.0s\n",
      "[CV 4/5] END ..metric=minkowski, n_neighbors=14;, score=0.890 total time=   0.0s\n",
      "[CV 5/5] END ..metric=minkowski, n_neighbors=14;, score=0.879 total time=   0.0s\n",
      "[CV 1/5] END ...metric=manhattan, n_neighbors=3;, score=0.945 total time=   0.0s\n",
      "[CV 2/5] END ...metric=manhattan, n_neighbors=3;, score=0.901 total time=   0.0s\n",
      "[CV 3/5] END ...metric=manhattan, n_neighbors=3;, score=0.967 total time=   0.0s\n",
      "[CV 4/5] END ...metric=manhattan, n_neighbors=3;, score=0.912 total time=   0.0s\n",
      "[CV 5/5] END ...metric=manhattan, n_neighbors=3;, score=0.901 total time=   0.0s\n",
      "[CV 1/5] END ...metric=manhattan, n_neighbors=4;, score=0.978 total time=   0.0s\n",
      "[CV 2/5] END ...metric=manhattan, n_neighbors=4;, score=0.890 total time=   0.0s\n",
      "[CV 3/5] END ...metric=manhattan, n_neighbors=4;, score=0.967 total time=   0.0s\n",
      "[CV 4/5] END ...metric=manhattan, n_neighbors=4;, score=0.912 total time=   0.0s\n",
      "[CV 5/5] END ...metric=manhattan, n_neighbors=4;, score=0.890 total time=   0.0s\n",
      "[CV 1/5] END ...metric=manhattan, n_neighbors=5;, score=0.956 total time=   0.0s\n",
      "[CV 2/5] END ...metric=manhattan, n_neighbors=5;, score=0.901 total time=   0.0s\n",
      "[CV 3/5] END ...metric=manhattan, n_neighbors=5;, score=0.967 total time=   0.0s\n",
      "[CV 4/5] END ...metric=manhattan, n_neighbors=5;, score=0.934 total time=   0.0s\n",
      "[CV 5/5] END ...metric=manhattan, n_neighbors=5;, score=0.923 total time=   0.0s\n",
      "[CV 1/5] END ...metric=manhattan, n_neighbors=6;, score=0.956 total time=   0.0s\n",
      "[CV 2/5] END ...metric=manhattan, n_neighbors=6;, score=0.890 total time=   0.0s\n",
      "[CV 3/5] END ...metric=manhattan, n_neighbors=6;, score=0.978 total time=   0.0s\n",
      "[CV 4/5] END ...metric=manhattan, n_neighbors=6;, score=0.912 total time=   0.0s\n",
      "[CV 5/5] END ...metric=manhattan, n_neighbors=6;, score=0.901 total time=   0.0s\n",
      "[CV 1/5] END ...metric=manhattan, n_neighbors=7;, score=0.978 total time=   0.0s\n",
      "[CV 2/5] END ...metric=manhattan, n_neighbors=7;, score=0.890 total time=   0.0s\n",
      "[CV 3/5] END ...metric=manhattan, n_neighbors=7;, score=0.978 total time=   0.0s\n",
      "[CV 4/5] END ...metric=manhattan, n_neighbors=7;, score=0.912 total time=   0.0s\n",
      "[CV 5/5] END ...metric=manhattan, n_neighbors=7;, score=0.923 total time=   0.0s\n",
      "[CV 1/5] END ...metric=manhattan, n_neighbors=8;, score=0.989 total time=   0.0s\n",
      "[CV 2/5] END ...metric=manhattan, n_neighbors=8;, score=0.879 total time=   0.0s\n",
      "[CV 3/5] END ...metric=manhattan, n_neighbors=8;, score=0.967 total time=   0.0s\n",
      "[CV 4/5] END ...metric=manhattan, n_neighbors=8;, score=0.901 total time=   0.0s\n",
      "[CV 5/5] END ...metric=manhattan, n_neighbors=8;, score=0.901 total time=   0.0s\n",
      "[CV 1/5] END ...metric=manhattan, n_neighbors=9;, score=0.989 total time=   0.0s\n",
      "[CV 2/5] END ...metric=manhattan, n_neighbors=9;, score=0.890 total time=   0.0s\n",
      "[CV 3/5] END ...metric=manhattan, n_neighbors=9;, score=0.967 total time=   0.0s\n",
      "[CV 4/5] END ...metric=manhattan, n_neighbors=9;, score=0.901 total time=   0.0s\n",
      "[CV 5/5] END ...metric=manhattan, n_neighbors=9;, score=0.923 total time=   0.0s\n",
      "[CV 1/5] END ..metric=manhattan, n_neighbors=10;, score=0.989 total time=   0.0s\n",
      "[CV 2/5] END ..metric=manhattan, n_neighbors=10;, score=0.879 total time=   0.0s\n",
      "[CV 3/5] END ..metric=manhattan, n_neighbors=10;, score=0.956 total time=   0.0s\n",
      "[CV 4/5] END ..metric=manhattan, n_neighbors=10;, score=0.901 total time=   0.0s\n",
      "[CV 5/5] END ..metric=manhattan, n_neighbors=10;, score=0.901 total time=   0.0s\n",
      "[CV 1/5] END ..metric=manhattan, n_neighbors=11;, score=0.978 total time=   0.0s\n",
      "[CV 2/5] END ..metric=manhattan, n_neighbors=11;, score=0.890 total time=   0.0s\n",
      "[CV 3/5] END ..metric=manhattan, n_neighbors=11;, score=0.967 total time=   0.0s\n",
      "[CV 4/5] END ..metric=manhattan, n_neighbors=11;, score=0.901 total time=   0.0s\n",
      "[CV 5/5] END ..metric=manhattan, n_neighbors=11;, score=0.901 total time=   0.0s\n",
      "[CV 1/5] END ..metric=manhattan, n_neighbors=12;, score=0.989 total time=   0.0s\n",
      "[CV 2/5] END ..metric=manhattan, n_neighbors=12;, score=0.890 total time=   0.0s\n",
      "[CV 3/5] END ..metric=manhattan, n_neighbors=12;, score=0.956 total time=   0.0s\n",
      "[CV 4/5] END ..metric=manhattan, n_neighbors=12;, score=0.901 total time=   0.0s\n",
      "[CV 5/5] END ..metric=manhattan, n_neighbors=12;, score=0.890 total time=   0.0s\n",
      "[CV 1/5] END ..metric=manhattan, n_neighbors=13;, score=0.989 total time=   0.0s\n",
      "[CV 2/5] END ..metric=manhattan, n_neighbors=13;, score=0.890 total time=   0.0s\n",
      "[CV 3/5] END ..metric=manhattan, n_neighbors=13;, score=0.956 total time=   0.0s\n",
      "[CV 4/5] END ..metric=manhattan, n_neighbors=13;, score=0.901 total time=   0.0s\n",
      "[CV 5/5] END ..metric=manhattan, n_neighbors=13;, score=0.890 total time=   0.0s\n",
      "[CV 1/5] END ..metric=manhattan, n_neighbors=14;, score=0.989 total time=   0.0s\n",
      "[CV 2/5] END ..metric=manhattan, n_neighbors=14;, score=0.890 total time=   0.0s\n",
      "[CV 3/5] END ..metric=manhattan, n_neighbors=14;, score=0.967 total time=   0.0s\n",
      "[CV 4/5] END ..metric=manhattan, n_neighbors=14;, score=0.901 total time=   0.0s\n",
      "[CV 5/5] END ..metric=manhattan, n_neighbors=14;, score=0.879 total time=   0.0s\n",
      "[CV 1/5] END ......metric=cosine, n_neighbors=3;, score=0.945 total time=   0.0s\n",
      "[CV 2/5] END ......metric=cosine, n_neighbors=3;, score=0.912 total time=   0.0s\n",
      "[CV 3/5] END ......metric=cosine, n_neighbors=3;, score=0.945 total time=   0.0s\n",
      "[CV 4/5] END ......metric=cosine, n_neighbors=3;, score=0.879 total time=   0.0s\n",
      "[CV 5/5] END ......metric=cosine, n_neighbors=3;, score=0.912 total time=   0.0s\n",
      "[CV 1/5] END ......metric=cosine, n_neighbors=4;, score=0.945 total time=   0.0s\n",
      "[CV 2/5] END ......metric=cosine, n_neighbors=4;, score=0.901 total time=   0.0s\n",
      "[CV 3/5] END ......metric=cosine, n_neighbors=4;, score=0.923 total time=   0.0s\n",
      "[CV 4/5] END ......metric=cosine, n_neighbors=4;, score=0.879 total time=   0.0s\n",
      "[CV 5/5] END ......metric=cosine, n_neighbors=4;, score=0.923 total time=   0.0s\n",
      "[CV 1/5] END ......metric=cosine, n_neighbors=5;, score=0.945 total time=   0.0s\n",
      "[CV 2/5] END ......metric=cosine, n_neighbors=5;, score=0.912 total time=   0.0s\n",
      "[CV 3/5] END ......metric=cosine, n_neighbors=5;, score=0.934 total time=   0.0s\n",
      "[CV 4/5] END ......metric=cosine, n_neighbors=5;, score=0.846 total time=   0.0s\n",
      "[CV 5/5] END ......metric=cosine, n_neighbors=5;, score=0.923 total time=   0.0s\n",
      "[CV 1/5] END ......metric=cosine, n_neighbors=6;, score=0.956 total time=   0.0s\n",
      "[CV 2/5] END ......metric=cosine, n_neighbors=6;, score=0.912 total time=   0.0s\n",
      "[CV 3/5] END ......metric=cosine, n_neighbors=6;, score=0.945 total time=   0.0s\n",
      "[CV 4/5] END ......metric=cosine, n_neighbors=6;, score=0.879 total time=   0.0s\n",
      "[CV 5/5] END ......metric=cosine, n_neighbors=6;, score=0.912 total time=   0.0s\n",
      "[CV 1/5] END ......metric=cosine, n_neighbors=7;, score=0.956 total time=   0.0s\n",
      "[CV 2/5] END ......metric=cosine, n_neighbors=7;, score=0.901 total time=   0.0s\n",
      "[CV 3/5] END ......metric=cosine, n_neighbors=7;, score=0.945 total time=   0.0s\n",
      "[CV 4/5] END ......metric=cosine, n_neighbors=7;, score=0.879 total time=   0.0s\n",
      "[CV 5/5] END ......metric=cosine, n_neighbors=7;, score=0.923 total time=   0.0s\n",
      "[CV 1/5] END ......metric=cosine, n_neighbors=8;, score=0.956 total time=   0.0s\n",
      "[CV 2/5] END ......metric=cosine, n_neighbors=8;, score=0.901 total time=   0.0s\n",
      "[CV 3/5] END ......metric=cosine, n_neighbors=8;, score=0.945 total time=   0.0s\n",
      "[CV 4/5] END ......metric=cosine, n_neighbors=8;, score=0.879 total time=   0.0s\n",
      "[CV 5/5] END ......metric=cosine, n_neighbors=8;, score=0.912 total time=   0.0s\n",
      "[CV 1/5] END ......metric=cosine, n_neighbors=9;, score=0.956 total time=   0.0s\n",
      "[CV 2/5] END ......metric=cosine, n_neighbors=9;, score=0.890 total time=   0.0s\n",
      "[CV 3/5] END ......metric=cosine, n_neighbors=9;, score=0.956 total time=   0.0s\n",
      "[CV 4/5] END ......metric=cosine, n_neighbors=9;, score=0.879 total time=   0.0s\n",
      "[CV 5/5] END ......metric=cosine, n_neighbors=9;, score=0.912 total time=   0.0s\n",
      "[CV 1/5] END .....metric=cosine, n_neighbors=10;, score=0.956 total time=   0.0s\n",
      "[CV 2/5] END .....metric=cosine, n_neighbors=10;, score=0.890 total time=   0.0s\n",
      "[CV 3/5] END .....metric=cosine, n_neighbors=10;, score=0.934 total time=   0.0s\n",
      "[CV 4/5] END .....metric=cosine, n_neighbors=10;, score=0.868 total time=   0.0s\n",
      "[CV 5/5] END .....metric=cosine, n_neighbors=10;, score=0.912 total time=   0.0s\n",
      "[CV 1/5] END .....metric=cosine, n_neighbors=11;, score=0.956 total time=   0.0s\n",
      "[CV 2/5] END .....metric=cosine, n_neighbors=11;, score=0.890 total time=   0.0s\n",
      "[CV 3/5] END .....metric=cosine, n_neighbors=11;, score=0.967 total time=   0.0s\n",
      "[CV 4/5] END .....metric=cosine, n_neighbors=11;, score=0.879 total time=   0.0s\n",
      "[CV 5/5] END .....metric=cosine, n_neighbors=11;, score=0.912 total time=   0.0s\n",
      "[CV 1/5] END .....metric=cosine, n_neighbors=12;, score=0.956 total time=   0.0s\n",
      "[CV 2/5] END .....metric=cosine, n_neighbors=12;, score=0.890 total time=   0.0s\n",
      "[CV 3/5] END .....metric=cosine, n_neighbors=12;, score=0.956 total time=   0.0s\n",
      "[CV 4/5] END .....metric=cosine, n_neighbors=12;, score=0.868 total time=   0.0s\n",
      "[CV 5/5] END .....metric=cosine, n_neighbors=12;, score=0.901 total time=   0.0s\n",
      "[CV 1/5] END .....metric=cosine, n_neighbors=13;, score=0.967 total time=   0.0s\n",
      "[CV 2/5] END .....metric=cosine, n_neighbors=13;, score=0.890 total time=   0.0s\n",
      "[CV 3/5] END .....metric=cosine, n_neighbors=13;, score=0.956 total time=   0.0s\n",
      "[CV 4/5] END .....metric=cosine, n_neighbors=13;, score=0.857 total time=   0.0s\n",
      "[CV 5/5] END .....metric=cosine, n_neighbors=13;, score=0.901 total time=   0.0s\n",
      "[CV 1/5] END .....metric=cosine, n_neighbors=14;, score=0.956 total time=   0.0s\n",
      "[CV 2/5] END .....metric=cosine, n_neighbors=14;, score=0.901 total time=   0.0s\n",
      "[CV 3/5] END .....metric=cosine, n_neighbors=14;, score=0.956 total time=   0.0s\n",
      "[CV 4/5] END .....metric=cosine, n_neighbors=14;, score=0.857 total time=   0.0s\n",
      "[CV 5/5] END .....metric=cosine, n_neighbors=14;, score=0.890 total time=   0.0s\n"
     ]
    },
    {
     "data": {
      "text/html": [
       "<style>#sk-container-id-3 {color: black;background-color: white;}#sk-container-id-3 pre{padding: 0;}#sk-container-id-3 div.sk-toggleable {background-color: white;}#sk-container-id-3 label.sk-toggleable__label {cursor: pointer;display: block;width: 100%;margin-bottom: 0;padding: 0.3em;box-sizing: border-box;text-align: center;}#sk-container-id-3 label.sk-toggleable__label-arrow:before {content: \"▸\";float: left;margin-right: 0.25em;color: #696969;}#sk-container-id-3 label.sk-toggleable__label-arrow:hover:before {color: black;}#sk-container-id-3 div.sk-estimator:hover label.sk-toggleable__label-arrow:before {color: black;}#sk-container-id-3 div.sk-toggleable__content {max-height: 0;max-width: 0;overflow: hidden;text-align: left;background-color: #f0f8ff;}#sk-container-id-3 div.sk-toggleable__content pre {margin: 0.2em;color: black;border-radius: 0.25em;background-color: #f0f8ff;}#sk-container-id-3 input.sk-toggleable__control:checked~div.sk-toggleable__content {max-height: 200px;max-width: 100%;overflow: auto;}#sk-container-id-3 input.sk-toggleable__control:checked~label.sk-toggleable__label-arrow:before {content: \"▾\";}#sk-container-id-3 div.sk-estimator input.sk-toggleable__control:checked~label.sk-toggleable__label {background-color: #d4ebff;}#sk-container-id-3 div.sk-label input.sk-toggleable__control:checked~label.sk-toggleable__label {background-color: #d4ebff;}#sk-container-id-3 input.sk-hidden--visually {border: 0;clip: rect(1px 1px 1px 1px);clip: rect(1px, 1px, 1px, 1px);height: 1px;margin: -1px;overflow: hidden;padding: 0;position: absolute;width: 1px;}#sk-container-id-3 div.sk-estimator {font-family: monospace;background-color: #f0f8ff;border: 1px dotted black;border-radius: 0.25em;box-sizing: border-box;margin-bottom: 0.5em;}#sk-container-id-3 div.sk-estimator:hover {background-color: #d4ebff;}#sk-container-id-3 div.sk-parallel-item::after {content: \"\";width: 100%;border-bottom: 1px solid gray;flex-grow: 1;}#sk-container-id-3 div.sk-label:hover label.sk-toggleable__label {background-color: #d4ebff;}#sk-container-id-3 div.sk-serial::before {content: \"\";position: absolute;border-left: 1px solid gray;box-sizing: border-box;top: 0;bottom: 0;left: 50%;z-index: 0;}#sk-container-id-3 div.sk-serial {display: flex;flex-direction: column;align-items: center;background-color: white;padding-right: 0.2em;padding-left: 0.2em;position: relative;}#sk-container-id-3 div.sk-item {position: relative;z-index: 1;}#sk-container-id-3 div.sk-parallel {display: flex;align-items: stretch;justify-content: center;background-color: white;position: relative;}#sk-container-id-3 div.sk-item::before, #sk-container-id-3 div.sk-parallel-item::before {content: \"\";position: absolute;border-left: 1px solid gray;box-sizing: border-box;top: 0;bottom: 0;left: 50%;z-index: -1;}#sk-container-id-3 div.sk-parallel-item {display: flex;flex-direction: column;z-index: 1;position: relative;background-color: white;}#sk-container-id-3 div.sk-parallel-item:first-child::after {align-self: flex-end;width: 50%;}#sk-container-id-3 div.sk-parallel-item:last-child::after {align-self: flex-start;width: 50%;}#sk-container-id-3 div.sk-parallel-item:only-child::after {width: 0;}#sk-container-id-3 div.sk-dashed-wrapped {border: 1px dashed gray;margin: 0 0.4em 0.5em 0.4em;box-sizing: border-box;padding-bottom: 0.4em;background-color: white;}#sk-container-id-3 div.sk-label label {font-family: monospace;font-weight: bold;display: inline-block;line-height: 1.2em;}#sk-container-id-3 div.sk-label-container {text-align: center;}#sk-container-id-3 div.sk-container {/* jupyter's `normalize.less` sets `[hidden] { display: none; }` but bootstrap.min.css set `[hidden] { display: none !important; }` so we also need the `!important` here to be able to override the default hidden behavior on the sphinx rendered scikit-learn.org. See: https://github.com/scikit-learn/scikit-learn/issues/21755 */display: inline-block !important;position: relative;}#sk-container-id-3 div.sk-text-repr-fallback {display: none;}</style><div id=\"sk-container-id-3\" class=\"sk-top-container\"><div class=\"sk-text-repr-fallback\"><pre>GridSearchCV(estimator=KNeighborsClassifier(),\n",
       "             param_grid={&#x27;metric&#x27;: [&#x27;euclidean&#x27;, &#x27;minkowski&#x27;, &#x27;manhattan&#x27;,\n",
       "                                    &#x27;cosine&#x27;],\n",
       "                         &#x27;n_neighbors&#x27;: [3, 4, 5, 6, 7, 8, 9, 10, 11, 12, 13,\n",
       "                                         14]},\n",
       "             scoring=&#x27;accuracy&#x27;, verbose=3)</pre><b>In a Jupyter environment, please rerun this cell to show the HTML representation or trust the notebook. <br />On GitHub, the HTML representation is unable to render, please try loading this page with nbviewer.org.</b></div><div class=\"sk-container\" hidden><div class=\"sk-item sk-dashed-wrapped\"><div class=\"sk-label-container\"><div class=\"sk-label sk-toggleable\"><input class=\"sk-toggleable__control sk-hidden--visually\" id=\"sk-estimator-id-7\" type=\"checkbox\" ><label for=\"sk-estimator-id-7\" class=\"sk-toggleable__label sk-toggleable__label-arrow\">GridSearchCV</label><div class=\"sk-toggleable__content\"><pre>GridSearchCV(estimator=KNeighborsClassifier(),\n",
       "             param_grid={&#x27;metric&#x27;: [&#x27;euclidean&#x27;, &#x27;minkowski&#x27;, &#x27;manhattan&#x27;,\n",
       "                                    &#x27;cosine&#x27;],\n",
       "                         &#x27;n_neighbors&#x27;: [3, 4, 5, 6, 7, 8, 9, 10, 11, 12, 13,\n",
       "                                         14]},\n",
       "             scoring=&#x27;accuracy&#x27;, verbose=3)</pre></div></div></div><div class=\"sk-parallel\"><div class=\"sk-parallel-item\"><div class=\"sk-item\"><div class=\"sk-label-container\"><div class=\"sk-label sk-toggleable\"><input class=\"sk-toggleable__control sk-hidden--visually\" id=\"sk-estimator-id-8\" type=\"checkbox\" ><label for=\"sk-estimator-id-8\" class=\"sk-toggleable__label sk-toggleable__label-arrow\">estimator: KNeighborsClassifier</label><div class=\"sk-toggleable__content\"><pre>KNeighborsClassifier()</pre></div></div></div><div class=\"sk-serial\"><div class=\"sk-item\"><div class=\"sk-estimator sk-toggleable\"><input class=\"sk-toggleable__control sk-hidden--visually\" id=\"sk-estimator-id-9\" type=\"checkbox\" ><label for=\"sk-estimator-id-9\" class=\"sk-toggleable__label sk-toggleable__label-arrow\">KNeighborsClassifier</label><div class=\"sk-toggleable__content\"><pre>KNeighborsClassifier()</pre></div></div></div></div></div></div></div></div></div></div>"
      ],
      "text/plain": [
       "GridSearchCV(estimator=KNeighborsClassifier(),\n",
       "             param_grid={'metric': ['euclidean', 'minkowski', 'manhattan',\n",
       "                                    'cosine'],\n",
       "                         'n_neighbors': [3, 4, 5, 6, 7, 8, 9, 10, 11, 12, 13,\n",
       "                                         14]},\n",
       "             scoring='accuracy', verbose=3)"
      ]
     },
     "execution_count": 31,
     "metadata": {},
     "output_type": "execute_result"
    }
   ],
   "source": [
    "knn_clf_cv = GridSearchCV(knn_clf,param_grid=knn_params,scoring='accuracy',verbose=3)\n",
    "knn_clf_cv.fit(X_train,y_train)"
   ]
  },
  {
   "cell_type": "code",
   "execution_count": 32,
   "id": "fed1134b-bc29-4f30-ba44-852b60a7a919",
   "metadata": {},
   "outputs": [
    {
     "data": {
      "text/plain": [
       "{'metric': 'manhattan', 'n_neighbors': 5}"
      ]
     },
     "execution_count": 32,
     "metadata": {},
     "output_type": "execute_result"
    }
   ],
   "source": [
    "knn_clf_cv.best_params_"
   ]
  },
  {
   "cell_type": "code",
   "execution_count": 33,
   "id": "edc9b0ff-a3d3-4f54-a5b3-0eb776b1cebd",
   "metadata": {},
   "outputs": [
    {
     "data": {
      "text/plain": [
       "0.9362637362637363"
      ]
     },
     "execution_count": 33,
     "metadata": {},
     "output_type": "execute_result"
    }
   ],
   "source": [
    "knn_clf_cv.best_score_"
   ]
  },
  {
   "cell_type": "code",
   "execution_count": 34,
   "id": "b28461ed-a9bb-4c99-a846-d60b34310ee9",
   "metadata": {
    "scrolled": true
   },
   "outputs": [
    {
     "name": "stdout",
     "output_type": "stream",
     "text": [
      "              precision    recall  f1-score   support\n",
      "\n",
      "           B       0.93      0.99      0.96        71\n",
      "           M       0.97      0.88      0.93        43\n",
      "\n",
      "    accuracy                           0.95       114\n",
      "   macro avg       0.95      0.93      0.94       114\n",
      "weighted avg       0.95      0.95      0.95       114\n",
      "\n"
     ]
    }
   ],
   "source": [
    "y_pred = knn_clf_cv.predict(X_test)\n",
    "print(classification_report(y_test,y_pred))"
   ]
  },
  {
   "cell_type": "code",
   "execution_count": 35,
   "id": "8d45f689-ab82-4291-b078-b6dea69324db",
   "metadata": {},
   "outputs": [
    {
     "name": "stdout",
     "output_type": "stream",
     "text": [
      "              precision    recall  f1-score   support\n",
      "\n",
      "           B       0.94      0.98      0.96       286\n",
      "           M       0.97      0.89      0.93       169\n",
      "\n",
      "    accuracy                           0.95       455\n",
      "   macro avg       0.95      0.94      0.94       455\n",
      "weighted avg       0.95      0.95      0.95       455\n",
      "\n"
     ]
    }
   ],
   "source": [
    "y_pred_train = knn_clf_cv.predict(X_train)\n",
    "print(classification_report(y_train,y_pred_train))"
   ]
  },
  {
   "cell_type": "code",
   "execution_count": null,
   "id": "25d6fcb6-26cd-4570-b9d6-4e88e3e037c1",
   "metadata": {},
   "outputs": [],
   "source": []
  },
  {
   "cell_type": "code",
   "execution_count": 36,
   "id": "377b7907-7e54-43ee-bb4c-966a9f206054",
   "metadata": {},
   "outputs": [],
   "source": [
    "# knn için sıklıkla kullanılan parametreler => n_neighbors, metric \n",
    "knn_clf = KNeighborsClassifier()\n",
    "knn_params = {\n",
    "    'n_neighbors': [i for i in range(3,15)],\n",
    "    'metric': ['euclidean','minkowski','cosine']\n",
    "}"
   ]
  },
  {
   "cell_type": "code",
   "execution_count": 37,
   "id": "7928ba7e-344b-44e8-bf7a-3c13fdd91740",
   "metadata": {
    "scrolled": true
   },
   "outputs": [
    {
     "name": "stdout",
     "output_type": "stream",
     "text": [
      "Fitting 5 folds for each of 36 candidates, totalling 180 fits\n",
      "[CV 1/5] END ...metric=euclidean, n_neighbors=3;, score=0.945 total time=   0.0s\n",
      "[CV 2/5] END ...metric=euclidean, n_neighbors=3;, score=0.879 total time=   0.0s\n",
      "[CV 3/5] END ...metric=euclidean, n_neighbors=3;, score=0.978 total time=   0.0s\n",
      "[CV 4/5] END ...metric=euclidean, n_neighbors=3;, score=0.901 total time=   0.0s\n",
      "[CV 5/5] END ...metric=euclidean, n_neighbors=3;, score=0.901 total time=   0.0s\n",
      "[CV 1/5] END ...metric=euclidean, n_neighbors=4;, score=0.956 total time=   0.0s\n",
      "[CV 2/5] END ...metric=euclidean, n_neighbors=4;, score=0.890 total time=   0.0s\n",
      "[CV 3/5] END ...metric=euclidean, n_neighbors=4;, score=0.967 total time=   0.0s\n",
      "[CV 4/5] END ...metric=euclidean, n_neighbors=4;, score=0.890 total time=   0.0s\n",
      "[CV 5/5] END ...metric=euclidean, n_neighbors=4;, score=0.901 total time=   0.0s\n",
      "[CV 1/5] END ...metric=euclidean, n_neighbors=5;, score=0.934 total time=   0.0s\n",
      "[CV 2/5] END ...metric=euclidean, n_neighbors=5;, score=0.901 total time=   0.0s\n",
      "[CV 3/5] END ...metric=euclidean, n_neighbors=5;, score=0.956 total time=   0.0s\n",
      "[CV 4/5] END ...metric=euclidean, n_neighbors=5;, score=0.901 total time=   0.0s\n",
      "[CV 5/5] END ...metric=euclidean, n_neighbors=5;, score=0.923 total time=   0.0s\n",
      "[CV 1/5] END ...metric=euclidean, n_neighbors=6;, score=0.967 total time=   0.0s\n",
      "[CV 2/5] END ...metric=euclidean, n_neighbors=6;, score=0.879 total time=   0.0s\n",
      "[CV 3/5] END ...metric=euclidean, n_neighbors=6;, score=0.956 total time=   0.0s\n",
      "[CV 4/5] END ...metric=euclidean, n_neighbors=6;, score=0.868 total time=   0.0s\n",
      "[CV 5/5] END ...metric=euclidean, n_neighbors=6;, score=0.901 total time=   0.0s\n",
      "[CV 1/5] END ...metric=euclidean, n_neighbors=7;, score=0.989 total time=   0.0s\n",
      "[CV 2/5] END ...metric=euclidean, n_neighbors=7;, score=0.890 total time=   0.0s\n",
      "[CV 3/5] END ...metric=euclidean, n_neighbors=7;, score=0.945 total time=   0.0s\n",
      "[CV 4/5] END ...metric=euclidean, n_neighbors=7;, score=0.879 total time=   0.0s\n",
      "[CV 5/5] END ...metric=euclidean, n_neighbors=7;, score=0.923 total time=   0.0s\n",
      "[CV 1/5] END ...metric=euclidean, n_neighbors=8;, score=0.967 total time=   0.0s\n",
      "[CV 2/5] END ...metric=euclidean, n_neighbors=8;, score=0.879 total time=   0.0s\n",
      "[CV 3/5] END ...metric=euclidean, n_neighbors=8;, score=0.945 total time=   0.0s\n",
      "[CV 4/5] END ...metric=euclidean, n_neighbors=8;, score=0.890 total time=   0.0s\n",
      "[CV 5/5] END ...metric=euclidean, n_neighbors=8;, score=0.901 total time=   0.0s\n",
      "[CV 1/5] END ...metric=euclidean, n_neighbors=9;, score=0.989 total time=   0.0s\n",
      "[CV 2/5] END ...metric=euclidean, n_neighbors=9;, score=0.890 total time=   0.0s\n",
      "[CV 3/5] END ...metric=euclidean, n_neighbors=9;, score=0.945 total time=   0.0s\n",
      "[CV 4/5] END ...metric=euclidean, n_neighbors=9;, score=0.890 total time=   0.0s\n",
      "[CV 5/5] END ...metric=euclidean, n_neighbors=9;, score=0.923 total time=   0.0s\n",
      "[CV 1/5] END ..metric=euclidean, n_neighbors=10;, score=0.956 total time=   0.0s\n",
      "[CV 2/5] END ..metric=euclidean, n_neighbors=10;, score=0.879 total time=   0.0s\n",
      "[CV 3/5] END ..metric=euclidean, n_neighbors=10;, score=0.945 total time=   0.0s\n",
      "[CV 4/5] END ..metric=euclidean, n_neighbors=10;, score=0.901 total time=   0.0s\n",
      "[CV 5/5] END ..metric=euclidean, n_neighbors=10;, score=0.890 total time=   0.0s\n",
      "[CV 1/5] END ..metric=euclidean, n_neighbors=11;, score=0.978 total time=   0.0s\n",
      "[CV 2/5] END ..metric=euclidean, n_neighbors=11;, score=0.879 total time=   0.0s\n",
      "[CV 3/5] END ..metric=euclidean, n_neighbors=11;, score=0.945 total time=   0.0s\n",
      "[CV 4/5] END ..metric=euclidean, n_neighbors=11;, score=0.890 total time=   0.0s\n",
      "[CV 5/5] END ..metric=euclidean, n_neighbors=11;, score=0.879 total time=   0.0s\n",
      "[CV 1/5] END ..metric=euclidean, n_neighbors=12;, score=0.978 total time=   0.0s\n",
      "[CV 2/5] END ..metric=euclidean, n_neighbors=12;, score=0.879 total time=   0.0s\n",
      "[CV 3/5] END ..metric=euclidean, n_neighbors=12;, score=0.956 total time=   0.0s\n",
      "[CV 4/5] END ..metric=euclidean, n_neighbors=12;, score=0.901 total time=   0.0s\n",
      "[CV 5/5] END ..metric=euclidean, n_neighbors=12;, score=0.879 total time=   0.0s\n",
      "[CV 1/5] END ..metric=euclidean, n_neighbors=13;, score=0.978 total time=   0.0s\n",
      "[CV 2/5] END ..metric=euclidean, n_neighbors=13;, score=0.879 total time=   0.0s\n",
      "[CV 3/5] END ..metric=euclidean, n_neighbors=13;, score=0.945 total time=   0.0s\n",
      "[CV 4/5] END ..metric=euclidean, n_neighbors=13;, score=0.890 total time=   0.0s\n",
      "[CV 5/5] END ..metric=euclidean, n_neighbors=13;, score=0.879 total time=   0.0s\n",
      "[CV 1/5] END ..metric=euclidean, n_neighbors=14;, score=0.978 total time=   0.0s\n",
      "[CV 2/5] END ..metric=euclidean, n_neighbors=14;, score=0.879 total time=   0.0s\n",
      "[CV 3/5] END ..metric=euclidean, n_neighbors=14;, score=0.945 total time=   0.0s\n",
      "[CV 4/5] END ..metric=euclidean, n_neighbors=14;, score=0.890 total time=   0.0s\n",
      "[CV 5/5] END ..metric=euclidean, n_neighbors=14;, score=0.879 total time=   0.0s\n",
      "[CV 1/5] END ...metric=minkowski, n_neighbors=3;, score=0.945 total time=   0.0s\n",
      "[CV 2/5] END ...metric=minkowski, n_neighbors=3;, score=0.879 total time=   0.0s\n",
      "[CV 3/5] END ...metric=minkowski, n_neighbors=3;, score=0.978 total time=   0.0s\n",
      "[CV 4/5] END ...metric=minkowski, n_neighbors=3;, score=0.901 total time=   0.0s\n",
      "[CV 5/5] END ...metric=minkowski, n_neighbors=3;, score=0.901 total time=   0.0s\n",
      "[CV 1/5] END ...metric=minkowski, n_neighbors=4;, score=0.956 total time=   0.0s\n",
      "[CV 2/5] END ...metric=minkowski, n_neighbors=4;, score=0.890 total time=   0.0s\n",
      "[CV 3/5] END ...metric=minkowski, n_neighbors=4;, score=0.967 total time=   0.0s\n",
      "[CV 4/5] END ...metric=minkowski, n_neighbors=4;, score=0.890 total time=   0.0s\n",
      "[CV 5/5] END ...metric=minkowski, n_neighbors=4;, score=0.901 total time=   0.0s\n",
      "[CV 1/5] END ...metric=minkowski, n_neighbors=5;, score=0.934 total time=   0.0s\n",
      "[CV 2/5] END ...metric=minkowski, n_neighbors=5;, score=0.901 total time=   0.0s\n",
      "[CV 3/5] END ...metric=minkowski, n_neighbors=5;, score=0.956 total time=   0.0s\n",
      "[CV 4/5] END ...metric=minkowski, n_neighbors=5;, score=0.901 total time=   0.0s\n",
      "[CV 5/5] END ...metric=minkowski, n_neighbors=5;, score=0.923 total time=   0.0s\n",
      "[CV 1/5] END ...metric=minkowski, n_neighbors=6;, score=0.967 total time=   0.0s\n",
      "[CV 2/5] END ...metric=minkowski, n_neighbors=6;, score=0.879 total time=   0.0s\n",
      "[CV 3/5] END ...metric=minkowski, n_neighbors=6;, score=0.956 total time=   0.0s\n",
      "[CV 4/5] END ...metric=minkowski, n_neighbors=6;, score=0.868 total time=   0.0s\n",
      "[CV 5/5] END ...metric=minkowski, n_neighbors=6;, score=0.901 total time=   0.0s\n",
      "[CV 1/5] END ...metric=minkowski, n_neighbors=7;, score=0.989 total time=   0.0s\n",
      "[CV 2/5] END ...metric=minkowski, n_neighbors=7;, score=0.890 total time=   0.0s\n",
      "[CV 3/5] END ...metric=minkowski, n_neighbors=7;, score=0.945 total time=   0.0s\n",
      "[CV 4/5] END ...metric=minkowski, n_neighbors=7;, score=0.879 total time=   0.0s\n",
      "[CV 5/5] END ...metric=minkowski, n_neighbors=7;, score=0.923 total time=   0.0s\n",
      "[CV 1/5] END ...metric=minkowski, n_neighbors=8;, score=0.967 total time=   0.0s\n",
      "[CV 2/5] END ...metric=minkowski, n_neighbors=8;, score=0.879 total time=   0.0s\n",
      "[CV 3/5] END ...metric=minkowski, n_neighbors=8;, score=0.945 total time=   0.0s\n",
      "[CV 4/5] END ...metric=minkowski, n_neighbors=8;, score=0.890 total time=   0.0s\n",
      "[CV 5/5] END ...metric=minkowski, n_neighbors=8;, score=0.901 total time=   0.0s\n",
      "[CV 1/5] END ...metric=minkowski, n_neighbors=9;, score=0.989 total time=   0.0s\n",
      "[CV 2/5] END ...metric=minkowski, n_neighbors=9;, score=0.890 total time=   0.0s\n",
      "[CV 3/5] END ...metric=minkowski, n_neighbors=9;, score=0.945 total time=   0.0s\n",
      "[CV 4/5] END ...metric=minkowski, n_neighbors=9;, score=0.890 total time=   0.0s\n",
      "[CV 5/5] END ...metric=minkowski, n_neighbors=9;, score=0.923 total time=   0.0s\n",
      "[CV 1/5] END ..metric=minkowski, n_neighbors=10;, score=0.956 total time=   0.0s\n",
      "[CV 2/5] END ..metric=minkowski, n_neighbors=10;, score=0.879 total time=   0.0s\n",
      "[CV 3/5] END ..metric=minkowski, n_neighbors=10;, score=0.945 total time=   0.0s\n",
      "[CV 4/5] END ..metric=minkowski, n_neighbors=10;, score=0.901 total time=   0.0s\n",
      "[CV 5/5] END ..metric=minkowski, n_neighbors=10;, score=0.890 total time=   0.0s\n",
      "[CV 1/5] END ..metric=minkowski, n_neighbors=11;, score=0.978 total time=   0.0s\n",
      "[CV 2/5] END ..metric=minkowski, n_neighbors=11;, score=0.879 total time=   0.0s\n",
      "[CV 3/5] END ..metric=minkowski, n_neighbors=11;, score=0.945 total time=   0.0s\n",
      "[CV 4/5] END ..metric=minkowski, n_neighbors=11;, score=0.890 total time=   0.0s\n",
      "[CV 5/5] END ..metric=minkowski, n_neighbors=11;, score=0.879 total time=   0.0s\n",
      "[CV 1/5] END ..metric=minkowski, n_neighbors=12;, score=0.978 total time=   0.0s\n",
      "[CV 2/5] END ..metric=minkowski, n_neighbors=12;, score=0.879 total time=   0.0s\n",
      "[CV 3/5] END ..metric=minkowski, n_neighbors=12;, score=0.956 total time=   0.0s\n",
      "[CV 4/5] END ..metric=minkowski, n_neighbors=12;, score=0.901 total time=   0.0s\n",
      "[CV 5/5] END ..metric=minkowski, n_neighbors=12;, score=0.879 total time=   0.0s\n",
      "[CV 1/5] END ..metric=minkowski, n_neighbors=13;, score=0.978 total time=   0.0s\n",
      "[CV 2/5] END ..metric=minkowski, n_neighbors=13;, score=0.879 total time=   0.0s\n",
      "[CV 3/5] END ..metric=minkowski, n_neighbors=13;, score=0.945 total time=   0.0s\n",
      "[CV 4/5] END ..metric=minkowski, n_neighbors=13;, score=0.890 total time=   0.0s\n",
      "[CV 5/5] END ..metric=minkowski, n_neighbors=13;, score=0.879 total time=   0.0s\n",
      "[CV 1/5] END ..metric=minkowski, n_neighbors=14;, score=0.978 total time=   0.0s\n",
      "[CV 2/5] END ..metric=minkowski, n_neighbors=14;, score=0.879 total time=   0.0s\n",
      "[CV 3/5] END ..metric=minkowski, n_neighbors=14;, score=0.945 total time=   0.0s\n",
      "[CV 4/5] END ..metric=minkowski, n_neighbors=14;, score=0.890 total time=   0.0s\n",
      "[CV 5/5] END ..metric=minkowski, n_neighbors=14;, score=0.879 total time=   0.0s\n",
      "[CV 1/5] END ......metric=cosine, n_neighbors=3;, score=0.945 total time=   0.0s\n",
      "[CV 2/5] END ......metric=cosine, n_neighbors=3;, score=0.912 total time=   0.0s\n",
      "[CV 3/5] END ......metric=cosine, n_neighbors=3;, score=0.945 total time=   0.0s\n",
      "[CV 4/5] END ......metric=cosine, n_neighbors=3;, score=0.879 total time=   0.0s\n",
      "[CV 5/5] END ......metric=cosine, n_neighbors=3;, score=0.912 total time=   0.0s\n",
      "[CV 1/5] END ......metric=cosine, n_neighbors=4;, score=0.945 total time=   0.0s\n",
      "[CV 2/5] END ......metric=cosine, n_neighbors=4;, score=0.901 total time=   0.0s\n",
      "[CV 3/5] END ......metric=cosine, n_neighbors=4;, score=0.923 total time=   0.0s\n",
      "[CV 4/5] END ......metric=cosine, n_neighbors=4;, score=0.879 total time=   0.0s\n",
      "[CV 5/5] END ......metric=cosine, n_neighbors=4;, score=0.923 total time=   0.0s\n",
      "[CV 1/5] END ......metric=cosine, n_neighbors=5;, score=0.945 total time=   0.0s\n",
      "[CV 2/5] END ......metric=cosine, n_neighbors=5;, score=0.912 total time=   0.0s\n",
      "[CV 3/5] END ......metric=cosine, n_neighbors=5;, score=0.934 total time=   0.0s\n",
      "[CV 4/5] END ......metric=cosine, n_neighbors=5;, score=0.846 total time=   0.0s\n",
      "[CV 5/5] END ......metric=cosine, n_neighbors=5;, score=0.923 total time=   0.0s\n",
      "[CV 1/5] END ......metric=cosine, n_neighbors=6;, score=0.956 total time=   0.0s\n",
      "[CV 2/5] END ......metric=cosine, n_neighbors=6;, score=0.912 total time=   0.0s\n",
      "[CV 3/5] END ......metric=cosine, n_neighbors=6;, score=0.945 total time=   0.0s\n",
      "[CV 4/5] END ......metric=cosine, n_neighbors=6;, score=0.879 total time=   0.0s\n",
      "[CV 5/5] END ......metric=cosine, n_neighbors=6;, score=0.912 total time=   0.0s\n",
      "[CV 1/5] END ......metric=cosine, n_neighbors=7;, score=0.956 total time=   0.0s\n",
      "[CV 2/5] END ......metric=cosine, n_neighbors=7;, score=0.901 total time=   0.0s\n",
      "[CV 3/5] END ......metric=cosine, n_neighbors=7;, score=0.945 total time=   0.0s\n",
      "[CV 4/5] END ......metric=cosine, n_neighbors=7;, score=0.879 total time=   0.0s\n",
      "[CV 5/5] END ......metric=cosine, n_neighbors=7;, score=0.923 total time=   0.0s\n",
      "[CV 1/5] END ......metric=cosine, n_neighbors=8;, score=0.956 total time=   0.0s\n",
      "[CV 2/5] END ......metric=cosine, n_neighbors=8;, score=0.901 total time=   0.0s\n",
      "[CV 3/5] END ......metric=cosine, n_neighbors=8;, score=0.945 total time=   0.0s\n",
      "[CV 4/5] END ......metric=cosine, n_neighbors=8;, score=0.879 total time=   0.0s\n",
      "[CV 5/5] END ......metric=cosine, n_neighbors=8;, score=0.912 total time=   0.0s\n",
      "[CV 1/5] END ......metric=cosine, n_neighbors=9;, score=0.956 total time=   0.0s\n",
      "[CV 2/5] END ......metric=cosine, n_neighbors=9;, score=0.890 total time=   0.0s\n",
      "[CV 3/5] END ......metric=cosine, n_neighbors=9;, score=0.956 total time=   0.0s\n",
      "[CV 4/5] END ......metric=cosine, n_neighbors=9;, score=0.879 total time=   0.0s\n",
      "[CV 5/5] END ......metric=cosine, n_neighbors=9;, score=0.912 total time=   0.0s\n",
      "[CV 1/5] END .....metric=cosine, n_neighbors=10;, score=0.956 total time=   0.0s\n",
      "[CV 2/5] END .....metric=cosine, n_neighbors=10;, score=0.890 total time=   0.0s\n",
      "[CV 3/5] END .....metric=cosine, n_neighbors=10;, score=0.934 total time=   0.0s\n",
      "[CV 4/5] END .....metric=cosine, n_neighbors=10;, score=0.868 total time=   0.0s\n",
      "[CV 5/5] END .....metric=cosine, n_neighbors=10;, score=0.912 total time=   0.0s\n",
      "[CV 1/5] END .....metric=cosine, n_neighbors=11;, score=0.956 total time=   0.0s\n",
      "[CV 2/5] END .....metric=cosine, n_neighbors=11;, score=0.890 total time=   0.0s\n",
      "[CV 3/5] END .....metric=cosine, n_neighbors=11;, score=0.967 total time=   0.0s\n",
      "[CV 4/5] END .....metric=cosine, n_neighbors=11;, score=0.879 total time=   0.0s\n",
      "[CV 5/5] END .....metric=cosine, n_neighbors=11;, score=0.912 total time=   0.0s\n",
      "[CV 1/5] END .....metric=cosine, n_neighbors=12;, score=0.956 total time=   0.0s\n",
      "[CV 2/5] END .....metric=cosine, n_neighbors=12;, score=0.890 total time=   0.0s\n",
      "[CV 3/5] END .....metric=cosine, n_neighbors=12;, score=0.956 total time=   0.0s\n",
      "[CV 4/5] END .....metric=cosine, n_neighbors=12;, score=0.868 total time=   0.0s\n",
      "[CV 5/5] END .....metric=cosine, n_neighbors=12;, score=0.901 total time=   0.0s\n",
      "[CV 1/5] END .....metric=cosine, n_neighbors=13;, score=0.967 total time=   0.0s\n",
      "[CV 2/5] END .....metric=cosine, n_neighbors=13;, score=0.890 total time=   0.0s\n",
      "[CV 3/5] END .....metric=cosine, n_neighbors=13;, score=0.956 total time=   0.0s\n",
      "[CV 4/5] END .....metric=cosine, n_neighbors=13;, score=0.857 total time=   0.0s\n",
      "[CV 5/5] END .....metric=cosine, n_neighbors=13;, score=0.901 total time=   0.0s\n",
      "[CV 1/5] END .....metric=cosine, n_neighbors=14;, score=0.956 total time=   0.0s\n",
      "[CV 2/5] END .....metric=cosine, n_neighbors=14;, score=0.901 total time=   0.0s\n",
      "[CV 3/5] END .....metric=cosine, n_neighbors=14;, score=0.956 total time=   0.0s\n",
      "[CV 4/5] END .....metric=cosine, n_neighbors=14;, score=0.857 total time=   0.0s\n",
      "[CV 5/5] END .....metric=cosine, n_neighbors=14;, score=0.890 total time=   0.0s\n"
     ]
    },
    {
     "data": {
      "text/html": [
       "<style>#sk-container-id-4 {color: black;background-color: white;}#sk-container-id-4 pre{padding: 0;}#sk-container-id-4 div.sk-toggleable {background-color: white;}#sk-container-id-4 label.sk-toggleable__label {cursor: pointer;display: block;width: 100%;margin-bottom: 0;padding: 0.3em;box-sizing: border-box;text-align: center;}#sk-container-id-4 label.sk-toggleable__label-arrow:before {content: \"▸\";float: left;margin-right: 0.25em;color: #696969;}#sk-container-id-4 label.sk-toggleable__label-arrow:hover:before {color: black;}#sk-container-id-4 div.sk-estimator:hover label.sk-toggleable__label-arrow:before {color: black;}#sk-container-id-4 div.sk-toggleable__content {max-height: 0;max-width: 0;overflow: hidden;text-align: left;background-color: #f0f8ff;}#sk-container-id-4 div.sk-toggleable__content pre {margin: 0.2em;color: black;border-radius: 0.25em;background-color: #f0f8ff;}#sk-container-id-4 input.sk-toggleable__control:checked~div.sk-toggleable__content {max-height: 200px;max-width: 100%;overflow: auto;}#sk-container-id-4 input.sk-toggleable__control:checked~label.sk-toggleable__label-arrow:before {content: \"▾\";}#sk-container-id-4 div.sk-estimator input.sk-toggleable__control:checked~label.sk-toggleable__label {background-color: #d4ebff;}#sk-container-id-4 div.sk-label input.sk-toggleable__control:checked~label.sk-toggleable__label {background-color: #d4ebff;}#sk-container-id-4 input.sk-hidden--visually {border: 0;clip: rect(1px 1px 1px 1px);clip: rect(1px, 1px, 1px, 1px);height: 1px;margin: -1px;overflow: hidden;padding: 0;position: absolute;width: 1px;}#sk-container-id-4 div.sk-estimator {font-family: monospace;background-color: #f0f8ff;border: 1px dotted black;border-radius: 0.25em;box-sizing: border-box;margin-bottom: 0.5em;}#sk-container-id-4 div.sk-estimator:hover {background-color: #d4ebff;}#sk-container-id-4 div.sk-parallel-item::after {content: \"\";width: 100%;border-bottom: 1px solid gray;flex-grow: 1;}#sk-container-id-4 div.sk-label:hover label.sk-toggleable__label {background-color: #d4ebff;}#sk-container-id-4 div.sk-serial::before {content: \"\";position: absolute;border-left: 1px solid gray;box-sizing: border-box;top: 0;bottom: 0;left: 50%;z-index: 0;}#sk-container-id-4 div.sk-serial {display: flex;flex-direction: column;align-items: center;background-color: white;padding-right: 0.2em;padding-left: 0.2em;position: relative;}#sk-container-id-4 div.sk-item {position: relative;z-index: 1;}#sk-container-id-4 div.sk-parallel {display: flex;align-items: stretch;justify-content: center;background-color: white;position: relative;}#sk-container-id-4 div.sk-item::before, #sk-container-id-4 div.sk-parallel-item::before {content: \"\";position: absolute;border-left: 1px solid gray;box-sizing: border-box;top: 0;bottom: 0;left: 50%;z-index: -1;}#sk-container-id-4 div.sk-parallel-item {display: flex;flex-direction: column;z-index: 1;position: relative;background-color: white;}#sk-container-id-4 div.sk-parallel-item:first-child::after {align-self: flex-end;width: 50%;}#sk-container-id-4 div.sk-parallel-item:last-child::after {align-self: flex-start;width: 50%;}#sk-container-id-4 div.sk-parallel-item:only-child::after {width: 0;}#sk-container-id-4 div.sk-dashed-wrapped {border: 1px dashed gray;margin: 0 0.4em 0.5em 0.4em;box-sizing: border-box;padding-bottom: 0.4em;background-color: white;}#sk-container-id-4 div.sk-label label {font-family: monospace;font-weight: bold;display: inline-block;line-height: 1.2em;}#sk-container-id-4 div.sk-label-container {text-align: center;}#sk-container-id-4 div.sk-container {/* jupyter's `normalize.less` sets `[hidden] { display: none; }` but bootstrap.min.css set `[hidden] { display: none !important; }` so we also need the `!important` here to be able to override the default hidden behavior on the sphinx rendered scikit-learn.org. See: https://github.com/scikit-learn/scikit-learn/issues/21755 */display: inline-block !important;position: relative;}#sk-container-id-4 div.sk-text-repr-fallback {display: none;}</style><div id=\"sk-container-id-4\" class=\"sk-top-container\"><div class=\"sk-text-repr-fallback\"><pre>GridSearchCV(estimator=KNeighborsClassifier(),\n",
       "             param_grid={&#x27;metric&#x27;: [&#x27;euclidean&#x27;, &#x27;minkowski&#x27;, &#x27;cosine&#x27;],\n",
       "                         &#x27;n_neighbors&#x27;: [3, 4, 5, 6, 7, 8, 9, 10, 11, 12, 13,\n",
       "                                         14]},\n",
       "             scoring=&#x27;accuracy&#x27;, verbose=3)</pre><b>In a Jupyter environment, please rerun this cell to show the HTML representation or trust the notebook. <br />On GitHub, the HTML representation is unable to render, please try loading this page with nbviewer.org.</b></div><div class=\"sk-container\" hidden><div class=\"sk-item sk-dashed-wrapped\"><div class=\"sk-label-container\"><div class=\"sk-label sk-toggleable\"><input class=\"sk-toggleable__control sk-hidden--visually\" id=\"sk-estimator-id-10\" type=\"checkbox\" ><label for=\"sk-estimator-id-10\" class=\"sk-toggleable__label sk-toggleable__label-arrow\">GridSearchCV</label><div class=\"sk-toggleable__content\"><pre>GridSearchCV(estimator=KNeighborsClassifier(),\n",
       "             param_grid={&#x27;metric&#x27;: [&#x27;euclidean&#x27;, &#x27;minkowski&#x27;, &#x27;cosine&#x27;],\n",
       "                         &#x27;n_neighbors&#x27;: [3, 4, 5, 6, 7, 8, 9, 10, 11, 12, 13,\n",
       "                                         14]},\n",
       "             scoring=&#x27;accuracy&#x27;, verbose=3)</pre></div></div></div><div class=\"sk-parallel\"><div class=\"sk-parallel-item\"><div class=\"sk-item\"><div class=\"sk-label-container\"><div class=\"sk-label sk-toggleable\"><input class=\"sk-toggleable__control sk-hidden--visually\" id=\"sk-estimator-id-11\" type=\"checkbox\" ><label for=\"sk-estimator-id-11\" class=\"sk-toggleable__label sk-toggleable__label-arrow\">estimator: KNeighborsClassifier</label><div class=\"sk-toggleable__content\"><pre>KNeighborsClassifier()</pre></div></div></div><div class=\"sk-serial\"><div class=\"sk-item\"><div class=\"sk-estimator sk-toggleable\"><input class=\"sk-toggleable__control sk-hidden--visually\" id=\"sk-estimator-id-12\" type=\"checkbox\" ><label for=\"sk-estimator-id-12\" class=\"sk-toggleable__label sk-toggleable__label-arrow\">KNeighborsClassifier</label><div class=\"sk-toggleable__content\"><pre>KNeighborsClassifier()</pre></div></div></div></div></div></div></div></div></div></div>"
      ],
      "text/plain": [
       "GridSearchCV(estimator=KNeighborsClassifier(),\n",
       "             param_grid={'metric': ['euclidean', 'minkowski', 'cosine'],\n",
       "                         'n_neighbors': [3, 4, 5, 6, 7, 8, 9, 10, 11, 12, 13,\n",
       "                                         14]},\n",
       "             scoring='accuracy', verbose=3)"
      ]
     },
     "execution_count": 37,
     "metadata": {},
     "output_type": "execute_result"
    }
   ],
   "source": [
    "knn_clf_cv = GridSearchCV(knn_clf,param_grid=knn_params,scoring='accuracy',verbose=3)\n",
    "knn_clf_cv.fit(X_train,y_train)"
   ]
  },
  {
   "cell_type": "code",
   "execution_count": 38,
   "id": "d3b8f160-77da-4fd7-b1a2-cd3e1f2158ef",
   "metadata": {},
   "outputs": [
    {
     "data": {
      "text/plain": [
       "{'metric': 'euclidean', 'n_neighbors': 9}"
      ]
     },
     "execution_count": 38,
     "metadata": {},
     "output_type": "execute_result"
    }
   ],
   "source": [
    "knn_clf_cv.best_params_"
   ]
  },
  {
   "cell_type": "code",
   "execution_count": 39,
   "id": "09ed9eba-a29f-4212-ae84-f72aa94e2b71",
   "metadata": {},
   "outputs": [
    {
     "data": {
      "text/plain": [
       "0.9274725274725274"
      ]
     },
     "execution_count": 39,
     "metadata": {},
     "output_type": "execute_result"
    }
   ],
   "source": [
    "knn_clf_cv.best_score_"
   ]
  },
  {
   "cell_type": "code",
   "execution_count": 40,
   "id": "ea76a5b5-7f2f-43bf-b0c0-52f69b81822a",
   "metadata": {
    "scrolled": true
   },
   "outputs": [
    {
     "name": "stdout",
     "output_type": "stream",
     "text": [
      "              precision    recall  f1-score   support\n",
      "\n",
      "           B       0.95      0.99      0.97        71\n",
      "           M       0.97      0.91      0.94        43\n",
      "\n",
      "    accuracy                           0.96       114\n",
      "   macro avg       0.96      0.95      0.95       114\n",
      "weighted avg       0.96      0.96      0.96       114\n",
      "\n"
     ]
    }
   ],
   "source": [
    "y_pred = knn_clf_cv.predict(X_test)\n",
    "print(classification_report(y_test,y_pred))"
   ]
  },
  {
   "cell_type": "code",
   "execution_count": 41,
   "id": "1cb63a16-e31d-461c-a0c6-7f9f0c13b6a4",
   "metadata": {},
   "outputs": [
    {
     "name": "stdout",
     "output_type": "stream",
     "text": [
      "              precision    recall  f1-score   support\n",
      "\n",
      "           B       0.93      0.97      0.95       286\n",
      "           M       0.94      0.87      0.90       169\n",
      "\n",
      "    accuracy                           0.93       455\n",
      "   macro avg       0.93      0.92      0.93       455\n",
      "weighted avg       0.93      0.93      0.93       455\n",
      "\n"
     ]
    }
   ],
   "source": [
    "y_pred_train = knn_clf_cv.predict(X_train)\n",
    "print(classification_report(y_train,y_pred_train))"
   ]
  },
  {
   "cell_type": "code",
   "execution_count": 42,
   "id": "6d7539fb-17d2-432f-b396-38c627dc3329",
   "metadata": {},
   "outputs": [],
   "source": [
    "# knn için sıklıkla kullanılan parametreler => n_neighbors, metric \n",
    "knn_clf = KNeighborsClassifier()\n",
    "knn_params = {\n",
    "    'n_neighbors': [i for i in range(2,15)],\n",
    "    'metric': ['euclidean','minkowski','manhattan','cosine']\n",
    "}"
   ]
  },
  {
   "cell_type": "code",
   "execution_count": 43,
   "id": "8795677a-eeaf-4376-a854-1076b288aaea",
   "metadata": {
    "scrolled": true
   },
   "outputs": [
    {
     "name": "stdout",
     "output_type": "stream",
     "text": [
      "Fitting 5 folds for each of 52 candidates, totalling 260 fits\n",
      "[CV 1/5] END ...metric=euclidean, n_neighbors=2;, score=0.956 total time=   0.0s\n",
      "[CV 2/5] END ...metric=euclidean, n_neighbors=2;, score=0.901 total time=   0.0s\n",
      "[CV 3/5] END ...metric=euclidean, n_neighbors=2;, score=0.956 total time=   0.0s\n",
      "[CV 4/5] END ...metric=euclidean, n_neighbors=2;, score=0.901 total time=   0.0s\n",
      "[CV 5/5] END ...metric=euclidean, n_neighbors=2;, score=0.890 total time=   0.0s\n",
      "[CV 1/5] END ...metric=euclidean, n_neighbors=3;, score=0.945 total time=   0.0s\n",
      "[CV 2/5] END ...metric=euclidean, n_neighbors=3;, score=0.879 total time=   0.0s\n",
      "[CV 3/5] END ...metric=euclidean, n_neighbors=3;, score=0.978 total time=   0.0s\n",
      "[CV 4/5] END ...metric=euclidean, n_neighbors=3;, score=0.901 total time=   0.0s\n",
      "[CV 5/5] END ...metric=euclidean, n_neighbors=3;, score=0.901 total time=   0.0s\n",
      "[CV 1/5] END ...metric=euclidean, n_neighbors=4;, score=0.956 total time=   0.0s\n",
      "[CV 2/5] END ...metric=euclidean, n_neighbors=4;, score=0.890 total time=   0.0s\n",
      "[CV 3/5] END ...metric=euclidean, n_neighbors=4;, score=0.967 total time=   0.0s\n",
      "[CV 4/5] END ...metric=euclidean, n_neighbors=4;, score=0.890 total time=   0.0s\n",
      "[CV 5/5] END ...metric=euclidean, n_neighbors=4;, score=0.901 total time=   0.0s\n",
      "[CV 1/5] END ...metric=euclidean, n_neighbors=5;, score=0.934 total time=   0.0s\n",
      "[CV 2/5] END ...metric=euclidean, n_neighbors=5;, score=0.901 total time=   0.0s\n",
      "[CV 3/5] END ...metric=euclidean, n_neighbors=5;, score=0.956 total time=   0.0s\n",
      "[CV 4/5] END ...metric=euclidean, n_neighbors=5;, score=0.901 total time=   0.0s\n",
      "[CV 5/5] END ...metric=euclidean, n_neighbors=5;, score=0.923 total time=   0.0s\n",
      "[CV 1/5] END ...metric=euclidean, n_neighbors=6;, score=0.967 total time=   0.0s\n",
      "[CV 2/5] END ...metric=euclidean, n_neighbors=6;, score=0.879 total time=   0.0s\n",
      "[CV 3/5] END ...metric=euclidean, n_neighbors=6;, score=0.956 total time=   0.0s\n",
      "[CV 4/5] END ...metric=euclidean, n_neighbors=6;, score=0.868 total time=   0.0s\n",
      "[CV 5/5] END ...metric=euclidean, n_neighbors=6;, score=0.901 total time=   0.0s\n",
      "[CV 1/5] END ...metric=euclidean, n_neighbors=7;, score=0.989 total time=   0.0s\n",
      "[CV 2/5] END ...metric=euclidean, n_neighbors=7;, score=0.890 total time=   0.0s\n",
      "[CV 3/5] END ...metric=euclidean, n_neighbors=7;, score=0.945 total time=   0.0s\n",
      "[CV 4/5] END ...metric=euclidean, n_neighbors=7;, score=0.879 total time=   0.0s\n",
      "[CV 5/5] END ...metric=euclidean, n_neighbors=7;, score=0.923 total time=   0.0s\n",
      "[CV 1/5] END ...metric=euclidean, n_neighbors=8;, score=0.967 total time=   0.0s\n",
      "[CV 2/5] END ...metric=euclidean, n_neighbors=8;, score=0.879 total time=   0.0s\n",
      "[CV 3/5] END ...metric=euclidean, n_neighbors=8;, score=0.945 total time=   0.0s\n",
      "[CV 4/5] END ...metric=euclidean, n_neighbors=8;, score=0.890 total time=   0.0s\n",
      "[CV 5/5] END ...metric=euclidean, n_neighbors=8;, score=0.901 total time=   0.0s\n",
      "[CV 1/5] END ...metric=euclidean, n_neighbors=9;, score=0.989 total time=   0.0s\n",
      "[CV 2/5] END ...metric=euclidean, n_neighbors=9;, score=0.890 total time=   0.0s\n",
      "[CV 3/5] END ...metric=euclidean, n_neighbors=9;, score=0.945 total time=   0.0s\n",
      "[CV 4/5] END ...metric=euclidean, n_neighbors=9;, score=0.890 total time=   0.0s\n",
      "[CV 5/5] END ...metric=euclidean, n_neighbors=9;, score=0.923 total time=   0.0s\n",
      "[CV 1/5] END ..metric=euclidean, n_neighbors=10;, score=0.956 total time=   0.0s\n",
      "[CV 2/5] END ..metric=euclidean, n_neighbors=10;, score=0.879 total time=   0.0s\n",
      "[CV 3/5] END ..metric=euclidean, n_neighbors=10;, score=0.945 total time=   0.0s\n",
      "[CV 4/5] END ..metric=euclidean, n_neighbors=10;, score=0.901 total time=   0.0s\n",
      "[CV 5/5] END ..metric=euclidean, n_neighbors=10;, score=0.890 total time=   0.0s\n",
      "[CV 1/5] END ..metric=euclidean, n_neighbors=11;, score=0.978 total time=   0.0s\n",
      "[CV 2/5] END ..metric=euclidean, n_neighbors=11;, score=0.879 total time=   0.0s\n",
      "[CV 3/5] END ..metric=euclidean, n_neighbors=11;, score=0.945 total time=   0.0s\n",
      "[CV 4/5] END ..metric=euclidean, n_neighbors=11;, score=0.890 total time=   0.0s\n",
      "[CV 5/5] END ..metric=euclidean, n_neighbors=11;, score=0.879 total time=   0.0s\n",
      "[CV 1/5] END ..metric=euclidean, n_neighbors=12;, score=0.978 total time=   0.0s\n",
      "[CV 2/5] END ..metric=euclidean, n_neighbors=12;, score=0.879 total time=   0.0s\n",
      "[CV 3/5] END ..metric=euclidean, n_neighbors=12;, score=0.956 total time=   0.0s\n",
      "[CV 4/5] END ..metric=euclidean, n_neighbors=12;, score=0.901 total time=   0.0s\n",
      "[CV 5/5] END ..metric=euclidean, n_neighbors=12;, score=0.879 total time=   0.0s\n",
      "[CV 1/5] END ..metric=euclidean, n_neighbors=13;, score=0.978 total time=   0.0s\n",
      "[CV 2/5] END ..metric=euclidean, n_neighbors=13;, score=0.879 total time=   0.0s\n",
      "[CV 3/5] END ..metric=euclidean, n_neighbors=13;, score=0.945 total time=   0.0s\n",
      "[CV 4/5] END ..metric=euclidean, n_neighbors=13;, score=0.890 total time=   0.0s\n",
      "[CV 5/5] END ..metric=euclidean, n_neighbors=13;, score=0.879 total time=   0.0s\n",
      "[CV 1/5] END ..metric=euclidean, n_neighbors=14;, score=0.978 total time=   0.0s\n",
      "[CV 2/5] END ..metric=euclidean, n_neighbors=14;, score=0.879 total time=   0.0s\n",
      "[CV 3/5] END ..metric=euclidean, n_neighbors=14;, score=0.945 total time=   0.0s\n",
      "[CV 4/5] END ..metric=euclidean, n_neighbors=14;, score=0.890 total time=   0.0s\n",
      "[CV 5/5] END ..metric=euclidean, n_neighbors=14;, score=0.879 total time=   0.0s\n",
      "[CV 1/5] END ...metric=minkowski, n_neighbors=2;, score=0.956 total time=   0.0s\n",
      "[CV 2/5] END ...metric=minkowski, n_neighbors=2;, score=0.901 total time=   0.0s\n",
      "[CV 3/5] END ...metric=minkowski, n_neighbors=2;, score=0.956 total time=   0.0s\n",
      "[CV 4/5] END ...metric=minkowski, n_neighbors=2;, score=0.901 total time=   0.0s\n",
      "[CV 5/5] END ...metric=minkowski, n_neighbors=2;, score=0.890 total time=   0.0s\n",
      "[CV 1/5] END ...metric=minkowski, n_neighbors=3;, score=0.945 total time=   0.0s\n",
      "[CV 2/5] END ...metric=minkowski, n_neighbors=3;, score=0.879 total time=   0.0s\n",
      "[CV 3/5] END ...metric=minkowski, n_neighbors=3;, score=0.978 total time=   0.0s\n",
      "[CV 4/5] END ...metric=minkowski, n_neighbors=3;, score=0.901 total time=   0.0s\n",
      "[CV 5/5] END ...metric=minkowski, n_neighbors=3;, score=0.901 total time=   0.0s\n",
      "[CV 1/5] END ...metric=minkowski, n_neighbors=4;, score=0.956 total time=   0.0s\n",
      "[CV 2/5] END ...metric=minkowski, n_neighbors=4;, score=0.890 total time=   0.0s\n",
      "[CV 3/5] END ...metric=minkowski, n_neighbors=4;, score=0.967 total time=   0.0s\n",
      "[CV 4/5] END ...metric=minkowski, n_neighbors=4;, score=0.890 total time=   0.0s\n",
      "[CV 5/5] END ...metric=minkowski, n_neighbors=4;, score=0.901 total time=   0.0s\n",
      "[CV 1/5] END ...metric=minkowski, n_neighbors=5;, score=0.934 total time=   0.0s\n",
      "[CV 2/5] END ...metric=minkowski, n_neighbors=5;, score=0.901 total time=   0.0s\n",
      "[CV 3/5] END ...metric=minkowski, n_neighbors=5;, score=0.956 total time=   0.0s\n",
      "[CV 4/5] END ...metric=minkowski, n_neighbors=5;, score=0.901 total time=   0.0s\n",
      "[CV 5/5] END ...metric=minkowski, n_neighbors=5;, score=0.923 total time=   0.0s\n",
      "[CV 1/5] END ...metric=minkowski, n_neighbors=6;, score=0.967 total time=   0.0s\n",
      "[CV 2/5] END ...metric=minkowski, n_neighbors=6;, score=0.879 total time=   0.0s\n",
      "[CV 3/5] END ...metric=minkowski, n_neighbors=6;, score=0.956 total time=   0.0s\n",
      "[CV 4/5] END ...metric=minkowski, n_neighbors=6;, score=0.868 total time=   0.0s\n",
      "[CV 5/5] END ...metric=minkowski, n_neighbors=6;, score=0.901 total time=   0.0s\n",
      "[CV 1/5] END ...metric=minkowski, n_neighbors=7;, score=0.989 total time=   0.0s\n",
      "[CV 2/5] END ...metric=minkowski, n_neighbors=7;, score=0.890 total time=   0.0s\n",
      "[CV 3/5] END ...metric=minkowski, n_neighbors=7;, score=0.945 total time=   0.0s\n",
      "[CV 4/5] END ...metric=minkowski, n_neighbors=7;, score=0.879 total time=   0.0s\n",
      "[CV 5/5] END ...metric=minkowski, n_neighbors=7;, score=0.923 total time=   0.0s\n",
      "[CV 1/5] END ...metric=minkowski, n_neighbors=8;, score=0.967 total time=   0.0s\n",
      "[CV 2/5] END ...metric=minkowski, n_neighbors=8;, score=0.879 total time=   0.0s\n",
      "[CV 3/5] END ...metric=minkowski, n_neighbors=8;, score=0.945 total time=   0.0s\n",
      "[CV 4/5] END ...metric=minkowski, n_neighbors=8;, score=0.890 total time=   0.0s\n",
      "[CV 5/5] END ...metric=minkowski, n_neighbors=8;, score=0.901 total time=   0.0s\n",
      "[CV 1/5] END ...metric=minkowski, n_neighbors=9;, score=0.989 total time=   0.0s\n",
      "[CV 2/5] END ...metric=minkowski, n_neighbors=9;, score=0.890 total time=   0.0s\n",
      "[CV 3/5] END ...metric=minkowski, n_neighbors=9;, score=0.945 total time=   0.0s\n",
      "[CV 4/5] END ...metric=minkowski, n_neighbors=9;, score=0.890 total time=   0.0s\n",
      "[CV 5/5] END ...metric=minkowski, n_neighbors=9;, score=0.923 total time=   0.0s\n",
      "[CV 1/5] END ..metric=minkowski, n_neighbors=10;, score=0.956 total time=   0.0s\n",
      "[CV 2/5] END ..metric=minkowski, n_neighbors=10;, score=0.879 total time=   0.0s\n",
      "[CV 3/5] END ..metric=minkowski, n_neighbors=10;, score=0.945 total time=   0.0s\n",
      "[CV 4/5] END ..metric=minkowski, n_neighbors=10;, score=0.901 total time=   0.0s\n",
      "[CV 5/5] END ..metric=minkowski, n_neighbors=10;, score=0.890 total time=   0.0s\n",
      "[CV 1/5] END ..metric=minkowski, n_neighbors=11;, score=0.978 total time=   0.0s\n",
      "[CV 2/5] END ..metric=minkowski, n_neighbors=11;, score=0.879 total time=   0.0s\n",
      "[CV 3/5] END ..metric=minkowski, n_neighbors=11;, score=0.945 total time=   0.0s\n",
      "[CV 4/5] END ..metric=minkowski, n_neighbors=11;, score=0.890 total time=   0.0s\n",
      "[CV 5/5] END ..metric=minkowski, n_neighbors=11;, score=0.879 total time=   0.0s\n",
      "[CV 1/5] END ..metric=minkowski, n_neighbors=12;, score=0.978 total time=   0.0s\n",
      "[CV 2/5] END ..metric=minkowski, n_neighbors=12;, score=0.879 total time=   0.0s\n",
      "[CV 3/5] END ..metric=minkowski, n_neighbors=12;, score=0.956 total time=   0.0s\n",
      "[CV 4/5] END ..metric=minkowski, n_neighbors=12;, score=0.901 total time=   0.0s\n",
      "[CV 5/5] END ..metric=minkowski, n_neighbors=12;, score=0.879 total time=   0.0s\n",
      "[CV 1/5] END ..metric=minkowski, n_neighbors=13;, score=0.978 total time=   0.0s\n",
      "[CV 2/5] END ..metric=minkowski, n_neighbors=13;, score=0.879 total time=   0.0s\n",
      "[CV 3/5] END ..metric=minkowski, n_neighbors=13;, score=0.945 total time=   0.0s\n",
      "[CV 4/5] END ..metric=minkowski, n_neighbors=13;, score=0.890 total time=   0.0s\n",
      "[CV 5/5] END ..metric=minkowski, n_neighbors=13;, score=0.879 total time=   0.0s\n",
      "[CV 1/5] END ..metric=minkowski, n_neighbors=14;, score=0.978 total time=   0.0s\n",
      "[CV 2/5] END ..metric=minkowski, n_neighbors=14;, score=0.879 total time=   0.0s\n",
      "[CV 3/5] END ..metric=minkowski, n_neighbors=14;, score=0.945 total time=   0.0s\n",
      "[CV 4/5] END ..metric=minkowski, n_neighbors=14;, score=0.890 total time=   0.0s\n",
      "[CV 5/5] END ..metric=minkowski, n_neighbors=14;, score=0.879 total time=   0.0s\n",
      "[CV 1/5] END ...metric=manhattan, n_neighbors=2;, score=0.956 total time=   0.0s\n",
      "[CV 2/5] END ...metric=manhattan, n_neighbors=2;, score=0.890 total time=   0.0s\n",
      "[CV 3/5] END ...metric=manhattan, n_neighbors=2;, score=0.956 total time=   0.0s\n",
      "[CV 4/5] END ...metric=manhattan, n_neighbors=2;, score=0.890 total time=   0.0s\n",
      "[CV 5/5] END ...metric=manhattan, n_neighbors=2;, score=0.901 total time=   0.0s\n",
      "[CV 1/5] END ...metric=manhattan, n_neighbors=3;, score=0.945 total time=   0.0s\n",
      "[CV 2/5] END ...metric=manhattan, n_neighbors=3;, score=0.901 total time=   0.0s\n",
      "[CV 3/5] END ...metric=manhattan, n_neighbors=3;, score=0.967 total time=   0.0s\n",
      "[CV 4/5] END ...metric=manhattan, n_neighbors=3;, score=0.912 total time=   0.0s\n",
      "[CV 5/5] END ...metric=manhattan, n_neighbors=3;, score=0.901 total time=   0.0s\n",
      "[CV 1/5] END ...metric=manhattan, n_neighbors=4;, score=0.978 total time=   0.0s\n",
      "[CV 2/5] END ...metric=manhattan, n_neighbors=4;, score=0.890 total time=   0.0s\n",
      "[CV 3/5] END ...metric=manhattan, n_neighbors=4;, score=0.967 total time=   0.0s\n",
      "[CV 4/5] END ...metric=manhattan, n_neighbors=4;, score=0.912 total time=   0.0s\n",
      "[CV 5/5] END ...metric=manhattan, n_neighbors=4;, score=0.890 total time=   0.0s\n",
      "[CV 1/5] END ...metric=manhattan, n_neighbors=5;, score=0.956 total time=   0.0s\n",
      "[CV 2/5] END ...metric=manhattan, n_neighbors=5;, score=0.901 total time=   0.0s\n",
      "[CV 3/5] END ...metric=manhattan, n_neighbors=5;, score=0.967 total time=   0.0s\n",
      "[CV 4/5] END ...metric=manhattan, n_neighbors=5;, score=0.934 total time=   0.0s\n",
      "[CV 5/5] END ...metric=manhattan, n_neighbors=5;, score=0.923 total time=   0.0s\n",
      "[CV 1/5] END ...metric=manhattan, n_neighbors=6;, score=0.956 total time=   0.0s\n",
      "[CV 2/5] END ...metric=manhattan, n_neighbors=6;, score=0.890 total time=   0.0s\n",
      "[CV 3/5] END ...metric=manhattan, n_neighbors=6;, score=0.978 total time=   0.0s\n",
      "[CV 4/5] END ...metric=manhattan, n_neighbors=6;, score=0.912 total time=   0.0s\n",
      "[CV 5/5] END ...metric=manhattan, n_neighbors=6;, score=0.901 total time=   0.0s\n",
      "[CV 1/5] END ...metric=manhattan, n_neighbors=7;, score=0.978 total time=   0.0s\n",
      "[CV 2/5] END ...metric=manhattan, n_neighbors=7;, score=0.890 total time=   0.0s\n",
      "[CV 3/5] END ...metric=manhattan, n_neighbors=7;, score=0.978 total time=   0.0s\n",
      "[CV 4/5] END ...metric=manhattan, n_neighbors=7;, score=0.912 total time=   0.0s\n",
      "[CV 5/5] END ...metric=manhattan, n_neighbors=7;, score=0.923 total time=   0.0s\n",
      "[CV 1/5] END ...metric=manhattan, n_neighbors=8;, score=0.989 total time=   0.0s\n",
      "[CV 2/5] END ...metric=manhattan, n_neighbors=8;, score=0.879 total time=   0.0s\n",
      "[CV 3/5] END ...metric=manhattan, n_neighbors=8;, score=0.967 total time=   0.0s\n",
      "[CV 4/5] END ...metric=manhattan, n_neighbors=8;, score=0.901 total time=   0.0s\n",
      "[CV 5/5] END ...metric=manhattan, n_neighbors=8;, score=0.901 total time=   0.0s\n",
      "[CV 1/5] END ...metric=manhattan, n_neighbors=9;, score=0.989 total time=   0.0s\n",
      "[CV 2/5] END ...metric=manhattan, n_neighbors=9;, score=0.890 total time=   0.0s\n",
      "[CV 3/5] END ...metric=manhattan, n_neighbors=9;, score=0.967 total time=   0.0s\n",
      "[CV 4/5] END ...metric=manhattan, n_neighbors=9;, score=0.901 total time=   0.0s\n",
      "[CV 5/5] END ...metric=manhattan, n_neighbors=9;, score=0.923 total time=   0.0s\n",
      "[CV 1/5] END ..metric=manhattan, n_neighbors=10;, score=0.989 total time=   0.0s\n",
      "[CV 2/5] END ..metric=manhattan, n_neighbors=10;, score=0.879 total time=   0.0s\n",
      "[CV 3/5] END ..metric=manhattan, n_neighbors=10;, score=0.956 total time=   0.0s\n",
      "[CV 4/5] END ..metric=manhattan, n_neighbors=10;, score=0.901 total time=   0.0s\n",
      "[CV 5/5] END ..metric=manhattan, n_neighbors=10;, score=0.901 total time=   0.0s\n",
      "[CV 1/5] END ..metric=manhattan, n_neighbors=11;, score=0.978 total time=   0.0s\n",
      "[CV 2/5] END ..metric=manhattan, n_neighbors=11;, score=0.890 total time=   0.0s\n",
      "[CV 3/5] END ..metric=manhattan, n_neighbors=11;, score=0.967 total time=   0.0s\n",
      "[CV 4/5] END ..metric=manhattan, n_neighbors=11;, score=0.901 total time=   0.0s\n",
      "[CV 5/5] END ..metric=manhattan, n_neighbors=11;, score=0.901 total time=   0.0s\n",
      "[CV 1/5] END ..metric=manhattan, n_neighbors=12;, score=0.989 total time=   0.0s\n",
      "[CV 2/5] END ..metric=manhattan, n_neighbors=12;, score=0.890 total time=   0.0s\n",
      "[CV 3/5] END ..metric=manhattan, n_neighbors=12;, score=0.956 total time=   0.0s\n",
      "[CV 4/5] END ..metric=manhattan, n_neighbors=12;, score=0.901 total time=   0.0s\n",
      "[CV 5/5] END ..metric=manhattan, n_neighbors=12;, score=0.890 total time=   0.0s\n",
      "[CV 1/5] END ..metric=manhattan, n_neighbors=13;, score=0.989 total time=   0.0s\n",
      "[CV 2/5] END ..metric=manhattan, n_neighbors=13;, score=0.890 total time=   0.0s\n",
      "[CV 3/5] END ..metric=manhattan, n_neighbors=13;, score=0.956 total time=   0.0s\n",
      "[CV 4/5] END ..metric=manhattan, n_neighbors=13;, score=0.901 total time=   0.0s\n",
      "[CV 5/5] END ..metric=manhattan, n_neighbors=13;, score=0.890 total time=   0.0s\n",
      "[CV 1/5] END ..metric=manhattan, n_neighbors=14;, score=0.989 total time=   0.0s\n",
      "[CV 2/5] END ..metric=manhattan, n_neighbors=14;, score=0.890 total time=   0.0s\n",
      "[CV 3/5] END ..metric=manhattan, n_neighbors=14;, score=0.967 total time=   0.0s\n",
      "[CV 4/5] END ..metric=manhattan, n_neighbors=14;, score=0.901 total time=   0.0s\n",
      "[CV 5/5] END ..metric=manhattan, n_neighbors=14;, score=0.879 total time=   0.0s\n",
      "[CV 1/5] END ......metric=cosine, n_neighbors=2;, score=0.923 total time=   0.0s\n",
      "[CV 2/5] END ......metric=cosine, n_neighbors=2;, score=0.868 total time=   0.0s\n",
      "[CV 3/5] END ......metric=cosine, n_neighbors=2;, score=0.934 total time=   0.0s\n",
      "[CV 4/5] END ......metric=cosine, n_neighbors=2;, score=0.846 total time=   0.0s\n",
      "[CV 5/5] END ......metric=cosine, n_neighbors=2;, score=0.912 total time=   0.0s\n",
      "[CV 1/5] END ......metric=cosine, n_neighbors=3;, score=0.945 total time=   0.0s\n",
      "[CV 2/5] END ......metric=cosine, n_neighbors=3;, score=0.912 total time=   0.0s\n",
      "[CV 3/5] END ......metric=cosine, n_neighbors=3;, score=0.945 total time=   0.0s\n",
      "[CV 4/5] END ......metric=cosine, n_neighbors=3;, score=0.879 total time=   0.0s\n",
      "[CV 5/5] END ......metric=cosine, n_neighbors=3;, score=0.912 total time=   0.0s\n",
      "[CV 1/5] END ......metric=cosine, n_neighbors=4;, score=0.945 total time=   0.0s\n",
      "[CV 2/5] END ......metric=cosine, n_neighbors=4;, score=0.901 total time=   0.0s\n",
      "[CV 3/5] END ......metric=cosine, n_neighbors=4;, score=0.923 total time=   0.0s\n",
      "[CV 4/5] END ......metric=cosine, n_neighbors=4;, score=0.879 total time=   0.0s\n",
      "[CV 5/5] END ......metric=cosine, n_neighbors=4;, score=0.923 total time=   0.0s\n",
      "[CV 1/5] END ......metric=cosine, n_neighbors=5;, score=0.945 total time=   0.0s\n",
      "[CV 2/5] END ......metric=cosine, n_neighbors=5;, score=0.912 total time=   0.0s\n",
      "[CV 3/5] END ......metric=cosine, n_neighbors=5;, score=0.934 total time=   0.0s\n",
      "[CV 4/5] END ......metric=cosine, n_neighbors=5;, score=0.846 total time=   0.0s\n",
      "[CV 5/5] END ......metric=cosine, n_neighbors=5;, score=0.923 total time=   0.0s\n",
      "[CV 1/5] END ......metric=cosine, n_neighbors=6;, score=0.956 total time=   0.0s\n",
      "[CV 2/5] END ......metric=cosine, n_neighbors=6;, score=0.912 total time=   0.0s\n",
      "[CV 3/5] END ......metric=cosine, n_neighbors=6;, score=0.945 total time=   0.0s\n",
      "[CV 4/5] END ......metric=cosine, n_neighbors=6;, score=0.879 total time=   0.0s\n",
      "[CV 5/5] END ......metric=cosine, n_neighbors=6;, score=0.912 total time=   0.0s\n",
      "[CV 1/5] END ......metric=cosine, n_neighbors=7;, score=0.956 total time=   0.0s\n",
      "[CV 2/5] END ......metric=cosine, n_neighbors=7;, score=0.901 total time=   0.0s\n",
      "[CV 3/5] END ......metric=cosine, n_neighbors=7;, score=0.945 total time=   0.0s\n",
      "[CV 4/5] END ......metric=cosine, n_neighbors=7;, score=0.879 total time=   0.0s\n",
      "[CV 5/5] END ......metric=cosine, n_neighbors=7;, score=0.923 total time=   0.0s\n",
      "[CV 1/5] END ......metric=cosine, n_neighbors=8;, score=0.956 total time=   0.0s\n",
      "[CV 2/5] END ......metric=cosine, n_neighbors=8;, score=0.901 total time=   0.0s\n",
      "[CV 3/5] END ......metric=cosine, n_neighbors=8;, score=0.945 total time=   0.0s\n",
      "[CV 4/5] END ......metric=cosine, n_neighbors=8;, score=0.879 total time=   0.0s\n",
      "[CV 5/5] END ......metric=cosine, n_neighbors=8;, score=0.912 total time=   0.0s\n",
      "[CV 1/5] END ......metric=cosine, n_neighbors=9;, score=0.956 total time=   0.0s\n",
      "[CV 2/5] END ......metric=cosine, n_neighbors=9;, score=0.890 total time=   0.0s\n",
      "[CV 3/5] END ......metric=cosine, n_neighbors=9;, score=0.956 total time=   0.0s\n",
      "[CV 4/5] END ......metric=cosine, n_neighbors=9;, score=0.879 total time=   0.0s\n",
      "[CV 5/5] END ......metric=cosine, n_neighbors=9;, score=0.912 total time=   0.0s\n",
      "[CV 1/5] END .....metric=cosine, n_neighbors=10;, score=0.956 total time=   0.0s\n",
      "[CV 2/5] END .....metric=cosine, n_neighbors=10;, score=0.890 total time=   0.0s\n",
      "[CV 3/5] END .....metric=cosine, n_neighbors=10;, score=0.934 total time=   0.0s\n",
      "[CV 4/5] END .....metric=cosine, n_neighbors=10;, score=0.868 total time=   0.0s\n",
      "[CV 5/5] END .....metric=cosine, n_neighbors=10;, score=0.912 total time=   0.0s\n",
      "[CV 1/5] END .....metric=cosine, n_neighbors=11;, score=0.956 total time=   0.0s\n",
      "[CV 2/5] END .....metric=cosine, n_neighbors=11;, score=0.890 total time=   0.0s\n",
      "[CV 3/5] END .....metric=cosine, n_neighbors=11;, score=0.967 total time=   0.0s\n",
      "[CV 4/5] END .....metric=cosine, n_neighbors=11;, score=0.879 total time=   0.0s\n",
      "[CV 5/5] END .....metric=cosine, n_neighbors=11;, score=0.912 total time=   0.0s\n",
      "[CV 1/5] END .....metric=cosine, n_neighbors=12;, score=0.956 total time=   0.0s\n",
      "[CV 2/5] END .....metric=cosine, n_neighbors=12;, score=0.890 total time=   0.0s\n",
      "[CV 3/5] END .....metric=cosine, n_neighbors=12;, score=0.956 total time=   0.0s\n",
      "[CV 4/5] END .....metric=cosine, n_neighbors=12;, score=0.868 total time=   0.0s\n",
      "[CV 5/5] END .....metric=cosine, n_neighbors=12;, score=0.901 total time=   0.0s\n",
      "[CV 1/5] END .....metric=cosine, n_neighbors=13;, score=0.967 total time=   0.0s\n",
      "[CV 2/5] END .....metric=cosine, n_neighbors=13;, score=0.890 total time=   0.0s\n",
      "[CV 3/5] END .....metric=cosine, n_neighbors=13;, score=0.956 total time=   0.0s\n",
      "[CV 4/5] END .....metric=cosine, n_neighbors=13;, score=0.857 total time=   0.0s\n",
      "[CV 5/5] END .....metric=cosine, n_neighbors=13;, score=0.901 total time=   0.0s\n",
      "[CV 1/5] END .....metric=cosine, n_neighbors=14;, score=0.956 total time=   0.0s\n",
      "[CV 2/5] END .....metric=cosine, n_neighbors=14;, score=0.901 total time=   0.0s\n",
      "[CV 3/5] END .....metric=cosine, n_neighbors=14;, score=0.956 total time=   0.0s\n",
      "[CV 4/5] END .....metric=cosine, n_neighbors=14;, score=0.857 total time=   0.0s\n",
      "[CV 5/5] END .....metric=cosine, n_neighbors=14;, score=0.890 total time=   0.0s\n"
     ]
    },
    {
     "data": {
      "text/html": [
       "<style>#sk-container-id-5 {color: black;background-color: white;}#sk-container-id-5 pre{padding: 0;}#sk-container-id-5 div.sk-toggleable {background-color: white;}#sk-container-id-5 label.sk-toggleable__label {cursor: pointer;display: block;width: 100%;margin-bottom: 0;padding: 0.3em;box-sizing: border-box;text-align: center;}#sk-container-id-5 label.sk-toggleable__label-arrow:before {content: \"▸\";float: left;margin-right: 0.25em;color: #696969;}#sk-container-id-5 label.sk-toggleable__label-arrow:hover:before {color: black;}#sk-container-id-5 div.sk-estimator:hover label.sk-toggleable__label-arrow:before {color: black;}#sk-container-id-5 div.sk-toggleable__content {max-height: 0;max-width: 0;overflow: hidden;text-align: left;background-color: #f0f8ff;}#sk-container-id-5 div.sk-toggleable__content pre {margin: 0.2em;color: black;border-radius: 0.25em;background-color: #f0f8ff;}#sk-container-id-5 input.sk-toggleable__control:checked~div.sk-toggleable__content {max-height: 200px;max-width: 100%;overflow: auto;}#sk-container-id-5 input.sk-toggleable__control:checked~label.sk-toggleable__label-arrow:before {content: \"▾\";}#sk-container-id-5 div.sk-estimator input.sk-toggleable__control:checked~label.sk-toggleable__label {background-color: #d4ebff;}#sk-container-id-5 div.sk-label input.sk-toggleable__control:checked~label.sk-toggleable__label {background-color: #d4ebff;}#sk-container-id-5 input.sk-hidden--visually {border: 0;clip: rect(1px 1px 1px 1px);clip: rect(1px, 1px, 1px, 1px);height: 1px;margin: -1px;overflow: hidden;padding: 0;position: absolute;width: 1px;}#sk-container-id-5 div.sk-estimator {font-family: monospace;background-color: #f0f8ff;border: 1px dotted black;border-radius: 0.25em;box-sizing: border-box;margin-bottom: 0.5em;}#sk-container-id-5 div.sk-estimator:hover {background-color: #d4ebff;}#sk-container-id-5 div.sk-parallel-item::after {content: \"\";width: 100%;border-bottom: 1px solid gray;flex-grow: 1;}#sk-container-id-5 div.sk-label:hover label.sk-toggleable__label {background-color: #d4ebff;}#sk-container-id-5 div.sk-serial::before {content: \"\";position: absolute;border-left: 1px solid gray;box-sizing: border-box;top: 0;bottom: 0;left: 50%;z-index: 0;}#sk-container-id-5 div.sk-serial {display: flex;flex-direction: column;align-items: center;background-color: white;padding-right: 0.2em;padding-left: 0.2em;position: relative;}#sk-container-id-5 div.sk-item {position: relative;z-index: 1;}#sk-container-id-5 div.sk-parallel {display: flex;align-items: stretch;justify-content: center;background-color: white;position: relative;}#sk-container-id-5 div.sk-item::before, #sk-container-id-5 div.sk-parallel-item::before {content: \"\";position: absolute;border-left: 1px solid gray;box-sizing: border-box;top: 0;bottom: 0;left: 50%;z-index: -1;}#sk-container-id-5 div.sk-parallel-item {display: flex;flex-direction: column;z-index: 1;position: relative;background-color: white;}#sk-container-id-5 div.sk-parallel-item:first-child::after {align-self: flex-end;width: 50%;}#sk-container-id-5 div.sk-parallel-item:last-child::after {align-self: flex-start;width: 50%;}#sk-container-id-5 div.sk-parallel-item:only-child::after {width: 0;}#sk-container-id-5 div.sk-dashed-wrapped {border: 1px dashed gray;margin: 0 0.4em 0.5em 0.4em;box-sizing: border-box;padding-bottom: 0.4em;background-color: white;}#sk-container-id-5 div.sk-label label {font-family: monospace;font-weight: bold;display: inline-block;line-height: 1.2em;}#sk-container-id-5 div.sk-label-container {text-align: center;}#sk-container-id-5 div.sk-container {/* jupyter's `normalize.less` sets `[hidden] { display: none; }` but bootstrap.min.css set `[hidden] { display: none !important; }` so we also need the `!important` here to be able to override the default hidden behavior on the sphinx rendered scikit-learn.org. See: https://github.com/scikit-learn/scikit-learn/issues/21755 */display: inline-block !important;position: relative;}#sk-container-id-5 div.sk-text-repr-fallback {display: none;}</style><div id=\"sk-container-id-5\" class=\"sk-top-container\"><div class=\"sk-text-repr-fallback\"><pre>GridSearchCV(estimator=KNeighborsClassifier(),\n",
       "             param_grid={&#x27;metric&#x27;: [&#x27;euclidean&#x27;, &#x27;minkowski&#x27;, &#x27;manhattan&#x27;,\n",
       "                                    &#x27;cosine&#x27;],\n",
       "                         &#x27;n_neighbors&#x27;: [2, 3, 4, 5, 6, 7, 8, 9, 10, 11, 12, 13,\n",
       "                                         14]},\n",
       "             scoring=&#x27;accuracy&#x27;, verbose=3)</pre><b>In a Jupyter environment, please rerun this cell to show the HTML representation or trust the notebook. <br />On GitHub, the HTML representation is unable to render, please try loading this page with nbviewer.org.</b></div><div class=\"sk-container\" hidden><div class=\"sk-item sk-dashed-wrapped\"><div class=\"sk-label-container\"><div class=\"sk-label sk-toggleable\"><input class=\"sk-toggleable__control sk-hidden--visually\" id=\"sk-estimator-id-13\" type=\"checkbox\" ><label for=\"sk-estimator-id-13\" class=\"sk-toggleable__label sk-toggleable__label-arrow\">GridSearchCV</label><div class=\"sk-toggleable__content\"><pre>GridSearchCV(estimator=KNeighborsClassifier(),\n",
       "             param_grid={&#x27;metric&#x27;: [&#x27;euclidean&#x27;, &#x27;minkowski&#x27;, &#x27;manhattan&#x27;,\n",
       "                                    &#x27;cosine&#x27;],\n",
       "                         &#x27;n_neighbors&#x27;: [2, 3, 4, 5, 6, 7, 8, 9, 10, 11, 12, 13,\n",
       "                                         14]},\n",
       "             scoring=&#x27;accuracy&#x27;, verbose=3)</pre></div></div></div><div class=\"sk-parallel\"><div class=\"sk-parallel-item\"><div class=\"sk-item\"><div class=\"sk-label-container\"><div class=\"sk-label sk-toggleable\"><input class=\"sk-toggleable__control sk-hidden--visually\" id=\"sk-estimator-id-14\" type=\"checkbox\" ><label for=\"sk-estimator-id-14\" class=\"sk-toggleable__label sk-toggleable__label-arrow\">estimator: KNeighborsClassifier</label><div class=\"sk-toggleable__content\"><pre>KNeighborsClassifier()</pre></div></div></div><div class=\"sk-serial\"><div class=\"sk-item\"><div class=\"sk-estimator sk-toggleable\"><input class=\"sk-toggleable__control sk-hidden--visually\" id=\"sk-estimator-id-15\" type=\"checkbox\" ><label for=\"sk-estimator-id-15\" class=\"sk-toggleable__label sk-toggleable__label-arrow\">KNeighborsClassifier</label><div class=\"sk-toggleable__content\"><pre>KNeighborsClassifier()</pre></div></div></div></div></div></div></div></div></div></div>"
      ],
      "text/plain": [
       "GridSearchCV(estimator=KNeighborsClassifier(),\n",
       "             param_grid={'metric': ['euclidean', 'minkowski', 'manhattan',\n",
       "                                    'cosine'],\n",
       "                         'n_neighbors': [2, 3, 4, 5, 6, 7, 8, 9, 10, 11, 12, 13,\n",
       "                                         14]},\n",
       "             scoring='accuracy', verbose=3)"
      ]
     },
     "execution_count": 43,
     "metadata": {},
     "output_type": "execute_result"
    }
   ],
   "source": [
    "knn_clf_cv = GridSearchCV(knn_clf,param_grid=knn_params,scoring='accuracy',verbose=3)\n",
    "knn_clf_cv.fit(X_train,y_train)"
   ]
  },
  {
   "cell_type": "code",
   "execution_count": 44,
   "id": "570db99e-5044-4241-956d-2dd7e86f0a7d",
   "metadata": {},
   "outputs": [
    {
     "data": {
      "text/plain": [
       "{'metric': 'manhattan', 'n_neighbors': 5}"
      ]
     },
     "execution_count": 44,
     "metadata": {},
     "output_type": "execute_result"
    }
   ],
   "source": [
    "knn_clf_cv.best_params_"
   ]
  },
  {
   "cell_type": "code",
   "execution_count": 45,
   "id": "fde19590-cc62-4b2b-b12f-86dc2501f827",
   "metadata": {},
   "outputs": [
    {
     "data": {
      "text/plain": [
       "0.9362637362637363"
      ]
     },
     "execution_count": 45,
     "metadata": {},
     "output_type": "execute_result"
    }
   ],
   "source": [
    "knn_clf_cv.best_score_"
   ]
  },
  {
   "cell_type": "code",
   "execution_count": 46,
   "id": "7f8af70d-dc12-4e9d-bd35-c0f5899e7749",
   "metadata": {
    "scrolled": true
   },
   "outputs": [
    {
     "name": "stdout",
     "output_type": "stream",
     "text": [
      "              precision    recall  f1-score   support\n",
      "\n",
      "           B       0.93      0.99      0.96        71\n",
      "           M       0.97      0.88      0.93        43\n",
      "\n",
      "    accuracy                           0.95       114\n",
      "   macro avg       0.95      0.93      0.94       114\n",
      "weighted avg       0.95      0.95      0.95       114\n",
      "\n"
     ]
    }
   ],
   "source": [
    "y_pred = knn_clf_cv.predict(X_test)\n",
    "print(classification_report(y_test,y_pred))"
   ]
  },
  {
   "cell_type": "code",
   "execution_count": 47,
   "id": "430c240d-0756-4b9b-a4ed-ff6db0ca81b3",
   "metadata": {},
   "outputs": [
    {
     "name": "stdout",
     "output_type": "stream",
     "text": [
      "              precision    recall  f1-score   support\n",
      "\n",
      "           B       0.94      0.98      0.96       286\n",
      "           M       0.97      0.89      0.93       169\n",
      "\n",
      "    accuracy                           0.95       455\n",
      "   macro avg       0.95      0.94      0.94       455\n",
      "weighted avg       0.95      0.95      0.95       455\n",
      "\n"
     ]
    }
   ],
   "source": [
    "y_pred_train = knn_clf_cv.predict(X_train)\n",
    "print(classification_report(y_train,y_pred_train))"
   ]
  },
  {
   "cell_type": "code",
   "execution_count": null,
   "id": "1ce7b1ac-7376-43f9-be49-1153aafed758",
   "metadata": {},
   "outputs": [],
   "source": []
  },
  {
   "cell_type": "code",
   "execution_count": 48,
   "id": "6469a3da-99c0-48c9-8d37-cefcb7026220",
   "metadata": {},
   "outputs": [],
   "source": [
    "# knn için sıklıkla kullanılan parametreler => n_neighbors, metric \n",
    "knn_clf = KNeighborsClassifier()\n",
    "knn_params = {\n",
    "    'n_neighbors': [i for i in range(2,15)],\n",
    "    'metric': ['euclidean','minkowski','cosine']\n",
    "}"
   ]
  },
  {
   "cell_type": "code",
   "execution_count": 49,
   "id": "55104aa3-5000-4994-8f9e-91bcd45e8b4d",
   "metadata": {
    "scrolled": true
   },
   "outputs": [
    {
     "name": "stdout",
     "output_type": "stream",
     "text": [
      "Fitting 5 folds for each of 39 candidates, totalling 195 fits\n",
      "[CV 1/5] END ...metric=euclidean, n_neighbors=2;, score=0.956 total time=   0.0s\n",
      "[CV 2/5] END ...metric=euclidean, n_neighbors=2;, score=0.901 total time=   0.0s\n",
      "[CV 3/5] END ...metric=euclidean, n_neighbors=2;, score=0.956 total time=   0.0s\n",
      "[CV 4/5] END ...metric=euclidean, n_neighbors=2;, score=0.901 total time=   0.0s\n",
      "[CV 5/5] END ...metric=euclidean, n_neighbors=2;, score=0.890 total time=   0.0s\n",
      "[CV 1/5] END ...metric=euclidean, n_neighbors=3;, score=0.945 total time=   0.0s\n",
      "[CV 2/5] END ...metric=euclidean, n_neighbors=3;, score=0.879 total time=   0.0s\n",
      "[CV 3/5] END ...metric=euclidean, n_neighbors=3;, score=0.978 total time=   0.0s\n",
      "[CV 4/5] END ...metric=euclidean, n_neighbors=3;, score=0.901 total time=   0.0s\n",
      "[CV 5/5] END ...metric=euclidean, n_neighbors=3;, score=0.901 total time=   0.0s\n",
      "[CV 1/5] END ...metric=euclidean, n_neighbors=4;, score=0.956 total time=   0.0s\n",
      "[CV 2/5] END ...metric=euclidean, n_neighbors=4;, score=0.890 total time=   0.0s\n",
      "[CV 3/5] END ...metric=euclidean, n_neighbors=4;, score=0.967 total time=   0.0s\n",
      "[CV 4/5] END ...metric=euclidean, n_neighbors=4;, score=0.890 total time=   0.0s\n",
      "[CV 5/5] END ...metric=euclidean, n_neighbors=4;, score=0.901 total time=   0.0s\n",
      "[CV 1/5] END ...metric=euclidean, n_neighbors=5;, score=0.934 total time=   0.0s\n",
      "[CV 2/5] END ...metric=euclidean, n_neighbors=5;, score=0.901 total time=   0.0s\n",
      "[CV 3/5] END ...metric=euclidean, n_neighbors=5;, score=0.956 total time=   0.0s\n",
      "[CV 4/5] END ...metric=euclidean, n_neighbors=5;, score=0.901 total time=   0.0s\n",
      "[CV 5/5] END ...metric=euclidean, n_neighbors=5;, score=0.923 total time=   0.0s\n",
      "[CV 1/5] END ...metric=euclidean, n_neighbors=6;, score=0.967 total time=   0.0s\n",
      "[CV 2/5] END ...metric=euclidean, n_neighbors=6;, score=0.879 total time=   0.0s\n",
      "[CV 3/5] END ...metric=euclidean, n_neighbors=6;, score=0.956 total time=   0.0s\n",
      "[CV 4/5] END ...metric=euclidean, n_neighbors=6;, score=0.868 total time=   0.0s\n",
      "[CV 5/5] END ...metric=euclidean, n_neighbors=6;, score=0.901 total time=   0.0s\n",
      "[CV 1/5] END ...metric=euclidean, n_neighbors=7;, score=0.989 total time=   0.0s\n",
      "[CV 2/5] END ...metric=euclidean, n_neighbors=7;, score=0.890 total time=   0.0s\n",
      "[CV 3/5] END ...metric=euclidean, n_neighbors=7;, score=0.945 total time=   0.0s\n",
      "[CV 4/5] END ...metric=euclidean, n_neighbors=7;, score=0.879 total time=   0.0s\n",
      "[CV 5/5] END ...metric=euclidean, n_neighbors=7;, score=0.923 total time=   0.0s\n",
      "[CV 1/5] END ...metric=euclidean, n_neighbors=8;, score=0.967 total time=   0.0s\n",
      "[CV 2/5] END ...metric=euclidean, n_neighbors=8;, score=0.879 total time=   0.0s\n",
      "[CV 3/5] END ...metric=euclidean, n_neighbors=8;, score=0.945 total time=   0.0s\n",
      "[CV 4/5] END ...metric=euclidean, n_neighbors=8;, score=0.890 total time=   0.0s\n",
      "[CV 5/5] END ...metric=euclidean, n_neighbors=8;, score=0.901 total time=   0.0s\n",
      "[CV 1/5] END ...metric=euclidean, n_neighbors=9;, score=0.989 total time=   0.0s\n",
      "[CV 2/5] END ...metric=euclidean, n_neighbors=9;, score=0.890 total time=   0.0s\n",
      "[CV 3/5] END ...metric=euclidean, n_neighbors=9;, score=0.945 total time=   0.0s\n",
      "[CV 4/5] END ...metric=euclidean, n_neighbors=9;, score=0.890 total time=   0.0s\n",
      "[CV 5/5] END ...metric=euclidean, n_neighbors=9;, score=0.923 total time=   0.0s\n",
      "[CV 1/5] END ..metric=euclidean, n_neighbors=10;, score=0.956 total time=   0.0s\n",
      "[CV 2/5] END ..metric=euclidean, n_neighbors=10;, score=0.879 total time=   0.0s\n",
      "[CV 3/5] END ..metric=euclidean, n_neighbors=10;, score=0.945 total time=   0.0s\n",
      "[CV 4/5] END ..metric=euclidean, n_neighbors=10;, score=0.901 total time=   0.0s\n",
      "[CV 5/5] END ..metric=euclidean, n_neighbors=10;, score=0.890 total time=   0.0s\n",
      "[CV 1/5] END ..metric=euclidean, n_neighbors=11;, score=0.978 total time=   0.0s\n",
      "[CV 2/5] END ..metric=euclidean, n_neighbors=11;, score=0.879 total time=   0.0s\n",
      "[CV 3/5] END ..metric=euclidean, n_neighbors=11;, score=0.945 total time=   0.0s\n",
      "[CV 4/5] END ..metric=euclidean, n_neighbors=11;, score=0.890 total time=   0.0s\n",
      "[CV 5/5] END ..metric=euclidean, n_neighbors=11;, score=0.879 total time=   0.0s\n",
      "[CV 1/5] END ..metric=euclidean, n_neighbors=12;, score=0.978 total time=   0.0s\n",
      "[CV 2/5] END ..metric=euclidean, n_neighbors=12;, score=0.879 total time=   0.0s\n",
      "[CV 3/5] END ..metric=euclidean, n_neighbors=12;, score=0.956 total time=   0.0s\n",
      "[CV 4/5] END ..metric=euclidean, n_neighbors=12;, score=0.901 total time=   0.0s\n",
      "[CV 5/5] END ..metric=euclidean, n_neighbors=12;, score=0.879 total time=   0.0s\n",
      "[CV 1/5] END ..metric=euclidean, n_neighbors=13;, score=0.978 total time=   0.0s\n",
      "[CV 2/5] END ..metric=euclidean, n_neighbors=13;, score=0.879 total time=   0.0s\n",
      "[CV 3/5] END ..metric=euclidean, n_neighbors=13;, score=0.945 total time=   0.0s\n",
      "[CV 4/5] END ..metric=euclidean, n_neighbors=13;, score=0.890 total time=   0.0s\n",
      "[CV 5/5] END ..metric=euclidean, n_neighbors=13;, score=0.879 total time=   0.0s\n",
      "[CV 1/5] END ..metric=euclidean, n_neighbors=14;, score=0.978 total time=   0.0s\n",
      "[CV 2/5] END ..metric=euclidean, n_neighbors=14;, score=0.879 total time=   0.0s\n",
      "[CV 3/5] END ..metric=euclidean, n_neighbors=14;, score=0.945 total time=   0.0s\n",
      "[CV 4/5] END ..metric=euclidean, n_neighbors=14;, score=0.890 total time=   0.0s\n",
      "[CV 5/5] END ..metric=euclidean, n_neighbors=14;, score=0.879 total time=   0.0s\n",
      "[CV 1/5] END ...metric=minkowski, n_neighbors=2;, score=0.956 total time=   0.0s\n",
      "[CV 2/5] END ...metric=minkowski, n_neighbors=2;, score=0.901 total time=   0.0s\n",
      "[CV 3/5] END ...metric=minkowski, n_neighbors=2;, score=0.956 total time=   0.0s\n",
      "[CV 4/5] END ...metric=minkowski, n_neighbors=2;, score=0.901 total time=   0.0s\n",
      "[CV 5/5] END ...metric=minkowski, n_neighbors=2;, score=0.890 total time=   0.0s\n",
      "[CV 1/5] END ...metric=minkowski, n_neighbors=3;, score=0.945 total time=   0.0s\n",
      "[CV 2/5] END ...metric=minkowski, n_neighbors=3;, score=0.879 total time=   0.0s\n",
      "[CV 3/5] END ...metric=minkowski, n_neighbors=3;, score=0.978 total time=   0.0s\n",
      "[CV 4/5] END ...metric=minkowski, n_neighbors=3;, score=0.901 total time=   0.0s\n",
      "[CV 5/5] END ...metric=minkowski, n_neighbors=3;, score=0.901 total time=   0.0s\n",
      "[CV 1/5] END ...metric=minkowski, n_neighbors=4;, score=0.956 total time=   0.0s\n",
      "[CV 2/5] END ...metric=minkowski, n_neighbors=4;, score=0.890 total time=   0.0s\n",
      "[CV 3/5] END ...metric=minkowski, n_neighbors=4;, score=0.967 total time=   0.0s\n",
      "[CV 4/5] END ...metric=minkowski, n_neighbors=4;, score=0.890 total time=   0.0s\n",
      "[CV 5/5] END ...metric=minkowski, n_neighbors=4;, score=0.901 total time=   0.0s\n",
      "[CV 1/5] END ...metric=minkowski, n_neighbors=5;, score=0.934 total time=   0.0s\n",
      "[CV 2/5] END ...metric=minkowski, n_neighbors=5;, score=0.901 total time=   0.0s\n",
      "[CV 3/5] END ...metric=minkowski, n_neighbors=5;, score=0.956 total time=   0.0s\n",
      "[CV 4/5] END ...metric=minkowski, n_neighbors=5;, score=0.901 total time=   0.0s\n",
      "[CV 5/5] END ...metric=minkowski, n_neighbors=5;, score=0.923 total time=   0.0s\n",
      "[CV 1/5] END ...metric=minkowski, n_neighbors=6;, score=0.967 total time=   0.0s\n",
      "[CV 2/5] END ...metric=minkowski, n_neighbors=6;, score=0.879 total time=   0.0s\n",
      "[CV 3/5] END ...metric=minkowski, n_neighbors=6;, score=0.956 total time=   0.0s\n",
      "[CV 4/5] END ...metric=minkowski, n_neighbors=6;, score=0.868 total time=   0.0s\n",
      "[CV 5/5] END ...metric=minkowski, n_neighbors=6;, score=0.901 total time=   0.0s\n",
      "[CV 1/5] END ...metric=minkowski, n_neighbors=7;, score=0.989 total time=   0.0s\n",
      "[CV 2/5] END ...metric=minkowski, n_neighbors=7;, score=0.890 total time=   0.0s\n",
      "[CV 3/5] END ...metric=minkowski, n_neighbors=7;, score=0.945 total time=   0.0s\n",
      "[CV 4/5] END ...metric=minkowski, n_neighbors=7;, score=0.879 total time=   0.0s\n",
      "[CV 5/5] END ...metric=minkowski, n_neighbors=7;, score=0.923 total time=   0.0s\n",
      "[CV 1/5] END ...metric=minkowski, n_neighbors=8;, score=0.967 total time=   0.0s\n",
      "[CV 2/5] END ...metric=minkowski, n_neighbors=8;, score=0.879 total time=   0.0s\n",
      "[CV 3/5] END ...metric=minkowski, n_neighbors=8;, score=0.945 total time=   0.0s\n",
      "[CV 4/5] END ...metric=minkowski, n_neighbors=8;, score=0.890 total time=   0.0s\n",
      "[CV 5/5] END ...metric=minkowski, n_neighbors=8;, score=0.901 total time=   0.0s\n",
      "[CV 1/5] END ...metric=minkowski, n_neighbors=9;, score=0.989 total time=   0.0s\n",
      "[CV 2/5] END ...metric=minkowski, n_neighbors=9;, score=0.890 total time=   0.0s\n",
      "[CV 3/5] END ...metric=minkowski, n_neighbors=9;, score=0.945 total time=   0.0s\n",
      "[CV 4/5] END ...metric=minkowski, n_neighbors=9;, score=0.890 total time=   0.0s\n",
      "[CV 5/5] END ...metric=minkowski, n_neighbors=9;, score=0.923 total time=   0.0s\n",
      "[CV 1/5] END ..metric=minkowski, n_neighbors=10;, score=0.956 total time=   0.0s\n",
      "[CV 2/5] END ..metric=minkowski, n_neighbors=10;, score=0.879 total time=   0.0s\n",
      "[CV 3/5] END ..metric=minkowski, n_neighbors=10;, score=0.945 total time=   0.0s\n",
      "[CV 4/5] END ..metric=minkowski, n_neighbors=10;, score=0.901 total time=   0.0s\n",
      "[CV 5/5] END ..metric=minkowski, n_neighbors=10;, score=0.890 total time=   0.0s\n",
      "[CV 1/5] END ..metric=minkowski, n_neighbors=11;, score=0.978 total time=   0.0s\n",
      "[CV 2/5] END ..metric=minkowski, n_neighbors=11;, score=0.879 total time=   0.0s\n",
      "[CV 3/5] END ..metric=minkowski, n_neighbors=11;, score=0.945 total time=   0.0s\n",
      "[CV 4/5] END ..metric=minkowski, n_neighbors=11;, score=0.890 total time=   0.0s\n",
      "[CV 5/5] END ..metric=minkowski, n_neighbors=11;, score=0.879 total time=   0.0s\n",
      "[CV 1/5] END ..metric=minkowski, n_neighbors=12;, score=0.978 total time=   0.0s\n",
      "[CV 2/5] END ..metric=minkowski, n_neighbors=12;, score=0.879 total time=   0.0s\n",
      "[CV 3/5] END ..metric=minkowski, n_neighbors=12;, score=0.956 total time=   0.0s\n",
      "[CV 4/5] END ..metric=minkowski, n_neighbors=12;, score=0.901 total time=   0.0s\n",
      "[CV 5/5] END ..metric=minkowski, n_neighbors=12;, score=0.879 total time=   0.0s\n",
      "[CV 1/5] END ..metric=minkowski, n_neighbors=13;, score=0.978 total time=   0.0s\n",
      "[CV 2/5] END ..metric=minkowski, n_neighbors=13;, score=0.879 total time=   0.0s\n",
      "[CV 3/5] END ..metric=minkowski, n_neighbors=13;, score=0.945 total time=   0.0s\n",
      "[CV 4/5] END ..metric=minkowski, n_neighbors=13;, score=0.890 total time=   0.0s\n",
      "[CV 5/5] END ..metric=minkowski, n_neighbors=13;, score=0.879 total time=   0.0s\n",
      "[CV 1/5] END ..metric=minkowski, n_neighbors=14;, score=0.978 total time=   0.0s\n",
      "[CV 2/5] END ..metric=minkowski, n_neighbors=14;, score=0.879 total time=   0.0s\n",
      "[CV 3/5] END ..metric=minkowski, n_neighbors=14;, score=0.945 total time=   0.0s\n",
      "[CV 4/5] END ..metric=minkowski, n_neighbors=14;, score=0.890 total time=   0.0s\n",
      "[CV 5/5] END ..metric=minkowski, n_neighbors=14;, score=0.879 total time=   0.0s\n",
      "[CV 1/5] END ......metric=cosine, n_neighbors=2;, score=0.923 total time=   0.0s\n",
      "[CV 2/5] END ......metric=cosine, n_neighbors=2;, score=0.868 total time=   0.0s\n",
      "[CV 3/5] END ......metric=cosine, n_neighbors=2;, score=0.934 total time=   0.0s\n",
      "[CV 4/5] END ......metric=cosine, n_neighbors=2;, score=0.846 total time=   0.0s\n",
      "[CV 5/5] END ......metric=cosine, n_neighbors=2;, score=0.912 total time=   0.0s\n",
      "[CV 1/5] END ......metric=cosine, n_neighbors=3;, score=0.945 total time=   0.0s\n",
      "[CV 2/5] END ......metric=cosine, n_neighbors=3;, score=0.912 total time=   0.0s\n",
      "[CV 3/5] END ......metric=cosine, n_neighbors=3;, score=0.945 total time=   0.0s\n",
      "[CV 4/5] END ......metric=cosine, n_neighbors=3;, score=0.879 total time=   0.0s\n",
      "[CV 5/5] END ......metric=cosine, n_neighbors=3;, score=0.912 total time=   0.0s\n",
      "[CV 1/5] END ......metric=cosine, n_neighbors=4;, score=0.945 total time=   0.0s\n",
      "[CV 2/5] END ......metric=cosine, n_neighbors=4;, score=0.901 total time=   0.0s\n",
      "[CV 3/5] END ......metric=cosine, n_neighbors=4;, score=0.923 total time=   0.0s\n",
      "[CV 4/5] END ......metric=cosine, n_neighbors=4;, score=0.879 total time=   0.0s\n",
      "[CV 5/5] END ......metric=cosine, n_neighbors=4;, score=0.923 total time=   0.0s\n",
      "[CV 1/5] END ......metric=cosine, n_neighbors=5;, score=0.945 total time=   0.0s\n",
      "[CV 2/5] END ......metric=cosine, n_neighbors=5;, score=0.912 total time=   0.0s\n",
      "[CV 3/5] END ......metric=cosine, n_neighbors=5;, score=0.934 total time=   0.0s\n",
      "[CV 4/5] END ......metric=cosine, n_neighbors=5;, score=0.846 total time=   0.0s\n",
      "[CV 5/5] END ......metric=cosine, n_neighbors=5;, score=0.923 total time=   0.0s\n",
      "[CV 1/5] END ......metric=cosine, n_neighbors=6;, score=0.956 total time=   0.0s\n",
      "[CV 2/5] END ......metric=cosine, n_neighbors=6;, score=0.912 total time=   0.0s\n",
      "[CV 3/5] END ......metric=cosine, n_neighbors=6;, score=0.945 total time=   0.0s\n",
      "[CV 4/5] END ......metric=cosine, n_neighbors=6;, score=0.879 total time=   0.0s\n",
      "[CV 5/5] END ......metric=cosine, n_neighbors=6;, score=0.912 total time=   0.0s\n",
      "[CV 1/5] END ......metric=cosine, n_neighbors=7;, score=0.956 total time=   0.0s\n",
      "[CV 2/5] END ......metric=cosine, n_neighbors=7;, score=0.901 total time=   0.0s\n",
      "[CV 3/5] END ......metric=cosine, n_neighbors=7;, score=0.945 total time=   0.0s\n",
      "[CV 4/5] END ......metric=cosine, n_neighbors=7;, score=0.879 total time=   0.0s\n",
      "[CV 5/5] END ......metric=cosine, n_neighbors=7;, score=0.923 total time=   0.0s\n",
      "[CV 1/5] END ......metric=cosine, n_neighbors=8;, score=0.956 total time=   0.0s\n",
      "[CV 2/5] END ......metric=cosine, n_neighbors=8;, score=0.901 total time=   0.0s\n",
      "[CV 3/5] END ......metric=cosine, n_neighbors=8;, score=0.945 total time=   0.0s\n",
      "[CV 4/5] END ......metric=cosine, n_neighbors=8;, score=0.879 total time=   0.0s\n",
      "[CV 5/5] END ......metric=cosine, n_neighbors=8;, score=0.912 total time=   0.0s\n",
      "[CV 1/5] END ......metric=cosine, n_neighbors=9;, score=0.956 total time=   0.0s\n",
      "[CV 2/5] END ......metric=cosine, n_neighbors=9;, score=0.890 total time=   0.0s\n",
      "[CV 3/5] END ......metric=cosine, n_neighbors=9;, score=0.956 total time=   0.0s\n",
      "[CV 4/5] END ......metric=cosine, n_neighbors=9;, score=0.879 total time=   0.0s\n",
      "[CV 5/5] END ......metric=cosine, n_neighbors=9;, score=0.912 total time=   0.0s\n",
      "[CV 1/5] END .....metric=cosine, n_neighbors=10;, score=0.956 total time=   0.0s\n",
      "[CV 2/5] END .....metric=cosine, n_neighbors=10;, score=0.890 total time=   0.0s\n",
      "[CV 3/5] END .....metric=cosine, n_neighbors=10;, score=0.934 total time=   0.0s\n",
      "[CV 4/5] END .....metric=cosine, n_neighbors=10;, score=0.868 total time=   0.0s\n",
      "[CV 5/5] END .....metric=cosine, n_neighbors=10;, score=0.912 total time=   0.0s\n",
      "[CV 1/5] END .....metric=cosine, n_neighbors=11;, score=0.956 total time=   0.0s\n",
      "[CV 2/5] END .....metric=cosine, n_neighbors=11;, score=0.890 total time=   0.0s\n",
      "[CV 3/5] END .....metric=cosine, n_neighbors=11;, score=0.967 total time=   0.0s\n",
      "[CV 4/5] END .....metric=cosine, n_neighbors=11;, score=0.879 total time=   0.0s\n",
      "[CV 5/5] END .....metric=cosine, n_neighbors=11;, score=0.912 total time=   0.0s\n",
      "[CV 1/5] END .....metric=cosine, n_neighbors=12;, score=0.956 total time=   0.0s\n",
      "[CV 2/5] END .....metric=cosine, n_neighbors=12;, score=0.890 total time=   0.0s\n",
      "[CV 3/5] END .....metric=cosine, n_neighbors=12;, score=0.956 total time=   0.0s\n",
      "[CV 4/5] END .....metric=cosine, n_neighbors=12;, score=0.868 total time=   0.0s\n",
      "[CV 5/5] END .....metric=cosine, n_neighbors=12;, score=0.901 total time=   0.0s\n",
      "[CV 1/5] END .....metric=cosine, n_neighbors=13;, score=0.967 total time=   0.0s\n",
      "[CV 2/5] END .....metric=cosine, n_neighbors=13;, score=0.890 total time=   0.0s\n",
      "[CV 3/5] END .....metric=cosine, n_neighbors=13;, score=0.956 total time=   0.0s\n",
      "[CV 4/5] END .....metric=cosine, n_neighbors=13;, score=0.857 total time=   0.0s\n",
      "[CV 5/5] END .....metric=cosine, n_neighbors=13;, score=0.901 total time=   0.0s\n",
      "[CV 1/5] END .....metric=cosine, n_neighbors=14;, score=0.956 total time=   0.0s\n",
      "[CV 2/5] END .....metric=cosine, n_neighbors=14;, score=0.901 total time=   0.0s\n",
      "[CV 3/5] END .....metric=cosine, n_neighbors=14;, score=0.956 total time=   0.0s\n",
      "[CV 4/5] END .....metric=cosine, n_neighbors=14;, score=0.857 total time=   0.0s\n",
      "[CV 5/5] END .....metric=cosine, n_neighbors=14;, score=0.890 total time=   0.0s\n"
     ]
    },
    {
     "data": {
      "text/html": [
       "<style>#sk-container-id-6 {color: black;background-color: white;}#sk-container-id-6 pre{padding: 0;}#sk-container-id-6 div.sk-toggleable {background-color: white;}#sk-container-id-6 label.sk-toggleable__label {cursor: pointer;display: block;width: 100%;margin-bottom: 0;padding: 0.3em;box-sizing: border-box;text-align: center;}#sk-container-id-6 label.sk-toggleable__label-arrow:before {content: \"▸\";float: left;margin-right: 0.25em;color: #696969;}#sk-container-id-6 label.sk-toggleable__label-arrow:hover:before {color: black;}#sk-container-id-6 div.sk-estimator:hover label.sk-toggleable__label-arrow:before {color: black;}#sk-container-id-6 div.sk-toggleable__content {max-height: 0;max-width: 0;overflow: hidden;text-align: left;background-color: #f0f8ff;}#sk-container-id-6 div.sk-toggleable__content pre {margin: 0.2em;color: black;border-radius: 0.25em;background-color: #f0f8ff;}#sk-container-id-6 input.sk-toggleable__control:checked~div.sk-toggleable__content {max-height: 200px;max-width: 100%;overflow: auto;}#sk-container-id-6 input.sk-toggleable__control:checked~label.sk-toggleable__label-arrow:before {content: \"▾\";}#sk-container-id-6 div.sk-estimator input.sk-toggleable__control:checked~label.sk-toggleable__label {background-color: #d4ebff;}#sk-container-id-6 div.sk-label input.sk-toggleable__control:checked~label.sk-toggleable__label {background-color: #d4ebff;}#sk-container-id-6 input.sk-hidden--visually {border: 0;clip: rect(1px 1px 1px 1px);clip: rect(1px, 1px, 1px, 1px);height: 1px;margin: -1px;overflow: hidden;padding: 0;position: absolute;width: 1px;}#sk-container-id-6 div.sk-estimator {font-family: monospace;background-color: #f0f8ff;border: 1px dotted black;border-radius: 0.25em;box-sizing: border-box;margin-bottom: 0.5em;}#sk-container-id-6 div.sk-estimator:hover {background-color: #d4ebff;}#sk-container-id-6 div.sk-parallel-item::after {content: \"\";width: 100%;border-bottom: 1px solid gray;flex-grow: 1;}#sk-container-id-6 div.sk-label:hover label.sk-toggleable__label {background-color: #d4ebff;}#sk-container-id-6 div.sk-serial::before {content: \"\";position: absolute;border-left: 1px solid gray;box-sizing: border-box;top: 0;bottom: 0;left: 50%;z-index: 0;}#sk-container-id-6 div.sk-serial {display: flex;flex-direction: column;align-items: center;background-color: white;padding-right: 0.2em;padding-left: 0.2em;position: relative;}#sk-container-id-6 div.sk-item {position: relative;z-index: 1;}#sk-container-id-6 div.sk-parallel {display: flex;align-items: stretch;justify-content: center;background-color: white;position: relative;}#sk-container-id-6 div.sk-item::before, #sk-container-id-6 div.sk-parallel-item::before {content: \"\";position: absolute;border-left: 1px solid gray;box-sizing: border-box;top: 0;bottom: 0;left: 50%;z-index: -1;}#sk-container-id-6 div.sk-parallel-item {display: flex;flex-direction: column;z-index: 1;position: relative;background-color: white;}#sk-container-id-6 div.sk-parallel-item:first-child::after {align-self: flex-end;width: 50%;}#sk-container-id-6 div.sk-parallel-item:last-child::after {align-self: flex-start;width: 50%;}#sk-container-id-6 div.sk-parallel-item:only-child::after {width: 0;}#sk-container-id-6 div.sk-dashed-wrapped {border: 1px dashed gray;margin: 0 0.4em 0.5em 0.4em;box-sizing: border-box;padding-bottom: 0.4em;background-color: white;}#sk-container-id-6 div.sk-label label {font-family: monospace;font-weight: bold;display: inline-block;line-height: 1.2em;}#sk-container-id-6 div.sk-label-container {text-align: center;}#sk-container-id-6 div.sk-container {/* jupyter's `normalize.less` sets `[hidden] { display: none; }` but bootstrap.min.css set `[hidden] { display: none !important; }` so we also need the `!important` here to be able to override the default hidden behavior on the sphinx rendered scikit-learn.org. See: https://github.com/scikit-learn/scikit-learn/issues/21755 */display: inline-block !important;position: relative;}#sk-container-id-6 div.sk-text-repr-fallback {display: none;}</style><div id=\"sk-container-id-6\" class=\"sk-top-container\"><div class=\"sk-text-repr-fallback\"><pre>GridSearchCV(estimator=KNeighborsClassifier(),\n",
       "             param_grid={&#x27;metric&#x27;: [&#x27;euclidean&#x27;, &#x27;minkowski&#x27;, &#x27;cosine&#x27;],\n",
       "                         &#x27;n_neighbors&#x27;: [2, 3, 4, 5, 6, 7, 8, 9, 10, 11, 12, 13,\n",
       "                                         14]},\n",
       "             scoring=&#x27;accuracy&#x27;, verbose=3)</pre><b>In a Jupyter environment, please rerun this cell to show the HTML representation or trust the notebook. <br />On GitHub, the HTML representation is unable to render, please try loading this page with nbviewer.org.</b></div><div class=\"sk-container\" hidden><div class=\"sk-item sk-dashed-wrapped\"><div class=\"sk-label-container\"><div class=\"sk-label sk-toggleable\"><input class=\"sk-toggleable__control sk-hidden--visually\" id=\"sk-estimator-id-16\" type=\"checkbox\" ><label for=\"sk-estimator-id-16\" class=\"sk-toggleable__label sk-toggleable__label-arrow\">GridSearchCV</label><div class=\"sk-toggleable__content\"><pre>GridSearchCV(estimator=KNeighborsClassifier(),\n",
       "             param_grid={&#x27;metric&#x27;: [&#x27;euclidean&#x27;, &#x27;minkowski&#x27;, &#x27;cosine&#x27;],\n",
       "                         &#x27;n_neighbors&#x27;: [2, 3, 4, 5, 6, 7, 8, 9, 10, 11, 12, 13,\n",
       "                                         14]},\n",
       "             scoring=&#x27;accuracy&#x27;, verbose=3)</pre></div></div></div><div class=\"sk-parallel\"><div class=\"sk-parallel-item\"><div class=\"sk-item\"><div class=\"sk-label-container\"><div class=\"sk-label sk-toggleable\"><input class=\"sk-toggleable__control sk-hidden--visually\" id=\"sk-estimator-id-17\" type=\"checkbox\" ><label for=\"sk-estimator-id-17\" class=\"sk-toggleable__label sk-toggleable__label-arrow\">estimator: KNeighborsClassifier</label><div class=\"sk-toggleable__content\"><pre>KNeighborsClassifier()</pre></div></div></div><div class=\"sk-serial\"><div class=\"sk-item\"><div class=\"sk-estimator sk-toggleable\"><input class=\"sk-toggleable__control sk-hidden--visually\" id=\"sk-estimator-id-18\" type=\"checkbox\" ><label for=\"sk-estimator-id-18\" class=\"sk-toggleable__label sk-toggleable__label-arrow\">KNeighborsClassifier</label><div class=\"sk-toggleable__content\"><pre>KNeighborsClassifier()</pre></div></div></div></div></div></div></div></div></div></div>"
      ],
      "text/plain": [
       "GridSearchCV(estimator=KNeighborsClassifier(),\n",
       "             param_grid={'metric': ['euclidean', 'minkowski', 'cosine'],\n",
       "                         'n_neighbors': [2, 3, 4, 5, 6, 7, 8, 9, 10, 11, 12, 13,\n",
       "                                         14]},\n",
       "             scoring='accuracy', verbose=3)"
      ]
     },
     "execution_count": 49,
     "metadata": {},
     "output_type": "execute_result"
    }
   ],
   "source": [
    "knn_clf_cv = GridSearchCV(knn_clf,param_grid=knn_params,scoring='accuracy',verbose=3)\n",
    "knn_clf_cv.fit(X_train,y_train)"
   ]
  },
  {
   "cell_type": "code",
   "execution_count": 50,
   "id": "8012ba3d-450c-40b6-9f5e-8ce5f1845809",
   "metadata": {},
   "outputs": [
    {
     "data": {
      "text/plain": [
       "{'metric': 'euclidean', 'n_neighbors': 9}"
      ]
     },
     "execution_count": 50,
     "metadata": {},
     "output_type": "execute_result"
    }
   ],
   "source": [
    "knn_clf_cv.best_params_"
   ]
  },
  {
   "cell_type": "code",
   "execution_count": 51,
   "id": "69192017-4452-4e9d-8bdc-5b8a282d1892",
   "metadata": {},
   "outputs": [
    {
     "data": {
      "text/plain": [
       "0.9274725274725274"
      ]
     },
     "execution_count": 51,
     "metadata": {},
     "output_type": "execute_result"
    }
   ],
   "source": [
    "knn_clf_cv.best_score_"
   ]
  },
  {
   "cell_type": "code",
   "execution_count": 52,
   "id": "4dfd3b06-3f6b-45a5-95e9-3205cff71f76",
   "metadata": {
    "scrolled": true
   },
   "outputs": [
    {
     "name": "stdout",
     "output_type": "stream",
     "text": [
      "              precision    recall  f1-score   support\n",
      "\n",
      "           B       0.95      0.99      0.97        71\n",
      "           M       0.97      0.91      0.94        43\n",
      "\n",
      "    accuracy                           0.96       114\n",
      "   macro avg       0.96      0.95      0.95       114\n",
      "weighted avg       0.96      0.96      0.96       114\n",
      "\n"
     ]
    }
   ],
   "source": [
    "y_pred = knn_clf_cv.predict(X_test)\n",
    "print(classification_report(y_test,y_pred))"
   ]
  },
  {
   "cell_type": "code",
   "execution_count": 53,
   "id": "a25c89e6-18f3-40af-bb1f-35aa71619960",
   "metadata": {},
   "outputs": [
    {
     "name": "stdout",
     "output_type": "stream",
     "text": [
      "              precision    recall  f1-score   support\n",
      "\n",
      "           B       0.93      0.97      0.95       286\n",
      "           M       0.94      0.87      0.90       169\n",
      "\n",
      "    accuracy                           0.93       455\n",
      "   macro avg       0.93      0.92      0.93       455\n",
      "weighted avg       0.93      0.93      0.93       455\n",
      "\n"
     ]
    }
   ],
   "source": [
    "y_pred_train = knn_clf_cv.predict(X_train)\n",
    "print(classification_report(y_train,y_pred_train))"
   ]
  },
  {
   "cell_type": "code",
   "execution_count": null,
   "id": "fca25e2f-90b4-42c6-b07e-e5a38fd964c2",
   "metadata": {},
   "outputs": [],
   "source": []
  },
  {
   "cell_type": "code",
   "execution_count": 54,
   "id": "030af2f3-bdc8-4e56-8dd4-6bcfb4fbb14c",
   "metadata": {},
   "outputs": [],
   "source": [
    "# knn için sıklıkla kullanılan parametreler => n_neighbors, metric \n",
    "knn_clf = KNeighborsClassifier()\n",
    "knn_params = {\n",
    "    'n_neighbors': [i for i in range(1,15)],\n",
    "    'metric': ['euclidean','minkowski','cosine']\n",
    "}"
   ]
  },
  {
   "cell_type": "code",
   "execution_count": 55,
   "id": "07811e36-6092-4730-8f94-b0ed7b12ef47",
   "metadata": {
    "scrolled": true
   },
   "outputs": [
    {
     "name": "stdout",
     "output_type": "stream",
     "text": [
      "Fitting 5 folds for each of 42 candidates, totalling 210 fits\n",
      "[CV 1/5] END ...metric=euclidean, n_neighbors=1;, score=0.945 total time=   0.0s\n",
      "[CV 2/5] END ...metric=euclidean, n_neighbors=1;, score=0.901 total time=   0.0s\n",
      "[CV 3/5] END ...metric=euclidean, n_neighbors=1;, score=0.934 total time=   0.0s\n",
      "[CV 4/5] END ...metric=euclidean, n_neighbors=1;, score=0.890 total time=   0.0s\n",
      "[CV 5/5] END ...metric=euclidean, n_neighbors=1;, score=0.901 total time=   0.0s\n",
      "[CV 1/5] END ...metric=euclidean, n_neighbors=2;, score=0.956 total time=   0.0s\n",
      "[CV 2/5] END ...metric=euclidean, n_neighbors=2;, score=0.901 total time=   0.0s\n",
      "[CV 3/5] END ...metric=euclidean, n_neighbors=2;, score=0.956 total time=   0.0s\n",
      "[CV 4/5] END ...metric=euclidean, n_neighbors=2;, score=0.901 total time=   0.0s\n",
      "[CV 5/5] END ...metric=euclidean, n_neighbors=2;, score=0.890 total time=   0.0s\n",
      "[CV 1/5] END ...metric=euclidean, n_neighbors=3;, score=0.945 total time=   0.0s\n",
      "[CV 2/5] END ...metric=euclidean, n_neighbors=3;, score=0.879 total time=   0.0s\n",
      "[CV 3/5] END ...metric=euclidean, n_neighbors=3;, score=0.978 total time=   0.0s\n",
      "[CV 4/5] END ...metric=euclidean, n_neighbors=3;, score=0.901 total time=   0.0s\n",
      "[CV 5/5] END ...metric=euclidean, n_neighbors=3;, score=0.901 total time=   0.0s\n",
      "[CV 1/5] END ...metric=euclidean, n_neighbors=4;, score=0.956 total time=   0.0s\n",
      "[CV 2/5] END ...metric=euclidean, n_neighbors=4;, score=0.890 total time=   0.0s\n",
      "[CV 3/5] END ...metric=euclidean, n_neighbors=4;, score=0.967 total time=   0.0s\n",
      "[CV 4/5] END ...metric=euclidean, n_neighbors=4;, score=0.890 total time=   0.0s\n",
      "[CV 5/5] END ...metric=euclidean, n_neighbors=4;, score=0.901 total time=   0.0s\n",
      "[CV 1/5] END ...metric=euclidean, n_neighbors=5;, score=0.934 total time=   0.0s\n",
      "[CV 2/5] END ...metric=euclidean, n_neighbors=5;, score=0.901 total time=   0.0s\n",
      "[CV 3/5] END ...metric=euclidean, n_neighbors=5;, score=0.956 total time=   0.0s\n",
      "[CV 4/5] END ...metric=euclidean, n_neighbors=5;, score=0.901 total time=   0.0s\n",
      "[CV 5/5] END ...metric=euclidean, n_neighbors=5;, score=0.923 total time=   0.0s\n",
      "[CV 1/5] END ...metric=euclidean, n_neighbors=6;, score=0.967 total time=   0.0s\n",
      "[CV 2/5] END ...metric=euclidean, n_neighbors=6;, score=0.879 total time=   0.0s\n",
      "[CV 3/5] END ...metric=euclidean, n_neighbors=6;, score=0.956 total time=   0.0s\n",
      "[CV 4/5] END ...metric=euclidean, n_neighbors=6;, score=0.868 total time=   0.0s\n",
      "[CV 5/5] END ...metric=euclidean, n_neighbors=6;, score=0.901 total time=   0.0s\n",
      "[CV 1/5] END ...metric=euclidean, n_neighbors=7;, score=0.989 total time=   0.0s\n",
      "[CV 2/5] END ...metric=euclidean, n_neighbors=7;, score=0.890 total time=   0.0s\n",
      "[CV 3/5] END ...metric=euclidean, n_neighbors=7;, score=0.945 total time=   0.0s\n",
      "[CV 4/5] END ...metric=euclidean, n_neighbors=7;, score=0.879 total time=   0.0s\n",
      "[CV 5/5] END ...metric=euclidean, n_neighbors=7;, score=0.923 total time=   0.0s\n",
      "[CV 1/5] END ...metric=euclidean, n_neighbors=8;, score=0.967 total time=   0.0s\n",
      "[CV 2/5] END ...metric=euclidean, n_neighbors=8;, score=0.879 total time=   0.0s\n",
      "[CV 3/5] END ...metric=euclidean, n_neighbors=8;, score=0.945 total time=   0.0s\n",
      "[CV 4/5] END ...metric=euclidean, n_neighbors=8;, score=0.890 total time=   0.0s\n",
      "[CV 5/5] END ...metric=euclidean, n_neighbors=8;, score=0.901 total time=   0.0s\n",
      "[CV 1/5] END ...metric=euclidean, n_neighbors=9;, score=0.989 total time=   0.0s\n",
      "[CV 2/5] END ...metric=euclidean, n_neighbors=9;, score=0.890 total time=   0.0s\n",
      "[CV 3/5] END ...metric=euclidean, n_neighbors=9;, score=0.945 total time=   0.0s\n",
      "[CV 4/5] END ...metric=euclidean, n_neighbors=9;, score=0.890 total time=   0.0s\n",
      "[CV 5/5] END ...metric=euclidean, n_neighbors=9;, score=0.923 total time=   0.0s\n",
      "[CV 1/5] END ..metric=euclidean, n_neighbors=10;, score=0.956 total time=   0.0s\n",
      "[CV 2/5] END ..metric=euclidean, n_neighbors=10;, score=0.879 total time=   0.0s\n",
      "[CV 3/5] END ..metric=euclidean, n_neighbors=10;, score=0.945 total time=   0.0s\n",
      "[CV 4/5] END ..metric=euclidean, n_neighbors=10;, score=0.901 total time=   0.0s\n",
      "[CV 5/5] END ..metric=euclidean, n_neighbors=10;, score=0.890 total time=   0.0s\n",
      "[CV 1/5] END ..metric=euclidean, n_neighbors=11;, score=0.978 total time=   0.0s\n",
      "[CV 2/5] END ..metric=euclidean, n_neighbors=11;, score=0.879 total time=   0.0s\n",
      "[CV 3/5] END ..metric=euclidean, n_neighbors=11;, score=0.945 total time=   0.0s\n",
      "[CV 4/5] END ..metric=euclidean, n_neighbors=11;, score=0.890 total time=   0.0s\n",
      "[CV 5/5] END ..metric=euclidean, n_neighbors=11;, score=0.879 total time=   0.0s\n",
      "[CV 1/5] END ..metric=euclidean, n_neighbors=12;, score=0.978 total time=   0.0s\n",
      "[CV 2/5] END ..metric=euclidean, n_neighbors=12;, score=0.879 total time=   0.0s\n",
      "[CV 3/5] END ..metric=euclidean, n_neighbors=12;, score=0.956 total time=   0.0s\n",
      "[CV 4/5] END ..metric=euclidean, n_neighbors=12;, score=0.901 total time=   0.0s\n",
      "[CV 5/5] END ..metric=euclidean, n_neighbors=12;, score=0.879 total time=   0.0s\n",
      "[CV 1/5] END ..metric=euclidean, n_neighbors=13;, score=0.978 total time=   0.0s\n",
      "[CV 2/5] END ..metric=euclidean, n_neighbors=13;, score=0.879 total time=   0.0s\n",
      "[CV 3/5] END ..metric=euclidean, n_neighbors=13;, score=0.945 total time=   0.0s\n",
      "[CV 4/5] END ..metric=euclidean, n_neighbors=13;, score=0.890 total time=   0.0s\n",
      "[CV 5/5] END ..metric=euclidean, n_neighbors=13;, score=0.879 total time=   0.0s\n",
      "[CV 1/5] END ..metric=euclidean, n_neighbors=14;, score=0.978 total time=   0.0s\n",
      "[CV 2/5] END ..metric=euclidean, n_neighbors=14;, score=0.879 total time=   0.0s\n",
      "[CV 3/5] END ..metric=euclidean, n_neighbors=14;, score=0.945 total time=   0.0s\n",
      "[CV 4/5] END ..metric=euclidean, n_neighbors=14;, score=0.890 total time=   0.0s\n",
      "[CV 5/5] END ..metric=euclidean, n_neighbors=14;, score=0.879 total time=   0.0s\n",
      "[CV 1/5] END ...metric=minkowski, n_neighbors=1;, score=0.945 total time=   0.0s\n",
      "[CV 2/5] END ...metric=minkowski, n_neighbors=1;, score=0.901 total time=   0.0s\n",
      "[CV 3/5] END ...metric=minkowski, n_neighbors=1;, score=0.934 total time=   0.0s\n",
      "[CV 4/5] END ...metric=minkowski, n_neighbors=1;, score=0.890 total time=   0.0s\n",
      "[CV 5/5] END ...metric=minkowski, n_neighbors=1;, score=0.901 total time=   0.0s\n",
      "[CV 1/5] END ...metric=minkowski, n_neighbors=2;, score=0.956 total time=   0.0s\n",
      "[CV 2/5] END ...metric=minkowski, n_neighbors=2;, score=0.901 total time=   0.0s\n",
      "[CV 3/5] END ...metric=minkowski, n_neighbors=2;, score=0.956 total time=   0.0s\n",
      "[CV 4/5] END ...metric=minkowski, n_neighbors=2;, score=0.901 total time=   0.0s\n",
      "[CV 5/5] END ...metric=minkowski, n_neighbors=2;, score=0.890 total time=   0.0s\n",
      "[CV 1/5] END ...metric=minkowski, n_neighbors=3;, score=0.945 total time=   0.0s\n",
      "[CV 2/5] END ...metric=minkowski, n_neighbors=3;, score=0.879 total time=   0.0s\n",
      "[CV 3/5] END ...metric=minkowski, n_neighbors=3;, score=0.978 total time=   0.0s\n",
      "[CV 4/5] END ...metric=minkowski, n_neighbors=3;, score=0.901 total time=   0.0s\n",
      "[CV 5/5] END ...metric=minkowski, n_neighbors=3;, score=0.901 total time=   0.0s\n",
      "[CV 1/5] END ...metric=minkowski, n_neighbors=4;, score=0.956 total time=   0.0s\n",
      "[CV 2/5] END ...metric=minkowski, n_neighbors=4;, score=0.890 total time=   0.0s\n",
      "[CV 3/5] END ...metric=minkowski, n_neighbors=4;, score=0.967 total time=   0.0s\n",
      "[CV 4/5] END ...metric=minkowski, n_neighbors=4;, score=0.890 total time=   0.0s\n",
      "[CV 5/5] END ...metric=minkowski, n_neighbors=4;, score=0.901 total time=   0.0s\n",
      "[CV 1/5] END ...metric=minkowski, n_neighbors=5;, score=0.934 total time=   0.0s\n",
      "[CV 2/5] END ...metric=minkowski, n_neighbors=5;, score=0.901 total time=   0.0s\n",
      "[CV 3/5] END ...metric=minkowski, n_neighbors=5;, score=0.956 total time=   0.0s\n",
      "[CV 4/5] END ...metric=minkowski, n_neighbors=5;, score=0.901 total time=   0.0s\n",
      "[CV 5/5] END ...metric=minkowski, n_neighbors=5;, score=0.923 total time=   0.0s\n",
      "[CV 1/5] END ...metric=minkowski, n_neighbors=6;, score=0.967 total time=   0.0s\n",
      "[CV 2/5] END ...metric=minkowski, n_neighbors=6;, score=0.879 total time=   0.0s\n",
      "[CV 3/5] END ...metric=minkowski, n_neighbors=6;, score=0.956 total time=   0.0s\n",
      "[CV 4/5] END ...metric=minkowski, n_neighbors=6;, score=0.868 total time=   0.0s\n",
      "[CV 5/5] END ...metric=minkowski, n_neighbors=6;, score=0.901 total time=   0.0s\n",
      "[CV 1/5] END ...metric=minkowski, n_neighbors=7;, score=0.989 total time=   0.0s\n",
      "[CV 2/5] END ...metric=minkowski, n_neighbors=7;, score=0.890 total time=   0.0s\n",
      "[CV 3/5] END ...metric=minkowski, n_neighbors=7;, score=0.945 total time=   0.0s\n",
      "[CV 4/5] END ...metric=minkowski, n_neighbors=7;, score=0.879 total time=   0.0s\n",
      "[CV 5/5] END ...metric=minkowski, n_neighbors=7;, score=0.923 total time=   0.0s\n",
      "[CV 1/5] END ...metric=minkowski, n_neighbors=8;, score=0.967 total time=   0.0s\n",
      "[CV 2/5] END ...metric=minkowski, n_neighbors=8;, score=0.879 total time=   0.0s\n",
      "[CV 3/5] END ...metric=minkowski, n_neighbors=8;, score=0.945 total time=   0.0s\n",
      "[CV 4/5] END ...metric=minkowski, n_neighbors=8;, score=0.890 total time=   0.0s\n",
      "[CV 5/5] END ...metric=minkowski, n_neighbors=8;, score=0.901 total time=   0.0s\n",
      "[CV 1/5] END ...metric=minkowski, n_neighbors=9;, score=0.989 total time=   0.0s\n",
      "[CV 2/5] END ...metric=minkowski, n_neighbors=9;, score=0.890 total time=   0.0s\n",
      "[CV 3/5] END ...metric=minkowski, n_neighbors=9;, score=0.945 total time=   0.0s\n",
      "[CV 4/5] END ...metric=minkowski, n_neighbors=9;, score=0.890 total time=   0.0s\n",
      "[CV 5/5] END ...metric=minkowski, n_neighbors=9;, score=0.923 total time=   0.0s\n",
      "[CV 1/5] END ..metric=minkowski, n_neighbors=10;, score=0.956 total time=   0.0s\n",
      "[CV 2/5] END ..metric=minkowski, n_neighbors=10;, score=0.879 total time=   0.0s\n",
      "[CV 3/5] END ..metric=minkowski, n_neighbors=10;, score=0.945 total time=   0.0s\n",
      "[CV 4/5] END ..metric=minkowski, n_neighbors=10;, score=0.901 total time=   0.0s\n",
      "[CV 5/5] END ..metric=minkowski, n_neighbors=10;, score=0.890 total time=   0.0s\n",
      "[CV 1/5] END ..metric=minkowski, n_neighbors=11;, score=0.978 total time=   0.0s\n",
      "[CV 2/5] END ..metric=minkowski, n_neighbors=11;, score=0.879 total time=   0.0s\n",
      "[CV 3/5] END ..metric=minkowski, n_neighbors=11;, score=0.945 total time=   0.0s\n",
      "[CV 4/5] END ..metric=minkowski, n_neighbors=11;, score=0.890 total time=   0.0s\n",
      "[CV 5/5] END ..metric=minkowski, n_neighbors=11;, score=0.879 total time=   0.0s\n",
      "[CV 1/5] END ..metric=minkowski, n_neighbors=12;, score=0.978 total time=   0.0s\n",
      "[CV 2/5] END ..metric=minkowski, n_neighbors=12;, score=0.879 total time=   0.0s\n",
      "[CV 3/5] END ..metric=minkowski, n_neighbors=12;, score=0.956 total time=   0.0s\n",
      "[CV 4/5] END ..metric=minkowski, n_neighbors=12;, score=0.901 total time=   0.0s\n",
      "[CV 5/5] END ..metric=minkowski, n_neighbors=12;, score=0.879 total time=   0.0s\n",
      "[CV 1/5] END ..metric=minkowski, n_neighbors=13;, score=0.978 total time=   0.0s\n",
      "[CV 2/5] END ..metric=minkowski, n_neighbors=13;, score=0.879 total time=   0.0s\n",
      "[CV 3/5] END ..metric=minkowski, n_neighbors=13;, score=0.945 total time=   0.0s\n",
      "[CV 4/5] END ..metric=minkowski, n_neighbors=13;, score=0.890 total time=   0.0s\n",
      "[CV 5/5] END ..metric=minkowski, n_neighbors=13;, score=0.879 total time=   0.0s\n",
      "[CV 1/5] END ..metric=minkowski, n_neighbors=14;, score=0.978 total time=   0.0s\n",
      "[CV 2/5] END ..metric=minkowski, n_neighbors=14;, score=0.879 total time=   0.0s\n",
      "[CV 3/5] END ..metric=minkowski, n_neighbors=14;, score=0.945 total time=   0.0s\n",
      "[CV 4/5] END ..metric=minkowski, n_neighbors=14;, score=0.890 total time=   0.0s\n",
      "[CV 5/5] END ..metric=minkowski, n_neighbors=14;, score=0.879 total time=   0.0s\n",
      "[CV 1/5] END ......metric=cosine, n_neighbors=1;, score=0.923 total time=   0.0s\n",
      "[CV 2/5] END ......metric=cosine, n_neighbors=1;, score=0.912 total time=   0.0s\n",
      "[CV 3/5] END ......metric=cosine, n_neighbors=1;, score=0.956 total time=   0.0s\n",
      "[CV 4/5] END ......metric=cosine, n_neighbors=1;, score=0.857 total time=   0.0s\n",
      "[CV 5/5] END ......metric=cosine, n_neighbors=1;, score=0.923 total time=   0.0s\n",
      "[CV 1/5] END ......metric=cosine, n_neighbors=2;, score=0.923 total time=   0.0s\n",
      "[CV 2/5] END ......metric=cosine, n_neighbors=2;, score=0.868 total time=   0.0s\n",
      "[CV 3/5] END ......metric=cosine, n_neighbors=2;, score=0.934 total time=   0.0s\n",
      "[CV 4/5] END ......metric=cosine, n_neighbors=2;, score=0.846 total time=   0.0s\n",
      "[CV 5/5] END ......metric=cosine, n_neighbors=2;, score=0.912 total time=   0.0s\n",
      "[CV 1/5] END ......metric=cosine, n_neighbors=3;, score=0.945 total time=   0.0s\n",
      "[CV 2/5] END ......metric=cosine, n_neighbors=3;, score=0.912 total time=   0.0s\n",
      "[CV 3/5] END ......metric=cosine, n_neighbors=3;, score=0.945 total time=   0.0s\n",
      "[CV 4/5] END ......metric=cosine, n_neighbors=3;, score=0.879 total time=   0.0s\n",
      "[CV 5/5] END ......metric=cosine, n_neighbors=3;, score=0.912 total time=   0.0s\n",
      "[CV 1/5] END ......metric=cosine, n_neighbors=4;, score=0.945 total time=   0.0s\n",
      "[CV 2/5] END ......metric=cosine, n_neighbors=4;, score=0.901 total time=   0.0s\n",
      "[CV 3/5] END ......metric=cosine, n_neighbors=4;, score=0.923 total time=   0.0s\n",
      "[CV 4/5] END ......metric=cosine, n_neighbors=4;, score=0.879 total time=   0.0s\n",
      "[CV 5/5] END ......metric=cosine, n_neighbors=4;, score=0.923 total time=   0.0s\n",
      "[CV 1/5] END ......metric=cosine, n_neighbors=5;, score=0.945 total time=   0.0s\n",
      "[CV 2/5] END ......metric=cosine, n_neighbors=5;, score=0.912 total time=   0.0s\n",
      "[CV 3/5] END ......metric=cosine, n_neighbors=5;, score=0.934 total time=   0.0s\n",
      "[CV 4/5] END ......metric=cosine, n_neighbors=5;, score=0.846 total time=   0.0s\n",
      "[CV 5/5] END ......metric=cosine, n_neighbors=5;, score=0.923 total time=   0.0s\n",
      "[CV 1/5] END ......metric=cosine, n_neighbors=6;, score=0.956 total time=   0.0s\n",
      "[CV 2/5] END ......metric=cosine, n_neighbors=6;, score=0.912 total time=   0.0s\n",
      "[CV 3/5] END ......metric=cosine, n_neighbors=6;, score=0.945 total time=   0.0s\n",
      "[CV 4/5] END ......metric=cosine, n_neighbors=6;, score=0.879 total time=   0.0s\n",
      "[CV 5/5] END ......metric=cosine, n_neighbors=6;, score=0.912 total time=   0.0s\n",
      "[CV 1/5] END ......metric=cosine, n_neighbors=7;, score=0.956 total time=   0.0s\n",
      "[CV 2/5] END ......metric=cosine, n_neighbors=7;, score=0.901 total time=   0.0s\n",
      "[CV 3/5] END ......metric=cosine, n_neighbors=7;, score=0.945 total time=   0.0s\n",
      "[CV 4/5] END ......metric=cosine, n_neighbors=7;, score=0.879 total time=   0.0s\n",
      "[CV 5/5] END ......metric=cosine, n_neighbors=7;, score=0.923 total time=   0.0s\n",
      "[CV 1/5] END ......metric=cosine, n_neighbors=8;, score=0.956 total time=   0.0s\n",
      "[CV 2/5] END ......metric=cosine, n_neighbors=8;, score=0.901 total time=   0.0s\n",
      "[CV 3/5] END ......metric=cosine, n_neighbors=8;, score=0.945 total time=   0.0s\n",
      "[CV 4/5] END ......metric=cosine, n_neighbors=8;, score=0.879 total time=   0.0s\n",
      "[CV 5/5] END ......metric=cosine, n_neighbors=8;, score=0.912 total time=   0.0s\n",
      "[CV 1/5] END ......metric=cosine, n_neighbors=9;, score=0.956 total time=   0.0s\n",
      "[CV 2/5] END ......metric=cosine, n_neighbors=9;, score=0.890 total time=   0.0s\n",
      "[CV 3/5] END ......metric=cosine, n_neighbors=9;, score=0.956 total time=   0.0s\n",
      "[CV 4/5] END ......metric=cosine, n_neighbors=9;, score=0.879 total time=   0.0s\n",
      "[CV 5/5] END ......metric=cosine, n_neighbors=9;, score=0.912 total time=   0.0s\n",
      "[CV 1/5] END .....metric=cosine, n_neighbors=10;, score=0.956 total time=   0.0s\n",
      "[CV 2/5] END .....metric=cosine, n_neighbors=10;, score=0.890 total time=   0.0s\n",
      "[CV 3/5] END .....metric=cosine, n_neighbors=10;, score=0.934 total time=   0.0s\n",
      "[CV 4/5] END .....metric=cosine, n_neighbors=10;, score=0.868 total time=   0.0s\n",
      "[CV 5/5] END .....metric=cosine, n_neighbors=10;, score=0.912 total time=   0.0s\n",
      "[CV 1/5] END .....metric=cosine, n_neighbors=11;, score=0.956 total time=   0.0s\n",
      "[CV 2/5] END .....metric=cosine, n_neighbors=11;, score=0.890 total time=   0.0s\n",
      "[CV 3/5] END .....metric=cosine, n_neighbors=11;, score=0.967 total time=   0.0s\n",
      "[CV 4/5] END .....metric=cosine, n_neighbors=11;, score=0.879 total time=   0.0s\n",
      "[CV 5/5] END .....metric=cosine, n_neighbors=11;, score=0.912 total time=   0.0s\n",
      "[CV 1/5] END .....metric=cosine, n_neighbors=12;, score=0.956 total time=   0.0s\n",
      "[CV 2/5] END .....metric=cosine, n_neighbors=12;, score=0.890 total time=   0.0s\n",
      "[CV 3/5] END .....metric=cosine, n_neighbors=12;, score=0.956 total time=   0.0s\n",
      "[CV 4/5] END .....metric=cosine, n_neighbors=12;, score=0.868 total time=   0.0s\n",
      "[CV 5/5] END .....metric=cosine, n_neighbors=12;, score=0.901 total time=   0.0s\n",
      "[CV 1/5] END .....metric=cosine, n_neighbors=13;, score=0.967 total time=   0.0s\n",
      "[CV 2/5] END .....metric=cosine, n_neighbors=13;, score=0.890 total time=   0.0s\n",
      "[CV 3/5] END .....metric=cosine, n_neighbors=13;, score=0.956 total time=   0.0s\n",
      "[CV 4/5] END .....metric=cosine, n_neighbors=13;, score=0.857 total time=   0.0s\n",
      "[CV 5/5] END .....metric=cosine, n_neighbors=13;, score=0.901 total time=   0.0s\n",
      "[CV 1/5] END .....metric=cosine, n_neighbors=14;, score=0.956 total time=   0.0s\n",
      "[CV 2/5] END .....metric=cosine, n_neighbors=14;, score=0.901 total time=   0.0s\n",
      "[CV 3/5] END .....metric=cosine, n_neighbors=14;, score=0.956 total time=   0.0s\n",
      "[CV 4/5] END .....metric=cosine, n_neighbors=14;, score=0.857 total time=   0.0s\n",
      "[CV 5/5] END .....metric=cosine, n_neighbors=14;, score=0.890 total time=   0.0s\n"
     ]
    },
    {
     "data": {
      "text/html": [
       "<style>#sk-container-id-7 {color: black;background-color: white;}#sk-container-id-7 pre{padding: 0;}#sk-container-id-7 div.sk-toggleable {background-color: white;}#sk-container-id-7 label.sk-toggleable__label {cursor: pointer;display: block;width: 100%;margin-bottom: 0;padding: 0.3em;box-sizing: border-box;text-align: center;}#sk-container-id-7 label.sk-toggleable__label-arrow:before {content: \"▸\";float: left;margin-right: 0.25em;color: #696969;}#sk-container-id-7 label.sk-toggleable__label-arrow:hover:before {color: black;}#sk-container-id-7 div.sk-estimator:hover label.sk-toggleable__label-arrow:before {color: black;}#sk-container-id-7 div.sk-toggleable__content {max-height: 0;max-width: 0;overflow: hidden;text-align: left;background-color: #f0f8ff;}#sk-container-id-7 div.sk-toggleable__content pre {margin: 0.2em;color: black;border-radius: 0.25em;background-color: #f0f8ff;}#sk-container-id-7 input.sk-toggleable__control:checked~div.sk-toggleable__content {max-height: 200px;max-width: 100%;overflow: auto;}#sk-container-id-7 input.sk-toggleable__control:checked~label.sk-toggleable__label-arrow:before {content: \"▾\";}#sk-container-id-7 div.sk-estimator input.sk-toggleable__control:checked~label.sk-toggleable__label {background-color: #d4ebff;}#sk-container-id-7 div.sk-label input.sk-toggleable__control:checked~label.sk-toggleable__label {background-color: #d4ebff;}#sk-container-id-7 input.sk-hidden--visually {border: 0;clip: rect(1px 1px 1px 1px);clip: rect(1px, 1px, 1px, 1px);height: 1px;margin: -1px;overflow: hidden;padding: 0;position: absolute;width: 1px;}#sk-container-id-7 div.sk-estimator {font-family: monospace;background-color: #f0f8ff;border: 1px dotted black;border-radius: 0.25em;box-sizing: border-box;margin-bottom: 0.5em;}#sk-container-id-7 div.sk-estimator:hover {background-color: #d4ebff;}#sk-container-id-7 div.sk-parallel-item::after {content: \"\";width: 100%;border-bottom: 1px solid gray;flex-grow: 1;}#sk-container-id-7 div.sk-label:hover label.sk-toggleable__label {background-color: #d4ebff;}#sk-container-id-7 div.sk-serial::before {content: \"\";position: absolute;border-left: 1px solid gray;box-sizing: border-box;top: 0;bottom: 0;left: 50%;z-index: 0;}#sk-container-id-7 div.sk-serial {display: flex;flex-direction: column;align-items: center;background-color: white;padding-right: 0.2em;padding-left: 0.2em;position: relative;}#sk-container-id-7 div.sk-item {position: relative;z-index: 1;}#sk-container-id-7 div.sk-parallel {display: flex;align-items: stretch;justify-content: center;background-color: white;position: relative;}#sk-container-id-7 div.sk-item::before, #sk-container-id-7 div.sk-parallel-item::before {content: \"\";position: absolute;border-left: 1px solid gray;box-sizing: border-box;top: 0;bottom: 0;left: 50%;z-index: -1;}#sk-container-id-7 div.sk-parallel-item {display: flex;flex-direction: column;z-index: 1;position: relative;background-color: white;}#sk-container-id-7 div.sk-parallel-item:first-child::after {align-self: flex-end;width: 50%;}#sk-container-id-7 div.sk-parallel-item:last-child::after {align-self: flex-start;width: 50%;}#sk-container-id-7 div.sk-parallel-item:only-child::after {width: 0;}#sk-container-id-7 div.sk-dashed-wrapped {border: 1px dashed gray;margin: 0 0.4em 0.5em 0.4em;box-sizing: border-box;padding-bottom: 0.4em;background-color: white;}#sk-container-id-7 div.sk-label label {font-family: monospace;font-weight: bold;display: inline-block;line-height: 1.2em;}#sk-container-id-7 div.sk-label-container {text-align: center;}#sk-container-id-7 div.sk-container {/* jupyter's `normalize.less` sets `[hidden] { display: none; }` but bootstrap.min.css set `[hidden] { display: none !important; }` so we also need the `!important` here to be able to override the default hidden behavior on the sphinx rendered scikit-learn.org. See: https://github.com/scikit-learn/scikit-learn/issues/21755 */display: inline-block !important;position: relative;}#sk-container-id-7 div.sk-text-repr-fallback {display: none;}</style><div id=\"sk-container-id-7\" class=\"sk-top-container\"><div class=\"sk-text-repr-fallback\"><pre>GridSearchCV(estimator=KNeighborsClassifier(),\n",
       "             param_grid={&#x27;metric&#x27;: [&#x27;euclidean&#x27;, &#x27;minkowski&#x27;, &#x27;cosine&#x27;],\n",
       "                         &#x27;n_neighbors&#x27;: [1, 2, 3, 4, 5, 6, 7, 8, 9, 10, 11, 12,\n",
       "                                         13, 14]},\n",
       "             scoring=&#x27;accuracy&#x27;, verbose=3)</pre><b>In a Jupyter environment, please rerun this cell to show the HTML representation or trust the notebook. <br />On GitHub, the HTML representation is unable to render, please try loading this page with nbviewer.org.</b></div><div class=\"sk-container\" hidden><div class=\"sk-item sk-dashed-wrapped\"><div class=\"sk-label-container\"><div class=\"sk-label sk-toggleable\"><input class=\"sk-toggleable__control sk-hidden--visually\" id=\"sk-estimator-id-19\" type=\"checkbox\" ><label for=\"sk-estimator-id-19\" class=\"sk-toggleable__label sk-toggleable__label-arrow\">GridSearchCV</label><div class=\"sk-toggleable__content\"><pre>GridSearchCV(estimator=KNeighborsClassifier(),\n",
       "             param_grid={&#x27;metric&#x27;: [&#x27;euclidean&#x27;, &#x27;minkowski&#x27;, &#x27;cosine&#x27;],\n",
       "                         &#x27;n_neighbors&#x27;: [1, 2, 3, 4, 5, 6, 7, 8, 9, 10, 11, 12,\n",
       "                                         13, 14]},\n",
       "             scoring=&#x27;accuracy&#x27;, verbose=3)</pre></div></div></div><div class=\"sk-parallel\"><div class=\"sk-parallel-item\"><div class=\"sk-item\"><div class=\"sk-label-container\"><div class=\"sk-label sk-toggleable\"><input class=\"sk-toggleable__control sk-hidden--visually\" id=\"sk-estimator-id-20\" type=\"checkbox\" ><label for=\"sk-estimator-id-20\" class=\"sk-toggleable__label sk-toggleable__label-arrow\">estimator: KNeighborsClassifier</label><div class=\"sk-toggleable__content\"><pre>KNeighborsClassifier()</pre></div></div></div><div class=\"sk-serial\"><div class=\"sk-item\"><div class=\"sk-estimator sk-toggleable\"><input class=\"sk-toggleable__control sk-hidden--visually\" id=\"sk-estimator-id-21\" type=\"checkbox\" ><label for=\"sk-estimator-id-21\" class=\"sk-toggleable__label sk-toggleable__label-arrow\">KNeighborsClassifier</label><div class=\"sk-toggleable__content\"><pre>KNeighborsClassifier()</pre></div></div></div></div></div></div></div></div></div></div>"
      ],
      "text/plain": [
       "GridSearchCV(estimator=KNeighborsClassifier(),\n",
       "             param_grid={'metric': ['euclidean', 'minkowski', 'cosine'],\n",
       "                         'n_neighbors': [1, 2, 3, 4, 5, 6, 7, 8, 9, 10, 11, 12,\n",
       "                                         13, 14]},\n",
       "             scoring='accuracy', verbose=3)"
      ]
     },
     "execution_count": 55,
     "metadata": {},
     "output_type": "execute_result"
    }
   ],
   "source": [
    "knn_clf_cv = GridSearchCV(knn_clf,param_grid=knn_params,scoring='accuracy',verbose=3)\n",
    "knn_clf_cv.fit(X_train,y_train)"
   ]
  },
  {
   "cell_type": "code",
   "execution_count": 56,
   "id": "2019d779-7596-4ff6-b143-cdbbb0f4f16a",
   "metadata": {},
   "outputs": [
    {
     "data": {
      "text/plain": [
       "{'metric': 'euclidean', 'n_neighbors': 9}"
      ]
     },
     "execution_count": 56,
     "metadata": {},
     "output_type": "execute_result"
    }
   ],
   "source": [
    "knn_clf_cv.best_params_"
   ]
  },
  {
   "cell_type": "code",
   "execution_count": 57,
   "id": "3d3fb2ea-7018-49db-9ae8-60855cc632ea",
   "metadata": {},
   "outputs": [
    {
     "data": {
      "text/plain": [
       "0.9274725274725274"
      ]
     },
     "execution_count": 57,
     "metadata": {},
     "output_type": "execute_result"
    }
   ],
   "source": [
    "knn_clf_cv.best_score_"
   ]
  },
  {
   "cell_type": "code",
   "execution_count": 58,
   "id": "0ddbe582-ae02-47db-8294-d4d618249849",
   "metadata": {
    "scrolled": true
   },
   "outputs": [
    {
     "name": "stdout",
     "output_type": "stream",
     "text": [
      "              precision    recall  f1-score   support\n",
      "\n",
      "           B       0.95      0.99      0.97        71\n",
      "           M       0.97      0.91      0.94        43\n",
      "\n",
      "    accuracy                           0.96       114\n",
      "   macro avg       0.96      0.95      0.95       114\n",
      "weighted avg       0.96      0.96      0.96       114\n",
      "\n"
     ]
    }
   ],
   "source": [
    "y_pred = knn_clf_cv.predict(X_test)\n",
    "print(classification_report(y_test,y_pred))"
   ]
  },
  {
   "cell_type": "code",
   "execution_count": 59,
   "id": "ce55c13a-f4e0-4ce6-a1b3-db48b048a40c",
   "metadata": {},
   "outputs": [
    {
     "name": "stdout",
     "output_type": "stream",
     "text": [
      "              precision    recall  f1-score   support\n",
      "\n",
      "           B       0.93      0.97      0.95       286\n",
      "           M       0.94      0.87      0.90       169\n",
      "\n",
      "    accuracy                           0.93       455\n",
      "   macro avg       0.93      0.92      0.93       455\n",
      "weighted avg       0.93      0.93      0.93       455\n",
      "\n"
     ]
    }
   ],
   "source": [
    "y_pred_train = knn_clf_cv.predict(X_train)\n",
    "print(classification_report(y_train,y_pred_train))"
   ]
  },
  {
   "cell_type": "markdown",
   "id": "6d572a21-f985-48e3-aff4-0d0ec7130848",
   "metadata": {},
   "source": [
    "SONUÇ:\n",
    "metrik=> manhattan, k => (1) 1-15 olduğunda veri setimiz ezberliyor\n",
    "k değer aralığı 2-15'e alındığında , {'metric': 'manhattan', 'n_neighbors': 5}   95 , 95 cv=> 93.6\n",
    "manhattan metriklerden çıkarıldığında {'metric': 'euclidean', 'n_neighbors': 9}  93 96  cv=>92.7\n",
    "manhattan çıkarılıp, k 1-15 aralığında {'metric': 'euclidean', 'n_neighbors': 9}"
   ]
  },
  {
   "cell_type": "code",
   "execution_count": null,
   "id": "c6e7f37c-c5a2-42c7-90fb-af05fdc6114a",
   "metadata": {},
   "outputs": [],
   "source": []
  },
  {
   "cell_type": "markdown",
   "id": "5e57ea02-91e6-4d82-8801-98470c19b026",
   "metadata": {},
   "source": [
    "# KNN ile Regresyon"
   ]
  },
  {
   "cell_type": "code",
   "execution_count": null,
   "id": "9ecaa75b-5683-4f02-b09f-cfa18ecf6f2d",
   "metadata": {},
   "outputs": [],
   "source": [
    "df2 = pd.read_csv('./Data/insurance.csv')\n",
    "df2"
   ]
  },
  {
   "cell_type": "code",
   "execution_count": null,
   "id": "94647e87-14c4-4c9f-8754-7aa5a62604dd",
   "metadata": {},
   "outputs": [],
   "source": [
    "df2.info()"
   ]
  },
  {
   "cell_type": "code",
   "execution_count": null,
   "id": "4ba75317-f6c7-4588-a492-52a89b394975",
   "metadata": {},
   "outputs": [],
   "source": [
    "df2.describe().T"
   ]
  },
  {
   "cell_type": "code",
   "execution_count": null,
   "id": "f705dde2-0c52-4331-ae3e-df7a52f5441e",
   "metadata": {},
   "outputs": [],
   "source": [
    "df2.isnull().sum()"
   ]
  },
  {
   "cell_type": "code",
   "execution_count": 66,
   "id": "8c7f8b72-9137-48e4-ab50-c1dfacddb02e",
   "metadata": {},
   "outputs": [],
   "source": [
    "df2_encoded = pd.get_dummies(df2,columns=['sex','smoker','region'],dtype=np.int64)"
   ]
  },
  {
   "cell_type": "code",
   "execution_count": 67,
   "id": "f5eb4bae-7712-4780-a869-f344fb8ef9e5",
   "metadata": {},
   "outputs": [
    {
     "name": "stdout",
     "output_type": "stream",
     "text": [
      "<class 'pandas.core.frame.DataFrame'>\n",
      "RangeIndex: 1338 entries, 0 to 1337\n",
      "Data columns (total 12 columns):\n",
      " #   Column            Non-Null Count  Dtype  \n",
      "---  ------            --------------  -----  \n",
      " 0   age               1338 non-null   int64  \n",
      " 1   bmi               1338 non-null   float64\n",
      " 2   children          1338 non-null   int64  \n",
      " 3   charges           1338 non-null   float64\n",
      " 4   sex_female        1338 non-null   int64  \n",
      " 5   sex_male          1338 non-null   int64  \n",
      " 6   smoker_no         1338 non-null   int64  \n",
      " 7   smoker_yes        1338 non-null   int64  \n",
      " 8   region_northeast  1338 non-null   int64  \n",
      " 9   region_northwest  1338 non-null   int64  \n",
      " 10  region_southeast  1338 non-null   int64  \n",
      " 11  region_southwest  1338 non-null   int64  \n",
      "dtypes: float64(2), int64(10)\n",
      "memory usage: 125.6 KB\n"
     ]
    }
   ],
   "source": [
    "df2_encoded.info()"
   ]
  },
  {
   "cell_type": "code",
   "execution_count": 69,
   "id": "6358fa73-d15e-4675-afae-bd2722bea011",
   "metadata": {},
   "outputs": [],
   "source": [
    "X2 = df2_encoded.drop(columns=['charges'])\n",
    "y2 = df2_encoded['charges']"
   ]
  },
  {
   "cell_type": "code",
   "execution_count": 71,
   "id": "a9e7e115-69b4-46d0-827b-52fc33f1963e",
   "metadata": {},
   "outputs": [],
   "source": [
    "X2_train,X2_test,y2_train,y2_test = train_test_split(X2,y2,train_size=0.8,random_state=42)"
   ]
  },
  {
   "cell_type": "code",
   "execution_count": 72,
   "id": "71041261-31fe-466b-a28a-6621f8083b99",
   "metadata": {},
   "outputs": [],
   "source": [
    "# knn için sıklıkla kullanılan parametreler => n_neighbors, metric \n",
    "knn_reg = KNeighborsRegressor()\n",
    "knn_reg_params = {\n",
    "    'n_neighbors': [i for i in range(1,15)],\n",
    "    'metric': ['euclidean','minkowski','manhattan','cosine']\n",
    "}"
   ]
  },
  {
   "cell_type": "code",
   "execution_count": 75,
   "id": "23f98213-535e-4526-bd28-a3c6cfc6204d",
   "metadata": {
    "scrolled": true
   },
   "outputs": [
    {
     "name": "stdout",
     "output_type": "stream",
     "text": [
      "Fitting 5 folds for each of 56 candidates, totalling 280 fits\n",
      "[CV 1/5] END ..metric=euclidean, n_neighbors=1;, score=-0.118 total time=   0.0s\n",
      "[CV 2/5] END ...metric=euclidean, n_neighbors=1;, score=0.064 total time=   0.0s\n",
      "[CV 3/5] END ...metric=euclidean, n_neighbors=1;, score=0.216 total time=   0.0s\n",
      "[CV 4/5] END ..metric=euclidean, n_neighbors=1;, score=-0.037 total time=   0.0s\n",
      "[CV 5/5] END ..metric=euclidean, n_neighbors=1;, score=-0.045 total time=   0.0s\n",
      "[CV 1/5] END ...metric=euclidean, n_neighbors=2;, score=0.107 total time=   0.0s\n",
      "[CV 2/5] END ...metric=euclidean, n_neighbors=2;, score=0.229 total time=   0.0s\n",
      "[CV 3/5] END ...metric=euclidean, n_neighbors=2;, score=0.340 total time=   0.0s\n",
      "[CV 4/5] END ...metric=euclidean, n_neighbors=2;, score=0.131 total time=   0.0s\n",
      "[CV 5/5] END ...metric=euclidean, n_neighbors=2;, score=0.119 total time=   0.0s\n",
      "[CV 1/5] END ...metric=euclidean, n_neighbors=3;, score=0.164 total time=   0.0s\n",
      "[CV 2/5] END ...metric=euclidean, n_neighbors=3;, score=0.224 total time=   0.0s\n",
      "[CV 3/5] END ...metric=euclidean, n_neighbors=3;, score=0.301 total time=   0.0s\n",
      "[CV 4/5] END ...metric=euclidean, n_neighbors=3;, score=0.176 total time=   0.0s\n",
      "[CV 5/5] END ...metric=euclidean, n_neighbors=3;, score=0.120 total time=   0.0s\n",
      "[CV 1/5] END ...metric=euclidean, n_neighbors=4;, score=0.160 total time=   0.0s\n",
      "[CV 2/5] END ...metric=euclidean, n_neighbors=4;, score=0.274 total time=   0.0s\n",
      "[CV 3/5] END ...metric=euclidean, n_neighbors=4;, score=0.261 total time=   0.0s\n",
      "[CV 4/5] END ...metric=euclidean, n_neighbors=4;, score=0.202 total time=   0.0s\n",
      "[CV 5/5] END ...metric=euclidean, n_neighbors=4;, score=0.179 total time=   0.0s\n",
      "[CV 1/5] END ...metric=euclidean, n_neighbors=5;, score=0.191 total time=   0.0s\n",
      "[CV 2/5] END ...metric=euclidean, n_neighbors=5;, score=0.302 total time=   0.0s\n",
      "[CV 3/5] END ...metric=euclidean, n_neighbors=5;, score=0.263 total time=   0.0s\n",
      "[CV 4/5] END ...metric=euclidean, n_neighbors=5;, score=0.149 total time=   0.0s\n",
      "[CV 5/5] END ...metric=euclidean, n_neighbors=5;, score=0.137 total time=   0.0s\n",
      "[CV 1/5] END ...metric=euclidean, n_neighbors=6;, score=0.233 total time=   0.0s\n",
      "[CV 2/5] END ...metric=euclidean, n_neighbors=6;, score=0.290 total time=   0.0s\n",
      "[CV 3/5] END ...metric=euclidean, n_neighbors=6;, score=0.242 total time=   0.0s\n",
      "[CV 4/5] END ...metric=euclidean, n_neighbors=6;, score=0.155 total time=   0.0s\n",
      "[CV 5/5] END ...metric=euclidean, n_neighbors=6;, score=0.189 total time=   0.0s\n",
      "[CV 1/5] END ...metric=euclidean, n_neighbors=7;, score=0.213 total time=   0.0s\n",
      "[CV 2/5] END ...metric=euclidean, n_neighbors=7;, score=0.285 total time=   0.0s\n",
      "[CV 3/5] END ...metric=euclidean, n_neighbors=7;, score=0.213 total time=   0.0s\n",
      "[CV 4/5] END ...metric=euclidean, n_neighbors=7;, score=0.138 total time=   0.0s\n",
      "[CV 5/5] END ...metric=euclidean, n_neighbors=7;, score=0.206 total time=   0.0s\n",
      "[CV 1/5] END ...metric=euclidean, n_neighbors=8;, score=0.202 total time=   0.0s\n",
      "[CV 2/5] END ...metric=euclidean, n_neighbors=8;, score=0.274 total time=   0.0s\n",
      "[CV 3/5] END ...metric=euclidean, n_neighbors=8;, score=0.199 total time=   0.0s\n",
      "[CV 4/5] END ...metric=euclidean, n_neighbors=8;, score=0.148 total time=   0.0s\n",
      "[CV 5/5] END ...metric=euclidean, n_neighbors=8;, score=0.227 total time=   0.0s\n",
      "[CV 1/5] END ...metric=euclidean, n_neighbors=9;, score=0.197 total time=   0.0s\n",
      "[CV 2/5] END ...metric=euclidean, n_neighbors=9;, score=0.263 total time=   0.0s\n",
      "[CV 3/5] END ...metric=euclidean, n_neighbors=9;, score=0.213 total time=   0.0s\n",
      "[CV 4/5] END ...metric=euclidean, n_neighbors=9;, score=0.145 total time=   0.0s\n",
      "[CV 5/5] END ...metric=euclidean, n_neighbors=9;, score=0.212 total time=   0.0s\n",
      "[CV 1/5] END ..metric=euclidean, n_neighbors=10;, score=0.187 total time=   0.0s\n",
      "[CV 2/5] END ..metric=euclidean, n_neighbors=10;, score=0.248 total time=   0.0s\n",
      "[CV 3/5] END ..metric=euclidean, n_neighbors=10;, score=0.244 total time=   0.0s\n",
      "[CV 4/5] END ..metric=euclidean, n_neighbors=10;, score=0.142 total time=   0.0s\n",
      "[CV 5/5] END ..metric=euclidean, n_neighbors=10;, score=0.222 total time=   0.0s\n",
      "[CV 1/5] END ..metric=euclidean, n_neighbors=11;, score=0.197 total time=   0.0s\n",
      "[CV 2/5] END ..metric=euclidean, n_neighbors=11;, score=0.252 total time=   0.0s\n",
      "[CV 3/5] END ..metric=euclidean, n_neighbors=11;, score=0.229 total time=   0.0s\n",
      "[CV 4/5] END ..metric=euclidean, n_neighbors=11;, score=0.149 total time=   0.0s\n",
      "[CV 5/5] END ..metric=euclidean, n_neighbors=11;, score=0.213 total time=   0.0s\n",
      "[CV 1/5] END ..metric=euclidean, n_neighbors=12;, score=0.195 total time=   0.0s\n",
      "[CV 2/5] END ..metric=euclidean, n_neighbors=12;, score=0.219 total time=   0.0s\n",
      "[CV 3/5] END ..metric=euclidean, n_neighbors=12;, score=0.202 total time=   0.0s\n",
      "[CV 4/5] END ..metric=euclidean, n_neighbors=12;, score=0.154 total time=   0.0s\n",
      "[CV 5/5] END ..metric=euclidean, n_neighbors=12;, score=0.208 total time=   0.0s\n",
      "[CV 1/5] END ..metric=euclidean, n_neighbors=13;, score=0.185 total time=   0.0s\n",
      "[CV 2/5] END ..metric=euclidean, n_neighbors=13;, score=0.215 total time=   0.0s\n",
      "[CV 3/5] END ..metric=euclidean, n_neighbors=13;, score=0.194 total time=   0.0s\n",
      "[CV 4/5] END ..metric=euclidean, n_neighbors=13;, score=0.147 total time=   0.0s\n",
      "[CV 5/5] END ..metric=euclidean, n_neighbors=13;, score=0.229 total time=   0.0s\n",
      "[CV 1/5] END ..metric=euclidean, n_neighbors=14;, score=0.185 total time=   0.0s\n",
      "[CV 2/5] END ..metric=euclidean, n_neighbors=14;, score=0.209 total time=   0.0s\n",
      "[CV 3/5] END ..metric=euclidean, n_neighbors=14;, score=0.191 total time=   0.0s\n",
      "[CV 4/5] END ..metric=euclidean, n_neighbors=14;, score=0.163 total time=   0.0s\n",
      "[CV 5/5] END ..metric=euclidean, n_neighbors=14;, score=0.231 total time=   0.0s\n",
      "[CV 1/5] END ..metric=minkowski, n_neighbors=1;, score=-0.118 total time=   0.0s\n",
      "[CV 2/5] END ...metric=minkowski, n_neighbors=1;, score=0.064 total time=   0.0s\n",
      "[CV 3/5] END ...metric=minkowski, n_neighbors=1;, score=0.216 total time=   0.0s\n",
      "[CV 4/5] END ..metric=minkowski, n_neighbors=1;, score=-0.037 total time=   0.0s\n",
      "[CV 5/5] END ..metric=minkowski, n_neighbors=1;, score=-0.045 total time=   0.0s\n",
      "[CV 1/5] END ...metric=minkowski, n_neighbors=2;, score=0.107 total time=   0.0s\n",
      "[CV 2/5] END ...metric=minkowski, n_neighbors=2;, score=0.229 total time=   0.0s\n",
      "[CV 3/5] END ...metric=minkowski, n_neighbors=2;, score=0.340 total time=   0.0s\n",
      "[CV 4/5] END ...metric=minkowski, n_neighbors=2;, score=0.131 total time=   0.0s\n",
      "[CV 5/5] END ...metric=minkowski, n_neighbors=2;, score=0.119 total time=   0.0s\n",
      "[CV 1/5] END ...metric=minkowski, n_neighbors=3;, score=0.164 total time=   0.0s\n",
      "[CV 2/5] END ...metric=minkowski, n_neighbors=3;, score=0.224 total time=   0.0s\n",
      "[CV 3/5] END ...metric=minkowski, n_neighbors=3;, score=0.301 total time=   0.0s\n",
      "[CV 4/5] END ...metric=minkowski, n_neighbors=3;, score=0.176 total time=   0.0s\n",
      "[CV 5/5] END ...metric=minkowski, n_neighbors=3;, score=0.120 total time=   0.0s\n",
      "[CV 1/5] END ...metric=minkowski, n_neighbors=4;, score=0.160 total time=   0.0s\n",
      "[CV 2/5] END ...metric=minkowski, n_neighbors=4;, score=0.274 total time=   0.0s\n",
      "[CV 3/5] END ...metric=minkowski, n_neighbors=4;, score=0.261 total time=   0.0s\n",
      "[CV 4/5] END ...metric=minkowski, n_neighbors=4;, score=0.202 total time=   0.0s\n",
      "[CV 5/5] END ...metric=minkowski, n_neighbors=4;, score=0.179 total time=   0.0s\n",
      "[CV 1/5] END ...metric=minkowski, n_neighbors=5;, score=0.191 total time=   0.0s\n",
      "[CV 2/5] END ...metric=minkowski, n_neighbors=5;, score=0.302 total time=   0.0s\n",
      "[CV 3/5] END ...metric=minkowski, n_neighbors=5;, score=0.263 total time=   0.0s\n",
      "[CV 4/5] END ...metric=minkowski, n_neighbors=5;, score=0.149 total time=   0.0s\n",
      "[CV 5/5] END ...metric=minkowski, n_neighbors=5;, score=0.137 total time=   0.0s\n",
      "[CV 1/5] END ...metric=minkowski, n_neighbors=6;, score=0.233 total time=   0.0s\n",
      "[CV 2/5] END ...metric=minkowski, n_neighbors=6;, score=0.290 total time=   0.0s\n",
      "[CV 3/5] END ...metric=minkowski, n_neighbors=6;, score=0.242 total time=   0.0s\n",
      "[CV 4/5] END ...metric=minkowski, n_neighbors=6;, score=0.155 total time=   0.0s\n",
      "[CV 5/5] END ...metric=minkowski, n_neighbors=6;, score=0.189 total time=   0.0s\n",
      "[CV 1/5] END ...metric=minkowski, n_neighbors=7;, score=0.213 total time=   0.0s\n",
      "[CV 2/5] END ...metric=minkowski, n_neighbors=7;, score=0.285 total time=   0.0s\n",
      "[CV 3/5] END ...metric=minkowski, n_neighbors=7;, score=0.213 total time=   0.0s\n",
      "[CV 4/5] END ...metric=minkowski, n_neighbors=7;, score=0.138 total time=   0.0s\n",
      "[CV 5/5] END ...metric=minkowski, n_neighbors=7;, score=0.206 total time=   0.0s\n",
      "[CV 1/5] END ...metric=minkowski, n_neighbors=8;, score=0.202 total time=   0.0s\n",
      "[CV 2/5] END ...metric=minkowski, n_neighbors=8;, score=0.274 total time=   0.0s\n",
      "[CV 3/5] END ...metric=minkowski, n_neighbors=8;, score=0.199 total time=   0.0s\n",
      "[CV 4/5] END ...metric=minkowski, n_neighbors=8;, score=0.148 total time=   0.0s\n",
      "[CV 5/5] END ...metric=minkowski, n_neighbors=8;, score=0.227 total time=   0.0s\n",
      "[CV 1/5] END ...metric=minkowski, n_neighbors=9;, score=0.197 total time=   0.0s\n",
      "[CV 2/5] END ...metric=minkowski, n_neighbors=9;, score=0.263 total time=   0.0s\n",
      "[CV 3/5] END ...metric=minkowski, n_neighbors=9;, score=0.213 total time=   0.0s\n",
      "[CV 4/5] END ...metric=minkowski, n_neighbors=9;, score=0.145 total time=   0.0s\n",
      "[CV 5/5] END ...metric=minkowski, n_neighbors=9;, score=0.212 total time=   0.0s\n",
      "[CV 1/5] END ..metric=minkowski, n_neighbors=10;, score=0.187 total time=   0.0s\n",
      "[CV 2/5] END ..metric=minkowski, n_neighbors=10;, score=0.248 total time=   0.0s\n",
      "[CV 3/5] END ..metric=minkowski, n_neighbors=10;, score=0.244 total time=   0.0s\n",
      "[CV 4/5] END ..metric=minkowski, n_neighbors=10;, score=0.142 total time=   0.0s\n",
      "[CV 5/5] END ..metric=minkowski, n_neighbors=10;, score=0.222 total time=   0.0s\n",
      "[CV 1/5] END ..metric=minkowski, n_neighbors=11;, score=0.197 total time=   0.0s\n",
      "[CV 2/5] END ..metric=minkowski, n_neighbors=11;, score=0.252 total time=   0.0s\n",
      "[CV 3/5] END ..metric=minkowski, n_neighbors=11;, score=0.229 total time=   0.0s\n",
      "[CV 4/5] END ..metric=minkowski, n_neighbors=11;, score=0.149 total time=   0.0s\n",
      "[CV 5/5] END ..metric=minkowski, n_neighbors=11;, score=0.213 total time=   0.0s\n",
      "[CV 1/5] END ..metric=minkowski, n_neighbors=12;, score=0.195 total time=   0.0s\n",
      "[CV 2/5] END ..metric=minkowski, n_neighbors=12;, score=0.219 total time=   0.0s\n",
      "[CV 3/5] END ..metric=minkowski, n_neighbors=12;, score=0.202 total time=   0.0s\n",
      "[CV 4/5] END ..metric=minkowski, n_neighbors=12;, score=0.154 total time=   0.0s\n",
      "[CV 5/5] END ..metric=minkowski, n_neighbors=12;, score=0.208 total time=   0.0s\n",
      "[CV 1/5] END ..metric=minkowski, n_neighbors=13;, score=0.185 total time=   0.0s\n",
      "[CV 2/5] END ..metric=minkowski, n_neighbors=13;, score=0.215 total time=   0.0s\n",
      "[CV 3/5] END ..metric=minkowski, n_neighbors=13;, score=0.194 total time=   0.0s\n",
      "[CV 4/5] END ..metric=minkowski, n_neighbors=13;, score=0.147 total time=   0.0s\n",
      "[CV 5/5] END ..metric=minkowski, n_neighbors=13;, score=0.229 total time=   0.0s\n",
      "[CV 1/5] END ..metric=minkowski, n_neighbors=14;, score=0.185 total time=   0.0s\n",
      "[CV 2/5] END ..metric=minkowski, n_neighbors=14;, score=0.209 total time=   0.0s\n",
      "[CV 3/5] END ..metric=minkowski, n_neighbors=14;, score=0.191 total time=   0.0s\n",
      "[CV 4/5] END ..metric=minkowski, n_neighbors=14;, score=0.163 total time=   0.0s\n",
      "[CV 5/5] END ..metric=minkowski, n_neighbors=14;, score=0.231 total time=   0.0s\n",
      "[CV 1/5] END ...metric=manhattan, n_neighbors=1;, score=0.175 total time=   0.0s\n",
      "[CV 2/5] END ...metric=manhattan, n_neighbors=1;, score=0.273 total time=   0.0s\n",
      "[CV 3/5] END ...metric=manhattan, n_neighbors=1;, score=0.423 total time=   0.0s\n",
      "[CV 4/5] END ...metric=manhattan, n_neighbors=1;, score=0.226 total time=   0.0s\n",
      "[CV 5/5] END ...metric=manhattan, n_neighbors=1;, score=0.146 total time=   0.0s\n",
      "[CV 1/5] END ...metric=manhattan, n_neighbors=2;, score=0.391 total time=   0.0s\n",
      "[CV 2/5] END ...metric=manhattan, n_neighbors=2;, score=0.390 total time=   0.0s\n",
      "[CV 3/5] END ...metric=manhattan, n_neighbors=2;, score=0.443 total time=   0.0s\n",
      "[CV 4/5] END ...metric=manhattan, n_neighbors=2;, score=0.378 total time=   0.0s\n",
      "[CV 5/5] END ...metric=manhattan, n_neighbors=2;, score=0.355 total time=   0.0s\n",
      "[CV 1/5] END ...metric=manhattan, n_neighbors=3;, score=0.453 total time=   0.0s\n",
      "[CV 2/5] END ...metric=manhattan, n_neighbors=3;, score=0.433 total time=   0.0s\n",
      "[CV 3/5] END ...metric=manhattan, n_neighbors=3;, score=0.535 total time=   0.0s\n",
      "[CV 4/5] END ...metric=manhattan, n_neighbors=3;, score=0.398 total time=   0.0s\n",
      "[CV 5/5] END ...metric=manhattan, n_neighbors=3;, score=0.451 total time=   0.0s\n",
      "[CV 1/5] END ...metric=manhattan, n_neighbors=4;, score=0.508 total time=   0.0s\n",
      "[CV 2/5] END ...metric=manhattan, n_neighbors=4;, score=0.483 total time=   0.0s\n",
      "[CV 3/5] END ...metric=manhattan, n_neighbors=4;, score=0.503 total time=   0.0s\n",
      "[CV 4/5] END ...metric=manhattan, n_neighbors=4;, score=0.460 total time=   0.0s\n",
      "[CV 5/5] END ...metric=manhattan, n_neighbors=4;, score=0.470 total time=   0.0s\n",
      "[CV 1/5] END ...metric=manhattan, n_neighbors=5;, score=0.500 total time=   0.0s\n",
      "[CV 2/5] END ...metric=manhattan, n_neighbors=5;, score=0.507 total time=   0.0s\n",
      "[CV 3/5] END ...metric=manhattan, n_neighbors=5;, score=0.473 total time=   0.0s\n",
      "[CV 4/5] END ...metric=manhattan, n_neighbors=5;, score=0.438 total time=   0.0s\n",
      "[CV 5/5] END ...metric=manhattan, n_neighbors=5;, score=0.462 total time=   0.0s\n",
      "[CV 1/5] END ...metric=manhattan, n_neighbors=6;, score=0.481 total time=   0.0s\n",
      "[CV 2/5] END ...metric=manhattan, n_neighbors=6;, score=0.546 total time=   0.0s\n",
      "[CV 3/5] END ...metric=manhattan, n_neighbors=6;, score=0.490 total time=   0.0s\n",
      "[CV 4/5] END ...metric=manhattan, n_neighbors=6;, score=0.400 total time=   0.0s\n",
      "[CV 5/5] END ...metric=manhattan, n_neighbors=6;, score=0.472 total time=   0.0s\n",
      "[CV 1/5] END ...metric=manhattan, n_neighbors=7;, score=0.456 total time=   0.0s\n",
      "[CV 2/5] END ...metric=manhattan, n_neighbors=7;, score=0.557 total time=   0.0s\n",
      "[CV 3/5] END ...metric=manhattan, n_neighbors=7;, score=0.527 total time=   0.0s\n",
      "[CV 4/5] END ...metric=manhattan, n_neighbors=7;, score=0.423 total time=   0.0s\n",
      "[CV 5/5] END ...metric=manhattan, n_neighbors=7;, score=0.504 total time=   0.0s\n",
      "[CV 1/5] END ...metric=manhattan, n_neighbors=8;, score=0.437 total time=   0.0s\n",
      "[CV 2/5] END ...metric=manhattan, n_neighbors=8;, score=0.561 total time=   0.0s\n",
      "[CV 3/5] END ...metric=manhattan, n_neighbors=8;, score=0.506 total time=   0.0s\n",
      "[CV 4/5] END ...metric=manhattan, n_neighbors=8;, score=0.411 total time=   0.0s\n",
      "[CV 5/5] END ...metric=manhattan, n_neighbors=8;, score=0.494 total time=   0.0s\n",
      "[CV 1/5] END ...metric=manhattan, n_neighbors=9;, score=0.468 total time=   0.0s\n",
      "[CV 2/5] END ...metric=manhattan, n_neighbors=9;, score=0.536 total time=   0.0s\n",
      "[CV 3/5] END ...metric=manhattan, n_neighbors=9;, score=0.505 total time=   0.0s\n",
      "[CV 4/5] END ...metric=manhattan, n_neighbors=9;, score=0.396 total time=   0.0s\n",
      "[CV 5/5] END ...metric=manhattan, n_neighbors=9;, score=0.495 total time=   0.0s\n",
      "[CV 1/5] END ..metric=manhattan, n_neighbors=10;, score=0.458 total time=   0.0s\n",
      "[CV 2/5] END ..metric=manhattan, n_neighbors=10;, score=0.536 total time=   0.0s\n",
      "[CV 3/5] END ..metric=manhattan, n_neighbors=10;, score=0.508 total time=   0.0s\n",
      "[CV 4/5] END ..metric=manhattan, n_neighbors=10;, score=0.386 total time=   0.0s\n",
      "[CV 5/5] END ..metric=manhattan, n_neighbors=10;, score=0.492 total time=   0.0s\n",
      "[CV 1/5] END ..metric=manhattan, n_neighbors=11;, score=0.449 total time=   0.0s\n",
      "[CV 2/5] END ..metric=manhattan, n_neighbors=11;, score=0.537 total time=   0.0s\n",
      "[CV 3/5] END ..metric=manhattan, n_neighbors=11;, score=0.503 total time=   0.0s\n",
      "[CV 4/5] END ..metric=manhattan, n_neighbors=11;, score=0.377 total time=   0.0s\n",
      "[CV 5/5] END ..metric=manhattan, n_neighbors=11;, score=0.485 total time=   0.0s\n",
      "[CV 1/5] END ..metric=manhattan, n_neighbors=12;, score=0.436 total time=   0.0s\n",
      "[CV 2/5] END ..metric=manhattan, n_neighbors=12;, score=0.536 total time=   0.0s\n",
      "[CV 3/5] END ..metric=manhattan, n_neighbors=12;, score=0.476 total time=   0.0s\n",
      "[CV 4/5] END ..metric=manhattan, n_neighbors=12;, score=0.389 total time=   0.0s\n",
      "[CV 5/5] END ..metric=manhattan, n_neighbors=12;, score=0.472 total time=   0.0s\n",
      "[CV 1/5] END ..metric=manhattan, n_neighbors=13;, score=0.438 total time=   0.0s\n",
      "[CV 2/5] END ..metric=manhattan, n_neighbors=13;, score=0.524 total time=   0.0s\n",
      "[CV 3/5] END ..metric=manhattan, n_neighbors=13;, score=0.466 total time=   0.0s\n",
      "[CV 4/5] END ..metric=manhattan, n_neighbors=13;, score=0.394 total time=   0.0s\n",
      "[CV 5/5] END ..metric=manhattan, n_neighbors=13;, score=0.464 total time=   0.0s\n",
      "[CV 1/5] END ..metric=manhattan, n_neighbors=14;, score=0.459 total time=   0.0s\n",
      "[CV 2/5] END ..metric=manhattan, n_neighbors=14;, score=0.506 total time=   0.0s\n",
      "[CV 3/5] END ..metric=manhattan, n_neighbors=14;, score=0.463 total time=   0.0s\n",
      "[CV 4/5] END ..metric=manhattan, n_neighbors=14;, score=0.390 total time=   0.0s\n",
      "[CV 5/5] END ..metric=manhattan, n_neighbors=14;, score=0.459 total time=   0.0s\n",
      "[CV 1/5] END ......metric=cosine, n_neighbors=1;, score=0.234 total time=   0.0s\n",
      "[CV 2/5] END ......metric=cosine, n_neighbors=1;, score=0.242 total time=   0.0s\n",
      "[CV 3/5] END ......metric=cosine, n_neighbors=1;, score=0.250 total time=   0.0s\n",
      "[CV 4/5] END ......metric=cosine, n_neighbors=1;, score=0.238 total time=   0.0s\n",
      "[CV 5/5] END ......metric=cosine, n_neighbors=1;, score=0.322 total time=   0.0s\n",
      "[CV 1/5] END ......metric=cosine, n_neighbors=2;, score=0.511 total time=   0.0s\n",
      "[CV 2/5] END ......metric=cosine, n_neighbors=2;, score=0.389 total time=   0.0s\n",
      "[CV 3/5] END ......metric=cosine, n_neighbors=2;, score=0.390 total time=   0.0s\n",
      "[CV 4/5] END ......metric=cosine, n_neighbors=2;, score=0.479 total time=   0.0s\n",
      "[CV 5/5] END ......metric=cosine, n_neighbors=2;, score=0.467 total time=   0.0s\n",
      "[CV 1/5] END ......metric=cosine, n_neighbors=3;, score=0.558 total time=   0.0s\n",
      "[CV 2/5] END ......metric=cosine, n_neighbors=3;, score=0.476 total time=   0.0s\n",
      "[CV 3/5] END ......metric=cosine, n_neighbors=3;, score=0.411 total time=   0.0s\n",
      "[CV 4/5] END ......metric=cosine, n_neighbors=3;, score=0.539 total time=   0.0s\n",
      "[CV 5/5] END ......metric=cosine, n_neighbors=3;, score=0.499 total time=   0.0s\n",
      "[CV 1/5] END ......metric=cosine, n_neighbors=4;, score=0.535 total time=   0.0s\n",
      "[CV 2/5] END ......metric=cosine, n_neighbors=4;, score=0.531 total time=   0.0s\n",
      "[CV 3/5] END ......metric=cosine, n_neighbors=4;, score=0.456 total time=   0.0s\n",
      "[CV 4/5] END ......metric=cosine, n_neighbors=4;, score=0.502 total time=   0.0s\n",
      "[CV 5/5] END ......metric=cosine, n_neighbors=4;, score=0.459 total time=   0.0s\n",
      "[CV 1/5] END ......metric=cosine, n_neighbors=5;, score=0.511 total time=   0.0s\n",
      "[CV 2/5] END ......metric=cosine, n_neighbors=5;, score=0.558 total time=   0.0s\n",
      "[CV 3/5] END ......metric=cosine, n_neighbors=5;, score=0.470 total time=   0.0s\n",
      "[CV 4/5] END ......metric=cosine, n_neighbors=5;, score=0.480 total time=   0.0s\n",
      "[CV 5/5] END ......metric=cosine, n_neighbors=5;, score=0.443 total time=   0.0s\n",
      "[CV 1/5] END ......metric=cosine, n_neighbors=6;, score=0.511 total time=   0.0s\n",
      "[CV 2/5] END ......metric=cosine, n_neighbors=6;, score=0.533 total time=   0.0s\n",
      "[CV 3/5] END ......metric=cosine, n_neighbors=6;, score=0.467 total time=   0.0s\n",
      "[CV 4/5] END ......metric=cosine, n_neighbors=6;, score=0.434 total time=   0.0s\n",
      "[CV 5/5] END ......metric=cosine, n_neighbors=6;, score=0.461 total time=   0.0s\n",
      "[CV 1/5] END ......metric=cosine, n_neighbors=7;, score=0.489 total time=   0.0s\n",
      "[CV 2/5] END ......metric=cosine, n_neighbors=7;, score=0.547 total time=   0.0s\n",
      "[CV 3/5] END ......metric=cosine, n_neighbors=7;, score=0.484 total time=   0.0s\n",
      "[CV 4/5] END ......metric=cosine, n_neighbors=7;, score=0.449 total time=   0.0s\n",
      "[CV 5/5] END ......metric=cosine, n_neighbors=7;, score=0.464 total time=   0.0s\n",
      "[CV 1/5] END ......metric=cosine, n_neighbors=8;, score=0.479 total time=   0.0s\n",
      "[CV 2/5] END ......metric=cosine, n_neighbors=8;, score=0.529 total time=   0.0s\n",
      "[CV 3/5] END ......metric=cosine, n_neighbors=8;, score=0.472 total time=   0.0s\n",
      "[CV 4/5] END ......metric=cosine, n_neighbors=8;, score=0.446 total time=   0.0s\n",
      "[CV 5/5] END ......metric=cosine, n_neighbors=8;, score=0.446 total time=   0.0s\n",
      "[CV 1/5] END ......metric=cosine, n_neighbors=9;, score=0.446 total time=   0.0s\n",
      "[CV 2/5] END ......metric=cosine, n_neighbors=9;, score=0.528 total time=   0.0s\n",
      "[CV 3/5] END ......metric=cosine, n_neighbors=9;, score=0.468 total time=   0.0s\n",
      "[CV 4/5] END ......metric=cosine, n_neighbors=9;, score=0.426 total time=   0.0s\n",
      "[CV 5/5] END ......metric=cosine, n_neighbors=9;, score=0.435 total time=   0.0s\n",
      "[CV 1/5] END .....metric=cosine, n_neighbors=10;, score=0.431 total time=   0.0s\n",
      "[CV 2/5] END .....metric=cosine, n_neighbors=10;, score=0.509 total time=   0.0s\n",
      "[CV 3/5] END .....metric=cosine, n_neighbors=10;, score=0.468 total time=   0.0s\n",
      "[CV 4/5] END .....metric=cosine, n_neighbors=10;, score=0.422 total time=   0.0s\n",
      "[CV 5/5] END .....metric=cosine, n_neighbors=10;, score=0.433 total time=   0.0s\n",
      "[CV 1/5] END .....metric=cosine, n_neighbors=11;, score=0.443 total time=   0.0s\n",
      "[CV 2/5] END .....metric=cosine, n_neighbors=11;, score=0.495 total time=   0.0s\n",
      "[CV 3/5] END .....metric=cosine, n_neighbors=11;, score=0.444 total time=   0.0s\n",
      "[CV 4/5] END .....metric=cosine, n_neighbors=11;, score=0.416 total time=   0.0s\n",
      "[CV 5/5] END .....metric=cosine, n_neighbors=11;, score=0.416 total time=   0.0s\n",
      "[CV 1/5] END .....metric=cosine, n_neighbors=12;, score=0.435 total time=   0.0s\n",
      "[CV 2/5] END .....metric=cosine, n_neighbors=12;, score=0.490 total time=   0.0s\n",
      "[CV 3/5] END .....metric=cosine, n_neighbors=12;, score=0.435 total time=   0.0s\n",
      "[CV 4/5] END .....metric=cosine, n_neighbors=12;, score=0.405 total time=   0.0s\n",
      "[CV 5/5] END .....metric=cosine, n_neighbors=12;, score=0.408 total time=   0.0s\n",
      "[CV 1/5] END .....metric=cosine, n_neighbors=13;, score=0.428 total time=   0.0s\n",
      "[CV 2/5] END .....metric=cosine, n_neighbors=13;, score=0.474 total time=   0.0s\n",
      "[CV 3/5] END .....metric=cosine, n_neighbors=13;, score=0.419 total time=   0.0s\n",
      "[CV 4/5] END .....metric=cosine, n_neighbors=13;, score=0.404 total time=   0.0s\n",
      "[CV 5/5] END .....metric=cosine, n_neighbors=13;, score=0.399 total time=   0.0s\n",
      "[CV 1/5] END .....metric=cosine, n_neighbors=14;, score=0.411 total time=   0.0s\n",
      "[CV 2/5] END .....metric=cosine, n_neighbors=14;, score=0.452 total time=   0.0s\n",
      "[CV 3/5] END .....metric=cosine, n_neighbors=14;, score=0.409 total time=   0.0s\n",
      "[CV 4/5] END .....metric=cosine, n_neighbors=14;, score=0.388 total time=   0.0s\n",
      "[CV 5/5] END .....metric=cosine, n_neighbors=14;, score=0.385 total time=   0.0s\n"
     ]
    },
    {
     "data": {
      "text/html": [
       "<style>#sk-container-id-8 {color: black;background-color: white;}#sk-container-id-8 pre{padding: 0;}#sk-container-id-8 div.sk-toggleable {background-color: white;}#sk-container-id-8 label.sk-toggleable__label {cursor: pointer;display: block;width: 100%;margin-bottom: 0;padding: 0.3em;box-sizing: border-box;text-align: center;}#sk-container-id-8 label.sk-toggleable__label-arrow:before {content: \"▸\";float: left;margin-right: 0.25em;color: #696969;}#sk-container-id-8 label.sk-toggleable__label-arrow:hover:before {color: black;}#sk-container-id-8 div.sk-estimator:hover label.sk-toggleable__label-arrow:before {color: black;}#sk-container-id-8 div.sk-toggleable__content {max-height: 0;max-width: 0;overflow: hidden;text-align: left;background-color: #f0f8ff;}#sk-container-id-8 div.sk-toggleable__content pre {margin: 0.2em;color: black;border-radius: 0.25em;background-color: #f0f8ff;}#sk-container-id-8 input.sk-toggleable__control:checked~div.sk-toggleable__content {max-height: 200px;max-width: 100%;overflow: auto;}#sk-container-id-8 input.sk-toggleable__control:checked~label.sk-toggleable__label-arrow:before {content: \"▾\";}#sk-container-id-8 div.sk-estimator input.sk-toggleable__control:checked~label.sk-toggleable__label {background-color: #d4ebff;}#sk-container-id-8 div.sk-label input.sk-toggleable__control:checked~label.sk-toggleable__label {background-color: #d4ebff;}#sk-container-id-8 input.sk-hidden--visually {border: 0;clip: rect(1px 1px 1px 1px);clip: rect(1px, 1px, 1px, 1px);height: 1px;margin: -1px;overflow: hidden;padding: 0;position: absolute;width: 1px;}#sk-container-id-8 div.sk-estimator {font-family: monospace;background-color: #f0f8ff;border: 1px dotted black;border-radius: 0.25em;box-sizing: border-box;margin-bottom: 0.5em;}#sk-container-id-8 div.sk-estimator:hover {background-color: #d4ebff;}#sk-container-id-8 div.sk-parallel-item::after {content: \"\";width: 100%;border-bottom: 1px solid gray;flex-grow: 1;}#sk-container-id-8 div.sk-label:hover label.sk-toggleable__label {background-color: #d4ebff;}#sk-container-id-8 div.sk-serial::before {content: \"\";position: absolute;border-left: 1px solid gray;box-sizing: border-box;top: 0;bottom: 0;left: 50%;z-index: 0;}#sk-container-id-8 div.sk-serial {display: flex;flex-direction: column;align-items: center;background-color: white;padding-right: 0.2em;padding-left: 0.2em;position: relative;}#sk-container-id-8 div.sk-item {position: relative;z-index: 1;}#sk-container-id-8 div.sk-parallel {display: flex;align-items: stretch;justify-content: center;background-color: white;position: relative;}#sk-container-id-8 div.sk-item::before, #sk-container-id-8 div.sk-parallel-item::before {content: \"\";position: absolute;border-left: 1px solid gray;box-sizing: border-box;top: 0;bottom: 0;left: 50%;z-index: -1;}#sk-container-id-8 div.sk-parallel-item {display: flex;flex-direction: column;z-index: 1;position: relative;background-color: white;}#sk-container-id-8 div.sk-parallel-item:first-child::after {align-self: flex-end;width: 50%;}#sk-container-id-8 div.sk-parallel-item:last-child::after {align-self: flex-start;width: 50%;}#sk-container-id-8 div.sk-parallel-item:only-child::after {width: 0;}#sk-container-id-8 div.sk-dashed-wrapped {border: 1px dashed gray;margin: 0 0.4em 0.5em 0.4em;box-sizing: border-box;padding-bottom: 0.4em;background-color: white;}#sk-container-id-8 div.sk-label label {font-family: monospace;font-weight: bold;display: inline-block;line-height: 1.2em;}#sk-container-id-8 div.sk-label-container {text-align: center;}#sk-container-id-8 div.sk-container {/* jupyter's `normalize.less` sets `[hidden] { display: none; }` but bootstrap.min.css set `[hidden] { display: none !important; }` so we also need the `!important` here to be able to override the default hidden behavior on the sphinx rendered scikit-learn.org. See: https://github.com/scikit-learn/scikit-learn/issues/21755 */display: inline-block !important;position: relative;}#sk-container-id-8 div.sk-text-repr-fallback {display: none;}</style><div id=\"sk-container-id-8\" class=\"sk-top-container\"><div class=\"sk-text-repr-fallback\"><pre>GridSearchCV(estimator=KNeighborsRegressor(),\n",
       "             param_grid={&#x27;metric&#x27;: [&#x27;euclidean&#x27;, &#x27;minkowski&#x27;, &#x27;manhattan&#x27;,\n",
       "                                    &#x27;cosine&#x27;],\n",
       "                         &#x27;n_neighbors&#x27;: [1, 2, 3, 4, 5, 6, 7, 8, 9, 10, 11, 12,\n",
       "                                         13, 14]},\n",
       "             verbose=3)</pre><b>In a Jupyter environment, please rerun this cell to show the HTML representation or trust the notebook. <br />On GitHub, the HTML representation is unable to render, please try loading this page with nbviewer.org.</b></div><div class=\"sk-container\" hidden><div class=\"sk-item sk-dashed-wrapped\"><div class=\"sk-label-container\"><div class=\"sk-label sk-toggleable\"><input class=\"sk-toggleable__control sk-hidden--visually\" id=\"sk-estimator-id-22\" type=\"checkbox\" ><label for=\"sk-estimator-id-22\" class=\"sk-toggleable__label sk-toggleable__label-arrow\">GridSearchCV</label><div class=\"sk-toggleable__content\"><pre>GridSearchCV(estimator=KNeighborsRegressor(),\n",
       "             param_grid={&#x27;metric&#x27;: [&#x27;euclidean&#x27;, &#x27;minkowski&#x27;, &#x27;manhattan&#x27;,\n",
       "                                    &#x27;cosine&#x27;],\n",
       "                         &#x27;n_neighbors&#x27;: [1, 2, 3, 4, 5, 6, 7, 8, 9, 10, 11, 12,\n",
       "                                         13, 14]},\n",
       "             verbose=3)</pre></div></div></div><div class=\"sk-parallel\"><div class=\"sk-parallel-item\"><div class=\"sk-item\"><div class=\"sk-label-container\"><div class=\"sk-label sk-toggleable\"><input class=\"sk-toggleable__control sk-hidden--visually\" id=\"sk-estimator-id-23\" type=\"checkbox\" ><label for=\"sk-estimator-id-23\" class=\"sk-toggleable__label sk-toggleable__label-arrow\">estimator: KNeighborsRegressor</label><div class=\"sk-toggleable__content\"><pre>KNeighborsRegressor()</pre></div></div></div><div class=\"sk-serial\"><div class=\"sk-item\"><div class=\"sk-estimator sk-toggleable\"><input class=\"sk-toggleable__control sk-hidden--visually\" id=\"sk-estimator-id-24\" type=\"checkbox\" ><label for=\"sk-estimator-id-24\" class=\"sk-toggleable__label sk-toggleable__label-arrow\">KNeighborsRegressor</label><div class=\"sk-toggleable__content\"><pre>KNeighborsRegressor()</pre></div></div></div></div></div></div></div></div></div></div>"
      ],
      "text/plain": [
       "GridSearchCV(estimator=KNeighborsRegressor(),\n",
       "             param_grid={'metric': ['euclidean', 'minkowski', 'manhattan',\n",
       "                                    'cosine'],\n",
       "                         'n_neighbors': [1, 2, 3, 4, 5, 6, 7, 8, 9, 10, 11, 12,\n",
       "                                         13, 14]},\n",
       "             verbose=3)"
      ]
     },
     "execution_count": 75,
     "metadata": {},
     "output_type": "execute_result"
    }
   ],
   "source": [
    "knn_reg_cv = GridSearchCV(knn_reg,param_grid=knn_reg_params,verbose=3)\n",
    "knn_reg_cv.fit(X2_train,y2_train)"
   ]
  },
  {
   "cell_type": "code",
   "execution_count": 76,
   "id": "d368dce6-f074-42ea-9189-9d4175259f08",
   "metadata": {},
   "outputs": [
    {
     "data": {
      "text/plain": [
       "{'metric': 'cosine', 'n_neighbors': 4}"
      ]
     },
     "execution_count": 76,
     "metadata": {},
     "output_type": "execute_result"
    }
   ],
   "source": [
    "knn_reg_cv.best_params_"
   ]
  },
  {
   "cell_type": "code",
   "execution_count": 82,
   "id": "f46c707a-588c-40da-86f5-7f1114cf05c8",
   "metadata": {},
   "outputs": [
    {
     "name": "stdout",
     "output_type": "stream",
     "text": [
      "MAE: 5004.711328466417\n",
      "MSE: 60488966.737731494\n",
      "RMSE: 7777.465315752394\n",
      "R2 Score: 0.6103738423077759\n"
     ]
    }
   ],
   "source": [
    "y2_pred = knn_reg_cv.predict(X2_test)\n",
    "print(\"MAE:\",mean_absolute_error(y2_test,y2_pred)) \n",
    "print(\"MSE:\",mean_squared_error(y2_test,y2_pred))\n",
    "print(\"RMSE:\",np.sqrt(mean_squared_error(y2_test,y2_pred)))\n",
    "print(\"R2 Score:\",r2_score(y2_test,y2_pred))"
   ]
  },
  {
   "cell_type": "code",
   "execution_count": 83,
   "id": "db2b5789-de88-4019-973f-a86e292a38ea",
   "metadata": {},
   "outputs": [
    {
     "name": "stdout",
     "output_type": "stream",
     "text": [
      "MAE: 4037.2948398808408\n",
      "MSE: 40147832.594121106\n",
      "RMSE: 6336.231734565988\n",
      "R2 Score: 0.7218400532294775\n"
     ]
    }
   ],
   "source": [
    "y2_pred_train = knn_reg_cv.predict(X2_train)\n",
    "print(\"MAE:\",mean_absolute_error(y2_train,y2_pred_train)) \n",
    "print(\"MSE:\",mean_squared_error(y2_train,y2_pred_train))\n",
    "print(\"RMSE:\",np.sqrt(mean_squared_error(y2_train,y2_pred_train)))\n",
    "print(\"R2 Score:\",r2_score(y2_train,y2_pred_train))"
   ]
  },
  {
   "cell_type": "code",
   "execution_count": null,
   "id": "a26b1a5f-31d7-4ad8-aa75-948a5bcf50e0",
   "metadata": {},
   "outputs": [],
   "source": []
  }
 ],
 "metadata": {
  "kernelspec": {
   "display_name": "Python 3 (ipykernel)",
   "language": "python",
   "name": "python3"
  },
  "language_info": {
   "codemirror_mode": {
    "name": "ipython",
    "version": 3
   },
   "file_extension": ".py",
   "mimetype": "text/x-python",
   "name": "python",
   "nbconvert_exporter": "python",
   "pygments_lexer": "ipython3",
   "version": "3.11.5"
  }
 },
 "nbformat": 4,
 "nbformat_minor": 5
}
