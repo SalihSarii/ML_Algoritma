{
 "cells": [
  {
   "cell_type": "code",
   "execution_count": 180,
   "id": "28c56757",
   "metadata": {},
   "outputs": [],
   "source": [
    "import numpy as np\n",
    "import pandas as pd\n",
    "import seaborn as sns\n",
    "import matplotlib.pyplot as plt\n",
    "\n",
    "# Model Evaluation Metrics\n",
    "from sklearn.metrics import classification_report, accuracy_score\n",
    "\n",
    "#Model Selection\n",
    "from sklearn.model_selection import GridSearchCV\n",
    "from sklearn.linear_model  import LogisticRegression\n",
    "from sklearn.neighbors import KNeighborsClassifier\n",
    "\n",
    "#Normalization\n",
    "from sklearn.preprocessing import StandardScaler, MinMaxScaler\n",
    "\n",
    "import warnings\n",
    "warnings.filterwarnings('ignore')\n",
    "\n",
    "pd.set_option('display.max_columns', None)"
   ]
  },
  {
   "cell_type": "code",
   "execution_count": 181,
   "id": "ec28def2",
   "metadata": {},
   "outputs": [],
   "source": [
    "df_train = pd.read_csv('./Data/Titanic/train.csv')\n",
    "df_test = pd.read_csv('./Data/Titanic/test.csv')\n",
    "df_gender = pd.read_csv('./Data/Titanic/gender_submission.csv')"
   ]
  },
  {
   "cell_type": "code",
   "execution_count": 182,
   "id": "98a671b8",
   "metadata": {},
   "outputs": [
    {
     "data": {
      "text/html": [
       "<div>\n",
       "<style scoped>\n",
       "    .dataframe tbody tr th:only-of-type {\n",
       "        vertical-align: middle;\n",
       "    }\n",
       "\n",
       "    .dataframe tbody tr th {\n",
       "        vertical-align: top;\n",
       "    }\n",
       "\n",
       "    .dataframe thead th {\n",
       "        text-align: right;\n",
       "    }\n",
       "</style>\n",
       "<table border=\"1\" class=\"dataframe\">\n",
       "  <thead>\n",
       "    <tr style=\"text-align: right;\">\n",
       "      <th></th>\n",
       "      <th>PassengerId</th>\n",
       "      <th>Survived</th>\n",
       "      <th>Pclass</th>\n",
       "      <th>Name</th>\n",
       "      <th>Sex</th>\n",
       "      <th>Age</th>\n",
       "      <th>SibSp</th>\n",
       "      <th>Parch</th>\n",
       "      <th>Ticket</th>\n",
       "      <th>Fare</th>\n",
       "      <th>Cabin</th>\n",
       "      <th>Embarked</th>\n",
       "    </tr>\n",
       "  </thead>\n",
       "  <tbody>\n",
       "    <tr>\n",
       "      <th>0</th>\n",
       "      <td>1</td>\n",
       "      <td>0</td>\n",
       "      <td>3</td>\n",
       "      <td>Braund, Mr. Owen Harris</td>\n",
       "      <td>male</td>\n",
       "      <td>22.0</td>\n",
       "      <td>1</td>\n",
       "      <td>0</td>\n",
       "      <td>A/5 21171</td>\n",
       "      <td>7.2500</td>\n",
       "      <td>NaN</td>\n",
       "      <td>S</td>\n",
       "    </tr>\n",
       "    <tr>\n",
       "      <th>1</th>\n",
       "      <td>2</td>\n",
       "      <td>1</td>\n",
       "      <td>1</td>\n",
       "      <td>Cumings, Mrs. John Bradley (Florence Briggs Th...</td>\n",
       "      <td>female</td>\n",
       "      <td>38.0</td>\n",
       "      <td>1</td>\n",
       "      <td>0</td>\n",
       "      <td>PC 17599</td>\n",
       "      <td>71.2833</td>\n",
       "      <td>C85</td>\n",
       "      <td>C</td>\n",
       "    </tr>\n",
       "    <tr>\n",
       "      <th>2</th>\n",
       "      <td>3</td>\n",
       "      <td>1</td>\n",
       "      <td>3</td>\n",
       "      <td>Heikkinen, Miss. Laina</td>\n",
       "      <td>female</td>\n",
       "      <td>26.0</td>\n",
       "      <td>0</td>\n",
       "      <td>0</td>\n",
       "      <td>STON/O2. 3101282</td>\n",
       "      <td>7.9250</td>\n",
       "      <td>NaN</td>\n",
       "      <td>S</td>\n",
       "    </tr>\n",
       "    <tr>\n",
       "      <th>3</th>\n",
       "      <td>4</td>\n",
       "      <td>1</td>\n",
       "      <td>1</td>\n",
       "      <td>Futrelle, Mrs. Jacques Heath (Lily May Peel)</td>\n",
       "      <td>female</td>\n",
       "      <td>35.0</td>\n",
       "      <td>1</td>\n",
       "      <td>0</td>\n",
       "      <td>113803</td>\n",
       "      <td>53.1000</td>\n",
       "      <td>C123</td>\n",
       "      <td>S</td>\n",
       "    </tr>\n",
       "    <tr>\n",
       "      <th>4</th>\n",
       "      <td>5</td>\n",
       "      <td>0</td>\n",
       "      <td>3</td>\n",
       "      <td>Allen, Mr. William Henry</td>\n",
       "      <td>male</td>\n",
       "      <td>35.0</td>\n",
       "      <td>0</td>\n",
       "      <td>0</td>\n",
       "      <td>373450</td>\n",
       "      <td>8.0500</td>\n",
       "      <td>NaN</td>\n",
       "      <td>S</td>\n",
       "    </tr>\n",
       "    <tr>\n",
       "      <th>...</th>\n",
       "      <td>...</td>\n",
       "      <td>...</td>\n",
       "      <td>...</td>\n",
       "      <td>...</td>\n",
       "      <td>...</td>\n",
       "      <td>...</td>\n",
       "      <td>...</td>\n",
       "      <td>...</td>\n",
       "      <td>...</td>\n",
       "      <td>...</td>\n",
       "      <td>...</td>\n",
       "      <td>...</td>\n",
       "    </tr>\n",
       "    <tr>\n",
       "      <th>886</th>\n",
       "      <td>887</td>\n",
       "      <td>0</td>\n",
       "      <td>2</td>\n",
       "      <td>Montvila, Rev. Juozas</td>\n",
       "      <td>male</td>\n",
       "      <td>27.0</td>\n",
       "      <td>0</td>\n",
       "      <td>0</td>\n",
       "      <td>211536</td>\n",
       "      <td>13.0000</td>\n",
       "      <td>NaN</td>\n",
       "      <td>S</td>\n",
       "    </tr>\n",
       "    <tr>\n",
       "      <th>887</th>\n",
       "      <td>888</td>\n",
       "      <td>1</td>\n",
       "      <td>1</td>\n",
       "      <td>Graham, Miss. Margaret Edith</td>\n",
       "      <td>female</td>\n",
       "      <td>19.0</td>\n",
       "      <td>0</td>\n",
       "      <td>0</td>\n",
       "      <td>112053</td>\n",
       "      <td>30.0000</td>\n",
       "      <td>B42</td>\n",
       "      <td>S</td>\n",
       "    </tr>\n",
       "    <tr>\n",
       "      <th>888</th>\n",
       "      <td>889</td>\n",
       "      <td>0</td>\n",
       "      <td>3</td>\n",
       "      <td>Johnston, Miss. Catherine Helen \"Carrie\"</td>\n",
       "      <td>female</td>\n",
       "      <td>NaN</td>\n",
       "      <td>1</td>\n",
       "      <td>2</td>\n",
       "      <td>W./C. 6607</td>\n",
       "      <td>23.4500</td>\n",
       "      <td>NaN</td>\n",
       "      <td>S</td>\n",
       "    </tr>\n",
       "    <tr>\n",
       "      <th>889</th>\n",
       "      <td>890</td>\n",
       "      <td>1</td>\n",
       "      <td>1</td>\n",
       "      <td>Behr, Mr. Karl Howell</td>\n",
       "      <td>male</td>\n",
       "      <td>26.0</td>\n",
       "      <td>0</td>\n",
       "      <td>0</td>\n",
       "      <td>111369</td>\n",
       "      <td>30.0000</td>\n",
       "      <td>C148</td>\n",
       "      <td>C</td>\n",
       "    </tr>\n",
       "    <tr>\n",
       "      <th>890</th>\n",
       "      <td>891</td>\n",
       "      <td>0</td>\n",
       "      <td>3</td>\n",
       "      <td>Dooley, Mr. Patrick</td>\n",
       "      <td>male</td>\n",
       "      <td>32.0</td>\n",
       "      <td>0</td>\n",
       "      <td>0</td>\n",
       "      <td>370376</td>\n",
       "      <td>7.7500</td>\n",
       "      <td>NaN</td>\n",
       "      <td>Q</td>\n",
       "    </tr>\n",
       "  </tbody>\n",
       "</table>\n",
       "<p>891 rows × 12 columns</p>\n",
       "</div>"
      ],
      "text/plain": [
       "     PassengerId  Survived  Pclass  \\\n",
       "0              1         0       3   \n",
       "1              2         1       1   \n",
       "2              3         1       3   \n",
       "3              4         1       1   \n",
       "4              5         0       3   \n",
       "..           ...       ...     ...   \n",
       "886          887         0       2   \n",
       "887          888         1       1   \n",
       "888          889         0       3   \n",
       "889          890         1       1   \n",
       "890          891         0       3   \n",
       "\n",
       "                                                  Name     Sex   Age  SibSp  \\\n",
       "0                              Braund, Mr. Owen Harris    male  22.0      1   \n",
       "1    Cumings, Mrs. John Bradley (Florence Briggs Th...  female  38.0      1   \n",
       "2                               Heikkinen, Miss. Laina  female  26.0      0   \n",
       "3         Futrelle, Mrs. Jacques Heath (Lily May Peel)  female  35.0      1   \n",
       "4                             Allen, Mr. William Henry    male  35.0      0   \n",
       "..                                                 ...     ...   ...    ...   \n",
       "886                              Montvila, Rev. Juozas    male  27.0      0   \n",
       "887                       Graham, Miss. Margaret Edith  female  19.0      0   \n",
       "888           Johnston, Miss. Catherine Helen \"Carrie\"  female   NaN      1   \n",
       "889                              Behr, Mr. Karl Howell    male  26.0      0   \n",
       "890                                Dooley, Mr. Patrick    male  32.0      0   \n",
       "\n",
       "     Parch            Ticket     Fare Cabin Embarked  \n",
       "0        0         A/5 21171   7.2500   NaN        S  \n",
       "1        0          PC 17599  71.2833   C85        C  \n",
       "2        0  STON/O2. 3101282   7.9250   NaN        S  \n",
       "3        0            113803  53.1000  C123        S  \n",
       "4        0            373450   8.0500   NaN        S  \n",
       "..     ...               ...      ...   ...      ...  \n",
       "886      0            211536  13.0000   NaN        S  \n",
       "887      0            112053  30.0000   B42        S  \n",
       "888      2        W./C. 6607  23.4500   NaN        S  \n",
       "889      0            111369  30.0000  C148        C  \n",
       "890      0            370376   7.7500   NaN        Q  \n",
       "\n",
       "[891 rows x 12 columns]"
      ]
     },
     "execution_count": 182,
     "metadata": {},
     "output_type": "execute_result"
    }
   ],
   "source": [
    "df_train"
   ]
  },
  {
   "cell_type": "code",
   "execution_count": 183,
   "id": "2888f75c",
   "metadata": {},
   "outputs": [
    {
     "data": {
      "text/html": [
       "<div>\n",
       "<style scoped>\n",
       "    .dataframe tbody tr th:only-of-type {\n",
       "        vertical-align: middle;\n",
       "    }\n",
       "\n",
       "    .dataframe tbody tr th {\n",
       "        vertical-align: top;\n",
       "    }\n",
       "\n",
       "    .dataframe thead th {\n",
       "        text-align: right;\n",
       "    }\n",
       "</style>\n",
       "<table border=\"1\" class=\"dataframe\">\n",
       "  <thead>\n",
       "    <tr style=\"text-align: right;\">\n",
       "      <th></th>\n",
       "      <th>count</th>\n",
       "      <th>mean</th>\n",
       "      <th>std</th>\n",
       "      <th>min</th>\n",
       "      <th>25%</th>\n",
       "      <th>50%</th>\n",
       "      <th>75%</th>\n",
       "      <th>max</th>\n",
       "    </tr>\n",
       "  </thead>\n",
       "  <tbody>\n",
       "    <tr>\n",
       "      <th>PassengerId</th>\n",
       "      <td>891.0</td>\n",
       "      <td>446.000000</td>\n",
       "      <td>257.353842</td>\n",
       "      <td>1.00</td>\n",
       "      <td>223.5000</td>\n",
       "      <td>446.0000</td>\n",
       "      <td>668.5</td>\n",
       "      <td>891.0000</td>\n",
       "    </tr>\n",
       "    <tr>\n",
       "      <th>Survived</th>\n",
       "      <td>891.0</td>\n",
       "      <td>0.383838</td>\n",
       "      <td>0.486592</td>\n",
       "      <td>0.00</td>\n",
       "      <td>0.0000</td>\n",
       "      <td>0.0000</td>\n",
       "      <td>1.0</td>\n",
       "      <td>1.0000</td>\n",
       "    </tr>\n",
       "    <tr>\n",
       "      <th>Pclass</th>\n",
       "      <td>891.0</td>\n",
       "      <td>2.308642</td>\n",
       "      <td>0.836071</td>\n",
       "      <td>1.00</td>\n",
       "      <td>2.0000</td>\n",
       "      <td>3.0000</td>\n",
       "      <td>3.0</td>\n",
       "      <td>3.0000</td>\n",
       "    </tr>\n",
       "    <tr>\n",
       "      <th>Age</th>\n",
       "      <td>714.0</td>\n",
       "      <td>29.699118</td>\n",
       "      <td>14.526497</td>\n",
       "      <td>0.42</td>\n",
       "      <td>20.1250</td>\n",
       "      <td>28.0000</td>\n",
       "      <td>38.0</td>\n",
       "      <td>80.0000</td>\n",
       "    </tr>\n",
       "    <tr>\n",
       "      <th>SibSp</th>\n",
       "      <td>891.0</td>\n",
       "      <td>0.523008</td>\n",
       "      <td>1.102743</td>\n",
       "      <td>0.00</td>\n",
       "      <td>0.0000</td>\n",
       "      <td>0.0000</td>\n",
       "      <td>1.0</td>\n",
       "      <td>8.0000</td>\n",
       "    </tr>\n",
       "    <tr>\n",
       "      <th>Parch</th>\n",
       "      <td>891.0</td>\n",
       "      <td>0.381594</td>\n",
       "      <td>0.806057</td>\n",
       "      <td>0.00</td>\n",
       "      <td>0.0000</td>\n",
       "      <td>0.0000</td>\n",
       "      <td>0.0</td>\n",
       "      <td>6.0000</td>\n",
       "    </tr>\n",
       "    <tr>\n",
       "      <th>Fare</th>\n",
       "      <td>891.0</td>\n",
       "      <td>32.204208</td>\n",
       "      <td>49.693429</td>\n",
       "      <td>0.00</td>\n",
       "      <td>7.9104</td>\n",
       "      <td>14.4542</td>\n",
       "      <td>31.0</td>\n",
       "      <td>512.3292</td>\n",
       "    </tr>\n",
       "  </tbody>\n",
       "</table>\n",
       "</div>"
      ],
      "text/plain": [
       "             count        mean         std   min       25%       50%    75%  \\\n",
       "PassengerId  891.0  446.000000  257.353842  1.00  223.5000  446.0000  668.5   \n",
       "Survived     891.0    0.383838    0.486592  0.00    0.0000    0.0000    1.0   \n",
       "Pclass       891.0    2.308642    0.836071  1.00    2.0000    3.0000    3.0   \n",
       "Age          714.0   29.699118   14.526497  0.42   20.1250   28.0000   38.0   \n",
       "SibSp        891.0    0.523008    1.102743  0.00    0.0000    0.0000    1.0   \n",
       "Parch        891.0    0.381594    0.806057  0.00    0.0000    0.0000    0.0   \n",
       "Fare         891.0   32.204208   49.693429  0.00    7.9104   14.4542   31.0   \n",
       "\n",
       "                  max  \n",
       "PassengerId  891.0000  \n",
       "Survived       1.0000  \n",
       "Pclass         3.0000  \n",
       "Age           80.0000  \n",
       "SibSp          8.0000  \n",
       "Parch          6.0000  \n",
       "Fare         512.3292  "
      ]
     },
     "execution_count": 183,
     "metadata": {},
     "output_type": "execute_result"
    }
   ],
   "source": [
    "df_train.describe().T"
   ]
  },
  {
   "cell_type": "markdown",
   "id": "5dc6e957",
   "metadata": {},
   "source": [
    "# Eksik Veri Doldurma İşlemi"
   ]
  },
  {
   "cell_type": "markdown",
   "id": "9d82347f",
   "metadata": {},
   "source": [
    "## Train Setinde Eksik Veri Doldurma İşlemi"
   ]
  },
  {
   "cell_type": "code",
   "execution_count": 184,
   "id": "4cc7401a",
   "metadata": {},
   "outputs": [
    {
     "data": {
      "text/plain": [
       "PassengerId      0\n",
       "Survived         0\n",
       "Pclass           0\n",
       "Name             0\n",
       "Sex              0\n",
       "Age            177\n",
       "SibSp            0\n",
       "Parch            0\n",
       "Ticket           0\n",
       "Fare             0\n",
       "Cabin          687\n",
       "Embarked         2\n",
       "dtype: int64"
      ]
     },
     "execution_count": 184,
     "metadata": {},
     "output_type": "execute_result"
    }
   ],
   "source": [
    "df_train.isnull().sum()"
   ]
  },
  {
   "cell_type": "markdown",
   "id": "bf11b7f5",
   "metadata": {},
   "source": [
    "Age ve Embarked özelliklerindeki eksik değerleri dolduracağız fakat cabin değişkenini çok fazla eksik değerinin\n",
    "olması ve dolu değerlerinin de bir kısmının anlamsız veriler içermesi sebebiyle atacağız"
   ]
  },
  {
   "cell_type": "code",
   "execution_count": 185,
   "id": "f514d873",
   "metadata": {},
   "outputs": [
    {
     "data": {
      "text/plain": [
       "29.69911764705882"
      ]
     },
     "execution_count": 185,
     "metadata": {},
     "output_type": "execute_result"
    }
   ],
   "source": [
    "df_train['Age'].mean()"
   ]
  },
  {
   "cell_type": "code",
   "execution_count": 186,
   "id": "ab0b5bea",
   "metadata": {},
   "outputs": [],
   "source": [
    "#Yaş değişkeninin eksik değerlerini ortalama yaş değeri ile dolduruyoruz\n",
    "df_train['Age'].fillna(df_train['Age'].mean(),inplace=True)"
   ]
  },
  {
   "cell_type": "code",
   "execution_count": 187,
   "id": "28c1fa06",
   "metadata": {},
   "outputs": [
    {
     "data": {
      "text/plain": [
       "0"
      ]
     },
     "execution_count": 187,
     "metadata": {},
     "output_type": "execute_result"
    }
   ],
   "source": [
    "df_train.Age.isnull().sum()"
   ]
  },
  {
   "cell_type": "code",
   "execution_count": null,
   "id": "12f1507d",
   "metadata": {},
   "outputs": [],
   "source": []
  },
  {
   "cell_type": "code",
   "execution_count": 188,
   "id": "b2a84a59",
   "metadata": {},
   "outputs": [
    {
     "data": {
      "text/plain": [
       "0    S\n",
       "Name: Embarked, dtype: object"
      ]
     },
     "execution_count": 188,
     "metadata": {},
     "output_type": "execute_result"
    }
   ],
   "source": [
    "df_train['Embarked'].mode()"
   ]
  },
  {
   "cell_type": "code",
   "execution_count": 189,
   "id": "77074bf8",
   "metadata": {},
   "outputs": [],
   "source": [
    "df_train['Embarked'].fillna(df_train['Embarked'].mode()[0],inplace=True)"
   ]
  },
  {
   "cell_type": "code",
   "execution_count": 190,
   "id": "fc2b41d3",
   "metadata": {},
   "outputs": [
    {
     "data": {
      "text/plain": [
       "0"
      ]
     },
     "execution_count": 190,
     "metadata": {},
     "output_type": "execute_result"
    }
   ],
   "source": [
    "df_train.Embarked.isnull().sum()"
   ]
  },
  {
   "cell_type": "code",
   "execution_count": null,
   "id": "1084583a",
   "metadata": {},
   "outputs": [],
   "source": []
  },
  {
   "cell_type": "markdown",
   "id": "c9f1f674",
   "metadata": {},
   "source": [
    "## Test Setinde Eksik Veri Doldurma İşlemi"
   ]
  },
  {
   "cell_type": "code",
   "execution_count": 191,
   "id": "5a9c6c5a",
   "metadata": {},
   "outputs": [
    {
     "data": {
      "text/plain": [
       "PassengerId      0\n",
       "Pclass           0\n",
       "Name             0\n",
       "Sex              0\n",
       "Age             86\n",
       "SibSp            0\n",
       "Parch            0\n",
       "Ticket           0\n",
       "Fare             1\n",
       "Cabin          327\n",
       "Embarked         0\n",
       "dtype: int64"
      ]
     },
     "execution_count": 191,
     "metadata": {},
     "output_type": "execute_result"
    }
   ],
   "source": [
    "df_test.isnull().sum()"
   ]
  },
  {
   "cell_type": "markdown",
   "id": "eedd83c9",
   "metadata": {},
   "source": [
    "Age ve Fare Özelliklerindeki eksik değerleri dolduracağız fakat cabin değişkenini çok fazla eksik değerinin\n",
    "olması ve dolu değerlerinin de bir kısmının anlamsız veriler içermesi sebebiyle atacağız"
   ]
  },
  {
   "cell_type": "code",
   "execution_count": 192,
   "id": "262a94ff",
   "metadata": {},
   "outputs": [
    {
     "data": {
      "text/plain": [
       "30.272590361445783"
      ]
     },
     "execution_count": 192,
     "metadata": {},
     "output_type": "execute_result"
    }
   ],
   "source": [
    "df_test['Age'].mean()"
   ]
  },
  {
   "cell_type": "code",
   "execution_count": 193,
   "id": "402ec695",
   "metadata": {},
   "outputs": [],
   "source": [
    "#Yaş değişkeninin eksik değerlerini ortalama yaş değeri ile dolduruyoruz\n",
    "df_test['Age'].fillna(df_test['Age'].mean(),inplace=True)"
   ]
  },
  {
   "cell_type": "code",
   "execution_count": 194,
   "id": "44cecfe3",
   "metadata": {},
   "outputs": [
    {
     "data": {
      "text/plain": [
       "0"
      ]
     },
     "execution_count": 194,
     "metadata": {},
     "output_type": "execute_result"
    }
   ],
   "source": [
    "df_test.Age.isnull().sum()"
   ]
  },
  {
   "cell_type": "code",
   "execution_count": null,
   "id": "af76cb36",
   "metadata": {},
   "outputs": [],
   "source": []
  },
  {
   "cell_type": "code",
   "execution_count": 195,
   "id": "0da46054",
   "metadata": {},
   "outputs": [
    {
     "data": {
      "text/plain": [
       "35.627188489208635"
      ]
     },
     "execution_count": 195,
     "metadata": {},
     "output_type": "execute_result"
    }
   ],
   "source": [
    "df_test['Fare'].mean()"
   ]
  },
  {
   "cell_type": "code",
   "execution_count": 196,
   "id": "3d81e95d",
   "metadata": {},
   "outputs": [],
   "source": [
    "df_test['Fare'].fillna(df_test['Fare'].mean(),inplace=True)"
   ]
  },
  {
   "cell_type": "code",
   "execution_count": 197,
   "id": "d34e150c",
   "metadata": {},
   "outputs": [
    {
     "data": {
      "text/plain": [
       "0"
      ]
     },
     "execution_count": 197,
     "metadata": {},
     "output_type": "execute_result"
    }
   ],
   "source": [
    "df_test.Fare.isnull().sum()"
   ]
  },
  {
   "cell_type": "code",
   "execution_count": null,
   "id": "c8aa4ae6",
   "metadata": {},
   "outputs": [],
   "source": []
  },
  {
   "cell_type": "markdown",
   "id": "c1da4ee8",
   "metadata": {},
   "source": [
    "# Aykırı Gözlemlerin Temizlenmesi"
   ]
  },
  {
   "cell_type": "markdown",
   "id": "d5dc06a5",
   "metadata": {},
   "source": [
    "## Train Setinde Aykırı Gözlemlerin Temizlenmesi"
   ]
  },
  {
   "cell_type": "code",
   "execution_count": 198,
   "id": "9335039d",
   "metadata": {},
   "outputs": [
    {
     "data": {
      "text/html": [
       "<div>\n",
       "<style scoped>\n",
       "    .dataframe tbody tr th:only-of-type {\n",
       "        vertical-align: middle;\n",
       "    }\n",
       "\n",
       "    .dataframe tbody tr th {\n",
       "        vertical-align: top;\n",
       "    }\n",
       "\n",
       "    .dataframe thead th {\n",
       "        text-align: right;\n",
       "    }\n",
       "</style>\n",
       "<table border=\"1\" class=\"dataframe\">\n",
       "  <thead>\n",
       "    <tr style=\"text-align: right;\">\n",
       "      <th></th>\n",
       "      <th>count</th>\n",
       "      <th>mean</th>\n",
       "      <th>std</th>\n",
       "      <th>min</th>\n",
       "      <th>25%</th>\n",
       "      <th>50%</th>\n",
       "      <th>75%</th>\n",
       "      <th>max</th>\n",
       "    </tr>\n",
       "  </thead>\n",
       "  <tbody>\n",
       "    <tr>\n",
       "      <th>PassengerId</th>\n",
       "      <td>891.0</td>\n",
       "      <td>446.000000</td>\n",
       "      <td>257.353842</td>\n",
       "      <td>1.00</td>\n",
       "      <td>223.5000</td>\n",
       "      <td>446.000000</td>\n",
       "      <td>668.5</td>\n",
       "      <td>891.0000</td>\n",
       "    </tr>\n",
       "    <tr>\n",
       "      <th>Survived</th>\n",
       "      <td>891.0</td>\n",
       "      <td>0.383838</td>\n",
       "      <td>0.486592</td>\n",
       "      <td>0.00</td>\n",
       "      <td>0.0000</td>\n",
       "      <td>0.000000</td>\n",
       "      <td>1.0</td>\n",
       "      <td>1.0000</td>\n",
       "    </tr>\n",
       "    <tr>\n",
       "      <th>Pclass</th>\n",
       "      <td>891.0</td>\n",
       "      <td>2.308642</td>\n",
       "      <td>0.836071</td>\n",
       "      <td>1.00</td>\n",
       "      <td>2.0000</td>\n",
       "      <td>3.000000</td>\n",
       "      <td>3.0</td>\n",
       "      <td>3.0000</td>\n",
       "    </tr>\n",
       "    <tr>\n",
       "      <th>Age</th>\n",
       "      <td>891.0</td>\n",
       "      <td>29.699118</td>\n",
       "      <td>13.002015</td>\n",
       "      <td>0.42</td>\n",
       "      <td>22.0000</td>\n",
       "      <td>29.699118</td>\n",
       "      <td>35.0</td>\n",
       "      <td>80.0000</td>\n",
       "    </tr>\n",
       "    <tr>\n",
       "      <th>SibSp</th>\n",
       "      <td>891.0</td>\n",
       "      <td>0.523008</td>\n",
       "      <td>1.102743</td>\n",
       "      <td>0.00</td>\n",
       "      <td>0.0000</td>\n",
       "      <td>0.000000</td>\n",
       "      <td>1.0</td>\n",
       "      <td>8.0000</td>\n",
       "    </tr>\n",
       "    <tr>\n",
       "      <th>Parch</th>\n",
       "      <td>891.0</td>\n",
       "      <td>0.381594</td>\n",
       "      <td>0.806057</td>\n",
       "      <td>0.00</td>\n",
       "      <td>0.0000</td>\n",
       "      <td>0.000000</td>\n",
       "      <td>0.0</td>\n",
       "      <td>6.0000</td>\n",
       "    </tr>\n",
       "    <tr>\n",
       "      <th>Fare</th>\n",
       "      <td>891.0</td>\n",
       "      <td>32.204208</td>\n",
       "      <td>49.693429</td>\n",
       "      <td>0.00</td>\n",
       "      <td>7.9104</td>\n",
       "      <td>14.454200</td>\n",
       "      <td>31.0</td>\n",
       "      <td>512.3292</td>\n",
       "    </tr>\n",
       "  </tbody>\n",
       "</table>\n",
       "</div>"
      ],
      "text/plain": [
       "             count        mean         std   min       25%         50%    75%  \\\n",
       "PassengerId  891.0  446.000000  257.353842  1.00  223.5000  446.000000  668.5   \n",
       "Survived     891.0    0.383838    0.486592  0.00    0.0000    0.000000    1.0   \n",
       "Pclass       891.0    2.308642    0.836071  1.00    2.0000    3.000000    3.0   \n",
       "Age          891.0   29.699118   13.002015  0.42   22.0000   29.699118   35.0   \n",
       "SibSp        891.0    0.523008    1.102743  0.00    0.0000    0.000000    1.0   \n",
       "Parch        891.0    0.381594    0.806057  0.00    0.0000    0.000000    0.0   \n",
       "Fare         891.0   32.204208   49.693429  0.00    7.9104   14.454200   31.0   \n",
       "\n",
       "                  max  \n",
       "PassengerId  891.0000  \n",
       "Survived       1.0000  \n",
       "Pclass         3.0000  \n",
       "Age           80.0000  \n",
       "SibSp          8.0000  \n",
       "Parch          6.0000  \n",
       "Fare         512.3292  "
      ]
     },
     "execution_count": 198,
     "metadata": {},
     "output_type": "execute_result"
    }
   ],
   "source": [
    "df_train.describe().T"
   ]
  },
  {
   "cell_type": "markdown",
   "id": "499cd2f8",
   "metadata": {},
   "source": [
    "### Fare İçin Aykırı Gözlem Kontrolü ve Temizliği"
   ]
  },
  {
   "cell_type": "code",
   "execution_count": 199,
   "id": "d3a8d260",
   "metadata": {},
   "outputs": [
    {
     "data": {
      "text/plain": [
       "23.0896"
      ]
     },
     "execution_count": 199,
     "metadata": {},
     "output_type": "execute_result"
    }
   ],
   "source": [
    "#Fare için IQR değeri hesaplanıyor\n",
    "IQR = df_train.Fare.quantile(0.75) - df_train.Fare.quantile(0.25)\n",
    "IQR"
   ]
  },
  {
   "cell_type": "code",
   "execution_count": 200,
   "id": "380461ce",
   "metadata": {},
   "outputs": [
    {
     "data": {
      "text/plain": [
       "(-61.358399999999996, 100.2688)"
      ]
     },
     "execution_count": 200,
     "metadata": {},
     "output_type": "execute_result"
    }
   ],
   "source": [
    "#### Olabildiğince en uçlardaki aykırı değerleri yakalayabilmek için IQR*3 kadar ekliyor veya çıkarıyoruz\n",
    "#sinir yazan \n",
    "alt_sınır=df_train['Fare'].quantile(0.25)-(IQR*3)\n",
    "üst_sınır=df_train['Fare'].quantile(0.75)+(IQR*3)\n",
    "alt_sınır, üst_sınır"
   ]
  },
  {
   "cell_type": "code",
   "execution_count": 201,
   "id": "c52ca127",
   "metadata": {},
   "outputs": [
    {
     "data": {
      "text/html": [
       "<div>\n",
       "<style scoped>\n",
       "    .dataframe tbody tr th:only-of-type {\n",
       "        vertical-align: middle;\n",
       "    }\n",
       "\n",
       "    .dataframe tbody tr th {\n",
       "        vertical-align: top;\n",
       "    }\n",
       "\n",
       "    .dataframe thead th {\n",
       "        text-align: right;\n",
       "    }\n",
       "</style>\n",
       "<table border=\"1\" class=\"dataframe\">\n",
       "  <thead>\n",
       "    <tr style=\"text-align: right;\">\n",
       "      <th></th>\n",
       "      <th>PassengerId</th>\n",
       "      <th>Survived</th>\n",
       "      <th>Pclass</th>\n",
       "      <th>Name</th>\n",
       "      <th>Sex</th>\n",
       "      <th>Age</th>\n",
       "      <th>SibSp</th>\n",
       "      <th>Parch</th>\n",
       "      <th>Ticket</th>\n",
       "      <th>Fare</th>\n",
       "      <th>Cabin</th>\n",
       "      <th>Embarked</th>\n",
       "    </tr>\n",
       "  </thead>\n",
       "  <tbody>\n",
       "  </tbody>\n",
       "</table>\n",
       "</div>"
      ],
      "text/plain": [
       "Empty DataFrame\n",
       "Columns: [PassengerId, Survived, Pclass, Name, Sex, Age, SibSp, Parch, Ticket, Fare, Cabin, Embarked]\n",
       "Index: []"
      ]
     },
     "execution_count": 201,
     "metadata": {},
     "output_type": "execute_result"
    }
   ],
   "source": [
    "# Fare için Alt sınırın altında gözlem yok\n",
    "df_train[df_train['Fare']<alt_sınır]"
   ]
  },
  {
   "cell_type": "code",
   "execution_count": 202,
   "id": "48753523",
   "metadata": {},
   "outputs": [
    {
     "data": {
      "text/plain": [
       "(53, 12)"
      ]
     },
     "execution_count": 202,
     "metadata": {},
     "output_type": "execute_result"
    }
   ],
   "source": [
    "#Fare değişkeni Üst Sınırın üstünde 53 gözlem bulunuyor\n",
    "df_train[df_train['Fare']>üst_sınır].shape"
   ]
  },
  {
   "cell_type": "code",
   "execution_count": 203,
   "id": "0397df0a",
   "metadata": {},
   "outputs": [],
   "source": [
    "# Üst sınırın üstünde olan fare değişkenlerini üst sınıra baskılıyoruz\n",
    "df_train.loc[df_train['Fare']>üst_sınır,'Fare'] = üst_sınır"
   ]
  },
  {
   "cell_type": "code",
   "execution_count": 204,
   "id": "bdd5ed60",
   "metadata": {},
   "outputs": [
    {
     "data": {
      "text/plain": [
       "(0, 12)"
      ]
     },
     "execution_count": 204,
     "metadata": {},
     "output_type": "execute_result"
    }
   ],
   "source": [
    "# Fare değişkeni için aykırı gözlemler baskılanmış oldu\n",
    "df_train[df_train['Fare']>üst_sınır].shape"
   ]
  },
  {
   "cell_type": "markdown",
   "id": "5e788667",
   "metadata": {},
   "source": [
    "### Age İçin Aykırı Gözlem Kontrolü ve Temizliği"
   ]
  },
  {
   "cell_type": "code",
   "execution_count": 205,
   "id": "9f3d92a6",
   "metadata": {},
   "outputs": [
    {
     "data": {
      "text/plain": [
       "13.0"
      ]
     },
     "execution_count": 205,
     "metadata": {},
     "output_type": "execute_result"
    }
   ],
   "source": [
    "#Age için IQR değeri hesaplanıyor\n",
    "IQR = df_train.Age.quantile(0.75) - df_train.Age.quantile(0.25)\n",
    "IQR"
   ]
  },
  {
   "cell_type": "code",
   "execution_count": 206,
   "id": "f9328ab1",
   "metadata": {},
   "outputs": [
    {
     "data": {
      "text/plain": [
       "(-17.0, 74.0)"
      ]
     },
     "execution_count": 206,
     "metadata": {},
     "output_type": "execute_result"
    }
   ],
   "source": [
    "#### Olabildiğince en uçlardaki aykırı değerleri yakalayabilmek için IQR*3 kadar ekliyor veya çıkarıyoruz\n",
    "#sinir yazan \n",
    "alt_sınır=df_train['Age'].quantile(0.25)-(IQR*3)\n",
    "üst_sınır=df_train['Age'].quantile(0.75)+(IQR*3)\n",
    "alt_sınır, üst_sınır"
   ]
  },
  {
   "cell_type": "code",
   "execution_count": 207,
   "id": "0c131257",
   "metadata": {},
   "outputs": [
    {
     "data": {
      "text/html": [
       "<div>\n",
       "<style scoped>\n",
       "    .dataframe tbody tr th:only-of-type {\n",
       "        vertical-align: middle;\n",
       "    }\n",
       "\n",
       "    .dataframe tbody tr th {\n",
       "        vertical-align: top;\n",
       "    }\n",
       "\n",
       "    .dataframe thead th {\n",
       "        text-align: right;\n",
       "    }\n",
       "</style>\n",
       "<table border=\"1\" class=\"dataframe\">\n",
       "  <thead>\n",
       "    <tr style=\"text-align: right;\">\n",
       "      <th></th>\n",
       "      <th>PassengerId</th>\n",
       "      <th>Survived</th>\n",
       "      <th>Pclass</th>\n",
       "      <th>Name</th>\n",
       "      <th>Sex</th>\n",
       "      <th>Age</th>\n",
       "      <th>SibSp</th>\n",
       "      <th>Parch</th>\n",
       "      <th>Ticket</th>\n",
       "      <th>Fare</th>\n",
       "      <th>Cabin</th>\n",
       "      <th>Embarked</th>\n",
       "    </tr>\n",
       "  </thead>\n",
       "  <tbody>\n",
       "  </tbody>\n",
       "</table>\n",
       "</div>"
      ],
      "text/plain": [
       "Empty DataFrame\n",
       "Columns: [PassengerId, Survived, Pclass, Name, Sex, Age, SibSp, Parch, Ticket, Fare, Cabin, Embarked]\n",
       "Index: []"
      ]
     },
     "execution_count": 207,
     "metadata": {},
     "output_type": "execute_result"
    }
   ],
   "source": [
    "# Age için Alt sınırın altında gözlem yok\n",
    "df_train[df_train['Age']<alt_sınır]"
   ]
  },
  {
   "cell_type": "code",
   "execution_count": 208,
   "id": "4d986d77",
   "metadata": {},
   "outputs": [
    {
     "data": {
      "text/plain": [
       "(1, 12)"
      ]
     },
     "execution_count": 208,
     "metadata": {},
     "output_type": "execute_result"
    }
   ],
   "source": [
    "#Age değişkeni Üst Sınırın üstünde 53 gözlem bulunuyor\n",
    "df_train[df_train['Age']>üst_sınır].shape"
   ]
  },
  {
   "cell_type": "code",
   "execution_count": 209,
   "id": "fb2cc831",
   "metadata": {},
   "outputs": [],
   "source": [
    "# Üst sınırın üstünde olan Age değişkenlerini üst sınıra baskılıyoruz\n",
    "df_train.loc[df_train['Age']>üst_sınır,'Age'] = üst_sınır"
   ]
  },
  {
   "cell_type": "code",
   "execution_count": 210,
   "id": "c1ef5e5f",
   "metadata": {},
   "outputs": [
    {
     "data": {
      "text/plain": [
       "(0, 12)"
      ]
     },
     "execution_count": 210,
     "metadata": {},
     "output_type": "execute_result"
    }
   ],
   "source": [
    "# Age değişkeni için aykırı gözlemler baskılanmış oldu\n",
    "df_train[df_train['Age']>üst_sınır].shape"
   ]
  },
  {
   "cell_type": "code",
   "execution_count": null,
   "id": "8a06ac84",
   "metadata": {},
   "outputs": [],
   "source": []
  },
  {
   "cell_type": "markdown",
   "id": "35bdca40",
   "metadata": {},
   "source": [
    "## Test Setinde Aykırı Gözlemlerin Temizlenmesi"
   ]
  },
  {
   "cell_type": "code",
   "execution_count": null,
   "id": "20e72ac3",
   "metadata": {},
   "outputs": [],
   "source": []
  },
  {
   "cell_type": "markdown",
   "id": "741285f4",
   "metadata": {},
   "source": [
    "### Fare İçin Aykırı Gözlem Kontrolü ve Temizliği"
   ]
  },
  {
   "cell_type": "code",
   "execution_count": 211,
   "id": "b6b529f6",
   "metadata": {},
   "outputs": [
    {
     "data": {
      "text/plain": [
       "23.6042"
      ]
     },
     "execution_count": 211,
     "metadata": {},
     "output_type": "execute_result"
    }
   ],
   "source": [
    "#Fare için IQR değeri hesaplanıyor\n",
    "IQR = df_test.Fare.quantile(0.75) - df_test.Fare.quantile(0.25)\n",
    "IQR"
   ]
  },
  {
   "cell_type": "code",
   "execution_count": 212,
   "id": "9ddae429",
   "metadata": {},
   "outputs": [
    {
     "data": {
      "text/plain": [
       "(-62.9168, 102.3126)"
      ]
     },
     "execution_count": 212,
     "metadata": {},
     "output_type": "execute_result"
    }
   ],
   "source": [
    "#### Olabildiğince en uçlardaki aykırı değerleri yakalayabilmek için IQR*3 kadar ekliyor veya çıkarıyoruz\n",
    "#sinir yazan \n",
    "alt_sınır=df_test['Fare'].quantile(0.25)-(IQR*3)\n",
    "üst_sınır=df_test['Fare'].quantile(0.75)+(IQR*3)\n",
    "alt_sınır, üst_sınır"
   ]
  },
  {
   "cell_type": "code",
   "execution_count": 213,
   "id": "39256499",
   "metadata": {},
   "outputs": [
    {
     "data": {
      "text/html": [
       "<div>\n",
       "<style scoped>\n",
       "    .dataframe tbody tr th:only-of-type {\n",
       "        vertical-align: middle;\n",
       "    }\n",
       "\n",
       "    .dataframe tbody tr th {\n",
       "        vertical-align: top;\n",
       "    }\n",
       "\n",
       "    .dataframe thead th {\n",
       "        text-align: right;\n",
       "    }\n",
       "</style>\n",
       "<table border=\"1\" class=\"dataframe\">\n",
       "  <thead>\n",
       "    <tr style=\"text-align: right;\">\n",
       "      <th></th>\n",
       "      <th>PassengerId</th>\n",
       "      <th>Pclass</th>\n",
       "      <th>Name</th>\n",
       "      <th>Sex</th>\n",
       "      <th>Age</th>\n",
       "      <th>SibSp</th>\n",
       "      <th>Parch</th>\n",
       "      <th>Ticket</th>\n",
       "      <th>Fare</th>\n",
       "      <th>Cabin</th>\n",
       "      <th>Embarked</th>\n",
       "    </tr>\n",
       "  </thead>\n",
       "  <tbody>\n",
       "  </tbody>\n",
       "</table>\n",
       "</div>"
      ],
      "text/plain": [
       "Empty DataFrame\n",
       "Columns: [PassengerId, Pclass, Name, Sex, Age, SibSp, Parch, Ticket, Fare, Cabin, Embarked]\n",
       "Index: []"
      ]
     },
     "execution_count": 213,
     "metadata": {},
     "output_type": "execute_result"
    }
   ],
   "source": [
    "# Fare için Alt sınırın altında gözlem yok\n",
    "df_test[df_test['Fare']<alt_sınır]"
   ]
  },
  {
   "cell_type": "code",
   "execution_count": 214,
   "id": "10327e71",
   "metadata": {},
   "outputs": [
    {
     "data": {
      "text/plain": [
       "(31, 11)"
      ]
     },
     "execution_count": 214,
     "metadata": {},
     "output_type": "execute_result"
    }
   ],
   "source": [
    "#Fare değişkeni Üst Sınırın üstünde 53 gözlem bulunuyor\n",
    "df_test[df_test['Fare']>üst_sınır].shape"
   ]
  },
  {
   "cell_type": "code",
   "execution_count": 215,
   "id": "c0990ffa",
   "metadata": {},
   "outputs": [],
   "source": [
    "# Üst sınırın üstünde olan fare değişkenlerini üst sınıra baskılıyoruz\n",
    "df_test.loc[df_test['Fare']>üst_sınır,'Fare'] = üst_sınır"
   ]
  },
  {
   "cell_type": "code",
   "execution_count": 216,
   "id": "5f262b70",
   "metadata": {},
   "outputs": [
    {
     "data": {
      "text/plain": [
       "(0, 11)"
      ]
     },
     "execution_count": 216,
     "metadata": {},
     "output_type": "execute_result"
    }
   ],
   "source": [
    "# Fare değişkeni için aykırı gözlemler baskılanmış oldu\n",
    "df_test[df_test['Fare']>üst_sınır].shape"
   ]
  },
  {
   "cell_type": "markdown",
   "id": "bcc2b49f",
   "metadata": {},
   "source": [
    "### Age İçin Aykırı Gözlem Kontrolü ve Temizliği"
   ]
  },
  {
   "cell_type": "code",
   "execution_count": 217,
   "id": "fcc058a3",
   "metadata": {},
   "outputs": [
    {
     "data": {
      "text/plain": [
       "12.75"
      ]
     },
     "execution_count": 217,
     "metadata": {},
     "output_type": "execute_result"
    }
   ],
   "source": [
    "#Age için IQR değeri hesaplanıyor\n",
    "IQR = df_test.Age.quantile(0.75) - df_test.Age.quantile(0.25)\n",
    "IQR"
   ]
  },
  {
   "cell_type": "code",
   "execution_count": 218,
   "id": "f3c13bef",
   "metadata": {},
   "outputs": [
    {
     "data": {
      "text/plain": [
       "(-15.25, 74.0)"
      ]
     },
     "execution_count": 218,
     "metadata": {},
     "output_type": "execute_result"
    }
   ],
   "source": [
    "#### Olabildiğince en uçlardaki aykırı değerleri yakalayabilmek için IQR*3 kadar ekliyor veya çıkarıyoruz\n",
    "#sinir yazan \n",
    "alt_sınır=df_test['Age'].quantile(0.25)-(IQR*3)\n",
    "üst_sınır=df_test['Age'].quantile(0.75)+(IQR*3)\n",
    "alt_sınır, üst_sınır"
   ]
  },
  {
   "cell_type": "code",
   "execution_count": 219,
   "id": "89c4cb26",
   "metadata": {},
   "outputs": [
    {
     "data": {
      "text/html": [
       "<div>\n",
       "<style scoped>\n",
       "    .dataframe tbody tr th:only-of-type {\n",
       "        vertical-align: middle;\n",
       "    }\n",
       "\n",
       "    .dataframe tbody tr th {\n",
       "        vertical-align: top;\n",
       "    }\n",
       "\n",
       "    .dataframe thead th {\n",
       "        text-align: right;\n",
       "    }\n",
       "</style>\n",
       "<table border=\"1\" class=\"dataframe\">\n",
       "  <thead>\n",
       "    <tr style=\"text-align: right;\">\n",
       "      <th></th>\n",
       "      <th>PassengerId</th>\n",
       "      <th>Pclass</th>\n",
       "      <th>Name</th>\n",
       "      <th>Sex</th>\n",
       "      <th>Age</th>\n",
       "      <th>SibSp</th>\n",
       "      <th>Parch</th>\n",
       "      <th>Ticket</th>\n",
       "      <th>Fare</th>\n",
       "      <th>Cabin</th>\n",
       "      <th>Embarked</th>\n",
       "    </tr>\n",
       "  </thead>\n",
       "  <tbody>\n",
       "  </tbody>\n",
       "</table>\n",
       "</div>"
      ],
      "text/plain": [
       "Empty DataFrame\n",
       "Columns: [PassengerId, Pclass, Name, Sex, Age, SibSp, Parch, Ticket, Fare, Cabin, Embarked]\n",
       "Index: []"
      ]
     },
     "execution_count": 219,
     "metadata": {},
     "output_type": "execute_result"
    }
   ],
   "source": [
    "# Age için Alt sınırın altında gözlem yok\n",
    "df_test[df_test['Age']<alt_sınır]"
   ]
  },
  {
   "cell_type": "code",
   "execution_count": 220,
   "id": "5ad199ba",
   "metadata": {},
   "outputs": [
    {
     "data": {
      "text/plain": [
       "(1, 11)"
      ]
     },
     "execution_count": 220,
     "metadata": {},
     "output_type": "execute_result"
    }
   ],
   "source": [
    "#Age değişkeni Üst Sınırın üstünde 53 gözlem bulunuyor\n",
    "df_test[df_test['Age']>üst_sınır].shape"
   ]
  },
  {
   "cell_type": "code",
   "execution_count": 221,
   "id": "5de77770",
   "metadata": {},
   "outputs": [],
   "source": [
    "# Üst sınırın üstünde olan Age değişkenlerini üst sınıra baskılıyoruz\n",
    "df_test.loc[df_test['Age']>üst_sınır,'Age'] = üst_sınır"
   ]
  },
  {
   "cell_type": "code",
   "execution_count": 222,
   "id": "23f5bca1",
   "metadata": {},
   "outputs": [
    {
     "data": {
      "text/plain": [
       "(0, 11)"
      ]
     },
     "execution_count": 222,
     "metadata": {},
     "output_type": "execute_result"
    }
   ],
   "source": [
    "# Age değişkeni için aykırı gözlemler baskılanmış oldu\n",
    "df_test[df_test['Age']>üst_sınır].shape"
   ]
  },
  {
   "cell_type": "code",
   "execution_count": null,
   "id": "fdb99e0b",
   "metadata": {},
   "outputs": [],
   "source": []
  },
  {
   "cell_type": "markdown",
   "id": "c87a3453",
   "metadata": {},
   "source": [
    "# Gereksiz Özelliklerin Atılması"
   ]
  },
  {
   "cell_type": "code",
   "execution_count": 223,
   "id": "c55007e9",
   "metadata": {},
   "outputs": [],
   "source": [
    "df_train.drop(columns=['PassengerId','Cabin','Ticket','Name'],inplace=True)\n",
    "df_test.drop(columns=['PassengerId','Cabin','Ticket','Name'],inplace=True)"
   ]
  },
  {
   "cell_type": "code",
   "execution_count": null,
   "id": "5aad1dfc",
   "metadata": {},
   "outputs": [],
   "source": []
  },
  {
   "cell_type": "code",
   "execution_count": 224,
   "id": "1e54b3f4",
   "metadata": {},
   "outputs": [
    {
     "data": {
      "text/html": [
       "<div>\n",
       "<style scoped>\n",
       "    .dataframe tbody tr th:only-of-type {\n",
       "        vertical-align: middle;\n",
       "    }\n",
       "\n",
       "    .dataframe tbody tr th {\n",
       "        vertical-align: top;\n",
       "    }\n",
       "\n",
       "    .dataframe thead th {\n",
       "        text-align: right;\n",
       "    }\n",
       "</style>\n",
       "<table border=\"1\" class=\"dataframe\">\n",
       "  <thead>\n",
       "    <tr style=\"text-align: right;\">\n",
       "      <th></th>\n",
       "      <th>Survived</th>\n",
       "      <th>Pclass</th>\n",
       "      <th>Sex</th>\n",
       "      <th>Age</th>\n",
       "      <th>SibSp</th>\n",
       "      <th>Parch</th>\n",
       "      <th>Fare</th>\n",
       "      <th>Embarked</th>\n",
       "    </tr>\n",
       "  </thead>\n",
       "  <tbody>\n",
       "    <tr>\n",
       "      <th>0</th>\n",
       "      <td>0</td>\n",
       "      <td>3</td>\n",
       "      <td>male</td>\n",
       "      <td>22.000000</td>\n",
       "      <td>1</td>\n",
       "      <td>0</td>\n",
       "      <td>7.2500</td>\n",
       "      <td>S</td>\n",
       "    </tr>\n",
       "    <tr>\n",
       "      <th>1</th>\n",
       "      <td>1</td>\n",
       "      <td>1</td>\n",
       "      <td>female</td>\n",
       "      <td>38.000000</td>\n",
       "      <td>1</td>\n",
       "      <td>0</td>\n",
       "      <td>71.2833</td>\n",
       "      <td>C</td>\n",
       "    </tr>\n",
       "    <tr>\n",
       "      <th>2</th>\n",
       "      <td>1</td>\n",
       "      <td>3</td>\n",
       "      <td>female</td>\n",
       "      <td>26.000000</td>\n",
       "      <td>0</td>\n",
       "      <td>0</td>\n",
       "      <td>7.9250</td>\n",
       "      <td>S</td>\n",
       "    </tr>\n",
       "    <tr>\n",
       "      <th>3</th>\n",
       "      <td>1</td>\n",
       "      <td>1</td>\n",
       "      <td>female</td>\n",
       "      <td>35.000000</td>\n",
       "      <td>1</td>\n",
       "      <td>0</td>\n",
       "      <td>53.1000</td>\n",
       "      <td>S</td>\n",
       "    </tr>\n",
       "    <tr>\n",
       "      <th>4</th>\n",
       "      <td>0</td>\n",
       "      <td>3</td>\n",
       "      <td>male</td>\n",
       "      <td>35.000000</td>\n",
       "      <td>0</td>\n",
       "      <td>0</td>\n",
       "      <td>8.0500</td>\n",
       "      <td>S</td>\n",
       "    </tr>\n",
       "    <tr>\n",
       "      <th>...</th>\n",
       "      <td>...</td>\n",
       "      <td>...</td>\n",
       "      <td>...</td>\n",
       "      <td>...</td>\n",
       "      <td>...</td>\n",
       "      <td>...</td>\n",
       "      <td>...</td>\n",
       "      <td>...</td>\n",
       "    </tr>\n",
       "    <tr>\n",
       "      <th>886</th>\n",
       "      <td>0</td>\n",
       "      <td>2</td>\n",
       "      <td>male</td>\n",
       "      <td>27.000000</td>\n",
       "      <td>0</td>\n",
       "      <td>0</td>\n",
       "      <td>13.0000</td>\n",
       "      <td>S</td>\n",
       "    </tr>\n",
       "    <tr>\n",
       "      <th>887</th>\n",
       "      <td>1</td>\n",
       "      <td>1</td>\n",
       "      <td>female</td>\n",
       "      <td>19.000000</td>\n",
       "      <td>0</td>\n",
       "      <td>0</td>\n",
       "      <td>30.0000</td>\n",
       "      <td>S</td>\n",
       "    </tr>\n",
       "    <tr>\n",
       "      <th>888</th>\n",
       "      <td>0</td>\n",
       "      <td>3</td>\n",
       "      <td>female</td>\n",
       "      <td>29.699118</td>\n",
       "      <td>1</td>\n",
       "      <td>2</td>\n",
       "      <td>23.4500</td>\n",
       "      <td>S</td>\n",
       "    </tr>\n",
       "    <tr>\n",
       "      <th>889</th>\n",
       "      <td>1</td>\n",
       "      <td>1</td>\n",
       "      <td>male</td>\n",
       "      <td>26.000000</td>\n",
       "      <td>0</td>\n",
       "      <td>0</td>\n",
       "      <td>30.0000</td>\n",
       "      <td>C</td>\n",
       "    </tr>\n",
       "    <tr>\n",
       "      <th>890</th>\n",
       "      <td>0</td>\n",
       "      <td>3</td>\n",
       "      <td>male</td>\n",
       "      <td>32.000000</td>\n",
       "      <td>0</td>\n",
       "      <td>0</td>\n",
       "      <td>7.7500</td>\n",
       "      <td>Q</td>\n",
       "    </tr>\n",
       "  </tbody>\n",
       "</table>\n",
       "<p>891 rows × 8 columns</p>\n",
       "</div>"
      ],
      "text/plain": [
       "     Survived  Pclass     Sex        Age  SibSp  Parch     Fare Embarked\n",
       "0           0       3    male  22.000000      1      0   7.2500        S\n",
       "1           1       1  female  38.000000      1      0  71.2833        C\n",
       "2           1       3  female  26.000000      0      0   7.9250        S\n",
       "3           1       1  female  35.000000      1      0  53.1000        S\n",
       "4           0       3    male  35.000000      0      0   8.0500        S\n",
       "..        ...     ...     ...        ...    ...    ...      ...      ...\n",
       "886         0       2    male  27.000000      0      0  13.0000        S\n",
       "887         1       1  female  19.000000      0      0  30.0000        S\n",
       "888         0       3  female  29.699118      1      2  23.4500        S\n",
       "889         1       1    male  26.000000      0      0  30.0000        C\n",
       "890         0       3    male  32.000000      0      0   7.7500        Q\n",
       "\n",
       "[891 rows x 8 columns]"
      ]
     },
     "execution_count": 224,
     "metadata": {},
     "output_type": "execute_result"
    }
   ],
   "source": [
    "df_train"
   ]
  },
  {
   "cell_type": "code",
   "execution_count": 225,
   "id": "015cf492",
   "metadata": {},
   "outputs": [
    {
     "data": {
      "text/html": [
       "<div>\n",
       "<style scoped>\n",
       "    .dataframe tbody tr th:only-of-type {\n",
       "        vertical-align: middle;\n",
       "    }\n",
       "\n",
       "    .dataframe tbody tr th {\n",
       "        vertical-align: top;\n",
       "    }\n",
       "\n",
       "    .dataframe thead th {\n",
       "        text-align: right;\n",
       "    }\n",
       "</style>\n",
       "<table border=\"1\" class=\"dataframe\">\n",
       "  <thead>\n",
       "    <tr style=\"text-align: right;\">\n",
       "      <th></th>\n",
       "      <th>Pclass</th>\n",
       "      <th>Sex</th>\n",
       "      <th>Age</th>\n",
       "      <th>SibSp</th>\n",
       "      <th>Parch</th>\n",
       "      <th>Fare</th>\n",
       "      <th>Embarked</th>\n",
       "    </tr>\n",
       "  </thead>\n",
       "  <tbody>\n",
       "    <tr>\n",
       "      <th>0</th>\n",
       "      <td>3</td>\n",
       "      <td>male</td>\n",
       "      <td>34.50000</td>\n",
       "      <td>0</td>\n",
       "      <td>0</td>\n",
       "      <td>7.8292</td>\n",
       "      <td>Q</td>\n",
       "    </tr>\n",
       "    <tr>\n",
       "      <th>1</th>\n",
       "      <td>3</td>\n",
       "      <td>female</td>\n",
       "      <td>47.00000</td>\n",
       "      <td>1</td>\n",
       "      <td>0</td>\n",
       "      <td>7.0000</td>\n",
       "      <td>S</td>\n",
       "    </tr>\n",
       "    <tr>\n",
       "      <th>2</th>\n",
       "      <td>2</td>\n",
       "      <td>male</td>\n",
       "      <td>62.00000</td>\n",
       "      <td>0</td>\n",
       "      <td>0</td>\n",
       "      <td>9.6875</td>\n",
       "      <td>Q</td>\n",
       "    </tr>\n",
       "    <tr>\n",
       "      <th>3</th>\n",
       "      <td>3</td>\n",
       "      <td>male</td>\n",
       "      <td>27.00000</td>\n",
       "      <td>0</td>\n",
       "      <td>0</td>\n",
       "      <td>8.6625</td>\n",
       "      <td>S</td>\n",
       "    </tr>\n",
       "    <tr>\n",
       "      <th>4</th>\n",
       "      <td>3</td>\n",
       "      <td>female</td>\n",
       "      <td>22.00000</td>\n",
       "      <td>1</td>\n",
       "      <td>1</td>\n",
       "      <td>12.2875</td>\n",
       "      <td>S</td>\n",
       "    </tr>\n",
       "    <tr>\n",
       "      <th>...</th>\n",
       "      <td>...</td>\n",
       "      <td>...</td>\n",
       "      <td>...</td>\n",
       "      <td>...</td>\n",
       "      <td>...</td>\n",
       "      <td>...</td>\n",
       "      <td>...</td>\n",
       "    </tr>\n",
       "    <tr>\n",
       "      <th>413</th>\n",
       "      <td>3</td>\n",
       "      <td>male</td>\n",
       "      <td>30.27259</td>\n",
       "      <td>0</td>\n",
       "      <td>0</td>\n",
       "      <td>8.0500</td>\n",
       "      <td>S</td>\n",
       "    </tr>\n",
       "    <tr>\n",
       "      <th>414</th>\n",
       "      <td>1</td>\n",
       "      <td>female</td>\n",
       "      <td>39.00000</td>\n",
       "      <td>0</td>\n",
       "      <td>0</td>\n",
       "      <td>102.3126</td>\n",
       "      <td>C</td>\n",
       "    </tr>\n",
       "    <tr>\n",
       "      <th>415</th>\n",
       "      <td>3</td>\n",
       "      <td>male</td>\n",
       "      <td>38.50000</td>\n",
       "      <td>0</td>\n",
       "      <td>0</td>\n",
       "      <td>7.2500</td>\n",
       "      <td>S</td>\n",
       "    </tr>\n",
       "    <tr>\n",
       "      <th>416</th>\n",
       "      <td>3</td>\n",
       "      <td>male</td>\n",
       "      <td>30.27259</td>\n",
       "      <td>0</td>\n",
       "      <td>0</td>\n",
       "      <td>8.0500</td>\n",
       "      <td>S</td>\n",
       "    </tr>\n",
       "    <tr>\n",
       "      <th>417</th>\n",
       "      <td>3</td>\n",
       "      <td>male</td>\n",
       "      <td>30.27259</td>\n",
       "      <td>1</td>\n",
       "      <td>1</td>\n",
       "      <td>22.3583</td>\n",
       "      <td>C</td>\n",
       "    </tr>\n",
       "  </tbody>\n",
       "</table>\n",
       "<p>418 rows × 7 columns</p>\n",
       "</div>"
      ],
      "text/plain": [
       "     Pclass     Sex       Age  SibSp  Parch      Fare Embarked\n",
       "0         3    male  34.50000      0      0    7.8292        Q\n",
       "1         3  female  47.00000      1      0    7.0000        S\n",
       "2         2    male  62.00000      0      0    9.6875        Q\n",
       "3         3    male  27.00000      0      0    8.6625        S\n",
       "4         3  female  22.00000      1      1   12.2875        S\n",
       "..      ...     ...       ...    ...    ...       ...      ...\n",
       "413       3    male  30.27259      0      0    8.0500        S\n",
       "414       1  female  39.00000      0      0  102.3126        C\n",
       "415       3    male  38.50000      0      0    7.2500        S\n",
       "416       3    male  30.27259      0      0    8.0500        S\n",
       "417       3    male  30.27259      1      1   22.3583        C\n",
       "\n",
       "[418 rows x 7 columns]"
      ]
     },
     "execution_count": 225,
     "metadata": {},
     "output_type": "execute_result"
    }
   ],
   "source": [
    "df_test"
   ]
  },
  {
   "cell_type": "code",
   "execution_count": 226,
   "id": "723f1745",
   "metadata": {},
   "outputs": [],
   "source": [
    "# train_test_split fonksiyonunun ayırdığı gibi verimizi bağımlı değişken ve bağımsız değişkenlerine ayırıyoruz.\n",
    "X_train = df_train.drop(columns=['Survived'])\n",
    "y_train = df_train['Survived']\n",
    "X_test = df_test\n",
    "y_test = df_gender['Survived']"
   ]
  },
  {
   "cell_type": "markdown",
   "id": "f25d7cbb",
   "metadata": {},
   "source": [
    "Buradan sonra\n",
    "- Kategorik değişkenler sayısal değişkenlere dönüştürülecek\n",
    "- GridSearchCV kullanılarak LogisticRegression ve KNeighborsClassifier'ın classification_report sonuçlarına bakılacak."
   ]
  },
  {
   "cell_type": "code",
   "execution_count": 227,
   "id": "3e25936f-bfaf-4e77-a3d8-514ef51942de",
   "metadata": {},
   "outputs": [],
   "source": [
    "df_encoded_train = pd.get_dummies(X_train,columns=['Sex','Embarked'], drop_first=True, dtype=np.int64)\n",
    "df_encoded_test = pd.get_dummies(df_test,columns=['Sex','Embarked'], drop_first=True, dtype=np.int64)"
   ]
  },
  {
   "cell_type": "code",
   "execution_count": 228,
   "id": "0259297a-cf4d-4692-a2c0-2759c246ea59",
   "metadata": {},
   "outputs": [
    {
     "data": {
      "text/html": [
       "<div>\n",
       "<style scoped>\n",
       "    .dataframe tbody tr th:only-of-type {\n",
       "        vertical-align: middle;\n",
       "    }\n",
       "\n",
       "    .dataframe tbody tr th {\n",
       "        vertical-align: top;\n",
       "    }\n",
       "\n",
       "    .dataframe thead th {\n",
       "        text-align: right;\n",
       "    }\n",
       "</style>\n",
       "<table border=\"1\" class=\"dataframe\">\n",
       "  <thead>\n",
       "    <tr style=\"text-align: right;\">\n",
       "      <th></th>\n",
       "      <th>Pclass</th>\n",
       "      <th>Age</th>\n",
       "      <th>SibSp</th>\n",
       "      <th>Parch</th>\n",
       "      <th>Fare</th>\n",
       "      <th>Sex_male</th>\n",
       "      <th>Embarked_Q</th>\n",
       "      <th>Embarked_S</th>\n",
       "    </tr>\n",
       "  </thead>\n",
       "  <tbody>\n",
       "    <tr>\n",
       "      <th>0</th>\n",
       "      <td>3</td>\n",
       "      <td>22.000000</td>\n",
       "      <td>1</td>\n",
       "      <td>0</td>\n",
       "      <td>7.2500</td>\n",
       "      <td>1</td>\n",
       "      <td>0</td>\n",
       "      <td>1</td>\n",
       "    </tr>\n",
       "    <tr>\n",
       "      <th>1</th>\n",
       "      <td>1</td>\n",
       "      <td>38.000000</td>\n",
       "      <td>1</td>\n",
       "      <td>0</td>\n",
       "      <td>71.2833</td>\n",
       "      <td>0</td>\n",
       "      <td>0</td>\n",
       "      <td>0</td>\n",
       "    </tr>\n",
       "    <tr>\n",
       "      <th>2</th>\n",
       "      <td>3</td>\n",
       "      <td>26.000000</td>\n",
       "      <td>0</td>\n",
       "      <td>0</td>\n",
       "      <td>7.9250</td>\n",
       "      <td>0</td>\n",
       "      <td>0</td>\n",
       "      <td>1</td>\n",
       "    </tr>\n",
       "    <tr>\n",
       "      <th>3</th>\n",
       "      <td>1</td>\n",
       "      <td>35.000000</td>\n",
       "      <td>1</td>\n",
       "      <td>0</td>\n",
       "      <td>53.1000</td>\n",
       "      <td>0</td>\n",
       "      <td>0</td>\n",
       "      <td>1</td>\n",
       "    </tr>\n",
       "    <tr>\n",
       "      <th>4</th>\n",
       "      <td>3</td>\n",
       "      <td>35.000000</td>\n",
       "      <td>0</td>\n",
       "      <td>0</td>\n",
       "      <td>8.0500</td>\n",
       "      <td>1</td>\n",
       "      <td>0</td>\n",
       "      <td>1</td>\n",
       "    </tr>\n",
       "    <tr>\n",
       "      <th>...</th>\n",
       "      <td>...</td>\n",
       "      <td>...</td>\n",
       "      <td>...</td>\n",
       "      <td>...</td>\n",
       "      <td>...</td>\n",
       "      <td>...</td>\n",
       "      <td>...</td>\n",
       "      <td>...</td>\n",
       "    </tr>\n",
       "    <tr>\n",
       "      <th>886</th>\n",
       "      <td>2</td>\n",
       "      <td>27.000000</td>\n",
       "      <td>0</td>\n",
       "      <td>0</td>\n",
       "      <td>13.0000</td>\n",
       "      <td>1</td>\n",
       "      <td>0</td>\n",
       "      <td>1</td>\n",
       "    </tr>\n",
       "    <tr>\n",
       "      <th>887</th>\n",
       "      <td>1</td>\n",
       "      <td>19.000000</td>\n",
       "      <td>0</td>\n",
       "      <td>0</td>\n",
       "      <td>30.0000</td>\n",
       "      <td>0</td>\n",
       "      <td>0</td>\n",
       "      <td>1</td>\n",
       "    </tr>\n",
       "    <tr>\n",
       "      <th>888</th>\n",
       "      <td>3</td>\n",
       "      <td>29.699118</td>\n",
       "      <td>1</td>\n",
       "      <td>2</td>\n",
       "      <td>23.4500</td>\n",
       "      <td>0</td>\n",
       "      <td>0</td>\n",
       "      <td>1</td>\n",
       "    </tr>\n",
       "    <tr>\n",
       "      <th>889</th>\n",
       "      <td>1</td>\n",
       "      <td>26.000000</td>\n",
       "      <td>0</td>\n",
       "      <td>0</td>\n",
       "      <td>30.0000</td>\n",
       "      <td>1</td>\n",
       "      <td>0</td>\n",
       "      <td>0</td>\n",
       "    </tr>\n",
       "    <tr>\n",
       "      <th>890</th>\n",
       "      <td>3</td>\n",
       "      <td>32.000000</td>\n",
       "      <td>0</td>\n",
       "      <td>0</td>\n",
       "      <td>7.7500</td>\n",
       "      <td>1</td>\n",
       "      <td>1</td>\n",
       "      <td>0</td>\n",
       "    </tr>\n",
       "  </tbody>\n",
       "</table>\n",
       "<p>891 rows × 8 columns</p>\n",
       "</div>"
      ],
      "text/plain": [
       "     Pclass        Age  SibSp  Parch     Fare  Sex_male  Embarked_Q  \\\n",
       "0         3  22.000000      1      0   7.2500         1           0   \n",
       "1         1  38.000000      1      0  71.2833         0           0   \n",
       "2         3  26.000000      0      0   7.9250         0           0   \n",
       "3         1  35.000000      1      0  53.1000         0           0   \n",
       "4         3  35.000000      0      0   8.0500         1           0   \n",
       "..      ...        ...    ...    ...      ...       ...         ...   \n",
       "886       2  27.000000      0      0  13.0000         1           0   \n",
       "887       1  19.000000      0      0  30.0000         0           0   \n",
       "888       3  29.699118      1      2  23.4500         0           0   \n",
       "889       1  26.000000      0      0  30.0000         1           0   \n",
       "890       3  32.000000      0      0   7.7500         1           1   \n",
       "\n",
       "     Embarked_S  \n",
       "0             1  \n",
       "1             0  \n",
       "2             1  \n",
       "3             1  \n",
       "4             1  \n",
       "..          ...  \n",
       "886           1  \n",
       "887           1  \n",
       "888           1  \n",
       "889           0  \n",
       "890           0  \n",
       "\n",
       "[891 rows x 8 columns]"
      ]
     },
     "execution_count": 228,
     "metadata": {},
     "output_type": "execute_result"
    }
   ],
   "source": [
    "df_encoded_train"
   ]
  },
  {
   "cell_type": "markdown",
   "id": "f6e5b92f-d2ec-4472-b9c0-c65e3a572d4b",
   "metadata": {},
   "source": [
    "# Normalizasyon ve Standardizasyon"
   ]
  },
  {
   "cell_type": "code",
   "execution_count": 229,
   "id": "dd28644c-1ab7-4dd2-a1e4-db9ee4afee1b",
   "metadata": {},
   "outputs": [],
   "source": [
    "#Normalizasyon 0 ile 1 arasına dönüştürür\n",
    "# Aykırı değerlere duyarlıdır. Eğer kullanılacaksa aykırı değerlerle başa çıkmanın yolu bulunmalıdır\n",
    "# Özelliklerin sıralamasının veya orjinal dağılımının önemli olduğu durumlarda MinMaxScaler kullanılabilir.\n",
    "# KNN , SVM\n",
    "mscaler = MinMaxScaler()\n",
    "df_encoded_train = mscaler.fit_transform(df_encoded_train)\n",
    "df_encoded_test = mscaler.transform(df_encoded_test)"
   ]
  },
  {
   "cell_type": "code",
   "execution_count": 236,
   "id": "1bffb595-09db-41e4-b4e2-93b768eed3a8",
   "metadata": {},
   "outputs": [
    {
     "data": {
      "text/plain": [
       "array([[1.        , 0.29328622, 0.125     , ..., 1.        , 0.        ,\n",
       "        1.        ],\n",
       "       [0.        , 0.51073661, 0.125     , ..., 0.        , 0.        ,\n",
       "        0.        ],\n",
       "       [1.        , 0.34764882, 0.        , ..., 0.        , 0.        ,\n",
       "        1.        ],\n",
       "       ...,\n",
       "       [1.        , 0.39792223, 0.125     , ..., 0.        , 0.        ,\n",
       "        1.        ],\n",
       "       [0.        , 0.34764882, 0.        , ..., 1.        , 0.        ,\n",
       "        0.        ],\n",
       "       [1.        , 0.42919272, 0.        , ..., 1.        , 1.        ,\n",
       "        0.        ]])"
      ]
     },
     "execution_count": 236,
     "metadata": {},
     "output_type": "execute_result"
    }
   ],
   "source": [
    "df_encoded_train"
   ]
  },
  {
   "cell_type": "code",
   "execution_count": 178,
   "id": "b1bf7155-2432-42cc-ae3a-9430971964ce",
   "metadata": {},
   "outputs": [],
   "source": [
    "#Standardizasyon -1 ile 1\n",
    "# Aykırı değerlere karşı Min_maxScaler'dan daha dayanıklıdır.\n",
    "# Verilerin dağılımını normal dağılıma dönüştürür. Bu verilerin normal dağılımla dağıldığını kabul \n",
    "# eden modeller için önemlidir.\n",
    "# Lineer Modeller, Gaussian Naive Bayes\n",
    "scaler = StandardScaler()\n",
    "df_encoded_train = scaler.fit_transform(df_encoded_train)\n",
    "df_encoded_test = scaler.transform(df_encoded_test)"
   ]
  },
  {
   "cell_type": "code",
   "execution_count": null,
   "id": "4709c46b-540b-4ec4-9624-1097d4b5e646",
   "metadata": {},
   "outputs": [],
   "source": []
  },
  {
   "cell_type": "markdown",
   "id": "9189b097-a285-44f4-bb5e-f8e006ed69d9",
   "metadata": {},
   "source": [
    "# Naive Bayes ile Titanic Tahminleri"
   ]
  },
  {
   "cell_type": "code",
   "execution_count": 230,
   "id": "803759fa-1984-48ad-b330-d9b51cac0aa3",
   "metadata": {
    "scrolled": true
   },
   "outputs": [
    {
     "name": "stdout",
     "output_type": "stream",
     "text": [
      "Fitting 5 folds for each of 100 candidates, totalling 500 fits\n",
      "[CV 1/5] END .................var_smoothing=1.0;, score=0.726 total time=   0.0s\n",
      "[CV 2/5] END .................var_smoothing=1.0;, score=0.815 total time=   0.0s\n",
      "[CV 3/5] END .................var_smoothing=1.0;, score=0.815 total time=   0.0s\n",
      "[CV 4/5] END .................var_smoothing=1.0;, score=0.781 total time=   0.0s\n",
      "[CV 5/5] END .................var_smoothing=1.0;, score=0.826 total time=   0.0s\n",
      "[CV 1/5] END ..var_smoothing=0.8111308307896871;, score=0.726 total time=   0.0s\n",
      "[CV 2/5] END ..var_smoothing=0.8111308307896871;, score=0.815 total time=   0.0s\n",
      "[CV 3/5] END ..var_smoothing=0.8111308307896871;, score=0.826 total time=   0.0s\n",
      "[CV 4/5] END ..var_smoothing=0.8111308307896871;, score=0.764 total time=   0.0s\n",
      "[CV 5/5] END ..var_smoothing=0.8111308307896871;, score=0.820 total time=   0.0s\n",
      "[CV 1/5] END ...var_smoothing=0.657933224657568;, score=0.726 total time=   0.0s\n",
      "[CV 2/5] END ...var_smoothing=0.657933224657568;, score=0.809 total time=   0.0s\n",
      "[CV 3/5] END ...var_smoothing=0.657933224657568;, score=0.826 total time=   0.0s\n",
      "[CV 4/5] END ...var_smoothing=0.657933224657568;, score=0.758 total time=   0.0s\n",
      "[CV 5/5] END ...var_smoothing=0.657933224657568;, score=0.803 total time=   0.0s\n",
      "[CV 1/5] END ...var_smoothing=0.533669923120631;, score=0.726 total time=   0.0s\n",
      "[CV 2/5] END ...var_smoothing=0.533669923120631;, score=0.820 total time=   0.0s\n",
      "[CV 3/5] END ...var_smoothing=0.533669923120631;, score=0.809 total time=   0.0s\n",
      "[CV 4/5] END ...var_smoothing=0.533669923120631;, score=0.753 total time=   0.0s\n",
      "[CV 5/5] END ...var_smoothing=0.533669923120631;, score=0.803 total time=   0.0s\n",
      "[CV 1/5] END .var_smoothing=0.43287612810830584;, score=0.754 total time=   0.0s\n",
      "[CV 2/5] END .var_smoothing=0.43287612810830584;, score=0.820 total time=   0.0s\n",
      "[CV 3/5] END .var_smoothing=0.43287612810830584;, score=0.826 total time=   0.0s\n",
      "[CV 4/5] END .var_smoothing=0.43287612810830584;, score=0.753 total time=   0.0s\n",
      "[CV 5/5] END .var_smoothing=0.43287612810830584;, score=0.792 total time=   0.0s\n",
      "[CV 1/5] END ..var_smoothing=0.3511191734215131;, score=0.749 total time=   0.0s\n",
      "[CV 2/5] END ..var_smoothing=0.3511191734215131;, score=0.815 total time=   0.0s\n",
      "[CV 3/5] END ..var_smoothing=0.3511191734215131;, score=0.826 total time=   0.0s\n",
      "[CV 4/5] END ..var_smoothing=0.3511191734215131;, score=0.753 total time=   0.0s\n",
      "[CV 5/5] END ..var_smoothing=0.3511191734215131;, score=0.803 total time=   0.0s\n",
      "[CV 1/5] END ..var_smoothing=0.2848035868435802;, score=0.754 total time=   0.0s\n",
      "[CV 2/5] END ..var_smoothing=0.2848035868435802;, score=0.803 total time=   0.0s\n",
      "[CV 3/5] END ..var_smoothing=0.2848035868435802;, score=0.809 total time=   0.0s\n",
      "[CV 4/5] END ..var_smoothing=0.2848035868435802;, score=0.770 total time=   0.0s\n",
      "[CV 5/5] END ..var_smoothing=0.2848035868435802;, score=0.809 total time=   0.0s\n",
      "[CV 1/5] END .var_smoothing=0.23101297000831597;, score=0.737 total time=   0.0s\n",
      "[CV 2/5] END .var_smoothing=0.23101297000831597;, score=0.792 total time=   0.0s\n",
      "[CV 3/5] END .var_smoothing=0.23101297000831597;, score=0.792 total time=   0.0s\n",
      "[CV 4/5] END .var_smoothing=0.23101297000831597;, score=0.770 total time=   0.0s\n",
      "[CV 5/5] END .var_smoothing=0.23101297000831597;, score=0.798 total time=   0.0s\n",
      "[CV 1/5] END ..var_smoothing=0.1873817422860384;, score=0.732 total time=   0.0s\n",
      "[CV 2/5] END ..var_smoothing=0.1873817422860384;, score=0.787 total time=   0.0s\n",
      "[CV 3/5] END ..var_smoothing=0.1873817422860384;, score=0.787 total time=   0.0s\n",
      "[CV 4/5] END ..var_smoothing=0.1873817422860384;, score=0.770 total time=   0.0s\n",
      "[CV 5/5] END ..var_smoothing=0.1873817422860384;, score=0.798 total time=   0.0s\n",
      "[CV 1/5] END .var_smoothing=0.15199110829529336;, score=0.743 total time=   0.0s\n",
      "[CV 2/5] END .var_smoothing=0.15199110829529336;, score=0.787 total time=   0.0s\n",
      "[CV 3/5] END .var_smoothing=0.15199110829529336;, score=0.792 total time=   0.0s\n",
      "[CV 4/5] END .var_smoothing=0.15199110829529336;, score=0.781 total time=   0.0s\n",
      "[CV 5/5] END .var_smoothing=0.15199110829529336;, score=0.792 total time=   0.0s\n",
      "[CV 1/5] END .var_smoothing=0.12328467394420659;, score=0.732 total time=   0.0s\n",
      "[CV 2/5] END .var_smoothing=0.12328467394420659;, score=0.787 total time=   0.0s\n",
      "[CV 3/5] END .var_smoothing=0.12328467394420659;, score=0.792 total time=   0.0s\n",
      "[CV 4/5] END .var_smoothing=0.12328467394420659;, score=0.781 total time=   0.0s\n",
      "[CV 5/5] END .var_smoothing=0.12328467394420659;, score=0.792 total time=   0.0s\n",
      "[CV 1/5] END .................var_smoothing=0.1;, score=0.715 total time=   0.0s\n",
      "[CV 2/5] END .................var_smoothing=0.1;, score=0.792 total time=   0.0s\n",
      "[CV 3/5] END .................var_smoothing=0.1;, score=0.787 total time=   0.0s\n",
      "[CV 4/5] END .................var_smoothing=0.1;, score=0.781 total time=   0.0s\n",
      "[CV 5/5] END .................var_smoothing=0.1;, score=0.792 total time=   0.0s\n",
      "[CV 1/5] END .var_smoothing=0.08111308307896872;, score=0.715 total time=   0.0s\n",
      "[CV 2/5] END .var_smoothing=0.08111308307896872;, score=0.787 total time=   0.0s\n",
      "[CV 3/5] END .var_smoothing=0.08111308307896872;, score=0.787 total time=   0.0s\n",
      "[CV 4/5] END .var_smoothing=0.08111308307896872;, score=0.775 total time=   0.0s\n",
      "[CV 5/5] END .var_smoothing=0.08111308307896872;, score=0.792 total time=   0.0s\n",
      "[CV 1/5] END ..var_smoothing=0.0657933224657568;, score=0.709 total time=   0.0s\n",
      "[CV 2/5] END ..var_smoothing=0.0657933224657568;, score=0.787 total time=   0.0s\n",
      "[CV 3/5] END ..var_smoothing=0.0657933224657568;, score=0.781 total time=   0.0s\n",
      "[CV 4/5] END ..var_smoothing=0.0657933224657568;, score=0.775 total time=   0.0s\n",
      "[CV 5/5] END ..var_smoothing=0.0657933224657568;, score=0.792 total time=   0.0s\n",
      "[CV 1/5] END ..var_smoothing=0.0533669923120631;, score=0.693 total time=   0.0s\n",
      "[CV 2/5] END ..var_smoothing=0.0533669923120631;, score=0.787 total time=   0.0s\n",
      "[CV 3/5] END ..var_smoothing=0.0533669923120631;, score=0.775 total time=   0.0s\n",
      "[CV 4/5] END ..var_smoothing=0.0533669923120631;, score=0.787 total time=   0.0s\n",
      "[CV 5/5] END ..var_smoothing=0.0533669923120631;, score=0.792 total time=   0.0s\n",
      "[CV 1/5] END .var_smoothing=0.04328761281083057;, score=0.682 total time=   0.0s\n",
      "[CV 2/5] END .var_smoothing=0.04328761281083057;, score=0.787 total time=   0.0s\n",
      "[CV 3/5] END .var_smoothing=0.04328761281083057;, score=0.770 total time=   0.0s\n",
      "[CV 4/5] END .var_smoothing=0.04328761281083057;, score=0.787 total time=   0.0s\n",
      "[CV 5/5] END .var_smoothing=0.04328761281083057;, score=0.792 total time=   0.0s\n",
      "[CV 1/5] END .var_smoothing=0.03511191734215131;, score=0.682 total time=   0.0s\n",
      "[CV 2/5] END .var_smoothing=0.03511191734215131;, score=0.787 total time=   0.0s\n",
      "[CV 3/5] END .var_smoothing=0.03511191734215131;, score=0.770 total time=   0.0s\n",
      "[CV 4/5] END .var_smoothing=0.03511191734215131;, score=0.792 total time=   0.0s\n",
      "[CV 5/5] END .var_smoothing=0.03511191734215131;, score=0.792 total time=   0.0s\n",
      "[CV 1/5] END .var_smoothing=0.02848035868435802;, score=0.676 total time=   0.0s\n",
      "[CV 2/5] END .var_smoothing=0.02848035868435802;, score=0.787 total time=   0.0s\n",
      "[CV 3/5] END .var_smoothing=0.02848035868435802;, score=0.770 total time=   0.0s\n",
      "[CV 4/5] END .var_smoothing=0.02848035868435802;, score=0.792 total time=   0.0s\n",
      "[CV 5/5] END .var_smoothing=0.02848035868435802;, score=0.792 total time=   0.0s\n",
      "[CV 1/5] END .var_smoothing=0.02310129700083159;, score=0.670 total time=   0.0s\n",
      "[CV 2/5] END .var_smoothing=0.02310129700083159;, score=0.787 total time=   0.0s\n",
      "[CV 3/5] END .var_smoothing=0.02310129700083159;, score=0.770 total time=   0.0s\n",
      "[CV 4/5] END .var_smoothing=0.02310129700083159;, score=0.798 total time=   0.0s\n",
      "[CV 5/5] END .var_smoothing=0.02310129700083159;, score=0.787 total time=   0.0s\n",
      "[CV 1/5] END .var_smoothing=0.01873817422860384;, score=0.670 total time=   0.0s\n",
      "[CV 2/5] END .var_smoothing=0.01873817422860384;, score=0.775 total time=   0.0s\n",
      "[CV 3/5] END .var_smoothing=0.01873817422860384;, score=0.770 total time=   0.0s\n",
      "[CV 4/5] END .var_smoothing=0.01873817422860384;, score=0.798 total time=   0.0s\n",
      "[CV 5/5] END .var_smoothing=0.01873817422860384;, score=0.787 total time=   0.0s\n",
      "[CV 1/5] END .var_smoothing=0.01519911082952933;, score=0.676 total time=   0.0s\n",
      "[CV 2/5] END .var_smoothing=0.01519911082952933;, score=0.775 total time=   0.0s\n",
      "[CV 3/5] END .var_smoothing=0.01519911082952933;, score=0.770 total time=   0.0s\n",
      "[CV 4/5] END .var_smoothing=0.01519911082952933;, score=0.798 total time=   0.0s\n",
      "[CV 5/5] END .var_smoothing=0.01519911082952933;, score=0.787 total time=   0.0s\n",
      "[CV 1/5] END var_smoothing=0.012328467394420659;, score=0.676 total time=   0.0s\n",
      "[CV 2/5] END var_smoothing=0.012328467394420659;, score=0.775 total time=   0.0s\n",
      "[CV 3/5] END var_smoothing=0.012328467394420659;, score=0.770 total time=   0.0s\n",
      "[CV 4/5] END var_smoothing=0.012328467394420659;, score=0.798 total time=   0.0s\n",
      "[CV 5/5] END var_smoothing=0.012328467394420659;, score=0.787 total time=   0.0s\n",
      "[CV 1/5] END ................var_smoothing=0.01;, score=0.676 total time=   0.0s\n",
      "[CV 2/5] END ................var_smoothing=0.01;, score=0.775 total time=   0.0s\n",
      "[CV 3/5] END ................var_smoothing=0.01;, score=0.770 total time=   0.0s\n",
      "[CV 4/5] END ................var_smoothing=0.01;, score=0.798 total time=   0.0s\n",
      "[CV 5/5] END ................var_smoothing=0.01;, score=0.787 total time=   0.0s\n",
      "[CV 1/5] END var_smoothing=0.008111308307896872;, score=0.676 total time=   0.0s\n",
      "[CV 2/5] END var_smoothing=0.008111308307896872;, score=0.775 total time=   0.0s\n",
      "[CV 3/5] END var_smoothing=0.008111308307896872;, score=0.770 total time=   0.0s\n",
      "[CV 4/5] END var_smoothing=0.008111308307896872;, score=0.798 total time=   0.0s\n",
      "[CV 5/5] END var_smoothing=0.008111308307896872;, score=0.792 total time=   0.0s\n",
      "[CV 1/5] END var_smoothing=0.006579332246575682;, score=0.676 total time=   0.0s\n",
      "[CV 2/5] END var_smoothing=0.006579332246575682;, score=0.775 total time=   0.0s\n",
      "[CV 3/5] END var_smoothing=0.006579332246575682;, score=0.770 total time=   0.0s\n",
      "[CV 4/5] END var_smoothing=0.006579332246575682;, score=0.798 total time=   0.0s\n",
      "[CV 5/5] END var_smoothing=0.006579332246575682;, score=0.792 total time=   0.0s\n",
      "[CV 1/5] END var_smoothing=0.005336699231206307;, score=0.676 total time=   0.0s\n",
      "[CV 2/5] END var_smoothing=0.005336699231206307;, score=0.770 total time=   0.0s\n",
      "[CV 3/5] END var_smoothing=0.005336699231206307;, score=0.770 total time=   0.0s\n",
      "[CV 4/5] END var_smoothing=0.005336699231206307;, score=0.798 total time=   0.0s\n",
      "[CV 5/5] END var_smoothing=0.005336699231206307;, score=0.792 total time=   0.0s\n",
      "[CV 1/5] END var_smoothing=0.004328761281083057;, score=0.682 total time=   0.0s\n",
      "[CV 2/5] END var_smoothing=0.004328761281083057;, score=0.770 total time=   0.0s\n",
      "[CV 3/5] END var_smoothing=0.004328761281083057;, score=0.770 total time=   0.0s\n",
      "[CV 4/5] END var_smoothing=0.004328761281083057;, score=0.798 total time=   0.0s\n",
      "[CV 5/5] END var_smoothing=0.004328761281083057;, score=0.792 total time=   0.0s\n",
      "[CV 1/5] END var_smoothing=0.003511191734215131;, score=0.682 total time=   0.0s\n",
      "[CV 2/5] END var_smoothing=0.003511191734215131;, score=0.770 total time=   0.0s\n",
      "[CV 3/5] END var_smoothing=0.003511191734215131;, score=0.770 total time=   0.0s\n",
      "[CV 4/5] END var_smoothing=0.003511191734215131;, score=0.798 total time=   0.0s\n",
      "[CV 5/5] END var_smoothing=0.003511191734215131;, score=0.792 total time=   0.0s\n",
      "[CV 1/5] END var_smoothing=0.002848035868435802;, score=0.682 total time=   0.0s\n",
      "[CV 2/5] END var_smoothing=0.002848035868435802;, score=0.770 total time=   0.0s\n",
      "[CV 3/5] END var_smoothing=0.002848035868435802;, score=0.770 total time=   0.0s\n",
      "[CV 4/5] END var_smoothing=0.002848035868435802;, score=0.798 total time=   0.0s\n",
      "[CV 5/5] END var_smoothing=0.002848035868435802;, score=0.792 total time=   0.0s\n",
      "[CV 1/5] END var_smoothing=0.0023101297000831605;, score=0.682 total time=   0.0s\n",
      "[CV 2/5] END var_smoothing=0.0023101297000831605;, score=0.770 total time=   0.0s\n",
      "[CV 3/5] END var_smoothing=0.0023101297000831605;, score=0.770 total time=   0.0s\n",
      "[CV 4/5] END var_smoothing=0.0023101297000831605;, score=0.798 total time=   0.0s\n",
      "[CV 5/5] END var_smoothing=0.0023101297000831605;, score=0.792 total time=   0.0s\n",
      "[CV 1/5] END var_smoothing=0.001873817422860383;, score=0.682 total time=   0.0s\n",
      "[CV 2/5] END var_smoothing=0.001873817422860383;, score=0.770 total time=   0.0s\n",
      "[CV 3/5] END var_smoothing=0.001873817422860383;, score=0.770 total time=   0.0s\n",
      "[CV 4/5] END var_smoothing=0.001873817422860383;, score=0.798 total time=   0.0s\n",
      "[CV 5/5] END var_smoothing=0.001873817422860383;, score=0.792 total time=   0.0s\n",
      "[CV 1/5] END var_smoothing=0.0015199110829529332;, score=0.682 total time=   0.0s\n",
      "[CV 2/5] END var_smoothing=0.0015199110829529332;, score=0.770 total time=   0.0s\n",
      "[CV 3/5] END var_smoothing=0.0015199110829529332;, score=0.770 total time=   0.0s\n",
      "[CV 4/5] END var_smoothing=0.0015199110829529332;, score=0.803 total time=   0.0s\n",
      "[CV 5/5] END var_smoothing=0.0015199110829529332;, score=0.792 total time=   0.0s\n",
      "[CV 1/5] END var_smoothing=0.0012328467394420659;, score=0.682 total time=   0.0s\n",
      "[CV 2/5] END var_smoothing=0.0012328467394420659;, score=0.770 total time=   0.0s\n",
      "[CV 3/5] END var_smoothing=0.0012328467394420659;, score=0.770 total time=   0.0s\n",
      "[CV 4/5] END var_smoothing=0.0012328467394420659;, score=0.803 total time=   0.0s\n",
      "[CV 5/5] END var_smoothing=0.0012328467394420659;, score=0.792 total time=   0.0s\n",
      "[CV 1/5] END ...............var_smoothing=0.001;, score=0.682 total time=   0.0s\n",
      "[CV 2/5] END ...............var_smoothing=0.001;, score=0.770 total time=   0.0s\n",
      "[CV 3/5] END ...............var_smoothing=0.001;, score=0.770 total time=   0.0s\n",
      "[CV 4/5] END ...............var_smoothing=0.001;, score=0.803 total time=   0.0s\n",
      "[CV 5/5] END ...............var_smoothing=0.001;, score=0.792 total time=   0.0s\n",
      "[CV 1/5] END var_smoothing=0.0008111308307896872;, score=0.682 total time=   0.0s\n",
      "[CV 2/5] END var_smoothing=0.0008111308307896872;, score=0.770 total time=   0.0s\n",
      "[CV 3/5] END var_smoothing=0.0008111308307896872;, score=0.770 total time=   0.0s\n",
      "[CV 4/5] END var_smoothing=0.0008111308307896872;, score=0.803 total time=   0.0s\n",
      "[CV 5/5] END var_smoothing=0.0008111308307896872;, score=0.792 total time=   0.0s\n",
      "[CV 1/5] END var_smoothing=0.0006579332246575676;, score=0.682 total time=   0.0s\n",
      "[CV 2/5] END var_smoothing=0.0006579332246575676;, score=0.770 total time=   0.0s\n",
      "[CV 3/5] END var_smoothing=0.0006579332246575676;, score=0.770 total time=   0.0s\n",
      "[CV 4/5] END var_smoothing=0.0006579332246575676;, score=0.803 total time=   0.0s\n",
      "[CV 5/5] END var_smoothing=0.0006579332246575676;, score=0.792 total time=   0.0s\n",
      "[CV 1/5] END var_smoothing=0.0005336699231206307;, score=0.682 total time=   0.0s\n",
      "[CV 2/5] END var_smoothing=0.0005336699231206307;, score=0.770 total time=   0.0s\n",
      "[CV 3/5] END var_smoothing=0.0005336699231206307;, score=0.770 total time=   0.0s\n",
      "[CV 4/5] END var_smoothing=0.0005336699231206307;, score=0.803 total time=   0.0s\n",
      "[CV 5/5] END var_smoothing=0.0005336699231206307;, score=0.792 total time=   0.0s\n",
      "[CV 1/5] END var_smoothing=0.0004328761281083057;, score=0.682 total time=   0.0s\n",
      "[CV 2/5] END var_smoothing=0.0004328761281083057;, score=0.770 total time=   0.0s\n",
      "[CV 3/5] END var_smoothing=0.0004328761281083057;, score=0.770 total time=   0.0s\n",
      "[CV 4/5] END var_smoothing=0.0004328761281083057;, score=0.803 total time=   0.0s\n",
      "[CV 5/5] END var_smoothing=0.0004328761281083057;, score=0.792 total time=   0.0s\n",
      "[CV 1/5] END var_smoothing=0.0003511191734215131;, score=0.682 total time=   0.0s\n",
      "[CV 2/5] END var_smoothing=0.0003511191734215131;, score=0.770 total time=   0.0s\n",
      "[CV 3/5] END var_smoothing=0.0003511191734215131;, score=0.770 total time=   0.0s\n",
      "[CV 4/5] END var_smoothing=0.0003511191734215131;, score=0.803 total time=   0.0s\n",
      "[CV 5/5] END var_smoothing=0.0003511191734215131;, score=0.792 total time=   0.0s\n",
      "[CV 1/5] END var_smoothing=0.0002848035868435802;, score=0.682 total time=   0.0s\n",
      "[CV 2/5] END var_smoothing=0.0002848035868435802;, score=0.770 total time=   0.0s\n",
      "[CV 3/5] END var_smoothing=0.0002848035868435802;, score=0.770 total time=   0.0s\n",
      "[CV 4/5] END var_smoothing=0.0002848035868435802;, score=0.803 total time=   0.0s\n",
      "[CV 5/5] END var_smoothing=0.0002848035868435802;, score=0.792 total time=   0.0s\n",
      "[CV 1/5] END var_smoothing=0.0002310129700083158;, score=0.682 total time=   0.0s\n",
      "[CV 2/5] END var_smoothing=0.0002310129700083158;, score=0.770 total time=   0.0s\n",
      "[CV 3/5] END var_smoothing=0.0002310129700083158;, score=0.770 total time=   0.0s\n",
      "[CV 4/5] END var_smoothing=0.0002310129700083158;, score=0.803 total time=   0.0s\n",
      "[CV 5/5] END var_smoothing=0.0002310129700083158;, score=0.792 total time=   0.0s\n",
      "[CV 1/5] END var_smoothing=0.0001873817422860383;, score=0.682 total time=   0.0s\n",
      "[CV 2/5] END var_smoothing=0.0001873817422860383;, score=0.770 total time=   0.0s\n",
      "[CV 3/5] END var_smoothing=0.0001873817422860383;, score=0.770 total time=   0.0s\n",
      "[CV 4/5] END var_smoothing=0.0001873817422860383;, score=0.803 total time=   0.0s\n",
      "[CV 5/5] END var_smoothing=0.0001873817422860383;, score=0.792 total time=   0.0s\n",
      "[CV 1/5] END var_smoothing=0.0001519911082952933;, score=0.682 total time=   0.0s\n",
      "[CV 2/5] END var_smoothing=0.0001519911082952933;, score=0.770 total time=   0.0s\n",
      "[CV 3/5] END var_smoothing=0.0001519911082952933;, score=0.770 total time=   0.0s\n",
      "[CV 4/5] END var_smoothing=0.0001519911082952933;, score=0.803 total time=   0.0s\n",
      "[CV 5/5] END var_smoothing=0.0001519911082952933;, score=0.792 total time=   0.0s\n",
      "[CV 1/5] END var_smoothing=0.0001232846739442066;, score=0.682 total time=   0.0s\n",
      "[CV 2/5] END var_smoothing=0.0001232846739442066;, score=0.770 total time=   0.0s\n",
      "[CV 3/5] END var_smoothing=0.0001232846739442066;, score=0.770 total time=   0.0s\n",
      "[CV 4/5] END var_smoothing=0.0001232846739442066;, score=0.803 total time=   0.0s\n",
      "[CV 5/5] END var_smoothing=0.0001232846739442066;, score=0.792 total time=   0.0s\n",
      "[CV 1/5] END ..............var_smoothing=0.0001;, score=0.682 total time=   0.0s\n",
      "[CV 2/5] END ..............var_smoothing=0.0001;, score=0.770 total time=   0.0s\n",
      "[CV 3/5] END ..............var_smoothing=0.0001;, score=0.770 total time=   0.0s\n",
      "[CV 4/5] END ..............var_smoothing=0.0001;, score=0.803 total time=   0.0s\n",
      "[CV 5/5] END ..............var_smoothing=0.0001;, score=0.792 total time=   0.0s\n",
      "[CV 1/5] END var_smoothing=8.111308307896872e-05;, score=0.682 total time=   0.0s\n",
      "[CV 2/5] END var_smoothing=8.111308307896872e-05;, score=0.770 total time=   0.0s\n",
      "[CV 3/5] END var_smoothing=8.111308307896872e-05;, score=0.770 total time=   0.0s\n",
      "[CV 4/5] END var_smoothing=8.111308307896872e-05;, score=0.803 total time=   0.0s\n",
      "[CV 5/5] END var_smoothing=8.111308307896872e-05;, score=0.792 total time=   0.0s\n",
      "[CV 1/5] END var_smoothing=6.579332246575683e-05;, score=0.682 total time=   0.0s\n",
      "[CV 2/5] END var_smoothing=6.579332246575683e-05;, score=0.770 total time=   0.0s\n",
      "[CV 3/5] END var_smoothing=6.579332246575683e-05;, score=0.770 total time=   0.0s\n",
      "[CV 4/5] END var_smoothing=6.579332246575683e-05;, score=0.803 total time=   0.0s\n",
      "[CV 5/5] END var_smoothing=6.579332246575683e-05;, score=0.792 total time=   0.0s\n",
      "[CV 1/5] END var_smoothing=5.3366992312063123e-05;, score=0.682 total time=   0.0s\n",
      "[CV 2/5] END var_smoothing=5.3366992312063123e-05;, score=0.770 total time=   0.0s\n",
      "[CV 3/5] END var_smoothing=5.3366992312063123e-05;, score=0.770 total time=   0.0s\n",
      "[CV 4/5] END var_smoothing=5.3366992312063123e-05;, score=0.803 total time=   0.0s\n",
      "[CV 5/5] END var_smoothing=5.3366992312063123e-05;, score=0.792 total time=   0.0s\n",
      "[CV 1/5] END var_smoothing=4.328761281083062e-05;, score=0.682 total time=   0.0s\n",
      "[CV 2/5] END var_smoothing=4.328761281083062e-05;, score=0.770 total time=   0.0s\n",
      "[CV 3/5] END var_smoothing=4.328761281083062e-05;, score=0.770 total time=   0.0s\n",
      "[CV 4/5] END var_smoothing=4.328761281083062e-05;, score=0.803 total time=   0.0s\n",
      "[CV 5/5] END var_smoothing=4.328761281083062e-05;, score=0.792 total time=   0.0s\n",
      "[CV 1/5] END var_smoothing=3.511191734215127e-05;, score=0.682 total time=   0.0s\n",
      "[CV 2/5] END var_smoothing=3.511191734215127e-05;, score=0.770 total time=   0.0s\n",
      "[CV 3/5] END var_smoothing=3.511191734215127e-05;, score=0.770 total time=   0.0s\n",
      "[CV 4/5] END var_smoothing=3.511191734215127e-05;, score=0.803 total time=   0.0s\n",
      "[CV 5/5] END var_smoothing=3.511191734215127e-05;, score=0.792 total time=   0.0s\n",
      "[CV 1/5] END var_smoothing=2.848035868435799e-05;, score=0.682 total time=   0.0s\n",
      "[CV 2/5] END var_smoothing=2.848035868435799e-05;, score=0.770 total time=   0.0s\n",
      "[CV 3/5] END var_smoothing=2.848035868435799e-05;, score=0.770 total time=   0.0s\n",
      "[CV 4/5] END var_smoothing=2.848035868435799e-05;, score=0.803 total time=   0.0s\n",
      "[CV 5/5] END var_smoothing=2.848035868435799e-05;, score=0.792 total time=   0.0s\n",
      "[CV 1/5] END var_smoothing=2.310129700083158e-05;, score=0.682 total time=   0.0s\n",
      "[CV 2/5] END var_smoothing=2.310129700083158e-05;, score=0.770 total time=   0.0s\n",
      "[CV 3/5] END var_smoothing=2.310129700083158e-05;, score=0.770 total time=   0.0s\n",
      "[CV 4/5] END var_smoothing=2.310129700083158e-05;, score=0.803 total time=   0.0s\n",
      "[CV 5/5] END var_smoothing=2.310129700083158e-05;, score=0.792 total time=   0.0s\n",
      "[CV 1/5] END var_smoothing=1.873817422860383e-05;, score=0.682 total time=   0.0s\n",
      "[CV 2/5] END var_smoothing=1.873817422860383e-05;, score=0.770 total time=   0.0s\n",
      "[CV 3/5] END var_smoothing=1.873817422860383e-05;, score=0.770 total time=   0.0s\n",
      "[CV 4/5] END var_smoothing=1.873817422860383e-05;, score=0.803 total time=   0.0s\n",
      "[CV 5/5] END var_smoothing=1.873817422860383e-05;, score=0.792 total time=   0.0s\n",
      "[CV 1/5] END var_smoothing=1.5199110829529332e-05;, score=0.682 total time=   0.0s\n",
      "[CV 2/5] END var_smoothing=1.5199110829529332e-05;, score=0.770 total time=   0.0s\n",
      "[CV 3/5] END var_smoothing=1.5199110829529332e-05;, score=0.770 total time=   0.0s\n",
      "[CV 4/5] END var_smoothing=1.5199110829529332e-05;, score=0.803 total time=   0.0s\n",
      "[CV 5/5] END var_smoothing=1.5199110829529332e-05;, score=0.792 total time=   0.0s\n",
      "[CV 1/5] END var_smoothing=1.2328467394420658e-05;, score=0.682 total time=   0.0s\n",
      "[CV 2/5] END var_smoothing=1.2328467394420658e-05;, score=0.770 total time=   0.0s\n",
      "[CV 3/5] END var_smoothing=1.2328467394420658e-05;, score=0.770 total time=   0.0s\n",
      "[CV 4/5] END var_smoothing=1.2328467394420658e-05;, score=0.803 total time=   0.0s\n",
      "[CV 5/5] END var_smoothing=1.2328467394420658e-05;, score=0.792 total time=   0.0s\n",
      "[CV 1/5] END ...............var_smoothing=1e-05;, score=0.682 total time=   0.0s\n",
      "[CV 2/5] END ...............var_smoothing=1e-05;, score=0.770 total time=   0.0s\n",
      "[CV 3/5] END ...............var_smoothing=1e-05;, score=0.770 total time=   0.0s\n",
      "[CV 4/5] END ...............var_smoothing=1e-05;, score=0.803 total time=   0.0s\n",
      "[CV 5/5] END ...............var_smoothing=1e-05;, score=0.792 total time=   0.0s\n",
      "[CV 1/5] END var_smoothing=8.111308307896873e-06;, score=0.682 total time=   0.0s\n",
      "[CV 2/5] END var_smoothing=8.111308307896873e-06;, score=0.770 total time=   0.0s\n",
      "[CV 3/5] END var_smoothing=8.111308307896873e-06;, score=0.770 total time=   0.0s\n",
      "[CV 4/5] END var_smoothing=8.111308307896873e-06;, score=0.803 total time=   0.0s\n",
      "[CV 5/5] END var_smoothing=8.111308307896873e-06;, score=0.792 total time=   0.0s\n",
      "[CV 1/5] END var_smoothing=6.579332246575683e-06;, score=0.682 total time=   0.0s\n",
      "[CV 2/5] END var_smoothing=6.579332246575683e-06;, score=0.770 total time=   0.0s\n",
      "[CV 3/5] END var_smoothing=6.579332246575683e-06;, score=0.770 total time=   0.0s\n",
      "[CV 4/5] END var_smoothing=6.579332246575683e-06;, score=0.803 total time=   0.0s\n",
      "[CV 5/5] END var_smoothing=6.579332246575683e-06;, score=0.792 total time=   0.0s\n",
      "[CV 1/5] END var_smoothing=5.336699231206313e-06;, score=0.682 total time=   0.0s\n",
      "[CV 2/5] END var_smoothing=5.336699231206313e-06;, score=0.770 total time=   0.0s\n",
      "[CV 3/5] END var_smoothing=5.336699231206313e-06;, score=0.770 total time=   0.0s\n",
      "[CV 4/5] END var_smoothing=5.336699231206313e-06;, score=0.803 total time=   0.0s\n",
      "[CV 5/5] END var_smoothing=5.336699231206313e-06;, score=0.792 total time=   0.0s\n",
      "[CV 1/5] END var_smoothing=4.328761281083053e-06;, score=0.682 total time=   0.0s\n",
      "[CV 2/5] END var_smoothing=4.328761281083053e-06;, score=0.770 total time=   0.0s\n",
      "[CV 3/5] END var_smoothing=4.328761281083053e-06;, score=0.770 total time=   0.0s\n",
      "[CV 4/5] END var_smoothing=4.328761281083053e-06;, score=0.803 total time=   0.0s\n",
      "[CV 5/5] END var_smoothing=4.328761281083053e-06;, score=0.792 total time=   0.0s\n",
      "[CV 1/5] END var_smoothing=3.5111917342151275e-06;, score=0.682 total time=   0.0s\n",
      "[CV 2/5] END var_smoothing=3.5111917342151275e-06;, score=0.770 total time=   0.0s\n",
      "[CV 3/5] END var_smoothing=3.5111917342151275e-06;, score=0.770 total time=   0.0s\n",
      "[CV 4/5] END var_smoothing=3.5111917342151275e-06;, score=0.803 total time=   0.0s\n",
      "[CV 5/5] END var_smoothing=3.5111917342151275e-06;, score=0.792 total time=   0.0s\n",
      "[CV 1/5] END var_smoothing=2.848035868435799e-06;, score=0.682 total time=   0.0s\n",
      "[CV 2/5] END var_smoothing=2.848035868435799e-06;, score=0.770 total time=   0.0s\n",
      "[CV 3/5] END var_smoothing=2.848035868435799e-06;, score=0.770 total time=   0.0s\n",
      "[CV 4/5] END var_smoothing=2.848035868435799e-06;, score=0.803 total time=   0.0s\n",
      "[CV 5/5] END var_smoothing=2.848035868435799e-06;, score=0.792 total time=   0.0s\n",
      "[CV 1/5] END var_smoothing=2.310129700083158e-06;, score=0.682 total time=   0.0s\n",
      "[CV 2/5] END var_smoothing=2.310129700083158e-06;, score=0.770 total time=   0.0s\n",
      "[CV 3/5] END var_smoothing=2.310129700083158e-06;, score=0.770 total time=   0.0s\n",
      "[CV 4/5] END var_smoothing=2.310129700083158e-06;, score=0.803 total time=   0.0s\n",
      "[CV 5/5] END var_smoothing=2.310129700083158e-06;, score=0.792 total time=   0.0s\n",
      "[CV 1/5] END var_smoothing=1.873817422860383e-06;, score=0.682 total time=   0.0s\n",
      "[CV 2/5] END var_smoothing=1.873817422860383e-06;, score=0.770 total time=   0.0s\n",
      "[CV 3/5] END var_smoothing=1.873817422860383e-06;, score=0.770 total time=   0.0s\n",
      "[CV 4/5] END var_smoothing=1.873817422860383e-06;, score=0.803 total time=   0.0s\n",
      "[CV 5/5] END var_smoothing=1.873817422860383e-06;, score=0.792 total time=   0.0s\n",
      "[CV 1/5] END var_smoothing=1.519911082952933e-06;, score=0.682 total time=   0.0s\n",
      "[CV 2/5] END var_smoothing=1.519911082952933e-06;, score=0.770 total time=   0.0s\n",
      "[CV 3/5] END var_smoothing=1.519911082952933e-06;, score=0.770 total time=   0.0s\n",
      "[CV 4/5] END var_smoothing=1.519911082952933e-06;, score=0.803 total time=   0.0s\n",
      "[CV 5/5] END var_smoothing=1.519911082952933e-06;, score=0.792 total time=   0.0s\n",
      "[CV 1/5] END var_smoothing=1.232846739442066e-06;, score=0.682 total time=   0.0s\n",
      "[CV 2/5] END var_smoothing=1.232846739442066e-06;, score=0.770 total time=   0.0s\n",
      "[CV 3/5] END var_smoothing=1.232846739442066e-06;, score=0.770 total time=   0.0s\n",
      "[CV 4/5] END var_smoothing=1.232846739442066e-06;, score=0.803 total time=   0.0s\n",
      "[CV 5/5] END var_smoothing=1.232846739442066e-06;, score=0.792 total time=   0.0s\n",
      "[CV 1/5] END ...............var_smoothing=1e-06;, score=0.682 total time=   0.0s\n",
      "[CV 2/5] END ...............var_smoothing=1e-06;, score=0.770 total time=   0.0s\n",
      "[CV 3/5] END ...............var_smoothing=1e-06;, score=0.770 total time=   0.0s\n",
      "[CV 4/5] END ...............var_smoothing=1e-06;, score=0.803 total time=   0.0s\n",
      "[CV 5/5] END ...............var_smoothing=1e-06;, score=0.792 total time=   0.0s\n",
      "[CV 1/5] END var_smoothing=8.111308307896872e-07;, score=0.682 total time=   0.0s\n",
      "[CV 2/5] END var_smoothing=8.111308307896872e-07;, score=0.770 total time=   0.0s\n",
      "[CV 3/5] END var_smoothing=8.111308307896872e-07;, score=0.770 total time=   0.0s\n",
      "[CV 4/5] END var_smoothing=8.111308307896872e-07;, score=0.803 total time=   0.0s\n",
      "[CV 5/5] END var_smoothing=8.111308307896872e-07;, score=0.792 total time=   0.0s\n",
      "[CV 1/5] END var_smoothing=6.579332246575682e-07;, score=0.682 total time=   0.0s\n",
      "[CV 2/5] END var_smoothing=6.579332246575682e-07;, score=0.770 total time=   0.0s\n",
      "[CV 3/5] END var_smoothing=6.579332246575682e-07;, score=0.770 total time=   0.0s\n",
      "[CV 4/5] END var_smoothing=6.579332246575682e-07;, score=0.803 total time=   0.0s\n",
      "[CV 5/5] END var_smoothing=6.579332246575682e-07;, score=0.792 total time=   0.0s\n",
      "[CV 1/5] END var_smoothing=5.336699231206313e-07;, score=0.682 total time=   0.0s\n",
      "[CV 2/5] END var_smoothing=5.336699231206313e-07;, score=0.770 total time=   0.0s\n",
      "[CV 3/5] END var_smoothing=5.336699231206313e-07;, score=0.770 total time=   0.0s\n",
      "[CV 4/5] END var_smoothing=5.336699231206313e-07;, score=0.803 total time=   0.0s\n",
      "[CV 5/5] END var_smoothing=5.336699231206313e-07;, score=0.792 total time=   0.0s\n",
      "[CV 1/5] END var_smoothing=4.3287612810830526e-07;, score=0.682 total time=   0.0s\n",
      "[CV 2/5] END var_smoothing=4.3287612810830526e-07;, score=0.770 total time=   0.0s\n",
      "[CV 3/5] END var_smoothing=4.3287612810830526e-07;, score=0.770 total time=   0.0s\n",
      "[CV 4/5] END var_smoothing=4.3287612810830526e-07;, score=0.803 total time=   0.0s\n",
      "[CV 5/5] END var_smoothing=4.3287612810830526e-07;, score=0.792 total time=   0.0s\n",
      "[CV 1/5] END var_smoothing=3.5111917342151277e-07;, score=0.682 total time=   0.0s\n",
      "[CV 2/5] END var_smoothing=3.5111917342151277e-07;, score=0.770 total time=   0.0s\n",
      "[CV 3/5] END var_smoothing=3.5111917342151277e-07;, score=0.770 total time=   0.0s\n",
      "[CV 4/5] END var_smoothing=3.5111917342151277e-07;, score=0.803 total time=   0.0s\n",
      "[CV 5/5] END var_smoothing=3.5111917342151277e-07;, score=0.792 total time=   0.0s\n",
      "[CV 1/5] END var_smoothing=2.848035868435799e-07;, score=0.682 total time=   0.0s\n",
      "[CV 2/5] END var_smoothing=2.848035868435799e-07;, score=0.770 total time=   0.0s\n",
      "[CV 3/5] END var_smoothing=2.848035868435799e-07;, score=0.770 total time=   0.0s\n",
      "[CV 4/5] END var_smoothing=2.848035868435799e-07;, score=0.803 total time=   0.0s\n",
      "[CV 5/5] END var_smoothing=2.848035868435799e-07;, score=0.792 total time=   0.0s\n",
      "[CV 1/5] END var_smoothing=2.310129700083158e-07;, score=0.682 total time=   0.0s\n",
      "[CV 2/5] END var_smoothing=2.310129700083158e-07;, score=0.770 total time=   0.0s\n",
      "[CV 3/5] END var_smoothing=2.310129700083158e-07;, score=0.770 total time=   0.0s\n",
      "[CV 4/5] END var_smoothing=2.310129700083158e-07;, score=0.803 total time=   0.0s\n",
      "[CV 5/5] END var_smoothing=2.310129700083158e-07;, score=0.792 total time=   0.0s\n",
      "[CV 1/5] END var_smoothing=1.873817422860383e-07;, score=0.682 total time=   0.0s\n",
      "[CV 2/5] END var_smoothing=1.873817422860383e-07;, score=0.770 total time=   0.0s\n",
      "[CV 3/5] END var_smoothing=1.873817422860383e-07;, score=0.770 total time=   0.0s\n",
      "[CV 4/5] END var_smoothing=1.873817422860383e-07;, score=0.803 total time=   0.0s\n",
      "[CV 5/5] END var_smoothing=1.873817422860383e-07;, score=0.792 total time=   0.0s\n",
      "[CV 1/5] END var_smoothing=1.519911082952933e-07;, score=0.682 total time=   0.0s\n",
      "[CV 2/5] END var_smoothing=1.519911082952933e-07;, score=0.770 total time=   0.0s\n",
      "[CV 3/5] END var_smoothing=1.519911082952933e-07;, score=0.770 total time=   0.0s\n",
      "[CV 4/5] END var_smoothing=1.519911082952933e-07;, score=0.803 total time=   0.0s\n",
      "[CV 5/5] END var_smoothing=1.519911082952933e-07;, score=0.792 total time=   0.0s\n",
      "[CV 1/5] END var_smoothing=1.232846739442066e-07;, score=0.682 total time=   0.0s\n",
      "[CV 2/5] END var_smoothing=1.232846739442066e-07;, score=0.770 total time=   0.0s\n",
      "[CV 3/5] END var_smoothing=1.232846739442066e-07;, score=0.770 total time=   0.0s\n",
      "[CV 4/5] END var_smoothing=1.232846739442066e-07;, score=0.803 total time=   0.0s\n",
      "[CV 5/5] END var_smoothing=1.232846739442066e-07;, score=0.792 total time=   0.0s\n",
      "[CV 1/5] END ...............var_smoothing=1e-07;, score=0.682 total time=   0.0s\n",
      "[CV 2/5] END ...............var_smoothing=1e-07;, score=0.770 total time=   0.0s\n",
      "[CV 3/5] END ...............var_smoothing=1e-07;, score=0.770 total time=   0.0s\n",
      "[CV 4/5] END ...............var_smoothing=1e-07;, score=0.803 total time=   0.0s\n",
      "[CV 5/5] END ...............var_smoothing=1e-07;, score=0.792 total time=   0.0s\n",
      "[CV 1/5] END var_smoothing=8.111308307896873e-08;, score=0.682 total time=   0.0s\n",
      "[CV 2/5] END var_smoothing=8.111308307896873e-08;, score=0.770 total time=   0.0s\n",
      "[CV 3/5] END var_smoothing=8.111308307896873e-08;, score=0.770 total time=   0.0s\n",
      "[CV 4/5] END var_smoothing=8.111308307896873e-08;, score=0.803 total time=   0.0s\n",
      "[CV 5/5] END var_smoothing=8.111308307896873e-08;, score=0.792 total time=   0.0s\n",
      "[CV 1/5] END var_smoothing=6.579332246575682e-08;, score=0.682 total time=   0.0s\n",
      "[CV 2/5] END var_smoothing=6.579332246575682e-08;, score=0.770 total time=   0.0s\n",
      "[CV 3/5] END var_smoothing=6.579332246575682e-08;, score=0.770 total time=   0.0s\n",
      "[CV 4/5] END var_smoothing=6.579332246575682e-08;, score=0.803 total time=   0.0s\n",
      "[CV 5/5] END var_smoothing=6.579332246575682e-08;, score=0.792 total time=   0.0s\n",
      "[CV 1/5] END var_smoothing=5.336699231206302e-08;, score=0.682 total time=   0.0s\n",
      "[CV 2/5] END var_smoothing=5.336699231206302e-08;, score=0.770 total time=   0.0s\n",
      "[CV 3/5] END var_smoothing=5.336699231206302e-08;, score=0.770 total time=   0.0s\n",
      "[CV 4/5] END var_smoothing=5.336699231206302e-08;, score=0.803 total time=   0.0s\n",
      "[CV 5/5] END var_smoothing=5.336699231206302e-08;, score=0.792 total time=   0.0s\n",
      "[CV 1/5] END var_smoothing=4.3287612810830526e-08;, score=0.682 total time=   0.0s\n",
      "[CV 2/5] END var_smoothing=4.3287612810830526e-08;, score=0.770 total time=   0.0s\n",
      "[CV 3/5] END var_smoothing=4.3287612810830526e-08;, score=0.770 total time=   0.0s\n",
      "[CV 4/5] END var_smoothing=4.3287612810830526e-08;, score=0.803 total time=   0.0s\n",
      "[CV 5/5] END var_smoothing=4.3287612810830526e-08;, score=0.792 total time=   0.0s\n",
      "[CV 1/5] END var_smoothing=3.5111917342151277e-08;, score=0.682 total time=   0.0s\n",
      "[CV 2/5] END var_smoothing=3.5111917342151277e-08;, score=0.770 total time=   0.0s\n",
      "[CV 3/5] END var_smoothing=3.5111917342151277e-08;, score=0.770 total time=   0.0s\n",
      "[CV 4/5] END var_smoothing=3.5111917342151277e-08;, score=0.803 total time=   0.0s\n",
      "[CV 5/5] END var_smoothing=3.5111917342151277e-08;, score=0.792 total time=   0.0s\n",
      "[CV 1/5] END var_smoothing=2.848035868435799e-08;, score=0.682 total time=   0.0s\n",
      "[CV 2/5] END var_smoothing=2.848035868435799e-08;, score=0.770 total time=   0.0s\n",
      "[CV 3/5] END var_smoothing=2.848035868435799e-08;, score=0.770 total time=   0.0s\n",
      "[CV 4/5] END var_smoothing=2.848035868435799e-08;, score=0.803 total time=   0.0s\n",
      "[CV 5/5] END var_smoothing=2.848035868435799e-08;, score=0.792 total time=   0.0s\n",
      "[CV 1/5] END var_smoothing=2.310129700083158e-08;, score=0.682 total time=   0.0s\n",
      "[CV 2/5] END var_smoothing=2.310129700083158e-08;, score=0.770 total time=   0.0s\n",
      "[CV 3/5] END var_smoothing=2.310129700083158e-08;, score=0.770 total time=   0.0s\n",
      "[CV 4/5] END var_smoothing=2.310129700083158e-08;, score=0.803 total time=   0.0s\n",
      "[CV 5/5] END var_smoothing=2.310129700083158e-08;, score=0.792 total time=   0.0s\n",
      "[CV 1/5] END var_smoothing=1.873817422860383e-08;, score=0.682 total time=   0.0s\n",
      "[CV 2/5] END var_smoothing=1.873817422860383e-08;, score=0.770 total time=   0.0s\n",
      "[CV 3/5] END var_smoothing=1.873817422860383e-08;, score=0.770 total time=   0.0s\n",
      "[CV 4/5] END var_smoothing=1.873817422860383e-08;, score=0.803 total time=   0.0s\n",
      "[CV 5/5] END var_smoothing=1.873817422860383e-08;, score=0.792 total time=   0.0s\n",
      "[CV 1/5] END var_smoothing=1.519911082952933e-08;, score=0.682 total time=   0.0s\n",
      "[CV 2/5] END var_smoothing=1.519911082952933e-08;, score=0.770 total time=   0.0s\n",
      "[CV 3/5] END var_smoothing=1.519911082952933e-08;, score=0.770 total time=   0.0s\n",
      "[CV 4/5] END var_smoothing=1.519911082952933e-08;, score=0.803 total time=   0.0s\n",
      "[CV 5/5] END var_smoothing=1.519911082952933e-08;, score=0.792 total time=   0.0s\n",
      "[CV 1/5] END var_smoothing=1.232846739442066e-08;, score=0.682 total time=   0.0s\n",
      "[CV 2/5] END var_smoothing=1.232846739442066e-08;, score=0.770 total time=   0.0s\n",
      "[CV 3/5] END var_smoothing=1.232846739442066e-08;, score=0.770 total time=   0.0s\n",
      "[CV 4/5] END var_smoothing=1.232846739442066e-08;, score=0.803 total time=   0.0s\n",
      "[CV 5/5] END var_smoothing=1.232846739442066e-08;, score=0.792 total time=   0.0s\n",
      "[CV 1/5] END ...............var_smoothing=1e-08;, score=0.682 total time=   0.0s\n",
      "[CV 2/5] END ...............var_smoothing=1e-08;, score=0.770 total time=   0.0s\n",
      "[CV 3/5] END ...............var_smoothing=1e-08;, score=0.770 total time=   0.0s\n",
      "[CV 4/5] END ...............var_smoothing=1e-08;, score=0.803 total time=   0.0s\n",
      "[CV 5/5] END ...............var_smoothing=1e-08;, score=0.792 total time=   0.0s\n",
      "[CV 1/5] END var_smoothing=8.111308307896856e-09;, score=0.682 total time=   0.0s\n",
      "[CV 2/5] END var_smoothing=8.111308307896856e-09;, score=0.770 total time=   0.0s\n",
      "[CV 3/5] END var_smoothing=8.111308307896856e-09;, score=0.770 total time=   0.0s\n",
      "[CV 4/5] END var_smoothing=8.111308307896856e-09;, score=0.803 total time=   0.0s\n",
      "[CV 5/5] END var_smoothing=8.111308307896856e-09;, score=0.792 total time=   0.0s\n",
      "[CV 1/5] END var_smoothing=6.579332246575682e-09;, score=0.682 total time=   0.0s\n",
      "[CV 2/5] END var_smoothing=6.579332246575682e-09;, score=0.770 total time=   0.0s\n",
      "[CV 3/5] END var_smoothing=6.579332246575682e-09;, score=0.770 total time=   0.0s\n",
      "[CV 4/5] END var_smoothing=6.579332246575682e-09;, score=0.803 total time=   0.0s\n",
      "[CV 5/5] END var_smoothing=6.579332246575682e-09;, score=0.792 total time=   0.0s\n",
      "[CV 1/5] END var_smoothing=5.336699231206302e-09;, score=0.682 total time=   0.0s\n",
      "[CV 2/5] END var_smoothing=5.336699231206302e-09;, score=0.770 total time=   0.0s\n",
      "[CV 3/5] END var_smoothing=5.336699231206302e-09;, score=0.770 total time=   0.0s\n",
      "[CV 4/5] END var_smoothing=5.336699231206302e-09;, score=0.803 total time=   0.0s\n",
      "[CV 5/5] END var_smoothing=5.336699231206302e-09;, score=0.792 total time=   0.0s\n",
      "[CV 1/5] END var_smoothing=4.328761281083061e-09;, score=0.682 total time=   0.0s\n",
      "[CV 2/5] END var_smoothing=4.328761281083061e-09;, score=0.770 total time=   0.0s\n",
      "[CV 3/5] END var_smoothing=4.328761281083061e-09;, score=0.770 total time=   0.0s\n",
      "[CV 4/5] END var_smoothing=4.328761281083061e-09;, score=0.803 total time=   0.0s\n",
      "[CV 5/5] END var_smoothing=4.328761281083061e-09;, score=0.792 total time=   0.0s\n",
      "[CV 1/5] END var_smoothing=3.5111917342151273e-09;, score=0.682 total time=   0.0s\n",
      "[CV 2/5] END var_smoothing=3.5111917342151273e-09;, score=0.770 total time=   0.0s\n",
      "[CV 3/5] END var_smoothing=3.5111917342151273e-09;, score=0.770 total time=   0.0s\n",
      "[CV 4/5] END var_smoothing=3.5111917342151273e-09;, score=0.803 total time=   0.0s\n",
      "[CV 5/5] END var_smoothing=3.5111917342151273e-09;, score=0.792 total time=   0.0s\n",
      "[CV 1/5] END var_smoothing=2.848035868435805e-09;, score=0.682 total time=   0.0s\n",
      "[CV 2/5] END var_smoothing=2.848035868435805e-09;, score=0.770 total time=   0.0s\n",
      "[CV 3/5] END var_smoothing=2.848035868435805e-09;, score=0.770 total time=   0.0s\n",
      "[CV 4/5] END var_smoothing=2.848035868435805e-09;, score=0.803 total time=   0.0s\n",
      "[CV 5/5] END var_smoothing=2.848035868435805e-09;, score=0.792 total time=   0.0s\n",
      "[CV 1/5] END var_smoothing=2.310129700083158e-09;, score=0.682 total time=   0.0s\n",
      "[CV 2/5] END var_smoothing=2.310129700083158e-09;, score=0.770 total time=   0.0s\n",
      "[CV 3/5] END var_smoothing=2.310129700083158e-09;, score=0.770 total time=   0.0s\n",
      "[CV 4/5] END var_smoothing=2.310129700083158e-09;, score=0.803 total time=   0.0s\n",
      "[CV 5/5] END var_smoothing=2.310129700083158e-09;, score=0.792 total time=   0.0s\n",
      "[CV 1/5] END var_smoothing=1.873817422860387e-09;, score=0.682 total time=   0.0s\n",
      "[CV 2/5] END var_smoothing=1.873817422860387e-09;, score=0.770 total time=   0.0s\n",
      "[CV 3/5] END var_smoothing=1.873817422860387e-09;, score=0.770 total time=   0.0s\n",
      "[CV 4/5] END var_smoothing=1.873817422860387e-09;, score=0.803 total time=   0.0s\n",
      "[CV 5/5] END var_smoothing=1.873817422860387e-09;, score=0.792 total time=   0.0s\n",
      "[CV 1/5] END var_smoothing=1.519911082952933e-09;, score=0.682 total time=   0.0s\n",
      "[CV 2/5] END var_smoothing=1.519911082952933e-09;, score=0.770 total time=   0.0s\n",
      "[CV 3/5] END var_smoothing=1.519911082952933e-09;, score=0.770 total time=   0.0s\n",
      "[CV 4/5] END var_smoothing=1.519911082952933e-09;, score=0.803 total time=   0.0s\n",
      "[CV 5/5] END var_smoothing=1.519911082952933e-09;, score=0.792 total time=   0.0s\n",
      "[CV 1/5] END var_smoothing=1.2328467394420635e-09;, score=0.682 total time=   0.0s\n",
      "[CV 2/5] END var_smoothing=1.2328467394420635e-09;, score=0.770 total time=   0.0s\n",
      "[CV 3/5] END var_smoothing=1.2328467394420635e-09;, score=0.770 total time=   0.0s\n",
      "[CV 4/5] END var_smoothing=1.2328467394420635e-09;, score=0.803 total time=   0.0s\n",
      "[CV 5/5] END var_smoothing=1.2328467394420635e-09;, score=0.792 total time=   0.0s\n",
      "[CV 1/5] END ...............var_smoothing=1e-09;, score=0.682 total time=   0.0s\n",
      "[CV 2/5] END ...............var_smoothing=1e-09;, score=0.770 total time=   0.0s\n",
      "[CV 3/5] END ...............var_smoothing=1e-09;, score=0.770 total time=   0.0s\n",
      "[CV 4/5] END ...............var_smoothing=1e-09;, score=0.803 total time=   0.0s\n",
      "[CV 5/5] END ...............var_smoothing=1e-09;, score=0.792 total time=   0.0s\n"
     ]
    },
    {
     "data": {
      "text/html": [
       "<style>#sk-container-id-1 {color: black;background-color: white;}#sk-container-id-1 pre{padding: 0;}#sk-container-id-1 div.sk-toggleable {background-color: white;}#sk-container-id-1 label.sk-toggleable__label {cursor: pointer;display: block;width: 100%;margin-bottom: 0;padding: 0.3em;box-sizing: border-box;text-align: center;}#sk-container-id-1 label.sk-toggleable__label-arrow:before {content: \"▸\";float: left;margin-right: 0.25em;color: #696969;}#sk-container-id-1 label.sk-toggleable__label-arrow:hover:before {color: black;}#sk-container-id-1 div.sk-estimator:hover label.sk-toggleable__label-arrow:before {color: black;}#sk-container-id-1 div.sk-toggleable__content {max-height: 0;max-width: 0;overflow: hidden;text-align: left;background-color: #f0f8ff;}#sk-container-id-1 div.sk-toggleable__content pre {margin: 0.2em;color: black;border-radius: 0.25em;background-color: #f0f8ff;}#sk-container-id-1 input.sk-toggleable__control:checked~div.sk-toggleable__content {max-height: 200px;max-width: 100%;overflow: auto;}#sk-container-id-1 input.sk-toggleable__control:checked~label.sk-toggleable__label-arrow:before {content: \"▾\";}#sk-container-id-1 div.sk-estimator input.sk-toggleable__control:checked~label.sk-toggleable__label {background-color: #d4ebff;}#sk-container-id-1 div.sk-label input.sk-toggleable__control:checked~label.sk-toggleable__label {background-color: #d4ebff;}#sk-container-id-1 input.sk-hidden--visually {border: 0;clip: rect(1px 1px 1px 1px);clip: rect(1px, 1px, 1px, 1px);height: 1px;margin: -1px;overflow: hidden;padding: 0;position: absolute;width: 1px;}#sk-container-id-1 div.sk-estimator {font-family: monospace;background-color: #f0f8ff;border: 1px dotted black;border-radius: 0.25em;box-sizing: border-box;margin-bottom: 0.5em;}#sk-container-id-1 div.sk-estimator:hover {background-color: #d4ebff;}#sk-container-id-1 div.sk-parallel-item::after {content: \"\";width: 100%;border-bottom: 1px solid gray;flex-grow: 1;}#sk-container-id-1 div.sk-label:hover label.sk-toggleable__label {background-color: #d4ebff;}#sk-container-id-1 div.sk-serial::before {content: \"\";position: absolute;border-left: 1px solid gray;box-sizing: border-box;top: 0;bottom: 0;left: 50%;z-index: 0;}#sk-container-id-1 div.sk-serial {display: flex;flex-direction: column;align-items: center;background-color: white;padding-right: 0.2em;padding-left: 0.2em;position: relative;}#sk-container-id-1 div.sk-item {position: relative;z-index: 1;}#sk-container-id-1 div.sk-parallel {display: flex;align-items: stretch;justify-content: center;background-color: white;position: relative;}#sk-container-id-1 div.sk-item::before, #sk-container-id-1 div.sk-parallel-item::before {content: \"\";position: absolute;border-left: 1px solid gray;box-sizing: border-box;top: 0;bottom: 0;left: 50%;z-index: -1;}#sk-container-id-1 div.sk-parallel-item {display: flex;flex-direction: column;z-index: 1;position: relative;background-color: white;}#sk-container-id-1 div.sk-parallel-item:first-child::after {align-self: flex-end;width: 50%;}#sk-container-id-1 div.sk-parallel-item:last-child::after {align-self: flex-start;width: 50%;}#sk-container-id-1 div.sk-parallel-item:only-child::after {width: 0;}#sk-container-id-1 div.sk-dashed-wrapped {border: 1px dashed gray;margin: 0 0.4em 0.5em 0.4em;box-sizing: border-box;padding-bottom: 0.4em;background-color: white;}#sk-container-id-1 div.sk-label label {font-family: monospace;font-weight: bold;display: inline-block;line-height: 1.2em;}#sk-container-id-1 div.sk-label-container {text-align: center;}#sk-container-id-1 div.sk-container {/* jupyter's `normalize.less` sets `[hidden] { display: none; }` but bootstrap.min.css set `[hidden] { display: none !important; }` so we also need the `!important` here to be able to override the default hidden behavior on the sphinx rendered scikit-learn.org. See: https://github.com/scikit-learn/scikit-learn/issues/21755 */display: inline-block !important;position: relative;}#sk-container-id-1 div.sk-text-repr-fallback {display: none;}</style><div id=\"sk-container-id-1\" class=\"sk-top-container\"><div class=\"sk-text-repr-fallback\"><pre>GridSearchCV(cv=5, estimator=GaussianNB(),\n",
       "             param_grid={&#x27;var_smoothing&#x27;: array([1.00000000e+00, 8.11130831e-01, 6.57933225e-01, 5.33669923e-01,\n",
       "       4.32876128e-01, 3.51119173e-01, 2.84803587e-01, 2.31012970e-01,\n",
       "       1.87381742e-01, 1.51991108e-01, 1.23284674e-01, 1.00000000e-01,\n",
       "       8.11130831e-02, 6.57933225e-02, 5.33669923e-02, 4.32876128e-02,\n",
       "       3.51119173e-02, 2.84803587e-02, 2.31...\n",
       "       1.23284674e-07, 1.00000000e-07, 8.11130831e-08, 6.57933225e-08,\n",
       "       5.33669923e-08, 4.32876128e-08, 3.51119173e-08, 2.84803587e-08,\n",
       "       2.31012970e-08, 1.87381742e-08, 1.51991108e-08, 1.23284674e-08,\n",
       "       1.00000000e-08, 8.11130831e-09, 6.57933225e-09, 5.33669923e-09,\n",
       "       4.32876128e-09, 3.51119173e-09, 2.84803587e-09, 2.31012970e-09,\n",
       "       1.87381742e-09, 1.51991108e-09, 1.23284674e-09, 1.00000000e-09])},\n",
       "             verbose=3)</pre><b>In a Jupyter environment, please rerun this cell to show the HTML representation or trust the notebook. <br />On GitHub, the HTML representation is unable to render, please try loading this page with nbviewer.org.</b></div><div class=\"sk-container\" hidden><div class=\"sk-item sk-dashed-wrapped\"><div class=\"sk-label-container\"><div class=\"sk-label sk-toggleable\"><input class=\"sk-toggleable__control sk-hidden--visually\" id=\"sk-estimator-id-1\" type=\"checkbox\" ><label for=\"sk-estimator-id-1\" class=\"sk-toggleable__label sk-toggleable__label-arrow\">GridSearchCV</label><div class=\"sk-toggleable__content\"><pre>GridSearchCV(cv=5, estimator=GaussianNB(),\n",
       "             param_grid={&#x27;var_smoothing&#x27;: array([1.00000000e+00, 8.11130831e-01, 6.57933225e-01, 5.33669923e-01,\n",
       "       4.32876128e-01, 3.51119173e-01, 2.84803587e-01, 2.31012970e-01,\n",
       "       1.87381742e-01, 1.51991108e-01, 1.23284674e-01, 1.00000000e-01,\n",
       "       8.11130831e-02, 6.57933225e-02, 5.33669923e-02, 4.32876128e-02,\n",
       "       3.51119173e-02, 2.84803587e-02, 2.31...\n",
       "       1.23284674e-07, 1.00000000e-07, 8.11130831e-08, 6.57933225e-08,\n",
       "       5.33669923e-08, 4.32876128e-08, 3.51119173e-08, 2.84803587e-08,\n",
       "       2.31012970e-08, 1.87381742e-08, 1.51991108e-08, 1.23284674e-08,\n",
       "       1.00000000e-08, 8.11130831e-09, 6.57933225e-09, 5.33669923e-09,\n",
       "       4.32876128e-09, 3.51119173e-09, 2.84803587e-09, 2.31012970e-09,\n",
       "       1.87381742e-09, 1.51991108e-09, 1.23284674e-09, 1.00000000e-09])},\n",
       "             verbose=3)</pre></div></div></div><div class=\"sk-parallel\"><div class=\"sk-parallel-item\"><div class=\"sk-item\"><div class=\"sk-label-container\"><div class=\"sk-label sk-toggleable\"><input class=\"sk-toggleable__control sk-hidden--visually\" id=\"sk-estimator-id-2\" type=\"checkbox\" ><label for=\"sk-estimator-id-2\" class=\"sk-toggleable__label sk-toggleable__label-arrow\">estimator: GaussianNB</label><div class=\"sk-toggleable__content\"><pre>GaussianNB()</pre></div></div></div><div class=\"sk-serial\"><div class=\"sk-item\"><div class=\"sk-estimator sk-toggleable\"><input class=\"sk-toggleable__control sk-hidden--visually\" id=\"sk-estimator-id-3\" type=\"checkbox\" ><label for=\"sk-estimator-id-3\" class=\"sk-toggleable__label sk-toggleable__label-arrow\">GaussianNB</label><div class=\"sk-toggleable__content\"><pre>GaussianNB()</pre></div></div></div></div></div></div></div></div></div></div>"
      ],
      "text/plain": [
       "GridSearchCV(cv=5, estimator=GaussianNB(),\n",
       "             param_grid={'var_smoothing': array([1.00000000e+00, 8.11130831e-01, 6.57933225e-01, 5.33669923e-01,\n",
       "       4.32876128e-01, 3.51119173e-01, 2.84803587e-01, 2.31012970e-01,\n",
       "       1.87381742e-01, 1.51991108e-01, 1.23284674e-01, 1.00000000e-01,\n",
       "       8.11130831e-02, 6.57933225e-02, 5.33669923e-02, 4.32876128e-02,\n",
       "       3.51119173e-02, 2.84803587e-02, 2.31...\n",
       "       1.23284674e-07, 1.00000000e-07, 8.11130831e-08, 6.57933225e-08,\n",
       "       5.33669923e-08, 4.32876128e-08, 3.51119173e-08, 2.84803587e-08,\n",
       "       2.31012970e-08, 1.87381742e-08, 1.51991108e-08, 1.23284674e-08,\n",
       "       1.00000000e-08, 8.11130831e-09, 6.57933225e-09, 5.33669923e-09,\n",
       "       4.32876128e-09, 3.51119173e-09, 2.84803587e-09, 2.31012970e-09,\n",
       "       1.87381742e-09, 1.51991108e-09, 1.23284674e-09, 1.00000000e-09])},\n",
       "             verbose=3)"
      ]
     },
     "execution_count": 230,
     "metadata": {},
     "output_type": "execute_result"
    }
   ],
   "source": [
    "from sklearn.naive_bayes import GaussianNB\n",
    "nb_clf = GaussianNB()\n",
    "NB_clf_params = {'var_smoothing': np.logspace(0,-9, num=100)}\n",
    "nb_clf_cv = GridSearchCV(nb_clf,param_grid=NB_clf_params,cv=5,verbose=3)\n",
    "nb_clf_cv.fit(df_encoded_train,y_train)"
   ]
  },
  {
   "cell_type": "code",
   "execution_count": 231,
   "id": "427d5c59-b559-4434-98b7-8c02cbaa0387",
   "metadata": {},
   "outputs": [
    {
     "data": {
      "text/plain": [
       "{'var_smoothing': 1.0}"
      ]
     },
     "execution_count": 231,
     "metadata": {},
     "output_type": "execute_result"
    }
   ],
   "source": [
    "nb_clf_cv.best_params_"
   ]
  },
  {
   "cell_type": "code",
   "execution_count": 232,
   "id": "ee118798-c305-4d16-8dcd-5cb0a8e9da29",
   "metadata": {},
   "outputs": [
    {
     "name": "stdout",
     "output_type": "stream",
     "text": [
      "              precision    recall  f1-score   support\n",
      "\n",
      "           0       0.87      0.97      0.91       266\n",
      "           1       0.93      0.74      0.82       152\n",
      "\n",
      "    accuracy                           0.88       418\n",
      "   macro avg       0.90      0.85      0.87       418\n",
      "weighted avg       0.89      0.88      0.88       418\n",
      "\n"
     ]
    }
   ],
   "source": [
    "y_pred = nb_clf_cv.predict(df_encoded_test)\n",
    "print(classification_report(y_test,y_pred))"
   ]
  },
  {
   "cell_type": "code",
   "execution_count": 233,
   "id": "c0b39003-c5fa-4811-966e-9f6a3f5941c1",
   "metadata": {},
   "outputs": [
    {
     "data": {
      "text/plain": [
       "0.8827751196172249"
      ]
     },
     "execution_count": 233,
     "metadata": {},
     "output_type": "execute_result"
    }
   ],
   "source": [
    "accuracy_score(y_test,y_pred)"
   ]
  },
  {
   "cell_type": "code",
   "execution_count": 234,
   "id": "28a11278-ab27-40ea-b23c-844397b76258",
   "metadata": {},
   "outputs": [
    {
     "name": "stdout",
     "output_type": "stream",
     "text": [
      "              precision    recall  f1-score   support\n",
      "\n",
      "           0       0.79      0.94      0.86       549\n",
      "           1       0.85      0.60      0.70       342\n",
      "\n",
      "    accuracy                           0.81       891\n",
      "   macro avg       0.82      0.77      0.78       891\n",
      "weighted avg       0.81      0.81      0.80       891\n",
      "\n"
     ]
    }
   ],
   "source": [
    "y_pred_tr = nb_clf_cv.predict(df_encoded_train)\n",
    "print(classification_report(y_train,y_pred_tr))"
   ]
  },
  {
   "cell_type": "markdown",
   "id": "0e6220da-7dae-40c8-b2a7-6ff397d744b3",
   "metadata": {},
   "source": [
    "# Topluluk Modeli ile Titanic Tahminleri"
   ]
  },
  {
   "cell_type": "code",
   "execution_count": 50,
   "id": "1e1ab13b-3f43-4176-9430-59ae1ad6b537",
   "metadata": {},
   "outputs": [],
   "source": [
    "from sklearn.ensemble import VotingClassifier\n",
    "from sklearn.neighbors import KNeighborsClassifier\n",
    "from sklearn.svm import SVC\n",
    "from sklearn.naive_bayes import GaussianNB\n",
    "from sklearn.tree import DecisionTreeClassifier"
   ]
  },
  {
   "cell_type": "code",
   "execution_count": 51,
   "id": "f12311d9-5d90-4ba7-bc0b-9c9f83ec71c6",
   "metadata": {},
   "outputs": [],
   "source": [
    "log_reg = LogisticRegression()\n",
    "log_reg_params = {'penalty':['l1','l2','elasticnet'],\n",
    "          'C':[1,2,3,4,5,6,10,20,30,40,50],\n",
    "          'max_iter':[100,200,300]}"
   ]
  },
  {
   "cell_type": "code",
   "execution_count": 52,
   "id": "3656c4c8-a1bf-4b64-b6cb-8049ef8c9a58",
   "metadata": {},
   "outputs": [],
   "source": [
    "knn_clf = KNeighborsClassifier()\n",
    "knn_clf_params = {\n",
    "    'n_neighbors': [i for i in range(1,15)],\n",
    "    'metric': ['euclidean','minkowski','manhattan','cosine']\n",
    "}"
   ]
  },
  {
   "cell_type": "code",
   "execution_count": 53,
   "id": "f1a985ff-3412-44f7-8476-2c0ee4415fcc",
   "metadata": {},
   "outputs": [],
   "source": [
    "dtree_clf = DecisionTreeClassifier()\n",
    "dtree_clf_params = {\n",
    "    'max_depth': [3,4,5,7,9],\n",
    "    'min_samples_split':[2,5,8,10,20],\n",
    "    'min_samples_leaf': [1,2,3,4],\n",
    "    'criterion' : ['gini','entropy']\n",
    "}"
   ]
  },
  {
   "cell_type": "code",
   "execution_count": 54,
   "id": "d1d1c3a2-1789-4281-b9fa-e807a57c8ccb",
   "metadata": {},
   "outputs": [],
   "source": [
    "nb_clf = GaussianNB()\n",
    "nb_clf_params = {'var_smoothing': np.logspace(0,-9, num=100)}"
   ]
  },
  {
   "cell_type": "code",
   "execution_count": 55,
   "id": "9884474c-af9a-4ddb-bdf0-6a1be03b4aef",
   "metadata": {},
   "outputs": [],
   "source": [
    "knn_clf_grid = GridSearchCV(knn_clf,knn_clf_params,cv=5,n_jobs=-1,verbose=1)\n",
    "logreg_clf_grid = GridSearchCV(log_reg,log_reg_params,cv=5,n_jobs=-1,verbose=2)\n",
    "dtree_clf_grid = GridSearchCV(dtree_clf,dtree_clf_params,cv=5,n_jobs=-1,verbose=3)\n",
    "nb_clf_grid = GridSearchCV(nb_clf,nb_clf_params,cv=5,n_jobs=-1,verbose=3)"
   ]
  },
  {
   "cell_type": "code",
   "execution_count": 56,
   "id": "6ccd91e0-7a84-4570-b0b1-b61378a6f716",
   "metadata": {},
   "outputs": [],
   "source": [
    "voting_clf = VotingClassifier(\n",
    "               [('knn',knn_clf_grid),\n",
    "                ('log_reg',logreg_clf_grid),\n",
    "                ('dtree',dtree_clf_grid),\n",
    "                ('nb',nb_clf_grid)],\n",
    "    voting='hard'\n",
    ")"
   ]
  },
  {
   "cell_type": "code",
   "execution_count": 58,
   "id": "23acab7e-4f4e-4b8c-b74b-7ad8888b9d5e",
   "metadata": {},
   "outputs": [
    {
     "name": "stdout",
     "output_type": "stream",
     "text": [
      "Fitting 5 folds for each of 56 candidates, totalling 280 fits\n",
      "Fitting 5 folds for each of 99 candidates, totalling 495 fits\n",
      "Fitting 5 folds for each of 200 candidates, totalling 1000 fits\n",
      "Fitting 5 folds for each of 100 candidates, totalling 500 fits\n"
     ]
    },
    {
     "data": {
      "text/html": [
       "<style>#sk-container-id-1 {color: black;background-color: white;}#sk-container-id-1 pre{padding: 0;}#sk-container-id-1 div.sk-toggleable {background-color: white;}#sk-container-id-1 label.sk-toggleable__label {cursor: pointer;display: block;width: 100%;margin-bottom: 0;padding: 0.3em;box-sizing: border-box;text-align: center;}#sk-container-id-1 label.sk-toggleable__label-arrow:before {content: \"▸\";float: left;margin-right: 0.25em;color: #696969;}#sk-container-id-1 label.sk-toggleable__label-arrow:hover:before {color: black;}#sk-container-id-1 div.sk-estimator:hover label.sk-toggleable__label-arrow:before {color: black;}#sk-container-id-1 div.sk-toggleable__content {max-height: 0;max-width: 0;overflow: hidden;text-align: left;background-color: #f0f8ff;}#sk-container-id-1 div.sk-toggleable__content pre {margin: 0.2em;color: black;border-radius: 0.25em;background-color: #f0f8ff;}#sk-container-id-1 input.sk-toggleable__control:checked~div.sk-toggleable__content {max-height: 200px;max-width: 100%;overflow: auto;}#sk-container-id-1 input.sk-toggleable__control:checked~label.sk-toggleable__label-arrow:before {content: \"▾\";}#sk-container-id-1 div.sk-estimator input.sk-toggleable__control:checked~label.sk-toggleable__label {background-color: #d4ebff;}#sk-container-id-1 div.sk-label input.sk-toggleable__control:checked~label.sk-toggleable__label {background-color: #d4ebff;}#sk-container-id-1 input.sk-hidden--visually {border: 0;clip: rect(1px 1px 1px 1px);clip: rect(1px, 1px, 1px, 1px);height: 1px;margin: -1px;overflow: hidden;padding: 0;position: absolute;width: 1px;}#sk-container-id-1 div.sk-estimator {font-family: monospace;background-color: #f0f8ff;border: 1px dotted black;border-radius: 0.25em;box-sizing: border-box;margin-bottom: 0.5em;}#sk-container-id-1 div.sk-estimator:hover {background-color: #d4ebff;}#sk-container-id-1 div.sk-parallel-item::after {content: \"\";width: 100%;border-bottom: 1px solid gray;flex-grow: 1;}#sk-container-id-1 div.sk-label:hover label.sk-toggleable__label {background-color: #d4ebff;}#sk-container-id-1 div.sk-serial::before {content: \"\";position: absolute;border-left: 1px solid gray;box-sizing: border-box;top: 0;bottom: 0;left: 50%;z-index: 0;}#sk-container-id-1 div.sk-serial {display: flex;flex-direction: column;align-items: center;background-color: white;padding-right: 0.2em;padding-left: 0.2em;position: relative;}#sk-container-id-1 div.sk-item {position: relative;z-index: 1;}#sk-container-id-1 div.sk-parallel {display: flex;align-items: stretch;justify-content: center;background-color: white;position: relative;}#sk-container-id-1 div.sk-item::before, #sk-container-id-1 div.sk-parallel-item::before {content: \"\";position: absolute;border-left: 1px solid gray;box-sizing: border-box;top: 0;bottom: 0;left: 50%;z-index: -1;}#sk-container-id-1 div.sk-parallel-item {display: flex;flex-direction: column;z-index: 1;position: relative;background-color: white;}#sk-container-id-1 div.sk-parallel-item:first-child::after {align-self: flex-end;width: 50%;}#sk-container-id-1 div.sk-parallel-item:last-child::after {align-self: flex-start;width: 50%;}#sk-container-id-1 div.sk-parallel-item:only-child::after {width: 0;}#sk-container-id-1 div.sk-dashed-wrapped {border: 1px dashed gray;margin: 0 0.4em 0.5em 0.4em;box-sizing: border-box;padding-bottom: 0.4em;background-color: white;}#sk-container-id-1 div.sk-label label {font-family: monospace;font-weight: bold;display: inline-block;line-height: 1.2em;}#sk-container-id-1 div.sk-label-container {text-align: center;}#sk-container-id-1 div.sk-container {/* jupyter's `normalize.less` sets `[hidden] { display: none; }` but bootstrap.min.css set `[hidden] { display: none !important; }` so we also need the `!important` here to be able to override the default hidden behavior on the sphinx rendered scikit-learn.org. See: https://github.com/scikit-learn/scikit-learn/issues/21755 */display: inline-block !important;position: relative;}#sk-container-id-1 div.sk-text-repr-fallback {display: none;}</style><div id=\"sk-container-id-1\" class=\"sk-top-container\"><div class=\"sk-text-repr-fallback\"><pre>VotingClassifier(estimators=[(&#x27;knn&#x27;,\n",
       "                              GridSearchCV(cv=5,\n",
       "                                           estimator=KNeighborsClassifier(),\n",
       "                                           n_jobs=-1,\n",
       "                                           param_grid={&#x27;metric&#x27;: [&#x27;euclidean&#x27;,\n",
       "                                                                  &#x27;minkowski&#x27;,\n",
       "                                                                  &#x27;manhattan&#x27;,\n",
       "                                                                  &#x27;cosine&#x27;],\n",
       "                                                       &#x27;n_neighbors&#x27;: [1, 2, 3,\n",
       "                                                                       4, 5, 6,\n",
       "                                                                       7, 8, 9,\n",
       "                                                                       10, 11,\n",
       "                                                                       12, 13,\n",
       "                                                                       14]},\n",
       "                                           verbose=1)),\n",
       "                             (&#x27;log_reg&#x27;,\n",
       "                              GridSearchCV(cv=5, estimator=LogisticRegression(),\n",
       "                                           n_jobs=-1,\n",
       "                                           param_grid={&#x27;C&#x27;: [1, 2, 3, 4, 5, 6,\n",
       "                                                             10, 20, 30, 40,\n",
       "                                                             50],\n",
       "                                                       &#x27;max_ite...\n",
       "       1.23284674e-07, 1.00000000e-07, 8.11130831e-08, 6.57933225e-08,\n",
       "       5.33669923e-08, 4.32876128e-08, 3.51119173e-08, 2.84803587e-08,\n",
       "       2.31012970e-08, 1.87381742e-08, 1.51991108e-08, 1.23284674e-08,\n",
       "       1.00000000e-08, 8.11130831e-09, 6.57933225e-09, 5.33669923e-09,\n",
       "       4.32876128e-09, 3.51119173e-09, 2.84803587e-09, 2.31012970e-09,\n",
       "       1.87381742e-09, 1.51991108e-09, 1.23284674e-09, 1.00000000e-09])},\n",
       "                                           verbose=3))])</pre><b>In a Jupyter environment, please rerun this cell to show the HTML representation or trust the notebook. <br />On GitHub, the HTML representation is unable to render, please try loading this page with nbviewer.org.</b></div><div class=\"sk-container\" hidden><div class=\"sk-item sk-dashed-wrapped\"><div class=\"sk-label-container\"><div class=\"sk-label sk-toggleable\"><input class=\"sk-toggleable__control sk-hidden--visually\" id=\"sk-estimator-id-1\" type=\"checkbox\" ><label for=\"sk-estimator-id-1\" class=\"sk-toggleable__label sk-toggleable__label-arrow\">VotingClassifier</label><div class=\"sk-toggleable__content\"><pre>VotingClassifier(estimators=[(&#x27;knn&#x27;,\n",
       "                              GridSearchCV(cv=5,\n",
       "                                           estimator=KNeighborsClassifier(),\n",
       "                                           n_jobs=-1,\n",
       "                                           param_grid={&#x27;metric&#x27;: [&#x27;euclidean&#x27;,\n",
       "                                                                  &#x27;minkowski&#x27;,\n",
       "                                                                  &#x27;manhattan&#x27;,\n",
       "                                                                  &#x27;cosine&#x27;],\n",
       "                                                       &#x27;n_neighbors&#x27;: [1, 2, 3,\n",
       "                                                                       4, 5, 6,\n",
       "                                                                       7, 8, 9,\n",
       "                                                                       10, 11,\n",
       "                                                                       12, 13,\n",
       "                                                                       14]},\n",
       "                                           verbose=1)),\n",
       "                             (&#x27;log_reg&#x27;,\n",
       "                              GridSearchCV(cv=5, estimator=LogisticRegression(),\n",
       "                                           n_jobs=-1,\n",
       "                                           param_grid={&#x27;C&#x27;: [1, 2, 3, 4, 5, 6,\n",
       "                                                             10, 20, 30, 40,\n",
       "                                                             50],\n",
       "                                                       &#x27;max_ite...\n",
       "       1.23284674e-07, 1.00000000e-07, 8.11130831e-08, 6.57933225e-08,\n",
       "       5.33669923e-08, 4.32876128e-08, 3.51119173e-08, 2.84803587e-08,\n",
       "       2.31012970e-08, 1.87381742e-08, 1.51991108e-08, 1.23284674e-08,\n",
       "       1.00000000e-08, 8.11130831e-09, 6.57933225e-09, 5.33669923e-09,\n",
       "       4.32876128e-09, 3.51119173e-09, 2.84803587e-09, 2.31012970e-09,\n",
       "       1.87381742e-09, 1.51991108e-09, 1.23284674e-09, 1.00000000e-09])},\n",
       "                                           verbose=3))])</pre></div></div></div><div class=\"sk-parallel\"><div class=\"sk-parallel-item\"><div class=\"sk-item\"><div class=\"sk-label-container\"><div class=\"sk-label sk-toggleable\"><label>knn</label></div></div><div class=\"sk-serial\"><div class=\"sk-item sk-dashed-wrapped\"><div class=\"sk-parallel\"><div class=\"sk-parallel-item\"><div class=\"sk-item\"><div class=\"sk-label-container\"><div class=\"sk-label sk-toggleable\"><input class=\"sk-toggleable__control sk-hidden--visually\" id=\"sk-estimator-id-2\" type=\"checkbox\" ><label for=\"sk-estimator-id-2\" class=\"sk-toggleable__label sk-toggleable__label-arrow\">estimator: KNeighborsClassifier</label><div class=\"sk-toggleable__content\"><pre>KNeighborsClassifier()</pre></div></div></div><div class=\"sk-serial\"><div class=\"sk-item\"><div class=\"sk-estimator sk-toggleable\"><input class=\"sk-toggleable__control sk-hidden--visually\" id=\"sk-estimator-id-3\" type=\"checkbox\" ><label for=\"sk-estimator-id-3\" class=\"sk-toggleable__label sk-toggleable__label-arrow\">KNeighborsClassifier</label><div class=\"sk-toggleable__content\"><pre>KNeighborsClassifier()</pre></div></div></div></div></div></div></div></div></div></div></div><div class=\"sk-parallel-item\"><div class=\"sk-item\"><div class=\"sk-label-container\"><div class=\"sk-label sk-toggleable\"><label>log_reg</label></div></div><div class=\"sk-serial\"><div class=\"sk-item sk-dashed-wrapped\"><div class=\"sk-parallel\"><div class=\"sk-parallel-item\"><div class=\"sk-item\"><div class=\"sk-label-container\"><div class=\"sk-label sk-toggleable\"><input class=\"sk-toggleable__control sk-hidden--visually\" id=\"sk-estimator-id-4\" type=\"checkbox\" ><label for=\"sk-estimator-id-4\" class=\"sk-toggleable__label sk-toggleable__label-arrow\">estimator: LogisticRegression</label><div class=\"sk-toggleable__content\"><pre>LogisticRegression()</pre></div></div></div><div class=\"sk-serial\"><div class=\"sk-item\"><div class=\"sk-estimator sk-toggleable\"><input class=\"sk-toggleable__control sk-hidden--visually\" id=\"sk-estimator-id-5\" type=\"checkbox\" ><label for=\"sk-estimator-id-5\" class=\"sk-toggleable__label sk-toggleable__label-arrow\">LogisticRegression</label><div class=\"sk-toggleable__content\"><pre>LogisticRegression()</pre></div></div></div></div></div></div></div></div></div></div></div><div class=\"sk-parallel-item\"><div class=\"sk-item\"><div class=\"sk-label-container\"><div class=\"sk-label sk-toggleable\"><label>dtree</label></div></div><div class=\"sk-serial\"><div class=\"sk-item sk-dashed-wrapped\"><div class=\"sk-parallel\"><div class=\"sk-parallel-item\"><div class=\"sk-item\"><div class=\"sk-label-container\"><div class=\"sk-label sk-toggleable\"><input class=\"sk-toggleable__control sk-hidden--visually\" id=\"sk-estimator-id-6\" type=\"checkbox\" ><label for=\"sk-estimator-id-6\" class=\"sk-toggleable__label sk-toggleable__label-arrow\">estimator: DecisionTreeClassifier</label><div class=\"sk-toggleable__content\"><pre>DecisionTreeClassifier()</pre></div></div></div><div class=\"sk-serial\"><div class=\"sk-item\"><div class=\"sk-estimator sk-toggleable\"><input class=\"sk-toggleable__control sk-hidden--visually\" id=\"sk-estimator-id-7\" type=\"checkbox\" ><label for=\"sk-estimator-id-7\" class=\"sk-toggleable__label sk-toggleable__label-arrow\">DecisionTreeClassifier</label><div class=\"sk-toggleable__content\"><pre>DecisionTreeClassifier()</pre></div></div></div></div></div></div></div></div></div></div></div><div class=\"sk-parallel-item\"><div class=\"sk-item\"><div class=\"sk-label-container\"><div class=\"sk-label sk-toggleable\"><label>nb</label></div></div><div class=\"sk-serial\"><div class=\"sk-item sk-dashed-wrapped\"><div class=\"sk-parallel\"><div class=\"sk-parallel-item\"><div class=\"sk-item\"><div class=\"sk-label-container\"><div class=\"sk-label sk-toggleable\"><input class=\"sk-toggleable__control sk-hidden--visually\" id=\"sk-estimator-id-8\" type=\"checkbox\" ><label for=\"sk-estimator-id-8\" class=\"sk-toggleable__label sk-toggleable__label-arrow\">estimator: GaussianNB</label><div class=\"sk-toggleable__content\"><pre>GaussianNB()</pre></div></div></div><div class=\"sk-serial\"><div class=\"sk-item\"><div class=\"sk-estimator sk-toggleable\"><input class=\"sk-toggleable__control sk-hidden--visually\" id=\"sk-estimator-id-9\" type=\"checkbox\" ><label for=\"sk-estimator-id-9\" class=\"sk-toggleable__label sk-toggleable__label-arrow\">GaussianNB</label><div class=\"sk-toggleable__content\"><pre>GaussianNB()</pre></div></div></div></div></div></div></div></div></div></div></div></div></div></div></div>"
      ],
      "text/plain": [
       "VotingClassifier(estimators=[('knn',\n",
       "                              GridSearchCV(cv=5,\n",
       "                                           estimator=KNeighborsClassifier(),\n",
       "                                           n_jobs=-1,\n",
       "                                           param_grid={'metric': ['euclidean',\n",
       "                                                                  'minkowski',\n",
       "                                                                  'manhattan',\n",
       "                                                                  'cosine'],\n",
       "                                                       'n_neighbors': [1, 2, 3,\n",
       "                                                                       4, 5, 6,\n",
       "                                                                       7, 8, 9,\n",
       "                                                                       10, 11,\n",
       "                                                                       12, 13,\n",
       "                                                                       14]},\n",
       "                                           verbose=1)),\n",
       "                             ('log_reg',\n",
       "                              GridSearchCV(cv=5, estimator=LogisticRegression(),\n",
       "                                           n_jobs=-1,\n",
       "                                           param_grid={'C': [1, 2, 3, 4, 5, 6,\n",
       "                                                             10, 20, 30, 40,\n",
       "                                                             50],\n",
       "                                                       'max_ite...\n",
       "       1.23284674e-07, 1.00000000e-07, 8.11130831e-08, 6.57933225e-08,\n",
       "       5.33669923e-08, 4.32876128e-08, 3.51119173e-08, 2.84803587e-08,\n",
       "       2.31012970e-08, 1.87381742e-08, 1.51991108e-08, 1.23284674e-08,\n",
       "       1.00000000e-08, 8.11130831e-09, 6.57933225e-09, 5.33669923e-09,\n",
       "       4.32876128e-09, 3.51119173e-09, 2.84803587e-09, 2.31012970e-09,\n",
       "       1.87381742e-09, 1.51991108e-09, 1.23284674e-09, 1.00000000e-09])},\n",
       "                                           verbose=3))])"
      ]
     },
     "execution_count": 58,
     "metadata": {},
     "output_type": "execute_result"
    }
   ],
   "source": [
    "voting_clf.fit(df_encoded_train,y_train)"
   ]
  },
  {
   "cell_type": "code",
   "execution_count": 59,
   "id": "02c5705a-a99f-44fc-a8f6-5537fd1575d7",
   "metadata": {},
   "outputs": [
    {
     "name": "stdout",
     "output_type": "stream",
     "text": [
      "              precision    recall  f1-score   support\n",
      "\n",
      "           0       0.97      0.87      0.92       297\n",
      "           1       0.74      0.93      0.83       121\n",
      "\n",
      "    accuracy                           0.89       418\n",
      "   macro avg       0.86      0.90      0.87       418\n",
      "weighted avg       0.90      0.89      0.89       418\n",
      "\n"
     ]
    }
   ],
   "source": [
    "y_pred = voting_clf.predict(df_encoded_test)\n",
    "print(classification_report(y_pred,y_test))"
   ]
  },
  {
   "cell_type": "code",
   "execution_count": 60,
   "id": "dcdc9f3e-b9f6-4aec-ba35-b5663bc3c4fa",
   "metadata": {},
   "outputs": [
    {
     "name": "stdout",
     "output_type": "stream",
     "text": [
      "              precision    recall  f1-score   support\n",
      "\n",
      "           0       0.96      0.81      0.88       655\n",
      "           1       0.63      0.92      0.75       236\n",
      "\n",
      "    accuracy                           0.84       891\n",
      "   macro avg       0.80      0.86      0.81       891\n",
      "weighted avg       0.88      0.84      0.84       891\n",
      "\n"
     ]
    }
   ],
   "source": [
    "y_pred_tr = voting_clf.predict(df_encoded_train)\n",
    "print(classification_report(y_pred_tr,y_train))"
   ]
  },
  {
   "cell_type": "code",
   "execution_count": 61,
   "id": "93e8726d-6349-49e8-a9be-11553924c97c",
   "metadata": {},
   "outputs": [],
   "source": [
    "voting_clf2 = VotingClassifier(\n",
    "               [('knn',knn_clf_grid),\n",
    "                ('log_reg',logreg_clf_grid),\n",
    "                ('dtree',dtree_clf_grid),\n",
    "                ('nb',nb_clf_grid)],\n",
    "    voting='soft'\n",
    ")"
   ]
  },
  {
   "cell_type": "code",
   "execution_count": 62,
   "id": "dd012d6a-ce88-48a3-bb3f-0812f56ce33e",
   "metadata": {},
   "outputs": [
    {
     "name": "stdout",
     "output_type": "stream",
     "text": [
      "Fitting 5 folds for each of 56 candidates, totalling 280 fits\n",
      "Fitting 5 folds for each of 99 candidates, totalling 495 fits\n",
      "Fitting 5 folds for each of 200 candidates, totalling 1000 fits\n",
      "Fitting 5 folds for each of 100 candidates, totalling 500 fits\n"
     ]
    },
    {
     "data": {
      "text/html": [
       "<style>#sk-container-id-2 {color: black;background-color: white;}#sk-container-id-2 pre{padding: 0;}#sk-container-id-2 div.sk-toggleable {background-color: white;}#sk-container-id-2 label.sk-toggleable__label {cursor: pointer;display: block;width: 100%;margin-bottom: 0;padding: 0.3em;box-sizing: border-box;text-align: center;}#sk-container-id-2 label.sk-toggleable__label-arrow:before {content: \"▸\";float: left;margin-right: 0.25em;color: #696969;}#sk-container-id-2 label.sk-toggleable__label-arrow:hover:before {color: black;}#sk-container-id-2 div.sk-estimator:hover label.sk-toggleable__label-arrow:before {color: black;}#sk-container-id-2 div.sk-toggleable__content {max-height: 0;max-width: 0;overflow: hidden;text-align: left;background-color: #f0f8ff;}#sk-container-id-2 div.sk-toggleable__content pre {margin: 0.2em;color: black;border-radius: 0.25em;background-color: #f0f8ff;}#sk-container-id-2 input.sk-toggleable__control:checked~div.sk-toggleable__content {max-height: 200px;max-width: 100%;overflow: auto;}#sk-container-id-2 input.sk-toggleable__control:checked~label.sk-toggleable__label-arrow:before {content: \"▾\";}#sk-container-id-2 div.sk-estimator input.sk-toggleable__control:checked~label.sk-toggleable__label {background-color: #d4ebff;}#sk-container-id-2 div.sk-label input.sk-toggleable__control:checked~label.sk-toggleable__label {background-color: #d4ebff;}#sk-container-id-2 input.sk-hidden--visually {border: 0;clip: rect(1px 1px 1px 1px);clip: rect(1px, 1px, 1px, 1px);height: 1px;margin: -1px;overflow: hidden;padding: 0;position: absolute;width: 1px;}#sk-container-id-2 div.sk-estimator {font-family: monospace;background-color: #f0f8ff;border: 1px dotted black;border-radius: 0.25em;box-sizing: border-box;margin-bottom: 0.5em;}#sk-container-id-2 div.sk-estimator:hover {background-color: #d4ebff;}#sk-container-id-2 div.sk-parallel-item::after {content: \"\";width: 100%;border-bottom: 1px solid gray;flex-grow: 1;}#sk-container-id-2 div.sk-label:hover label.sk-toggleable__label {background-color: #d4ebff;}#sk-container-id-2 div.sk-serial::before {content: \"\";position: absolute;border-left: 1px solid gray;box-sizing: border-box;top: 0;bottom: 0;left: 50%;z-index: 0;}#sk-container-id-2 div.sk-serial {display: flex;flex-direction: column;align-items: center;background-color: white;padding-right: 0.2em;padding-left: 0.2em;position: relative;}#sk-container-id-2 div.sk-item {position: relative;z-index: 1;}#sk-container-id-2 div.sk-parallel {display: flex;align-items: stretch;justify-content: center;background-color: white;position: relative;}#sk-container-id-2 div.sk-item::before, #sk-container-id-2 div.sk-parallel-item::before {content: \"\";position: absolute;border-left: 1px solid gray;box-sizing: border-box;top: 0;bottom: 0;left: 50%;z-index: -1;}#sk-container-id-2 div.sk-parallel-item {display: flex;flex-direction: column;z-index: 1;position: relative;background-color: white;}#sk-container-id-2 div.sk-parallel-item:first-child::after {align-self: flex-end;width: 50%;}#sk-container-id-2 div.sk-parallel-item:last-child::after {align-self: flex-start;width: 50%;}#sk-container-id-2 div.sk-parallel-item:only-child::after {width: 0;}#sk-container-id-2 div.sk-dashed-wrapped {border: 1px dashed gray;margin: 0 0.4em 0.5em 0.4em;box-sizing: border-box;padding-bottom: 0.4em;background-color: white;}#sk-container-id-2 div.sk-label label {font-family: monospace;font-weight: bold;display: inline-block;line-height: 1.2em;}#sk-container-id-2 div.sk-label-container {text-align: center;}#sk-container-id-2 div.sk-container {/* jupyter's `normalize.less` sets `[hidden] { display: none; }` but bootstrap.min.css set `[hidden] { display: none !important; }` so we also need the `!important` here to be able to override the default hidden behavior on the sphinx rendered scikit-learn.org. See: https://github.com/scikit-learn/scikit-learn/issues/21755 */display: inline-block !important;position: relative;}#sk-container-id-2 div.sk-text-repr-fallback {display: none;}</style><div id=\"sk-container-id-2\" class=\"sk-top-container\"><div class=\"sk-text-repr-fallback\"><pre>VotingClassifier(estimators=[(&#x27;knn&#x27;,\n",
       "                              GridSearchCV(cv=5,\n",
       "                                           estimator=KNeighborsClassifier(),\n",
       "                                           n_jobs=-1,\n",
       "                                           param_grid={&#x27;metric&#x27;: [&#x27;euclidean&#x27;,\n",
       "                                                                  &#x27;minkowski&#x27;,\n",
       "                                                                  &#x27;manhattan&#x27;,\n",
       "                                                                  &#x27;cosine&#x27;],\n",
       "                                                       &#x27;n_neighbors&#x27;: [1, 2, 3,\n",
       "                                                                       4, 5, 6,\n",
       "                                                                       7, 8, 9,\n",
       "                                                                       10, 11,\n",
       "                                                                       12, 13,\n",
       "                                                                       14]},\n",
       "                                           verbose=1)),\n",
       "                             (&#x27;log_reg&#x27;,\n",
       "                              GridSearchCV(cv=5, estimator=LogisticRegression(),\n",
       "                                           n_jobs=-1,\n",
       "                                           param_grid={&#x27;C&#x27;: [1, 2, 3, 4, 5, 6,\n",
       "                                                             10, 20, 30, 40,\n",
       "                                                             50],\n",
       "                                                       &#x27;max_ite...\n",
       "       1.23284674e-07, 1.00000000e-07, 8.11130831e-08, 6.57933225e-08,\n",
       "       5.33669923e-08, 4.32876128e-08, 3.51119173e-08, 2.84803587e-08,\n",
       "       2.31012970e-08, 1.87381742e-08, 1.51991108e-08, 1.23284674e-08,\n",
       "       1.00000000e-08, 8.11130831e-09, 6.57933225e-09, 5.33669923e-09,\n",
       "       4.32876128e-09, 3.51119173e-09, 2.84803587e-09, 2.31012970e-09,\n",
       "       1.87381742e-09, 1.51991108e-09, 1.23284674e-09, 1.00000000e-09])},\n",
       "                                           verbose=3))],\n",
       "                 voting=&#x27;soft&#x27;)</pre><b>In a Jupyter environment, please rerun this cell to show the HTML representation or trust the notebook. <br />On GitHub, the HTML representation is unable to render, please try loading this page with nbviewer.org.</b></div><div class=\"sk-container\" hidden><div class=\"sk-item sk-dashed-wrapped\"><div class=\"sk-label-container\"><div class=\"sk-label sk-toggleable\"><input class=\"sk-toggleable__control sk-hidden--visually\" id=\"sk-estimator-id-10\" type=\"checkbox\" ><label for=\"sk-estimator-id-10\" class=\"sk-toggleable__label sk-toggleable__label-arrow\">VotingClassifier</label><div class=\"sk-toggleable__content\"><pre>VotingClassifier(estimators=[(&#x27;knn&#x27;,\n",
       "                              GridSearchCV(cv=5,\n",
       "                                           estimator=KNeighborsClassifier(),\n",
       "                                           n_jobs=-1,\n",
       "                                           param_grid={&#x27;metric&#x27;: [&#x27;euclidean&#x27;,\n",
       "                                                                  &#x27;minkowski&#x27;,\n",
       "                                                                  &#x27;manhattan&#x27;,\n",
       "                                                                  &#x27;cosine&#x27;],\n",
       "                                                       &#x27;n_neighbors&#x27;: [1, 2, 3,\n",
       "                                                                       4, 5, 6,\n",
       "                                                                       7, 8, 9,\n",
       "                                                                       10, 11,\n",
       "                                                                       12, 13,\n",
       "                                                                       14]},\n",
       "                                           verbose=1)),\n",
       "                             (&#x27;log_reg&#x27;,\n",
       "                              GridSearchCV(cv=5, estimator=LogisticRegression(),\n",
       "                                           n_jobs=-1,\n",
       "                                           param_grid={&#x27;C&#x27;: [1, 2, 3, 4, 5, 6,\n",
       "                                                             10, 20, 30, 40,\n",
       "                                                             50],\n",
       "                                                       &#x27;max_ite...\n",
       "       1.23284674e-07, 1.00000000e-07, 8.11130831e-08, 6.57933225e-08,\n",
       "       5.33669923e-08, 4.32876128e-08, 3.51119173e-08, 2.84803587e-08,\n",
       "       2.31012970e-08, 1.87381742e-08, 1.51991108e-08, 1.23284674e-08,\n",
       "       1.00000000e-08, 8.11130831e-09, 6.57933225e-09, 5.33669923e-09,\n",
       "       4.32876128e-09, 3.51119173e-09, 2.84803587e-09, 2.31012970e-09,\n",
       "       1.87381742e-09, 1.51991108e-09, 1.23284674e-09, 1.00000000e-09])},\n",
       "                                           verbose=3))],\n",
       "                 voting=&#x27;soft&#x27;)</pre></div></div></div><div class=\"sk-parallel\"><div class=\"sk-parallel-item\"><div class=\"sk-item\"><div class=\"sk-label-container\"><div class=\"sk-label sk-toggleable\"><label>knn</label></div></div><div class=\"sk-serial\"><div class=\"sk-item sk-dashed-wrapped\"><div class=\"sk-parallel\"><div class=\"sk-parallel-item\"><div class=\"sk-item\"><div class=\"sk-label-container\"><div class=\"sk-label sk-toggleable\"><input class=\"sk-toggleable__control sk-hidden--visually\" id=\"sk-estimator-id-11\" type=\"checkbox\" ><label for=\"sk-estimator-id-11\" class=\"sk-toggleable__label sk-toggleable__label-arrow\">estimator: KNeighborsClassifier</label><div class=\"sk-toggleable__content\"><pre>KNeighborsClassifier()</pre></div></div></div><div class=\"sk-serial\"><div class=\"sk-item\"><div class=\"sk-estimator sk-toggleable\"><input class=\"sk-toggleable__control sk-hidden--visually\" id=\"sk-estimator-id-12\" type=\"checkbox\" ><label for=\"sk-estimator-id-12\" class=\"sk-toggleable__label sk-toggleable__label-arrow\">KNeighborsClassifier</label><div class=\"sk-toggleable__content\"><pre>KNeighborsClassifier()</pre></div></div></div></div></div></div></div></div></div></div></div><div class=\"sk-parallel-item\"><div class=\"sk-item\"><div class=\"sk-label-container\"><div class=\"sk-label sk-toggleable\"><label>log_reg</label></div></div><div class=\"sk-serial\"><div class=\"sk-item sk-dashed-wrapped\"><div class=\"sk-parallel\"><div class=\"sk-parallel-item\"><div class=\"sk-item\"><div class=\"sk-label-container\"><div class=\"sk-label sk-toggleable\"><input class=\"sk-toggleable__control sk-hidden--visually\" id=\"sk-estimator-id-13\" type=\"checkbox\" ><label for=\"sk-estimator-id-13\" class=\"sk-toggleable__label sk-toggleable__label-arrow\">estimator: LogisticRegression</label><div class=\"sk-toggleable__content\"><pre>LogisticRegression()</pre></div></div></div><div class=\"sk-serial\"><div class=\"sk-item\"><div class=\"sk-estimator sk-toggleable\"><input class=\"sk-toggleable__control sk-hidden--visually\" id=\"sk-estimator-id-14\" type=\"checkbox\" ><label for=\"sk-estimator-id-14\" class=\"sk-toggleable__label sk-toggleable__label-arrow\">LogisticRegression</label><div class=\"sk-toggleable__content\"><pre>LogisticRegression()</pre></div></div></div></div></div></div></div></div></div></div></div><div class=\"sk-parallel-item\"><div class=\"sk-item\"><div class=\"sk-label-container\"><div class=\"sk-label sk-toggleable\"><label>dtree</label></div></div><div class=\"sk-serial\"><div class=\"sk-item sk-dashed-wrapped\"><div class=\"sk-parallel\"><div class=\"sk-parallel-item\"><div class=\"sk-item\"><div class=\"sk-label-container\"><div class=\"sk-label sk-toggleable\"><input class=\"sk-toggleable__control sk-hidden--visually\" id=\"sk-estimator-id-15\" type=\"checkbox\" ><label for=\"sk-estimator-id-15\" class=\"sk-toggleable__label sk-toggleable__label-arrow\">estimator: DecisionTreeClassifier</label><div class=\"sk-toggleable__content\"><pre>DecisionTreeClassifier()</pre></div></div></div><div class=\"sk-serial\"><div class=\"sk-item\"><div class=\"sk-estimator sk-toggleable\"><input class=\"sk-toggleable__control sk-hidden--visually\" id=\"sk-estimator-id-16\" type=\"checkbox\" ><label for=\"sk-estimator-id-16\" class=\"sk-toggleable__label sk-toggleable__label-arrow\">DecisionTreeClassifier</label><div class=\"sk-toggleable__content\"><pre>DecisionTreeClassifier()</pre></div></div></div></div></div></div></div></div></div></div></div><div class=\"sk-parallel-item\"><div class=\"sk-item\"><div class=\"sk-label-container\"><div class=\"sk-label sk-toggleable\"><label>nb</label></div></div><div class=\"sk-serial\"><div class=\"sk-item sk-dashed-wrapped\"><div class=\"sk-parallel\"><div class=\"sk-parallel-item\"><div class=\"sk-item\"><div class=\"sk-label-container\"><div class=\"sk-label sk-toggleable\"><input class=\"sk-toggleable__control sk-hidden--visually\" id=\"sk-estimator-id-17\" type=\"checkbox\" ><label for=\"sk-estimator-id-17\" class=\"sk-toggleable__label sk-toggleable__label-arrow\">estimator: GaussianNB</label><div class=\"sk-toggleable__content\"><pre>GaussianNB()</pre></div></div></div><div class=\"sk-serial\"><div class=\"sk-item\"><div class=\"sk-estimator sk-toggleable\"><input class=\"sk-toggleable__control sk-hidden--visually\" id=\"sk-estimator-id-18\" type=\"checkbox\" ><label for=\"sk-estimator-id-18\" class=\"sk-toggleable__label sk-toggleable__label-arrow\">GaussianNB</label><div class=\"sk-toggleable__content\"><pre>GaussianNB()</pre></div></div></div></div></div></div></div></div></div></div></div></div></div></div></div>"
      ],
      "text/plain": [
       "VotingClassifier(estimators=[('knn',\n",
       "                              GridSearchCV(cv=5,\n",
       "                                           estimator=KNeighborsClassifier(),\n",
       "                                           n_jobs=-1,\n",
       "                                           param_grid={'metric': ['euclidean',\n",
       "                                                                  'minkowski',\n",
       "                                                                  'manhattan',\n",
       "                                                                  'cosine'],\n",
       "                                                       'n_neighbors': [1, 2, 3,\n",
       "                                                                       4, 5, 6,\n",
       "                                                                       7, 8, 9,\n",
       "                                                                       10, 11,\n",
       "                                                                       12, 13,\n",
       "                                                                       14]},\n",
       "                                           verbose=1)),\n",
       "                             ('log_reg',\n",
       "                              GridSearchCV(cv=5, estimator=LogisticRegression(),\n",
       "                                           n_jobs=-1,\n",
       "                                           param_grid={'C': [1, 2, 3, 4, 5, 6,\n",
       "                                                             10, 20, 30, 40,\n",
       "                                                             50],\n",
       "                                                       'max_ite...\n",
       "       1.23284674e-07, 1.00000000e-07, 8.11130831e-08, 6.57933225e-08,\n",
       "       5.33669923e-08, 4.32876128e-08, 3.51119173e-08, 2.84803587e-08,\n",
       "       2.31012970e-08, 1.87381742e-08, 1.51991108e-08, 1.23284674e-08,\n",
       "       1.00000000e-08, 8.11130831e-09, 6.57933225e-09, 5.33669923e-09,\n",
       "       4.32876128e-09, 3.51119173e-09, 2.84803587e-09, 2.31012970e-09,\n",
       "       1.87381742e-09, 1.51991108e-09, 1.23284674e-09, 1.00000000e-09])},\n",
       "                                           verbose=3))],\n",
       "                 voting='soft')"
      ]
     },
     "execution_count": 62,
     "metadata": {},
     "output_type": "execute_result"
    }
   ],
   "source": [
    "voting_clf2.fit(df_encoded_train,y_train)"
   ]
  },
  {
   "cell_type": "code",
   "execution_count": 63,
   "id": "39e20f78-5408-4342-a5fe-ae37ee85b38e",
   "metadata": {},
   "outputs": [
    {
     "name": "stdout",
     "output_type": "stream",
     "text": [
      "              precision    recall  f1-score   support\n",
      "\n",
      "           0       0.87      0.91      0.89       256\n",
      "           1       0.84      0.79      0.82       162\n",
      "\n",
      "    accuracy                           0.86       418\n",
      "   macro avg       0.86      0.85      0.85       418\n",
      "weighted avg       0.86      0.86      0.86       418\n",
      "\n"
     ]
    }
   ],
   "source": [
    "y_pred2 = voting_clf2.predict(df_encoded_test)\n",
    "print(classification_report(y_pred2,y_test))"
   ]
  },
  {
   "cell_type": "code",
   "execution_count": 64,
   "id": "84e7e9bf-8686-49ba-9611-e26bc21806f4",
   "metadata": {},
   "outputs": [
    {
     "name": "stdout",
     "output_type": "stream",
     "text": [
      "              precision    recall  f1-score   support\n",
      "\n",
      "           0       0.96      0.81      0.88       655\n",
      "           1       0.63      0.92      0.75       236\n",
      "\n",
      "    accuracy                           0.84       891\n",
      "   macro avg       0.80      0.86      0.81       891\n",
      "weighted avg       0.88      0.84      0.84       891\n",
      "\n"
     ]
    }
   ],
   "source": [
    "y_pred2_tr = voting_clf.predict(df_encoded_train)\n",
    "print(classification_report(y_pred2_tr,y_train))"
   ]
  },
  {
   "cell_type": "code",
   "execution_count": null,
   "id": "b282fdd2-ebfe-47ba-96d1-666d1d3eac47",
   "metadata": {},
   "outputs": [],
   "source": []
  }
 ],
 "metadata": {
  "kernelspec": {
   "display_name": "Python 3 (ipykernel)",
   "language": "python",
   "name": "python3"
  },
  "language_info": {
   "codemirror_mode": {
    "name": "ipython",
    "version": 3
   },
   "file_extension": ".py",
   "mimetype": "text/x-python",
   "name": "python",
   "nbconvert_exporter": "python",
   "pygments_lexer": "ipython3",
   "version": "3.11.5"
  }
 },
 "nbformat": 4,
 "nbformat_minor": 5
}
